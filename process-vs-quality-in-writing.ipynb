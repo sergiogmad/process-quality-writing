{
 "cells": [
  {
   "cell_type": "markdown",
   "id": "c10d27f4",
   "metadata": {
    "papermill": {
     "duration": 0.057974,
     "end_time": "2024-01-07T03:18:54.021873",
     "exception": false,
     "start_time": "2024-01-07T03:18:53.963899",
     "status": "completed"
    },
    "tags": []
   },
   "source": [
    "## Competition documentation"
   ]
  },
  {
   "cell_type": "markdown",
   "id": "3808e872",
   "metadata": {
    "papermill": {
     "duration": 0.123255,
     "end_time": "2024-01-07T03:18:54.205041",
     "exception": false,
     "start_time": "2024-01-07T03:18:54.081786",
     "status": "completed"
    },
    "tags": []
   },
   "source": [
    "[Linking Writing Processes to Writing Quality](https://www.kaggle.com/competitions/linking-writing-processes-to-writing-quality)"
   ]
  },
  {
   "cell_type": "markdown",
   "id": "37c3a1dc",
   "metadata": {
    "papermill": {
     "duration": 0.058304,
     "end_time": "2024-01-07T03:18:54.322197",
     "exception": false,
     "start_time": "2024-01-07T03:18:54.263893",
     "status": "completed"
    },
    "tags": []
   },
   "source": [
    "New ideas"
   ]
  },
  {
   "cell_type": "code",
   "execution_count": 1,
   "id": "13eeacb6",
   "metadata": {
    "execution": {
     "iopub.execute_input": "2024-01-07T03:18:54.441289Z",
     "iopub.status.busy": "2024-01-07T03:18:54.440150Z",
     "iopub.status.idle": "2024-01-07T03:18:54.445209Z",
     "shell.execute_reply": "2024-01-07T03:18:54.444455Z"
    },
    "papermill": {
     "duration": 0.067879,
     "end_time": "2024-01-07T03:18:54.447849",
     "exception": false,
     "start_time": "2024-01-07T03:18:54.379970",
     "status": "completed"
    },
    "tags": []
   },
   "outputs": [],
   "source": [
    "# mean_word_length\n",
    "# LLM to guess letters, words, sentences\n",
    "# NLP once text is guessed"
   ]
  },
  {
   "cell_type": "code",
   "execution_count": 2,
   "id": "0f31f360",
   "metadata": {
    "execution": {
     "iopub.execute_input": "2024-01-07T03:18:54.567497Z",
     "iopub.status.busy": "2024-01-07T03:18:54.566708Z",
     "iopub.status.idle": "2024-01-07T03:18:54.573351Z",
     "shell.execute_reply": "2024-01-07T03:18:54.572495Z"
    },
    "papermill": {
     "duration": 0.069353,
     "end_time": "2024-01-07T03:18:54.575665",
     "exception": false,
     "start_time": "2024-01-07T03:18:54.506312",
     "status": "completed"
    },
    "tags": []
   },
   "outputs": [],
   "source": [
    "# # Function to extract numbers from 'activity' values when value like 'Move...'\n",
    "# def extract_numbers(input_string):\n",
    "#     # Define a regular expression pattern to match the numbers inside square brackets\n",
    "#     pattern = r'\\[(\\d+),\\s*(\\d+)\\]\\s*To\\s*\\[(\\d+),\\s*(\\d+)\\]'\n",
    "\n",
    "#     match = re.search(pattern, input_string)\n",
    "\n",
    "#     num1, num2, num3, num4 = map(int, match.groups())\n",
    "#     return num1, num2, num3, num4\n",
    "\n",
    "# # Function to update the main string based on rules\n",
    "# def update_string(row, main_string, cursor_position_curr, cursor_position_prev):\n",
    "#     if row['activity'] == 'Input':\n",
    "#         main_string = main_string[:cursor_position_prev] + row['text_change'] + main_string[cursor_position_prev:]\n",
    "#     elif row['activity'] == 'Remove/Cut':\n",
    "#         start_pos = cursor_position_prev\n",
    "#         end_pos = cursor_position_curr\n",
    "#         main_string = main_string[:end_pos] + main_string[start_pos:]\n",
    "#     elif row['activity'] == 'Replace':\n",
    "#         replace_str = row['text_change']\n",
    "#         arrow_idx = replace_str.find(' => ')\n",
    "#         str_to_delete = replace_str[:arrow_idx]\n",
    "#         str_to_add = replace_str[arrow_idx+4:]\n",
    "#         main_string = main_string[:cursor_position_prev-len(str_to_delete)] + str_to_add + main_string[cursor_position_prev:]\n",
    "#     elif row['activity'] == 'Paste':\n",
    "#         str_to_add = row['text_change']\n",
    "#         main_string = main_string[:cursor_position_prev] + str_to_add + main_string[cursor_position_curr:]\n",
    "#     elif 'Move' in row['activity']:\n",
    "#         x1, y1, x2, y2 = extract_numbers(row.activity)\n",
    "#         str_to_move = row['text_change']\n",
    "#         main_string = main_string[:x1] + main_string[y1:]\n",
    "#         main_string = main_string[:x2] + str_to_move + main_string[y2:]\n",
    "#     return main_string\n",
    "\n",
    "# # Create a new column 'final_main_string'\n",
    "# train_logs['final_main_string'] = ''\n",
    "\n",
    "# # Iterate over unique 'id' values and update main_string for each group\n",
    "# for unique_id in train_logs['id'].unique():\n",
    "#     main_string = ''\n",
    "#     # Initialize cursor_position\n",
    "#     cursor_position_prev = 0\n",
    "#     # Iterate over rows with the current 'id'\n",
    "#     for index, row in train_logs[train_logs['id'] == unique_id].iterrows():\n",
    "#         cursor_position_curr = row['cursor_position']\n",
    "#         main_string = update_string(row, main_string, cursor_position_curr, cursor_position_prev)\n",
    "#         cursor_position_prev = cursor_position_curr\n",
    "    \n",
    "#     # Assign the final main_string to the 'final_main_string' column for the current 'id'\n",
    "#     train_logs.loc[train_logs['id'] == unique_id, 'final_main_string'] = main_string\n"
   ]
  },
  {
   "cell_type": "code",
   "execution_count": 3,
   "id": "42a4b7f4",
   "metadata": {
    "execution": {
     "iopub.execute_input": "2024-01-07T03:18:54.694525Z",
     "iopub.status.busy": "2024-01-07T03:18:54.693779Z",
     "iopub.status.idle": "2024-01-07T03:18:54.699458Z",
     "shell.execute_reply": "2024-01-07T03:18:54.698355Z"
    },
    "papermill": {
     "duration": 0.067091,
     "end_time": "2024-01-07T03:18:54.701949",
     "exception": false,
     "start_time": "2024-01-07T03:18:54.634858",
     "status": "completed"
    },
    "tags": []
   },
   "outputs": [],
   "source": [
    "# import string\n",
    "# train_logs['len_essay'] = train_logs['final_main_string'].apply(len)\n",
    "# train_logs['num_spaces'] = train_logs['final_main_string'].apply(lambda x: x.count(' '))\n",
    "# train_logs['num_?'] = train_logs['final_main_string'].apply(lambda x: x.count('?'))\n",
    "# train_logs['num_.'] = train_logs['final_main_string'].apply(lambda x: x.count('.'))\n",
    "# train_logs['num_\"'] = train_logs['final_main_string'].apply(lambda x: x.count('\"'))\n",
    "# train_logs['num_;'] = train_logs['final_main_string'].apply(lambda x: x.count(';'))\n",
    "# train_logs['num_punctuation'] = train_logs['final_main_string'].apply(lambda x: sum(x.count(p) for p in string.punctuation))"
   ]
  },
  {
   "cell_type": "markdown",
   "id": "d604ec37",
   "metadata": {
    "papermill": {
     "duration": 0.058015,
     "end_time": "2024-01-07T03:18:54.818330",
     "exception": false,
     "start_time": "2024-01-07T03:18:54.760315",
     "status": "completed"
    },
    "tags": []
   },
   "source": [
    "## Imports"
   ]
  },
  {
   "cell_type": "code",
   "execution_count": 4,
   "id": "e7580826",
   "metadata": {
    "execution": {
     "iopub.execute_input": "2024-01-07T03:18:54.935937Z",
     "iopub.status.busy": "2024-01-07T03:18:54.935500Z",
     "iopub.status.idle": "2024-01-07T03:18:57.290170Z",
     "shell.execute_reply": "2024-01-07T03:18:57.288918Z"
    },
    "papermill": {
     "duration": 2.416865,
     "end_time": "2024-01-07T03:18:57.292938",
     "exception": false,
     "start_time": "2024-01-07T03:18:54.876073",
     "status": "completed"
    },
    "tags": []
   },
   "outputs": [],
   "source": [
    "import pandas as pd\n",
    "pd.set_option('display.max_columns', None)\n",
    "import numpy as np\n",
    "from pathlib import Path\n",
    "import pickle\n",
    "import os\n",
    "import matplotlib.pyplot as plt\n",
    "import seaborn as sns\n",
    "import re\n",
    "import warnings\n",
    "warnings.simplefilter(\"ignore\")\n",
    "SEED=7"
   ]
  },
  {
   "cell_type": "markdown",
   "id": "93dfdb06",
   "metadata": {
    "papermill": {
     "duration": 0.057732,
     "end_time": "2024-01-07T03:18:57.409410",
     "exception": false,
     "start_time": "2024-01-07T03:18:57.351678",
     "status": "completed"
    },
    "tags": []
   },
   "source": [
    "## Reading data"
   ]
  },
  {
   "cell_type": "code",
   "execution_count": 5,
   "id": "c38cb8ec",
   "metadata": {
    "execution": {
     "iopub.execute_input": "2024-01-07T03:18:57.528970Z",
     "iopub.status.busy": "2024-01-07T03:18:57.528378Z",
     "iopub.status.idle": "2024-01-07T03:18:57.534068Z",
     "shell.execute_reply": "2024-01-07T03:18:57.532860Z"
    },
    "papermill": {
     "duration": 0.068963,
     "end_time": "2024-01-07T03:18:57.536432",
     "exception": false,
     "start_time": "2024-01-07T03:18:57.467469",
     "status": "completed"
    },
    "tags": []
   },
   "outputs": [],
   "source": [
    "path = Path('../input/linking-writing-processes-to-writing-quality')\n",
    "path_keystroke_measures = Path('../input/keystroke-measures')"
   ]
  },
  {
   "cell_type": "code",
   "execution_count": 6,
   "id": "cc99489c",
   "metadata": {
    "execution": {
     "iopub.execute_input": "2024-01-07T03:18:57.654944Z",
     "iopub.status.busy": "2024-01-07T03:18:57.654410Z",
     "iopub.status.idle": "2024-01-07T03:18:57.663143Z",
     "shell.execute_reply": "2024-01-07T03:18:57.661960Z"
    },
    "papermill": {
     "duration": 0.071136,
     "end_time": "2024-01-07T03:18:57.665357",
     "exception": false,
     "start_time": "2024-01-07T03:18:57.594221",
     "status": "completed"
    },
    "tags": []
   },
   "outputs": [
    {
     "data": {
      "text/plain": [
       "['sample_submission.csv',\n",
       " 'test_logs.csv',\n",
       " 'train_scores.csv',\n",
       " 'train_logs.csv']"
      ]
     },
     "execution_count": 6,
     "metadata": {},
     "output_type": "execute_result"
    }
   ],
   "source": [
    "os.listdir(path)"
   ]
  },
  {
   "cell_type": "code",
   "execution_count": 7,
   "id": "f4d3f698",
   "metadata": {
    "execution": {
     "iopub.execute_input": "2024-01-07T03:18:57.816000Z",
     "iopub.status.busy": "2024-01-07T03:18:57.814966Z",
     "iopub.status.idle": "2024-01-07T03:19:21.858532Z",
     "shell.execute_reply": "2024-01-07T03:19:21.857272Z"
    },
    "papermill": {
     "duration": 24.122477,
     "end_time": "2024-01-07T03:19:21.861224",
     "exception": false,
     "start_time": "2024-01-07T03:18:57.738747",
     "status": "completed"
    },
    "tags": []
   },
   "outputs": [
    {
     "name": "stdout",
     "output_type": "stream",
     "text": [
      "Debug mode has been deactivated. The whole dataset of train_logs and train_scores will be utilized: 2471 essays.\n"
     ]
    }
   ],
   "source": [
    "test_logs = pd.read_csv(path/'test_logs.csv')\n",
    "train_scores = pd.read_csv(path/'train_scores.csv')\n",
    "\n",
    "with open(path_keystroke_measures/'train_logs.pkl', 'rb') as file:\n",
    "    train_logs = pd.read_pickle(file)\n",
    "\n",
    "DEBUG = False\n",
    "    \n",
    "if DEBUG:\n",
    "    num_essays = 100\n",
    "    train_logs = train_logs[train_logs.id.isin(train_logs.id.unique()[:num_essays])]\n",
    "    train_scores = train_scores[train_scores.id.isin(train_logs.id.unique()[:num_essays])]\n",
    "    print(f\"Debug mode activated. Utilizing {num_essays} essays from train_logs and train_scores.\")\n",
    "else:\n",
    "    print(\"Debug mode has been deactivated. The whole dataset of train_logs and train_scores will be utilized:\",\n",
    "          f\"{train_logs.id.nunique()} essays.\")"
   ]
  },
  {
   "cell_type": "markdown",
   "id": "b4be6926",
   "metadata": {
    "papermill": {
     "duration": 0.058451,
     "end_time": "2024-01-07T03:19:21.979345",
     "exception": false,
     "start_time": "2024-01-07T03:19:21.920894",
     "status": "completed"
    },
    "tags": []
   },
   "source": [
    "## EDA"
   ]
  },
  {
   "cell_type": "markdown",
   "id": "34b6b7bb",
   "metadata": {
    "papermill": {
     "duration": 0.057476,
     "end_time": "2024-01-07T03:19:22.094720",
     "exception": false,
     "start_time": "2024-01-07T03:19:22.037244",
     "status": "completed"
    },
    "tags": []
   },
   "source": [
    "### test_logs"
   ]
  },
  {
   "cell_type": "markdown",
   "id": "f6430360",
   "metadata": {
    "papermill": {
     "duration": 0.057254,
     "end_time": "2024-01-07T03:19:22.209792",
     "exception": false,
     "start_time": "2024-01-07T03:19:22.152538",
     "status": "completed"
    },
    "tags": []
   },
   "source": [
    "`test_logs` includes data for 3 essays. It is meant to serve as an example to illustrate the format.\n",
    "\n",
    "The real `test_logs` will replace it when submissions are scored, according to the competition documentation. "
   ]
  },
  {
   "cell_type": "markdown",
   "id": "c46ad5ab",
   "metadata": {
    "papermill": {
     "duration": 0.057523,
     "end_time": "2024-01-07T03:19:22.324653",
     "exception": false,
     "start_time": "2024-01-07T03:19:22.267130",
     "status": "completed"
    },
    "tags": []
   },
   "source": [
    "### **score** - target variable"
   ]
  },
  {
   "cell_type": "code",
   "execution_count": 8,
   "id": "202eb8a6",
   "metadata": {
    "execution": {
     "iopub.execute_input": "2024-01-07T03:19:22.441796Z",
     "iopub.status.busy": "2024-01-07T03:19:22.441359Z",
     "iopub.status.idle": "2024-01-07T03:19:22.902987Z",
     "shell.execute_reply": "2024-01-07T03:19:22.901706Z"
    },
    "papermill": {
     "duration": 0.525431,
     "end_time": "2024-01-07T03:19:22.907694",
     "exception": false,
     "start_time": "2024-01-07T03:19:22.382263",
     "status": "completed"
    },
    "tags": []
   },
   "outputs": [
    {
     "name": "stdout",
     "output_type": "stream",
     "text": [
      "The average score is 3.71. The median is 4.0\n",
      "There are 12 possible values for essay score: [0.5, 1.0, 1.5, 2.0, 2.5, 3.0, 3.5, 4.0, 4.5, 5.0, 5.5, 6.0] \n",
      "\n",
      "\n"
     ]
    },
    {
     "data": {
      "image/png": "[encoded data removed]",
      "text/plain": [
       "<Figure size 640x480 with 1 Axes>"
      ]
     },
     "metadata": {},
     "output_type": "display_data"
    },
    {
     "name": "stdout",
     "output_type": "stream",
     "text": [
      "The score 0.5 is represented by only five data points, all of which register as zero.\n",
      "\n",
      "Value counts % score\n",
      "4.0    20.28\n",
      "3.5    19.67\n",
      "4.5    16.27\n",
      "3.0    13.60\n",
      "2.5     8.13\n",
      "5.0     7.24\n",
      "5.5     5.18\n",
      "2.0     3.72\n",
      "1.5     2.79\n",
      "6.0     1.50\n",
      "1.0     1.42\n",
      "0.5     0.20\n",
      "Name: proportion, dtype: float64\n"
     ]
    }
   ],
   "source": [
    "print(f'The average score is {train_scores.score.mean().round(2)}. The median is {train_scores.score.median()}')\n",
    "\n",
    "sns.histplot(train_scores.score, bins=12, edgecolor='white', binwidth=0.4999)\n",
    "xticks = [0.5 * i for i in range(1, 13)]\n",
    "plt.xticks(xticks)\n",
    "plt.xlabel('Score');\n",
    "plt.ylabel('Count');\n",
    "plt.title('Histogram of Scores')\n",
    "\n",
    "print(f'There are {train_scores.score.nunique()} possible values for essay score:', \n",
    "      sorted(train_scores.score.unique()), '\\n\\n')\n",
    "\n",
    "plt.show()\n",
    "print('The score 0.5 is represented by only five data points, all of which register as zero.\\n')\n",
    "# print('Changing type to Categorical:\\n', train_scores.score.unique())\n",
    "\n",
    "print(\"Value counts %\", f\"{np.round(100 * train_scores.score.value_counts(normalize=True),2)}\")"
   ]
  },
  {
   "cell_type": "markdown",
   "id": "0ee8b1a2",
   "metadata": {
    "papermill": {
     "duration": 0.059749,
     "end_time": "2024-01-07T03:19:23.026399",
     "exception": false,
     "start_time": "2024-01-07T03:19:22.966650",
     "status": "completed"
    },
    "tags": []
   },
   "source": [
    "### train_logs"
   ]
  },
  {
   "cell_type": "code",
   "execution_count": 9,
   "id": "873153c9",
   "metadata": {
    "execution": {
     "iopub.execute_input": "2024-01-07T03:19:23.148402Z",
     "iopub.status.busy": "2024-01-07T03:19:23.147194Z",
     "iopub.status.idle": "2024-01-07T03:19:23.214659Z",
     "shell.execute_reply": "2024-01-07T03:19:23.213462Z"
    },
    "papermill": {
     "duration": 0.131434,
     "end_time": "2024-01-07T03:19:23.217407",
     "exception": false,
     "start_time": "2024-01-07T03:19:23.085973",
     "status": "completed"
    },
    "tags": []
   },
   "outputs": [
    {
     "data": {
      "text/html": [
       "<div>\n",
       "<style scoped>\n",
       "    .dataframe tbody tr th:only-of-type {\n",
       "        vertical-align: middle;\n",
       "    }\n",
       "\n",
       "    .dataframe tbody tr th {\n",
       "        vertical-align: top;\n",
       "    }\n",
       "\n",
       "    .dataframe thead th {\n",
       "        text-align: right;\n",
       "    }\n",
       "</style>\n",
       "<table border=\"1\" class=\"dataframe\">\n",
       "  <thead>\n",
       "    <tr style=\"text-align: right;\">\n",
       "      <th></th>\n",
       "      <th>id</th>\n",
       "      <th>event_id</th>\n",
       "      <th>down_time</th>\n",
       "      <th>up_time</th>\n",
       "      <th>action_time</th>\n",
       "      <th>activity</th>\n",
       "      <th>down_event</th>\n",
       "      <th>up_event</th>\n",
       "      <th>text_change</th>\n",
       "      <th>cursor_position</th>\n",
       "      <th>word_count</th>\n",
       "      <th>num_events</th>\n",
       "      <th>total_time_mins</th>\n",
       "      <th>total_action_time_mins</th>\n",
       "      <th>mean_action_time_ms</th>\n",
       "      <th>chars_product</th>\n",
       "      <th>chars_per_min_product</th>\n",
       "      <th>chars_process</th>\n",
       "      <th>chars_per_min_process</th>\n",
       "      <th>words_per_min_product</th>\n",
       "      <th>words_per_min_process</th>\n",
       "      <th>sentences_per_min_process</th>\n",
       "      <th>sentences_per_min_product</th>\n",
       "      <th>paragraphs_per_min_process</th>\n",
       "      <th>num_pauses</th>\n",
       "      <th>pauses_per_min</th>\n",
       "      <th>pause_time_proportion_perc</th>\n",
       "      <th>mean_pause_length</th>\n",
       "      <th>mean_pause_length_btw_paragraphs</th>\n",
       "      <th>mean_pause_length_btw_sentences</th>\n",
       "      <th>mean_pause_length_btw_words</th>\n",
       "      <th>mean_pause_length_w_in_words</th>\n",
       "      <th>deletions</th>\n",
       "      <th>deletions_per_min</th>\n",
       "      <th>mean_length_deletions</th>\n",
       "      <th>distant_deletions</th>\n",
       "      <th>deletions_proportion_perc</th>\n",
       "      <th>imm_deletions</th>\n",
       "      <th>distant_deletion_ratio</th>\n",
       "      <th>product_process_ratio</th>\n",
       "      <th>p_bursts</th>\n",
       "      <th>r_bursts</th>\n",
       "      <th>p_bursts_per_min</th>\n",
       "      <th>r_bursts_per_min</th>\n",
       "      <th>mean_p_bursts_chars</th>\n",
       "      <th>mean_r_bursts_chars</th>\n",
       "      <th>p_bursts_proportion_perc</th>\n",
       "      <th>r_bursts_proportion_perc</th>\n",
       "      <th>std_chars_interval</th>\n",
       "      <th>coded_essay_str</th>\n",
       "      <th>len_essay</th>\n",
       "      <th>num_spaces</th>\n",
       "      <th>num_?</th>\n",
       "      <th>num_.</th>\n",
       "      <th>num_\"</th>\n",
       "      <th>num_;</th>\n",
       "      <th>num_punctuation</th>\n",
       "    </tr>\n",
       "  </thead>\n",
       "  <tbody>\n",
       "    <tr>\n",
       "      <th>0</th>\n",
       "      <td>001519c8</td>\n",
       "      <td>1</td>\n",
       "      <td>4526</td>\n",
       "      <td>4557</td>\n",
       "      <td>31</td>\n",
       "      <td>Nonproduction</td>\n",
       "      <td>Leftclick</td>\n",
       "      <td>Leftclick</td>\n",
       "      <td>NoChange</td>\n",
       "      <td>0</td>\n",
       "      <td>0</td>\n",
       "      <td>2557</td>\n",
       "      <td>30.0</td>\n",
       "      <td>5.0</td>\n",
       "      <td>116.2</td>\n",
       "      <td>1528.0</td>\n",
       "      <td>50.9</td>\n",
       "      <td>2017.0</td>\n",
       "      <td>67.2</td>\n",
       "      <td>8.5</td>\n",
       "      <td>11.6</td>\n",
       "      <td>0.7</td>\n",
       "      <td>21.8</td>\n",
       "      <td>0.1</td>\n",
       "      <td>124.0</td>\n",
       "      <td>4.1</td>\n",
       "      <td>65.7</td>\n",
       "      <td>9537.1</td>\n",
       "      <td>19790.5</td>\n",
       "      <td>8271.9</td>\n",
       "      <td>1835.9</td>\n",
       "      <td>780.7</td>\n",
       "      <td>96.0</td>\n",
       "      <td>3.2</td>\n",
       "      <td>4.3</td>\n",
       "      <td>3.0</td>\n",
       "      <td>8.5</td>\n",
       "      <td>93.0</td>\n",
       "      <td>0.0</td>\n",
       "      <td>0.8</td>\n",
       "      <td>16.0</td>\n",
       "      <td>7.0</td>\n",
       "      <td>0.5</td>\n",
       "      <td>0.2</td>\n",
       "      <td>28.1</td>\n",
       "      <td>25.9</td>\n",
       "      <td>4.5</td>\n",
       "      <td>2.0</td>\n",
       "      <td>5.2</td>\n",
       "      <td>qqqqqqqqq qq qqqqq qq qqqq qqqq.  qqqqqq qqq q...</td>\n",
       "      <td>1517</td>\n",
       "      <td>262</td>\n",
       "      <td>0</td>\n",
       "      <td>15</td>\n",
       "      <td>0</td>\n",
       "      <td>1</td>\n",
       "      <td>27</td>\n",
       "    </tr>\n",
       "    <tr>\n",
       "      <th>1</th>\n",
       "      <td>001519c8</td>\n",
       "      <td>2</td>\n",
       "      <td>4558</td>\n",
       "      <td>4962</td>\n",
       "      <td>404</td>\n",
       "      <td>Nonproduction</td>\n",
       "      <td>Leftclick</td>\n",
       "      <td>Leftclick</td>\n",
       "      <td>NoChange</td>\n",
       "      <td>0</td>\n",
       "      <td>0</td>\n",
       "      <td>2557</td>\n",
       "      <td>30.0</td>\n",
       "      <td>5.0</td>\n",
       "      <td>116.2</td>\n",
       "      <td>1528.0</td>\n",
       "      <td>50.9</td>\n",
       "      <td>2017.0</td>\n",
       "      <td>67.2</td>\n",
       "      <td>8.5</td>\n",
       "      <td>11.6</td>\n",
       "      <td>0.7</td>\n",
       "      <td>21.8</td>\n",
       "      <td>0.1</td>\n",
       "      <td>124.0</td>\n",
       "      <td>4.1</td>\n",
       "      <td>65.7</td>\n",
       "      <td>9537.1</td>\n",
       "      <td>19790.5</td>\n",
       "      <td>8271.9</td>\n",
       "      <td>1835.9</td>\n",
       "      <td>780.7</td>\n",
       "      <td>96.0</td>\n",
       "      <td>3.2</td>\n",
       "      <td>4.3</td>\n",
       "      <td>3.0</td>\n",
       "      <td>8.5</td>\n",
       "      <td>93.0</td>\n",
       "      <td>0.0</td>\n",
       "      <td>0.8</td>\n",
       "      <td>16.0</td>\n",
       "      <td>7.0</td>\n",
       "      <td>0.5</td>\n",
       "      <td>0.2</td>\n",
       "      <td>28.1</td>\n",
       "      <td>25.9</td>\n",
       "      <td>4.5</td>\n",
       "      <td>2.0</td>\n",
       "      <td>5.2</td>\n",
       "      <td>qqqqqqqqq qq qqqqq qq qqqq qqqq.  qqqqqq qqq q...</td>\n",
       "      <td>1517</td>\n",
       "      <td>262</td>\n",
       "      <td>0</td>\n",
       "      <td>15</td>\n",
       "      <td>0</td>\n",
       "      <td>1</td>\n",
       "      <td>27</td>\n",
       "    </tr>\n",
       "    <tr>\n",
       "      <th>2</th>\n",
       "      <td>001519c8</td>\n",
       "      <td>3</td>\n",
       "      <td>106571</td>\n",
       "      <td>106571</td>\n",
       "      <td>0</td>\n",
       "      <td>Nonproduction</td>\n",
       "      <td>Shift</td>\n",
       "      <td>Shift</td>\n",
       "      <td>NoChange</td>\n",
       "      <td>0</td>\n",
       "      <td>0</td>\n",
       "      <td>2557</td>\n",
       "      <td>30.0</td>\n",
       "      <td>5.0</td>\n",
       "      <td>116.2</td>\n",
       "      <td>1528.0</td>\n",
       "      <td>50.9</td>\n",
       "      <td>2017.0</td>\n",
       "      <td>67.2</td>\n",
       "      <td>8.5</td>\n",
       "      <td>11.6</td>\n",
       "      <td>0.7</td>\n",
       "      <td>21.8</td>\n",
       "      <td>0.1</td>\n",
       "      <td>124.0</td>\n",
       "      <td>4.1</td>\n",
       "      <td>65.7</td>\n",
       "      <td>9537.1</td>\n",
       "      <td>19790.5</td>\n",
       "      <td>8271.9</td>\n",
       "      <td>1835.9</td>\n",
       "      <td>780.7</td>\n",
       "      <td>96.0</td>\n",
       "      <td>3.2</td>\n",
       "      <td>4.3</td>\n",
       "      <td>3.0</td>\n",
       "      <td>8.5</td>\n",
       "      <td>93.0</td>\n",
       "      <td>0.0</td>\n",
       "      <td>0.8</td>\n",
       "      <td>16.0</td>\n",
       "      <td>7.0</td>\n",
       "      <td>0.5</td>\n",
       "      <td>0.2</td>\n",
       "      <td>28.1</td>\n",
       "      <td>25.9</td>\n",
       "      <td>4.5</td>\n",
       "      <td>2.0</td>\n",
       "      <td>5.2</td>\n",
       "      <td>qqqqqqqqq qq qqqqq qq qqqq qqqq.  qqqqqq qqq q...</td>\n",
       "      <td>1517</td>\n",
       "      <td>262</td>\n",
       "      <td>0</td>\n",
       "      <td>15</td>\n",
       "      <td>0</td>\n",
       "      <td>1</td>\n",
       "      <td>27</td>\n",
       "    </tr>\n",
       "    <tr>\n",
       "      <th>3</th>\n",
       "      <td>001519c8</td>\n",
       "      <td>4</td>\n",
       "      <td>106686</td>\n",
       "      <td>106777</td>\n",
       "      <td>91</td>\n",
       "      <td>Input</td>\n",
       "      <td>q</td>\n",
       "      <td>q</td>\n",
       "      <td>q</td>\n",
       "      <td>1</td>\n",
       "      <td>1</td>\n",
       "      <td>2557</td>\n",
       "      <td>30.0</td>\n",
       "      <td>5.0</td>\n",
       "      <td>116.2</td>\n",
       "      <td>1528.0</td>\n",
       "      <td>50.9</td>\n",
       "      <td>2017.0</td>\n",
       "      <td>67.2</td>\n",
       "      <td>8.5</td>\n",
       "      <td>11.6</td>\n",
       "      <td>0.7</td>\n",
       "      <td>21.8</td>\n",
       "      <td>0.1</td>\n",
       "      <td>124.0</td>\n",
       "      <td>4.1</td>\n",
       "      <td>65.7</td>\n",
       "      <td>9537.1</td>\n",
       "      <td>19790.5</td>\n",
       "      <td>8271.9</td>\n",
       "      <td>1835.9</td>\n",
       "      <td>780.7</td>\n",
       "      <td>96.0</td>\n",
       "      <td>3.2</td>\n",
       "      <td>4.3</td>\n",
       "      <td>3.0</td>\n",
       "      <td>8.5</td>\n",
       "      <td>93.0</td>\n",
       "      <td>0.0</td>\n",
       "      <td>0.8</td>\n",
       "      <td>16.0</td>\n",
       "      <td>7.0</td>\n",
       "      <td>0.5</td>\n",
       "      <td>0.2</td>\n",
       "      <td>28.1</td>\n",
       "      <td>25.9</td>\n",
       "      <td>4.5</td>\n",
       "      <td>2.0</td>\n",
       "      <td>5.2</td>\n",
       "      <td>qqqqqqqqq qq qqqqq qq qqqq qqqq.  qqqqqq qqq q...</td>\n",
       "      <td>1517</td>\n",
       "      <td>262</td>\n",
       "      <td>0</td>\n",
       "      <td>15</td>\n",
       "      <td>0</td>\n",
       "      <td>1</td>\n",
       "      <td>27</td>\n",
       "    </tr>\n",
       "    <tr>\n",
       "      <th>4</th>\n",
       "      <td>001519c8</td>\n",
       "      <td>5</td>\n",
       "      <td>107196</td>\n",
       "      <td>107323</td>\n",
       "      <td>127</td>\n",
       "      <td>Input</td>\n",
       "      <td>q</td>\n",
       "      <td>q</td>\n",
       "      <td>q</td>\n",
       "      <td>2</td>\n",
       "      <td>1</td>\n",
       "      <td>2557</td>\n",
       "      <td>30.0</td>\n",
       "      <td>5.0</td>\n",
       "      <td>116.2</td>\n",
       "      <td>1528.0</td>\n",
       "      <td>50.9</td>\n",
       "      <td>2017.0</td>\n",
       "      <td>67.2</td>\n",
       "      <td>8.5</td>\n",
       "      <td>11.6</td>\n",
       "      <td>0.7</td>\n",
       "      <td>21.8</td>\n",
       "      <td>0.1</td>\n",
       "      <td>124.0</td>\n",
       "      <td>4.1</td>\n",
       "      <td>65.7</td>\n",
       "      <td>9537.1</td>\n",
       "      <td>19790.5</td>\n",
       "      <td>8271.9</td>\n",
       "      <td>1835.9</td>\n",
       "      <td>780.7</td>\n",
       "      <td>96.0</td>\n",
       "      <td>3.2</td>\n",
       "      <td>4.3</td>\n",
       "      <td>3.0</td>\n",
       "      <td>8.5</td>\n",
       "      <td>93.0</td>\n",
       "      <td>0.0</td>\n",
       "      <td>0.8</td>\n",
       "      <td>16.0</td>\n",
       "      <td>7.0</td>\n",
       "      <td>0.5</td>\n",
       "      <td>0.2</td>\n",
       "      <td>28.1</td>\n",
       "      <td>25.9</td>\n",
       "      <td>4.5</td>\n",
       "      <td>2.0</td>\n",
       "      <td>5.2</td>\n",
       "      <td>qqqqqqqqq qq qqqqq qq qqqq qqqq.  qqqqqq qqq q...</td>\n",
       "      <td>1517</td>\n",
       "      <td>262</td>\n",
       "      <td>0</td>\n",
       "      <td>15</td>\n",
       "      <td>0</td>\n",
       "      <td>1</td>\n",
       "      <td>27</td>\n",
       "    </tr>\n",
       "  </tbody>\n",
       "</table>\n",
       "</div>"
      ],
      "text/plain": [
       "         id  event_id  down_time  up_time  action_time       activity  \\\n",
       "0  001519c8         1       4526     4557           31  Nonproduction   \n",
       "1  001519c8         2       4558     4962          404  Nonproduction   \n",
       "2  001519c8         3     106571   106571            0  Nonproduction   \n",
       "3  001519c8         4     106686   106777           91          Input   \n",
       "4  001519c8         5     107196   107323          127          Input   \n",
       "\n",
       "  down_event   up_event text_change  cursor_position  word_count  num_events  \\\n",
       "0  Leftclick  Leftclick    NoChange                0           0        2557   \n",
       "1  Leftclick  Leftclick    NoChange                0           0        2557   \n",
       "2      Shift      Shift    NoChange                0           0        2557   \n",
       "3          q          q           q                1           1        2557   \n",
       "4          q          q           q                2           1        2557   \n",
       "\n",
       "   total_time_mins  total_action_time_mins  mean_action_time_ms  \\\n",
       "0             30.0                     5.0                116.2   \n",
       "1             30.0                     5.0                116.2   \n",
       "2             30.0                     5.0                116.2   \n",
       "3             30.0                     5.0                116.2   \n",
       "4             30.0                     5.0                116.2   \n",
       "\n",
       "   chars_product  chars_per_min_product  chars_process  chars_per_min_process  \\\n",
       "0         1528.0                   50.9         2017.0                   67.2   \n",
       "1         1528.0                   50.9         2017.0                   67.2   \n",
       "2         1528.0                   50.9         2017.0                   67.2   \n",
       "3         1528.0                   50.9         2017.0                   67.2   \n",
       "4         1528.0                   50.9         2017.0                   67.2   \n",
       "\n",
       "   words_per_min_product  words_per_min_process  sentences_per_min_process  \\\n",
       "0                    8.5                   11.6                        0.7   \n",
       "1                    8.5                   11.6                        0.7   \n",
       "2                    8.5                   11.6                        0.7   \n",
       "3                    8.5                   11.6                        0.7   \n",
       "4                    8.5                   11.6                        0.7   \n",
       "\n",
       "   sentences_per_min_product  paragraphs_per_min_process  num_pauses  \\\n",
       "0                       21.8                         0.1       124.0   \n",
       "1                       21.8                         0.1       124.0   \n",
       "2                       21.8                         0.1       124.0   \n",
       "3                       21.8                         0.1       124.0   \n",
       "4                       21.8                         0.1       124.0   \n",
       "\n",
       "   pauses_per_min  pause_time_proportion_perc  mean_pause_length  \\\n",
       "0             4.1                        65.7             9537.1   \n",
       "1             4.1                        65.7             9537.1   \n",
       "2             4.1                        65.7             9537.1   \n",
       "3             4.1                        65.7             9537.1   \n",
       "4             4.1                        65.7             9537.1   \n",
       "\n",
       "   mean_pause_length_btw_paragraphs  mean_pause_length_btw_sentences  \\\n",
       "0                           19790.5                           8271.9   \n",
       "1                           19790.5                           8271.9   \n",
       "2                           19790.5                           8271.9   \n",
       "3                           19790.5                           8271.9   \n",
       "4                           19790.5                           8271.9   \n",
       "\n",
       "   mean_pause_length_btw_words  mean_pause_length_w_in_words  deletions  \\\n",
       "0                       1835.9                         780.7       96.0   \n",
       "1                       1835.9                         780.7       96.0   \n",
       "2                       1835.9                         780.7       96.0   \n",
       "3                       1835.9                         780.7       96.0   \n",
       "4                       1835.9                         780.7       96.0   \n",
       "\n",
       "   deletions_per_min  mean_length_deletions  distant_deletions  \\\n",
       "0                3.2                    4.3                3.0   \n",
       "1                3.2                    4.3                3.0   \n",
       "2                3.2                    4.3                3.0   \n",
       "3                3.2                    4.3                3.0   \n",
       "4                3.2                    4.3                3.0   \n",
       "\n",
       "   deletions_proportion_perc  imm_deletions  distant_deletion_ratio  \\\n",
       "0                        8.5           93.0                     0.0   \n",
       "1                        8.5           93.0                     0.0   \n",
       "2                        8.5           93.0                     0.0   \n",
       "3                        8.5           93.0                     0.0   \n",
       "4                        8.5           93.0                     0.0   \n",
       "\n",
       "   product_process_ratio  p_bursts  r_bursts  p_bursts_per_min  \\\n",
       "0                    0.8      16.0       7.0               0.5   \n",
       "1                    0.8      16.0       7.0               0.5   \n",
       "2                    0.8      16.0       7.0               0.5   \n",
       "3                    0.8      16.0       7.0               0.5   \n",
       "4                    0.8      16.0       7.0               0.5   \n",
       "\n",
       "   r_bursts_per_min  mean_p_bursts_chars  mean_r_bursts_chars  \\\n",
       "0               0.2                 28.1                 25.9   \n",
       "1               0.2                 28.1                 25.9   \n",
       "2               0.2                 28.1                 25.9   \n",
       "3               0.2                 28.1                 25.9   \n",
       "4               0.2                 28.1                 25.9   \n",
       "\n",
       "   p_bursts_proportion_perc  r_bursts_proportion_perc  std_chars_interval  \\\n",
       "0                       4.5                       2.0                 5.2   \n",
       "1                       4.5                       2.0                 5.2   \n",
       "2                       4.5                       2.0                 5.2   \n",
       "3                       4.5                       2.0                 5.2   \n",
       "4                       4.5                       2.0                 5.2   \n",
       "\n",
       "                                     coded_essay_str  len_essay  num_spaces  \\\n",
       "0  qqqqqqqqq qq qqqqq qq qqqq qqqq.  qqqqqq qqq q...       1517         262   \n",
       "1  qqqqqqqqq qq qqqqq qq qqqq qqqq.  qqqqqq qqq q...       1517         262   \n",
       "2  qqqqqqqqq qq qqqqq qq qqqq qqqq.  qqqqqq qqq q...       1517         262   \n",
       "3  qqqqqqqqq qq qqqqq qq qqqq qqqq.  qqqqqq qqq q...       1517         262   \n",
       "4  qqqqqqqqq qq qqqqq qq qqqq qqqq.  qqqqqq qqq q...       1517         262   \n",
       "\n",
       "   num_?  num_.  num_\"  num_;  num_punctuation  \n",
       "0      0     15      0      1               27  \n",
       "1      0     15      0      1               27  \n",
       "2      0     15      0      1               27  \n",
       "3      0     15      0      1               27  \n",
       "4      0     15      0      1               27  "
      ]
     },
     "execution_count": 9,
     "metadata": {},
     "output_type": "execute_result"
    }
   ],
   "source": [
    "train_logs.head()"
   ]
  },
  {
   "cell_type": "markdown",
   "id": "c9d9933e",
   "metadata": {
    "papermill": {
     "duration": 0.059565,
     "end_time": "2024-01-07T03:19:23.338170",
     "exception": false,
     "start_time": "2024-01-07T03:19:23.278605",
     "status": "completed"
    },
    "tags": []
   },
   "source": [
    "#### train_logs --> simplified_train_logs\n",
    "\n",
    "Ultimately, we will retain only a single row for each essay:"
   ]
  },
  {
   "cell_type": "code",
   "execution_count": 10,
   "id": "c68a7a2e",
   "metadata": {
    "execution": {
     "iopub.execute_input": "2024-01-07T03:19:23.459815Z",
     "iopub.status.busy": "2024-01-07T03:19:23.459362Z",
     "iopub.status.idle": "2024-01-07T03:20:02.710633Z",
     "shell.execute_reply": "2024-01-07T03:20:02.709270Z"
    },
    "papermill": {
     "duration": 39.375868,
     "end_time": "2024-01-07T03:20:02.774102",
     "exception": false,
     "start_time": "2024-01-07T03:19:23.398234",
     "status": "completed"
    },
    "tags": []
   },
   "outputs": [
    {
     "name": "stdout",
     "output_type": "stream",
     "text": [
      "\n",
      "Number of features in train_logs vs simplified_train_logs: 54 vs 44 \n",
      "\n",
      "Number of rows in train_logs vs simplified_train_logs: 8405898 vs 2471 \n",
      "\n"
     ]
    },
    {
     "data": {
      "text/html": [
       "<div>\n",
       "<style scoped>\n",
       "    .dataframe tbody tr th:only-of-type {\n",
       "        vertical-align: middle;\n",
       "    }\n",
       "\n",
       "    .dataframe tbody tr th {\n",
       "        vertical-align: top;\n",
       "    }\n",
       "\n",
       "    .dataframe thead th {\n",
       "        text-align: right;\n",
       "    }\n",
       "</style>\n",
       "<table border=\"1\" class=\"dataframe\">\n",
       "  <thead>\n",
       "    <tr style=\"text-align: right;\">\n",
       "      <th></th>\n",
       "      <th>id</th>\n",
       "      <th>num_events</th>\n",
       "      <th>total_time_mins</th>\n",
       "      <th>total_action_time_mins</th>\n",
       "      <th>mean_action_time_ms</th>\n",
       "      <th>chars_per_min_product</th>\n",
       "      <th>chars_per_min_process</th>\n",
       "      <th>words_per_min_product</th>\n",
       "      <th>words_per_min_process</th>\n",
       "      <th>sentences_per_min_process</th>\n",
       "      <th>sentences_per_min_product</th>\n",
       "      <th>paragraphs_per_min_process</th>\n",
       "      <th>pauses_per_min</th>\n",
       "      <th>pause_time_proportion_perc</th>\n",
       "      <th>mean_pause_length</th>\n",
       "      <th>mean_pause_length_btw_paragraphs</th>\n",
       "      <th>mean_pause_length_btw_sentences</th>\n",
       "      <th>mean_pause_length_btw_words</th>\n",
       "      <th>mean_pause_length_w_in_words</th>\n",
       "      <th>deletions</th>\n",
       "      <th>deletions_per_min</th>\n",
       "      <th>mean_length_deletions</th>\n",
       "      <th>distant_deletions</th>\n",
       "      <th>deletions_proportion_perc</th>\n",
       "      <th>imm_deletions</th>\n",
       "      <th>distant_deletion_ratio</th>\n",
       "      <th>product_process_ratio</th>\n",
       "      <th>p_bursts</th>\n",
       "      <th>r_bursts</th>\n",
       "      <th>p_bursts_per_min</th>\n",
       "      <th>r_bursts_per_min</th>\n",
       "      <th>mean_p_bursts_chars</th>\n",
       "      <th>mean_r_bursts_chars</th>\n",
       "      <th>p_bursts_proportion_perc</th>\n",
       "      <th>r_bursts_proportion_perc</th>\n",
       "      <th>std_chars_interval</th>\n",
       "      <th>coded_essay_str</th>\n",
       "      <th>len_essay</th>\n",
       "      <th>num_spaces</th>\n",
       "      <th>num_?</th>\n",
       "      <th>num_.</th>\n",
       "      <th>num_\"</th>\n",
       "      <th>num_;</th>\n",
       "      <th>num_punctuation</th>\n",
       "    </tr>\n",
       "  </thead>\n",
       "  <tbody>\n",
       "    <tr>\n",
       "      <th>0</th>\n",
       "      <td>001519c8</td>\n",
       "      <td>2557</td>\n",
       "      <td>30.0</td>\n",
       "      <td>5.0</td>\n",
       "      <td>116.2</td>\n",
       "      <td>50.9</td>\n",
       "      <td>67.2</td>\n",
       "      <td>8.5</td>\n",
       "      <td>11.6</td>\n",
       "      <td>0.7</td>\n",
       "      <td>21.8</td>\n",
       "      <td>0.1</td>\n",
       "      <td>4.1</td>\n",
       "      <td>65.7</td>\n",
       "      <td>9537.1</td>\n",
       "      <td>19790.5</td>\n",
       "      <td>8271.9</td>\n",
       "      <td>1835.9</td>\n",
       "      <td>780.7</td>\n",
       "      <td>96.0</td>\n",
       "      <td>3.2</td>\n",
       "      <td>4.3</td>\n",
       "      <td>3.0</td>\n",
       "      <td>8.5</td>\n",
       "      <td>93.0</td>\n",
       "      <td>0.0</td>\n",
       "      <td>0.8</td>\n",
       "      <td>16.0</td>\n",
       "      <td>7.0</td>\n",
       "      <td>0.5</td>\n",
       "      <td>0.2</td>\n",
       "      <td>28.1</td>\n",
       "      <td>25.9</td>\n",
       "      <td>4.5</td>\n",
       "      <td>2.0</td>\n",
       "      <td>5.2</td>\n",
       "      <td>qqqqqqqqq qq qqqqq qq qqqq qqqq.  qqqqqq qqq q...</td>\n",
       "      <td>1517</td>\n",
       "      <td>262</td>\n",
       "      <td>0</td>\n",
       "      <td>15</td>\n",
       "      <td>0</td>\n",
       "      <td>1</td>\n",
       "      <td>27</td>\n",
       "    </tr>\n",
       "    <tr>\n",
       "      <th>1</th>\n",
       "      <td>0022f953</td>\n",
       "      <td>2454</td>\n",
       "      <td>29.8</td>\n",
       "      <td>4.6</td>\n",
       "      <td>112.2</td>\n",
       "      <td>56.2</td>\n",
       "      <td>65.1</td>\n",
       "      <td>10.7</td>\n",
       "      <td>12.4</td>\n",
       "      <td>0.6</td>\n",
       "      <td>17.9</td>\n",
       "      <td>0.2</td>\n",
       "      <td>2.7</td>\n",
       "      <td>65.8</td>\n",
       "      <td>14521.8</td>\n",
       "      <td>NaN</td>\n",
       "      <td>3197.7</td>\n",
       "      <td>1207.0</td>\n",
       "      <td>784.3</td>\n",
       "      <td>82.0</td>\n",
       "      <td>2.8</td>\n",
       "      <td>3.2</td>\n",
       "      <td>8.0</td>\n",
       "      <td>0.0</td>\n",
       "      <td>74.0</td>\n",
       "      <td>0.1</td>\n",
       "      <td>0.9</td>\n",
       "      <td>8.0</td>\n",
       "      <td>20.0</td>\n",
       "      <td>0.3</td>\n",
       "      <td>0.7</td>\n",
       "      <td>34.9</td>\n",
       "      <td>37.2</td>\n",
       "      <td>3.1</td>\n",
       "      <td>8.3</td>\n",
       "      <td>8.3</td>\n",
       "      <td>qqqq qq qqqqqqqqqqq ? qq qq qqq qqq qqq, qqqqq...</td>\n",
       "      <td>1673</td>\n",
       "      <td>350</td>\n",
       "      <td>3</td>\n",
       "      <td>13</td>\n",
       "      <td>6</td>\n",
       "      <td>0</td>\n",
       "      <td>46</td>\n",
       "    </tr>\n",
       "    <tr>\n",
       "      <th>2</th>\n",
       "      <td>0042269b</td>\n",
       "      <td>4136</td>\n",
       "      <td>29.5</td>\n",
       "      <td>7.0</td>\n",
       "      <td>101.8</td>\n",
       "      <td>87.7</td>\n",
       "      <td>119.4</td>\n",
       "      <td>13.7</td>\n",
       "      <td>18.6</td>\n",
       "      <td>0.7</td>\n",
       "      <td>20.9</td>\n",
       "      <td>0.6</td>\n",
       "      <td>2.6</td>\n",
       "      <td>62.8</td>\n",
       "      <td>14430.7</td>\n",
       "      <td>4804.0</td>\n",
       "      <td>3315.3</td>\n",
       "      <td>1637.2</td>\n",
       "      <td>492.0</td>\n",
       "      <td>97.0</td>\n",
       "      <td>3.3</td>\n",
       "      <td>4.5</td>\n",
       "      <td>5.0</td>\n",
       "      <td>0.0</td>\n",
       "      <td>92.0</td>\n",
       "      <td>0.1</td>\n",
       "      <td>0.7</td>\n",
       "      <td>17.0</td>\n",
       "      <td>47.0</td>\n",
       "      <td>0.6</td>\n",
       "      <td>1.6</td>\n",
       "      <td>39.9</td>\n",
       "      <td>39.4</td>\n",
       "      <td>4.1</td>\n",
       "      <td>12.1</td>\n",
       "      <td>3.7</td>\n",
       "      <td>qqqqqqqqqqq qq qqqqq qqqqqqqqq qq qqqqqqqqqqq ...</td>\n",
       "      <td>2587</td>\n",
       "      <td>404</td>\n",
       "      <td>0</td>\n",
       "      <td>19</td>\n",
       "      <td>2</td>\n",
       "      <td>0</td>\n",
       "      <td>40</td>\n",
       "    </tr>\n",
       "    <tr>\n",
       "      <th>3</th>\n",
       "      <td>0059420b</td>\n",
       "      <td>1556</td>\n",
       "      <td>23.4</td>\n",
       "      <td>3.2</td>\n",
       "      <td>121.8</td>\n",
       "      <td>49.3</td>\n",
       "      <td>56.3</td>\n",
       "      <td>8.8</td>\n",
       "      <td>10.4</td>\n",
       "      <td>0.6</td>\n",
       "      <td>13.0</td>\n",
       "      <td>0.1</td>\n",
       "      <td>3.7</td>\n",
       "      <td>54.7</td>\n",
       "      <td>8828.4</td>\n",
       "      <td>61128.7</td>\n",
       "      <td>14315.4</td>\n",
       "      <td>2824.9</td>\n",
       "      <td>1199.7</td>\n",
       "      <td>66.0</td>\n",
       "      <td>2.8</td>\n",
       "      <td>2.3</td>\n",
       "      <td>1.0</td>\n",
       "      <td>0.0</td>\n",
       "      <td>65.0</td>\n",
       "      <td>0.0</td>\n",
       "      <td>0.9</td>\n",
       "      <td>4.0</td>\n",
       "      <td>3.0</td>\n",
       "      <td>0.2</td>\n",
       "      <td>0.1</td>\n",
       "      <td>27.5</td>\n",
       "      <td>28.7</td>\n",
       "      <td>3.4</td>\n",
       "      <td>2.1</td>\n",
       "      <td>2.8</td>\n",
       "      <td>qq qqqqqqq qqqqqq qqqqqqqqqqqqq qqqq q qqqq qq...</td>\n",
       "      <td>1154</td>\n",
       "      <td>207</td>\n",
       "      <td>0</td>\n",
       "      <td>12</td>\n",
       "      <td>0</td>\n",
       "      <td>0</td>\n",
       "      <td>16</td>\n",
       "    </tr>\n",
       "    <tr>\n",
       "      <th>4</th>\n",
       "      <td>0075873a</td>\n",
       "      <td>2531</td>\n",
       "      <td>27.7</td>\n",
       "      <td>5.2</td>\n",
       "      <td>123.9</td>\n",
       "      <td>51.4</td>\n",
       "      <td>70.1</td>\n",
       "      <td>9.1</td>\n",
       "      <td>12.2</td>\n",
       "      <td>0.9</td>\n",
       "      <td>24.7</td>\n",
       "      <td>0.4</td>\n",
       "      <td>3.2</td>\n",
       "      <td>62.9</td>\n",
       "      <td>11880.3</td>\n",
       "      <td>37640.0</td>\n",
       "      <td>12462.1</td>\n",
       "      <td>2293.4</td>\n",
       "      <td>1212.0</td>\n",
       "      <td>58.0</td>\n",
       "      <td>2.1</td>\n",
       "      <td>8.9</td>\n",
       "      <td>8.0</td>\n",
       "      <td>0.0</td>\n",
       "      <td>50.0</td>\n",
       "      <td>0.1</td>\n",
       "      <td>0.7</td>\n",
       "      <td>16.0</td>\n",
       "      <td>8.0</td>\n",
       "      <td>0.6</td>\n",
       "      <td>0.3</td>\n",
       "      <td>47.2</td>\n",
       "      <td>32.2</td>\n",
       "      <td>9.1</td>\n",
       "      <td>3.0</td>\n",
       "      <td>3.8</td>\n",
       "      <td>qqqqqqqqqqq qq qqq qqqqq qq qqqqqqqqqq, qqq qq...</td>\n",
       "      <td>1425</td>\n",
       "      <td>251</td>\n",
       "      <td>2</td>\n",
       "      <td>14</td>\n",
       "      <td>0</td>\n",
       "      <td>0</td>\n",
       "      <td>48</td>\n",
       "    </tr>\n",
       "  </tbody>\n",
       "</table>\n",
       "</div>"
      ],
      "text/plain": [
       "         id  num_events  total_time_mins  total_action_time_mins  \\\n",
       "0  001519c8        2557             30.0                     5.0   \n",
       "1  0022f953        2454             29.8                     4.6   \n",
       "2  0042269b        4136             29.5                     7.0   \n",
       "3  0059420b        1556             23.4                     3.2   \n",
       "4  0075873a        2531             27.7                     5.2   \n",
       "\n",
       "   mean_action_time_ms  chars_per_min_product  chars_per_min_process  \\\n",
       "0                116.2                   50.9                   67.2   \n",
       "1                112.2                   56.2                   65.1   \n",
       "2                101.8                   87.7                  119.4   \n",
       "3                121.8                   49.3                   56.3   \n",
       "4                123.9                   51.4                   70.1   \n",
       "\n",
       "   words_per_min_product  words_per_min_process  sentences_per_min_process  \\\n",
       "0                    8.5                   11.6                        0.7   \n",
       "1                   10.7                   12.4                        0.6   \n",
       "2                   13.7                   18.6                        0.7   \n",
       "3                    8.8                   10.4                        0.6   \n",
       "4                    9.1                   12.2                        0.9   \n",
       "\n",
       "   sentences_per_min_product  paragraphs_per_min_process  pauses_per_min  \\\n",
       "0                       21.8                         0.1             4.1   \n",
       "1                       17.9                         0.2             2.7   \n",
       "2                       20.9                         0.6             2.6   \n",
       "3                       13.0                         0.1             3.7   \n",
       "4                       24.7                         0.4             3.2   \n",
       "\n",
       "   pause_time_proportion_perc  mean_pause_length  \\\n",
       "0                        65.7             9537.1   \n",
       "1                        65.8            14521.8   \n",
       "2                        62.8            14430.7   \n",
       "3                        54.7             8828.4   \n",
       "4                        62.9            11880.3   \n",
       "\n",
       "   mean_pause_length_btw_paragraphs  mean_pause_length_btw_sentences  \\\n",
       "0                           19790.5                           8271.9   \n",
       "1                               NaN                           3197.7   \n",
       "2                            4804.0                           3315.3   \n",
       "3                           61128.7                          14315.4   \n",
       "4                           37640.0                          12462.1   \n",
       "\n",
       "   mean_pause_length_btw_words  mean_pause_length_w_in_words  deletions  \\\n",
       "0                       1835.9                         780.7       96.0   \n",
       "1                       1207.0                         784.3       82.0   \n",
       "2                       1637.2                         492.0       97.0   \n",
       "3                       2824.9                        1199.7       66.0   \n",
       "4                       2293.4                        1212.0       58.0   \n",
       "\n",
       "   deletions_per_min  mean_length_deletions  distant_deletions  \\\n",
       "0                3.2                    4.3                3.0   \n",
       "1                2.8                    3.2                8.0   \n",
       "2                3.3                    4.5                5.0   \n",
       "3                2.8                    2.3                1.0   \n",
       "4                2.1                    8.9                8.0   \n",
       "\n",
       "   deletions_proportion_perc  imm_deletions  distant_deletion_ratio  \\\n",
       "0                        8.5           93.0                     0.0   \n",
       "1                        0.0           74.0                     0.1   \n",
       "2                        0.0           92.0                     0.1   \n",
       "3                        0.0           65.0                     0.0   \n",
       "4                        0.0           50.0                     0.1   \n",
       "\n",
       "   product_process_ratio  p_bursts  r_bursts  p_bursts_per_min  \\\n",
       "0                    0.8      16.0       7.0               0.5   \n",
       "1                    0.9       8.0      20.0               0.3   \n",
       "2                    0.7      17.0      47.0               0.6   \n",
       "3                    0.9       4.0       3.0               0.2   \n",
       "4                    0.7      16.0       8.0               0.6   \n",
       "\n",
       "   r_bursts_per_min  mean_p_bursts_chars  mean_r_bursts_chars  \\\n",
       "0               0.2                 28.1                 25.9   \n",
       "1               0.7                 34.9                 37.2   \n",
       "2               1.6                 39.9                 39.4   \n",
       "3               0.1                 27.5                 28.7   \n",
       "4               0.3                 47.2                 32.2   \n",
       "\n",
       "   p_bursts_proportion_perc  r_bursts_proportion_perc  std_chars_interval  \\\n",
       "0                       4.5                       2.0                 5.2   \n",
       "1                       3.1                       8.3                 8.3   \n",
       "2                       4.1                      12.1                 3.7   \n",
       "3                       3.4                       2.1                 2.8   \n",
       "4                       9.1                       3.0                 3.8   \n",
       "\n",
       "                                     coded_essay_str  len_essay  num_spaces  \\\n",
       "0  qqqqqqqqq qq qqqqq qq qqqq qqqq.  qqqqqq qqq q...       1517         262   \n",
       "1  qqqq qq qqqqqqqqqqq ? qq qq qqq qqq qqq, qqqqq...       1673         350   \n",
       "2  qqqqqqqqqqq qq qqqqq qqqqqqqqq qq qqqqqqqqqqq ...       2587         404   \n",
       "3  qq qqqqqqq qqqqqq qqqqqqqqqqqqq qqqq q qqqq qq...       1154         207   \n",
       "4  qqqqqqqqqqq qq qqq qqqqq qq qqqqqqqqqq, qqq qq...       1425         251   \n",
       "\n",
       "   num_?  num_.  num_\"  num_;  num_punctuation  \n",
       "0      0     15      0      1               27  \n",
       "1      3     13      6      0               46  \n",
       "2      0     19      2      0               40  \n",
       "3      0     12      0      0               16  \n",
       "4      2     14      0      0               48  "
      ]
     },
     "execution_count": 10,
     "metadata": {},
     "output_type": "execute_result"
    }
   ],
   "source": [
    "redundant_vars = ['num_pauses', 'chars_process', 'chars_product']\n",
    "train_logs.drop(redundant_vars, axis=1, inplace=True)\n",
    "\n",
    "original_cols_ex_id = ['event_id', 'down_time', 'up_time', 'action_time', 'activity',\n",
    "                       'down_event', 'up_event', 'text_change', 'cursor_position', 'word_count']\n",
    "\n",
    "simplified_train_logs = train_logs.drop(original_cols_ex_id, axis=1)\n",
    "\n",
    "simplified_train_logs.drop_duplicates(inplace=True)\n",
    "simplified_train_logs.reset_index(drop=True, inplace=True)\n",
    "\n",
    "print(\"\\nNumber of features in train_logs vs simplified_train_logs:\",len(train_logs.columns), 'vs', len(simplified_train_logs.columns), '\\n')\n",
    "print(\"Number of rows in train_logs vs simplified_train_logs:\",train_logs.shape[0], 'vs', simplified_train_logs.shape[0], '\\n')\n",
    "simplified_train_logs.head()"
   ]
  },
  {
   "cell_type": "markdown",
   "id": "3dc9972d",
   "metadata": {
    "papermill": {
     "duration": 0.061328,
     "end_time": "2024-01-07T03:20:02.896631",
     "exception": false,
     "start_time": "2024-01-07T03:20:02.835303",
     "status": "completed"
    },
    "tags": []
   },
   "source": [
    "#### down_time, up_time, action_time"
   ]
  },
  {
   "cell_type": "markdown",
   "id": "7d1b4e8f",
   "metadata": {
    "papermill": {
     "duration": 0.061883,
     "end_time": "2024-01-07T03:20:03.019525",
     "exception": false,
     "start_time": "2024-01-07T03:20:02.957642",
     "status": "completed"
    },
    "tags": []
   },
   "source": [
    "These 3 features have been used to create several other features in the `keystroke-measures` file, \n",
    "\n",
    "namely `total_time_mins, total_action_time_mins, mean_action_time_ms` and features related to pauses, deletions and bursts."
   ]
  },
  {
   "cell_type": "markdown",
   "id": "b398b192",
   "metadata": {
    "papermill": {
     "duration": 0.06274,
     "end_time": "2024-01-07T03:20:03.143503",
     "exception": false,
     "start_time": "2024-01-07T03:20:03.080763",
     "status": "completed"
    },
    "tags": []
   },
   "source": [
    "#### activity"
   ]
  },
  {
   "cell_type": "markdown",
   "id": "7f0c940f",
   "metadata": {
    "papermill": {
     "duration": 0.061058,
     "end_time": "2024-01-07T03:20:03.265639",
     "exception": false,
     "start_time": "2024-01-07T03:20:03.204581",
     "status": "completed"
    },
    "tags": []
   },
   "source": [
    "Values like `Move From [x1, y1] To [x2, y2]` in the field `activity` refer to events where a section of text has been moved to a new location."
   ]
  },
  {
   "cell_type": "code",
   "execution_count": 11,
   "id": "18e2a136",
   "metadata": {
    "execution": {
     "iopub.execute_input": "2024-01-07T03:20:03.392369Z",
     "iopub.status.busy": "2024-01-07T03:20:03.391734Z",
     "iopub.status.idle": "2024-01-07T03:20:08.450834Z",
     "shell.execute_reply": "2024-01-07T03:20:08.446406Z"
    },
    "papermill": {
     "duration": 5.143313,
     "end_time": "2024-01-07T03:20:08.470332",
     "exception": false,
     "start_time": "2024-01-07T03:20:03.327019",
     "status": "completed"
    },
    "tags": []
   },
   "outputs": [
    {
     "name": "stdout",
     "output_type": "stream",
     "text": [
      "The number of events with this kind of activity is only: 46\n"
     ]
    }
   ],
   "source": [
    "print(\"The number of events with this kind of activity is only:\", \n",
    "      train_logs[train_logs['activity'].str.startswith('Move From [')].activity.count())"
   ]
  },
  {
   "cell_type": "code",
   "execution_count": 12,
   "id": "4f30ddb9",
   "metadata": {
    "execution": {
     "iopub.execute_input": "2024-01-07T03:20:08.686542Z",
     "iopub.status.busy": "2024-01-07T03:20:08.685489Z",
     "iopub.status.idle": "2024-01-07T03:20:21.510833Z",
     "shell.execute_reply": "2024-01-07T03:20:21.505825Z"
    },
    "papermill": {
     "duration": 12.90691,
     "end_time": "2024-01-07T03:20:21.525484",
     "exception": false,
     "start_time": "2024-01-07T03:20:08.618574",
     "status": "completed"
    },
    "tags": []
   },
   "outputs": [
    {
     "name": "stdout",
     "output_type": "stream",
     "text": [
      "Value counts for other types of activity are:\n",
      "\n",
      " activity\n",
      "Input            6726796\n",
      "Remove/Cut        970158\n",
      "Nonproduction     703851\n",
      "Replace             4448\n",
      "Paste                599\n",
      "Name: count, dtype: int64\n"
     ]
    }
   ],
   "source": [
    "print(\"Value counts for other types of activity are:\\n\\n\", \n",
    "      train_logs[~train_logs['activity'].str.startswith('Move')].activity.value_counts())"
   ]
  },
  {
   "cell_type": "code",
   "execution_count": 13,
   "id": "31fab130",
   "metadata": {
    "execution": {
     "iopub.execute_input": "2024-01-07T03:20:21.994620Z",
     "iopub.status.busy": "2024-01-07T03:20:21.990292Z",
     "iopub.status.idle": "2024-01-07T03:20:22.009425Z",
     "shell.execute_reply": "2024-01-07T03:20:22.005753Z"
    },
    "papermill": {
     "duration": 0.243128,
     "end_time": "2024-01-07T03:20:22.019170",
     "exception": false,
     "start_time": "2024-01-07T03:20:21.776042",
     "status": "completed"
    },
    "tags": []
   },
   "outputs": [],
   "source": [
    "# sns.histplot(train_logs[~train_logs['activity'].str.startswith('Move')].activity);\n",
    "# plt.title('Count of Event Activity Categories ex \"Move From [x1, y1] To [x2, y2]\"');"
   ]
  },
  {
   "cell_type": "markdown",
   "id": "a40ba275",
   "metadata": {
    "papermill": {
     "duration": 0.137374,
     "end_time": "2024-01-07T03:20:22.375362",
     "exception": false,
     "start_time": "2024-01-07T03:20:22.237988",
     "status": "completed"
    },
    "tags": []
   },
   "source": [
    "#### down_event, up_event, text_change "
   ]
  },
  {
   "cell_type": "markdown",
   "id": "b4c1efe8",
   "metadata": {
    "papermill": {
     "duration": 0.069678,
     "end_time": "2024-01-07T03:20:22.514810",
     "exception": false,
     "start_time": "2024-01-07T03:20:22.445132",
     "status": "completed"
    },
    "tags": []
   },
   "source": [
    "The documentation specifies that all alphanumeric character inputs have been substituted with the \"anonymous\" character `q`."
   ]
  },
  {
   "cell_type": "code",
   "execution_count": 14,
   "id": "4d4a8842",
   "metadata": {
    "execution": {
     "iopub.execute_input": "2024-01-07T03:20:22.753283Z",
     "iopub.status.busy": "2024-01-07T03:20:22.750536Z",
     "iopub.status.idle": "2024-01-07T03:20:23.960648Z",
     "shell.execute_reply": "2024-01-07T03:20:23.959035Z"
    },
    "papermill": {
     "duration": 1.380276,
     "end_time": "2024-01-07T03:20:23.964597",
     "exception": false,
     "start_time": "2024-01-07T03:20:22.584321",
     "status": "completed"
    },
    "tags": []
   },
   "outputs": [
    {
     "data": {
      "text/plain": [
       "text_change\n",
       "q           6128208\n",
       "            1376829\n",
       "NoChange     703851\n",
       ".             67797\n",
       ",             54797\n",
       "\\n            27977\n",
       "'             13192\n",
       "\"              4659\n",
       "-              4492\n",
       "?              3507\n",
       "Name: count, dtype: int64"
      ]
     },
     "execution_count": 14,
     "metadata": {},
     "output_type": "execute_result"
    }
   ],
   "source": [
    "train_logs.text_change.value_counts()[:10]"
   ]
  },
  {
   "cell_type": "code",
   "execution_count": 15,
   "id": "6cee95f7",
   "metadata": {
    "execution": {
     "iopub.execute_input": "2024-01-07T03:20:24.164011Z",
     "iopub.status.busy": "2024-01-07T03:20:24.163208Z",
     "iopub.status.idle": "2024-01-07T03:20:25.148083Z",
     "shell.execute_reply": "2024-01-07T03:20:25.147191Z"
    },
    "papermill": {
     "duration": 1.086966,
     "end_time": "2024-01-07T03:20:25.150725",
     "exception": false,
     "start_time": "2024-01-07T03:20:24.063759",
     "status": "completed"
    },
    "tags": []
   },
   "outputs": [
    {
     "data": {
      "text/plain": [
       "array(['Leftclick', 'Shift', 'q', 'Space', 'Backspace', '.', ',', 'Enter',\n",
       "       'ArrowLeft', \"'\", ';', 'ArrowRight', '-', '?', 'Tab', '\"',\n",
       "       'ArrowUp', 'ArrowDown', 'Rightclick', '=', 'CapsLock', 'Control',\n",
       "       'c', 'v', '/', 'Delete', ':', 'z', '[', '$', '(', ')', '+', 'Home',\n",
       "       'End', '\\\\', 'Meta', '*', '&', 'AudioVolumeMute', 'x', '!',\n",
       "       'Insert', 'MediaPlayPause', 'NumLock', '%', 'V', '>', 'Alt',\n",
       "       'AudioVolumeUp', 'ContextMenu', 'AudioVolumeDown', 'a', '<',\n",
       "       'PageDown', ']', 'Middleclick', '@', 'F12', 'j', '\\x96', 'Dead',\n",
       "       't', 's', 'n', 'y', '{', 'ScrollLock', '¿', 'Process', '}',\n",
       "       'MediaTrackPrevious', 'MediaTrackNext', 'F3', '^', 'Unidentified',\n",
       "       'Cancel', '2', 'i', 'd', 'r', 'e', '`', '\\x9b', 'm', '#', '~',\n",
       "       'PageUp', 'T', 'A', 'b', 'S', 'ModeChange', '_', 'Escape', 'F11',\n",
       "       'Unknownclick', 'AltGraph', 'F10', 'h', 'F15', 'Clear', 'OS', 'F',\n",
       "       'C', 'o', 'Ä±', 'f', 'u', 'w', 'p', 'g', 'M', 'l', '|',\n",
       "       'â\\x80\\x93', 'I', '0', '1', '5', '\\x97', 'Ë\\x86', '¡', '\\x80',\n",
       "       'Â´', 'Å\\x9f', 'F2', 'ä', 'F1', 'Pause', 'F6'], dtype=object)"
      ]
     },
     "execution_count": 15,
     "metadata": {},
     "output_type": "execute_result"
    }
   ],
   "source": [
    "train_logs.down_event.unique()"
   ]
  },
  {
   "cell_type": "code",
   "execution_count": 16,
   "id": "a24e3c09",
   "metadata": {
    "execution": {
     "iopub.execute_input": "2024-01-07T03:20:25.278122Z",
     "iopub.status.busy": "2024-01-07T03:20:25.277041Z",
     "iopub.status.idle": "2024-01-07T03:20:26.485562Z",
     "shell.execute_reply": "2024-01-07T03:20:26.484343Z"
    },
    "papermill": {
     "duration": 1.274556,
     "end_time": "2024-01-07T03:20:26.488551",
     "exception": false,
     "start_time": "2024-01-07T03:20:25.213995",
     "status": "completed"
    },
    "tags": []
   },
   "outputs": [
    {
     "data": {
      "text/plain": [
       "down_event\n",
       "q             5365319\n",
       "Space         1207128\n",
       "Backspace      964089\n",
       "Shift          334227\n",
       "ArrowRight     121338\n",
       "Leftclick       91126\n",
       "ArrowLeft       63217\n",
       ".               59586\n",
       ",               46806\n",
       "ArrowDown       30874\n",
       "Name: count, dtype: int64"
      ]
     },
     "execution_count": 16,
     "metadata": {},
     "output_type": "execute_result"
    }
   ],
   "source": [
    "train_logs.down_event.value_counts()[:10]"
   ]
  },
  {
   "cell_type": "markdown",
   "id": "a2b26e1d",
   "metadata": {
    "papermill": {
     "duration": 0.0614,
     "end_time": "2024-01-07T03:20:26.611584",
     "exception": false,
     "start_time": "2024-01-07T03:20:26.550184",
     "status": "completed"
    },
    "tags": []
   },
   "source": [
    "- **Hypothesis to explore**: Better handling of keyboard shortcuts could be associated with higher competence"
   ]
  },
  {
   "cell_type": "code",
   "execution_count": 17,
   "id": "c176ed7b",
   "metadata": {
    "execution": {
     "iopub.execute_input": "2024-01-07T03:20:26.737555Z",
     "iopub.status.busy": "2024-01-07T03:20:26.736742Z",
     "iopub.status.idle": "2024-01-07T03:20:32.506260Z",
     "shell.execute_reply": "2024-01-07T03:20:32.504526Z"
    },
    "papermill": {
     "duration": 5.836741,
     "end_time": "2024-01-07T03:20:32.509359",
     "exception": false,
     "start_time": "2024-01-07T03:20:26.672618",
     "status": "completed"
    },
    "tags": []
   },
   "outputs": [],
   "source": [
    "# We will focus on 'Control key' events\n",
    "train_logs['num_control_key'] = train_logs.groupby('id')['down_event'].transform(lambda x: (x == 'Control').sum())\n",
    "\n",
    "simplified_train_logs = simplified_train_logs.merge(train_logs[['id', 'num_control_key']].drop_duplicates(), on='id', how='left')\n",
    "simplified_train_logs.drop('id', axis=1, inplace=True)"
   ]
  },
  {
   "cell_type": "code",
   "execution_count": 18,
   "id": "ee9c3d17",
   "metadata": {
    "execution": {
     "iopub.execute_input": "2024-01-07T03:20:32.636253Z",
     "iopub.status.busy": "2024-01-07T03:20:32.635438Z",
     "iopub.status.idle": "2024-01-07T03:20:40.342970Z",
     "shell.execute_reply": "2024-01-07T03:20:40.341701Z"
    },
    "papermill": {
     "duration": 7.773874,
     "end_time": "2024-01-07T03:20:40.345882",
     "exception": false,
     "start_time": "2024-01-07T03:20:32.572008",
     "status": "completed"
    },
    "tags": []
   },
   "outputs": [
    {
     "name": "stdout",
     "output_type": "stream",
     "text": [
      "The result of is_choice_irrelevant: True, confirms that the values for 'down_event' and 'up_event' coincide when either of them is 'Control'.\n"
     ]
    }
   ],
   "source": [
    "# Verifying that the choice between 'down_event' and 'up_event' is inconsequential\n",
    "is_choice_irrelevant = (train_logs.groupby('id')['down_event'].transform(lambda x: (x == 'Control').sum())\n",
    "                        == train_logs.groupby('id')['up_event'].transform(lambda x: (x == 'Control').sum())).mean()\n",
    "\n",
    "print(f\"The result of is_choice_irrelevant: {bool(is_choice_irrelevant)},\", \n",
    "      \"confirms that the values for 'down_event' and 'up_event' coincide when either of them is 'Control'.\")"
   ]
  },
  {
   "cell_type": "code",
   "execution_count": 19,
   "id": "298e661f",
   "metadata": {
    "execution": {
     "iopub.execute_input": "2024-01-07T03:20:40.472700Z",
     "iopub.status.busy": "2024-01-07T03:20:40.471534Z",
     "iopub.status.idle": "2024-01-07T03:20:40.476457Z",
     "shell.execute_reply": "2024-01-07T03:20:40.475619Z"
    },
    "papermill": {
     "duration": 0.070523,
     "end_time": "2024-01-07T03:20:40.478709",
     "exception": false,
     "start_time": "2024-01-07T03:20:40.408186",
     "status": "completed"
    },
    "tags": []
   },
   "outputs": [],
   "source": [
    "# Observing values of new feature 'num_control_key'\n",
    "# fig, axes = plt.subplots(1, 2, figsize=(12, 5))\n",
    "\n",
    "# sns.histplot(simplified_train_logs.num_control_key, binwidth=1, ax=axes[0])\n",
    "# axes[0].set_title('Histogram - num_control_key events / essay')\n",
    "\n",
    "# sns.histplot(simplified_train_logs[simplified_train_logs.num_control_key > 0].num_control_key, binwidth=1, ax=axes[1])\n",
    "# axes[1].set_title('Histogram - num_control_key > 0');\n",
    "\n",
    "# print(\"Percentage of essays with at least one event ('down_event') involving the Control key:\",\n",
    "#       f\"{np.round(100 * len(simplified_train_logs[simplified_train_logs.num_control_key != 0]) / len(simplified_train_logs), 1)}%\\n\\n\")"
   ]
  },
  {
   "cell_type": "code",
   "execution_count": 20,
   "id": "47e5a216",
   "metadata": {
    "execution": {
     "iopub.execute_input": "2024-01-07T03:20:40.606816Z",
     "iopub.status.busy": "2024-01-07T03:20:40.605555Z",
     "iopub.status.idle": "2024-01-07T03:20:40.610852Z",
     "shell.execute_reply": "2024-01-07T03:20:40.609945Z"
    },
    "papermill": {
     "duration": 0.070598,
     "end_time": "2024-01-07T03:20:40.613170",
     "exception": false,
     "start_time": "2024-01-07T03:20:40.542572",
     "status": "completed"
    },
    "tags": []
   },
   "outputs": [],
   "source": [
    "# Checking correlation of 'num_control_key' vs 'score'\n",
    "# fig, axes = plt.subplots(1, 2, figsize=(12, 5))\n",
    "# sns.boxplot(x=train_scores.score, y=simplified_train_logs.num_control_key, palette='dark', ax=axes[0]);\n",
    "# sns.barplot(x=train_scores.score, y=simplified_train_logs.num_control_key, ci=None, palette='dark', ax=axes[1]);"
   ]
  },
  {
   "cell_type": "markdown",
   "id": "21f0f273",
   "metadata": {
    "papermill": {
     "duration": 0.060906,
     "end_time": "2024-01-07T03:20:40.736754",
     "exception": false,
     "start_time": "2024-01-07T03:20:40.675848",
     "status": "completed"
    },
    "tags": []
   },
   "source": [
    "We can infer that there is no discernible correlation between use of 'Control key' vs 'score'. \n",
    "\n",
    "Nevertheless, we will keep the feature for potential interactions with other features."
   ]
  },
  {
   "cell_type": "markdown",
   "id": "2b016ef2",
   "metadata": {
    "papermill": {
     "duration": 0.064709,
     "end_time": "2024-01-07T03:20:40.863720",
     "exception": false,
     "start_time": "2024-01-07T03:20:40.799011",
     "status": "completed"
    },
    "tags": []
   },
   "source": [
    "#### num_events"
   ]
  },
  {
   "cell_type": "code",
   "execution_count": 21,
   "id": "2fd89a6d",
   "metadata": {
    "execution": {
     "iopub.execute_input": "2024-01-07T03:20:40.990385Z",
     "iopub.status.busy": "2024-01-07T03:20:40.989637Z",
     "iopub.status.idle": "2024-01-07T03:20:40.993934Z",
     "shell.execute_reply": "2024-01-07T03:20:40.992863Z"
    },
    "papermill": {
     "duration": 0.069903,
     "end_time": "2024-01-07T03:20:40.996504",
     "exception": false,
     "start_time": "2024-01-07T03:20:40.926601",
     "status": "completed"
    },
    "tags": []
   },
   "outputs": [],
   "source": [
    "# print(f'The average number of events per essay is {np.round(simplified_train_logs.num_events.mean(), 0)}')\n",
    "# sns.histplot(data=simplified_train_logs, x='num_events', bins=20);"
   ]
  },
  {
   "cell_type": "markdown",
   "id": "ecdd5c1d",
   "metadata": {
    "papermill": {
     "duration": 0.062649,
     "end_time": "2024-01-07T03:20:41.120693",
     "exception": false,
     "start_time": "2024-01-07T03:20:41.058044",
     "status": "completed"
    },
    "tags": []
   },
   "source": [
    "For machine learning models, it becomes challenging to effectively learn and make accurate predictions when certain features\n",
    "\n",
    "exhibit a range of values with infrequent occurrences. We will try some approaches to mitigate that handicap, later on."
   ]
  },
  {
   "cell_type": "markdown",
   "id": "f029b685",
   "metadata": {
    "papermill": {
     "duration": 0.062734,
     "end_time": "2024-01-07T03:20:41.244876",
     "exception": false,
     "start_time": "2024-01-07T03:20:41.182142",
     "status": "completed"
    },
    "tags": []
   },
   "source": [
    "Is there a correlation between `num_events` and `score`?"
   ]
  },
  {
   "cell_type": "code",
   "execution_count": 22,
   "id": "db8d6868",
   "metadata": {
    "execution": {
     "iopub.execute_input": "2024-01-07T03:20:41.371883Z",
     "iopub.status.busy": "2024-01-07T03:20:41.371447Z",
     "iopub.status.idle": "2024-01-07T03:20:41.376981Z",
     "shell.execute_reply": "2024-01-07T03:20:41.375755Z"
    },
    "papermill": {
     "duration": 0.073073,
     "end_time": "2024-01-07T03:20:41.379582",
     "exception": false,
     "start_time": "2024-01-07T03:20:41.306509",
     "status": "completed"
    },
    "tags": []
   },
   "outputs": [],
   "source": [
    "# print(\"\\n\\t\\t\\t\\tThe graph on the right illustrates the average value of num_events for each score.\\n\\n\")\n",
    "\n",
    "# fig, axes = plt.subplots(1, 2, figsize=(12, 5))\n",
    "# sns.boxplot(x=train_scores.score, y=simplified_train_logs.num_events, palette='dark', ax=axes[0]);\n",
    "# sns.barplot(x=train_scores.score, y=simplified_train_logs.num_events, ci=None, palette='dark', ax=axes[1]);"
   ]
  },
  {
   "cell_type": "markdown",
   "id": "22076857",
   "metadata": {
    "papermill": {
     "duration": 0.061283,
     "end_time": "2024-01-07T03:20:41.503801",
     "exception": false,
     "start_time": "2024-01-07T03:20:41.442518",
     "status": "completed"
    },
    "tags": []
   },
   "source": [
    "Indeed, there appears to be a positive correlation between `num_events` and `score`."
   ]
  },
  {
   "cell_type": "markdown",
   "id": "46e3cbe7",
   "metadata": {
    "papermill": {
     "duration": 0.061305,
     "end_time": "2024-01-07T03:20:41.627406",
     "exception": false,
     "start_time": "2024-01-07T03:20:41.566101",
     "status": "completed"
    },
    "tags": []
   },
   "source": [
    "Now, let's check possible correlations between the target variable `score` and the rest of features:"
   ]
  },
  {
   "cell_type": "code",
   "execution_count": 23,
   "id": "db5226d2",
   "metadata": {
    "execution": {
     "iopub.execute_input": "2024-01-07T03:20:41.754912Z",
     "iopub.status.busy": "2024-01-07T03:20:41.754163Z",
     "iopub.status.idle": "2024-01-07T03:20:41.759037Z",
     "shell.execute_reply": "2024-01-07T03:20:41.757930Z"
    },
    "papermill": {
     "duration": 0.071,
     "end_time": "2024-01-07T03:20:41.761620",
     "exception": false,
     "start_time": "2024-01-07T03:20:41.690620",
     "status": "completed"
    },
    "tags": []
   },
   "outputs": [],
   "source": [
    "# for column in simplified_train_logs.columns:\n",
    "#     if column not in ('num_control_key', 'num_events'):\n",
    "#         fig, axes = plt.subplots(1, 2, figsize=(10, 3))\n",
    "#         sns.boxplot(x=train_scores.score, y=simplified_train_logs[column], palette='dark', ax=axes[0]);\n",
    "#         sns.barplot(x=train_scores.score, y=simplified_train_logs[column], ci=None, palette='dark', ax=axes[1]);\n",
    "#         plt.tight_layout()\n",
    "#         plt.show()"
   ]
  },
  {
   "cell_type": "markdown",
   "id": "ceb58471",
   "metadata": {
    "papermill": {
     "duration": 0.061347,
     "end_time": "2024-01-07T03:20:41.884732",
     "exception": false,
     "start_time": "2024-01-07T03:20:41.823385",
     "status": "completed"
    },
    "tags": []
   },
   "source": [
    "We can observe clearly some positive correlations with the features: `total_action_time_mins, chars_per_min_product,`\n",
    "\n",
    "`chars_per_min_process, words_per_min_product, words_per_min_process, sentences_per_min_process, sentences_per_min_product,`\n",
    "\n",
    "`deletions, deletions_per_min, imm_deletions, p_bursts, r_bursts, p_bursts_per_min, r_bursts_per_min,` \n",
    "\n",
    "`bursts_proportion_perc, r_bursts_proportion_perc`. There are negative correlations with the following features, as well:\n",
    "\n",
    "`pause_time_proportion_perc, mean_pause_length_btw_sentences, mean_pause_length_btw_words,` \n",
    "\n",
    "`mean_pause_length_w_in_words`.\n",
    "\n",
    "Afterwards, correlations among those features will be analyzed, and some of them will be descarded as a result."
   ]
  },
  {
   "cell_type": "markdown",
   "id": "dae327ce",
   "metadata": {
    "papermill": {
     "duration": 0.061807,
     "end_time": "2024-01-07T03:20:42.008902",
     "exception": false,
     "start_time": "2024-01-07T03:20:41.947095",
     "status": "completed"
    },
    "tags": []
   },
   "source": [
    "- **Other hypothesis to explore**:\n",
    "    *  Best writers have more clarity of thought -> less corrections - keystroke features\n",
    "    \n",
    "    *  Best writers spend a larger share of time reviewing - keystroke features\n",
    "\n",
    "    *  Best writers spend a larger share of time thinking, in pause - keystroke features\n",
    "    \n",
    "    *  Best writers spend a larger share of time in bursts (better short-term memory) - keystroke features\n",
    "    \n",
    "    *  Volume-related events: tendency to get distracted - tiny sample \n",
    "    \n",
    "    *  Volume-related events: focused if shutting down noise  - tiny sample\n",
    "    \n",
    "    *  Those with more periods of inactivity have lower performance - keystroke features\n",
    "    \n",
    "<br>\n",
    "\n",
    "\n",
    "Several hypotheses were rejected due to the limited sample sizes, while others required the introduction of novel features\n",
    "\n",
    "(keystroke features created in the file 'keystroke-measures'). The efficacy of these newly introduced features will be\n",
    "\n",
    "assessed by machine learning models to ascertain their utility or lack thereof."
   ]
  },
  {
   "cell_type": "markdown",
   "id": "ed903535",
   "metadata": {
    "papermill": {
     "duration": 0.062322,
     "end_time": "2024-01-07T03:20:42.134444",
     "exception": false,
     "start_time": "2024-01-07T03:20:42.072122",
     "status": "completed"
    },
    "tags": []
   },
   "source": [
    "## Feature Engineering"
   ]
  },
  {
   "cell_type": "code",
   "execution_count": 24,
   "id": "88f5ab9a",
   "metadata": {
    "execution": {
     "iopub.execute_input": "2024-01-07T03:20:42.261108Z",
     "iopub.status.busy": "2024-01-07T03:20:42.260673Z",
     "iopub.status.idle": "2024-01-07T03:20:42.274575Z",
     "shell.execute_reply": "2024-01-07T03:20:42.273170Z"
    },
    "papermill": {
     "duration": 0.08018,
     "end_time": "2024-01-07T03:20:42.276932",
     "exception": false,
     "start_time": "2024-01-07T03:20:42.196752",
     "status": "completed"
    },
    "tags": []
   },
   "outputs": [
    {
     "name": "stdout",
     "output_type": "stream",
     "text": [
      "Null Values found in simplified_train_logs:\n",
      "\n",
      "mean_pause_length_btw_paragraphs    614\n",
      "mean_r_bursts_chars                  30\n",
      "mean_pause_length_btw_sentences      20\n",
      "mean_p_bursts_chars                   9\n",
      "mean_length_deletions                 1\n",
      "distant_deletion_ratio                1\n",
      "dtype: int64\n"
     ]
    }
   ],
   "source": [
    "print(\"Null Values found in simplified_train_logs:\\n\")\n",
    "print(simplified_train_logs.isna().sum().sort_values(ascending=False)[:6])\n",
    "simplified_train_logs.fillna(0, inplace=True)"
   ]
  },
  {
   "cell_type": "code",
   "execution_count": 25,
   "id": "9aa86d48",
   "metadata": {
    "execution": {
     "iopub.execute_input": "2024-01-07T03:20:42.403735Z",
     "iopub.status.busy": "2024-01-07T03:20:42.403010Z",
     "iopub.status.idle": "2024-01-07T03:20:42.409606Z",
     "shell.execute_reply": "2024-01-07T03:20:42.408754Z"
    },
    "papermill": {
     "duration": 0.073212,
     "end_time": "2024-01-07T03:20:42.411982",
     "exception": false,
     "start_time": "2024-01-07T03:20:42.338770",
     "status": "completed"
    },
    "tags": []
   },
   "outputs": [
    {
     "data": {
      "text/plain": [
       "Index(['num_events', 'total_time_mins', 'total_action_time_mins',\n",
       "       'mean_action_time_ms', 'chars_per_min_product', 'chars_per_min_process',\n",
       "       'words_per_min_product', 'words_per_min_process',\n",
       "       'sentences_per_min_process', 'sentences_per_min_product',\n",
       "       'paragraphs_per_min_process', 'pauses_per_min',\n",
       "       'pause_time_proportion_perc', 'mean_pause_length',\n",
       "       'mean_pause_length_btw_paragraphs', 'mean_pause_length_btw_sentences',\n",
       "       'mean_pause_length_btw_words', 'mean_pause_length_w_in_words',\n",
       "       'deletions', 'deletions_per_min', 'mean_length_deletions',\n",
       "       'distant_deletions', 'deletions_proportion_perc', 'imm_deletions',\n",
       "       'distant_deletion_ratio', 'product_process_ratio', 'p_bursts',\n",
       "       'r_bursts', 'p_bursts_per_min', 'r_bursts_per_min',\n",
       "       'mean_p_bursts_chars', 'mean_r_bursts_chars',\n",
       "       'p_bursts_proportion_perc', 'r_bursts_proportion_perc',\n",
       "       'std_chars_interval', 'coded_essay_str', 'len_essay', 'num_spaces',\n",
       "       'num_?', 'num_.', 'num_\"', 'num_;', 'num_punctuation',\n",
       "       'num_control_key'],\n",
       "      dtype='object')"
      ]
     },
     "execution_count": 25,
     "metadata": {},
     "output_type": "execute_result"
    }
   ],
   "source": [
    "simplified_train_logs.columns"
   ]
  },
  {
   "cell_type": "code",
   "execution_count": 26,
   "id": "a0d6ddc3",
   "metadata": {
    "execution": {
     "iopub.execute_input": "2024-01-07T03:20:42.539592Z",
     "iopub.status.busy": "2024-01-07T03:20:42.538828Z",
     "iopub.status.idle": "2024-01-07T03:20:42.546398Z",
     "shell.execute_reply": "2024-01-07T03:20:42.545462Z"
    },
    "papermill": {
     "duration": 0.074942,
     "end_time": "2024-01-07T03:20:42.548955",
     "exception": false,
     "start_time": "2024-01-07T03:20:42.474013",
     "status": "completed"
    },
    "tags": []
   },
   "outputs": [],
   "source": [
    "# feature clusters\n",
    "production_cluster = ['chars_per_min_product', 'chars_per_min_process', 'words_per_min_product', \n",
    "                      'words_per_min_process', 'sentences_per_min_process', 'sentences_per_min_product',\n",
    "                      'paragraphs_per_min_process', 'num_control_key', 'num_events', 'total_time_mins',\n",
    "                      'total_action_time_mins', 'mean_action_time_ms', 'product_process_ratio', 'std_chars_interval']\n",
    "pause_cluster = ['pauses_per_min', 'pause_time_proportion_perc', 'mean_pause_length', \n",
    "                 'mean_pause_length_btw_paragraphs', 'mean_pause_length_btw_sentences',\n",
    "                 'mean_pause_length_btw_words', 'mean_pause_length_w_in_words']\n",
    "deletions_cluster = ['deletions', 'deletions_per_min', 'mean_length_deletions', 'distant_deletions', \n",
    "                     'deletions_proportion_perc', 'imm_deletions', 'distant_deletion_ratio']\n",
    "bursts_cluster = ['p_bursts', 'r_bursts', 'p_bursts_per_min', 'r_bursts_per_min',\n",
    "                  'mean_p_bursts_chars', 'mean_r_bursts_chars', 'p_bursts_proportion_perc', \n",
    "                  'r_bursts_proportion_perc']\n",
    "\n",
    "feature_clusters = [production_cluster, pause_cluster, deletions_cluster, bursts_cluster]\n",
    "feature_clusters_str = ['production cluster', 'pause cluster', 'deletions cluster', 'bursts cluster']\n",
    "\n",
    "# Misfits have been added to production_cluster"
   ]
  },
  {
   "cell_type": "code",
   "execution_count": 27,
   "id": "753ec653",
   "metadata": {
    "execution": {
     "iopub.execute_input": "2024-01-07T03:20:42.676109Z",
     "iopub.status.busy": "2024-01-07T03:20:42.675315Z",
     "iopub.status.idle": "2024-01-07T03:20:42.679497Z",
     "shell.execute_reply": "2024-01-07T03:20:42.678689Z"
    },
    "papermill": {
     "duration": 0.070322,
     "end_time": "2024-01-07T03:20:42.681863",
     "exception": false,
     "start_time": "2024-01-07T03:20:42.611541",
     "status": "completed"
    },
    "tags": []
   },
   "outputs": [],
   "source": [
    "# for i, feature_cluster in enumerate(feature_clusters):\n",
    "#     pair_plot = sns.pairplot(simplified_train_logs[feature_cluster], corner=True)\n",
    "#     pair_plot.fig.suptitle(f'Pairplot for {feature_clusters_str[i]}', y=1.005)"
   ]
  },
  {
   "cell_type": "code",
   "execution_count": 28,
   "id": "9dc936b9",
   "metadata": {
    "execution": {
     "iopub.execute_input": "2024-01-07T03:20:42.808656Z",
     "iopub.status.busy": "2024-01-07T03:20:42.808203Z",
     "iopub.status.idle": "2024-01-07T03:20:42.818590Z",
     "shell.execute_reply": "2024-01-07T03:20:42.817348Z"
    },
    "papermill": {
     "duration": 0.077576,
     "end_time": "2024-01-07T03:20:42.821357",
     "exception": false,
     "start_time": "2024-01-07T03:20:42.743781",
     "status": "completed"
    },
    "tags": []
   },
   "outputs": [
    {
     "data": {
      "text/plain": [
       "39"
      ]
     },
     "execution_count": 28,
     "metadata": {},
     "output_type": "execute_result"
    }
   ],
   "source": [
    "highly_correl_cols = ['chars_per_min_product', 'words_per_min_process', 'imm_deletions', \n",
    "                      'deletions_per_min', 'r_bursts_per_min']\n",
    "simplified_train_logs.drop(highly_correl_cols, axis=1, inplace=True)\n",
    "len(simplified_train_logs.columns)"
   ]
  },
  {
   "cell_type": "code",
   "execution_count": 29,
   "id": "35f2f0aa",
   "metadata": {
    "execution": {
     "iopub.execute_input": "2024-01-07T03:20:42.947906Z",
     "iopub.status.busy": "2024-01-07T03:20:42.947496Z",
     "iopub.status.idle": "2024-01-07T03:20:42.952778Z",
     "shell.execute_reply": "2024-01-07T03:20:42.951653Z"
    },
    "papermill": {
     "duration": 0.071038,
     "end_time": "2024-01-07T03:20:42.955261",
     "exception": false,
     "start_time": "2024-01-07T03:20:42.884223",
     "status": "completed"
    },
    "tags": []
   },
   "outputs": [],
   "source": [
    "# delete highly_correl_cols from feature_clusters\n",
    "feature_clusters = [list(set(cluster) - set(highly_correl_cols)) for cluster in feature_clusters]"
   ]
  },
  {
   "cell_type": "markdown",
   "id": "3e339363",
   "metadata": {
    "papermill": {
     "duration": 0.063244,
     "end_time": "2024-01-07T03:20:43.080497",
     "exception": false,
     "start_time": "2024-01-07T03:20:43.017253",
     "status": "completed"
    },
    "tags": []
   },
   "source": [
    "## Baselines \n",
    "\n",
    "#### Baseline with Random Forest Regressor"
   ]
  },
  {
   "cell_type": "markdown",
   "id": "2a454a5b",
   "metadata": {
    "papermill": {
     "duration": 0.061779,
     "end_time": "2024-01-07T03:20:43.205397",
     "exception": false,
     "start_time": "2024-01-07T03:20:43.143618",
     "status": "completed"
    },
    "tags": []
   },
   "source": [
    "The challenge at hand offers two viable approaches for resolution: Classification or Regression. Given that the evaluation\n",
    "\n",
    "metric is the root mean squared error (RMSE), our initial strategy involves approaching it as a Regression problem. To align \n",
    "\n",
    "with this choice, we will designate RMSE as both the metric for evaluation and the loss function where applicable."
   ]
  },
  {
   "cell_type": "code",
   "execution_count": 30,
   "id": "4979a7ea",
   "metadata": {
    "execution": {
     "iopub.execute_input": "2024-01-07T03:20:43.331973Z",
     "iopub.status.busy": "2024-01-07T03:20:43.331365Z",
     "iopub.status.idle": "2024-01-07T03:20:43.338498Z",
     "shell.execute_reply": "2024-01-07T03:20:43.337267Z"
    },
    "papermill": {
     "duration": 0.072715,
     "end_time": "2024-01-07T03:20:43.340957",
     "exception": false,
     "start_time": "2024-01-07T03:20:43.268242",
     "status": "completed"
    },
    "tags": []
   },
   "outputs": [],
   "source": [
    "# from sklearn.model_selection import KFold, cross_val_predict, cross_val_score\n",
    "# from sklearn.ensemble import RandomForestRegressor\n",
    "# from sklearn.metrics import make_scorer, mean_squared_error\n",
    "\n",
    "# rf = RandomForestRegressor(random_state=SEED)\n",
    "\n",
    "# X = simplified_train_logs\n",
    "# y = train_scores.score\n",
    "\n",
    "# num_folds = 5\n",
    "# kfold = KFold(n_splits=num_folds, shuffle=True, random_state=SEED)\n",
    "\n",
    "# # Define custom scorer for RMSE\n",
    "# rmse_scorer = make_scorer(lambda y_true, y_pred: np.sqrt(mean_squared_error(y_true, y_pred)), greater_is_better=False)\n",
    "\n",
    "# # Perform cross-validation with RMSE as the scoring metric and obtain predictions\n",
    "# cv_predictions = cross_val_predict(rf, X, y, cv=kfold)\n",
    "\n",
    "# # Display real values, predictions, max, and min predicted values for each fold\n",
    "# for fold, (train_idx, test_idx) in enumerate(kfold.split(X, y)):\n",
    "#     X_train, X_test = X.iloc[train_idx], X.iloc[test_idx]\n",
    "#     y_train, y_test = y.iloc[train_idx], y.iloc[test_idx]\n",
    "#     predictions = cv_predictions[test_idx]\n",
    "\n",
    "#     print(f\"\\nFold {fold + 1}:\")\n",
    "# #     print(\"Real Values:\", y_test.values)\n",
    "# #     print(\"Predictions:\", predictions)\n",
    "#     print(\"Max Predicted Value:\", np.round(np.max(predictions),1))\n",
    "#     print(\"Min Predicted Value:\", np.round(np.min(predictions),1))\n",
    "\n",
    "#     # Calculate and print RMSE for the fold\n",
    "#     fold_rmse = np.round(np.sqrt(mean_squared_error(y_test, predictions)),2)\n",
    "#     print(\"Fold RMSE:\", fold_rmse)\n",
    "\n",
    "# # Display the cross-validation scores\n",
    "# cv_scores = cross_val_score(rf, X, y, cv=kfold, scoring=rmse_scorer)\n",
    "# print(\"\\nCross-validation RMSE scores:\", -cv_scores)  # Negate scores since make_scorer uses greater_is_better=False\n",
    "# print(\"Mean RMSE:\", np.round(-cv_scores.mean(), 2))  # Negate mean as well\n"
   ]
  },
  {
   "cell_type": "markdown",
   "id": "582b1e21",
   "metadata": {
    "papermill": {
     "duration": 0.061374,
     "end_time": "2024-01-07T03:20:43.465587",
     "exception": false,
     "start_time": "2024-01-07T03:20:43.404213",
     "status": "completed"
    },
    "tags": []
   },
   "source": [
    "**Results from the previous cell** (Baseline with Random Forest Regressor):\n",
    "\n",
    "    Fold 1:\n",
    "    Max Predicted Value: 5.4\n",
    "    Min Predicted Value: 1.6\n",
    "    Fold RMSE: 0.61\n",
    "\n",
    "    Fold 2:\n",
    "    Max Predicted Value: 5.4\n",
    "    Min Predicted Value: 1.8\n",
    "    Fold RMSE: 0.73\n",
    "\n",
    "    Fold 3:\n",
    "    Max Predicted Value: 5.2\n",
    "    Min Predicted Value: 1.5\n",
    "    Fold RMSE: 0.68\n",
    "\n",
    "    Fold 4:\n",
    "    Max Predicted Value: 5.3\n",
    "    Min Predicted Value: 1.7\n",
    "    Fold RMSE: 0.71\n",
    "\n",
    "    Fold 5:\n",
    "    Max Predicted Value: 5.2\n",
    "    Min Predicted Value: 1.7\n",
    "    Fold RMSE: 0.66\n",
    "\n",
    "    Cross-validation RMSE scores: [0.61 0.73  0.68 0.71 0.66]\n",
    "\n",
    "\n",
    "    Mean RMSE: 0.68"
   ]
  },
  {
   "cell_type": "markdown",
   "id": "1238cb5f",
   "metadata": {
    "papermill": {
     "duration": 0.062731,
     "end_time": "2024-01-07T03:20:43.590672",
     "exception": false,
     "start_time": "2024-01-07T03:20:43.527941",
     "status": "completed"
    },
    "tags": []
   },
   "source": [
    "The **submission** using this Baseline (Random Forest Regressor) achieved a score of 0.648, placing it in the top 81% of submissions.\n",
    "\n",
    "Note that the submission score is slightly better than the mean cross-validation score obtained using only the training set `train_logs`: 0.648 vs 0.68"
   ]
  },
  {
   "cell_type": "markdown",
   "id": "3a7c9e15",
   "metadata": {
    "papermill": {
     "duration": 0.061407,
     "end_time": "2024-01-07T03:20:43.714271",
     "exception": false,
     "start_time": "2024-01-07T03:20:43.652864",
     "status": "completed"
    },
    "tags": []
   },
   "source": [
    "#### Baseline with XGB Regressor"
   ]
  },
  {
   "cell_type": "code",
   "execution_count": 31,
   "id": "eabb9764",
   "metadata": {
    "execution": {
     "iopub.execute_input": "2024-01-07T03:20:43.844334Z",
     "iopub.status.busy": "2024-01-07T03:20:43.843674Z",
     "iopub.status.idle": "2024-01-07T03:20:43.850185Z",
     "shell.execute_reply": "2024-01-07T03:20:43.849268Z"
    },
    "papermill": {
     "duration": 0.074946,
     "end_time": "2024-01-07T03:20:43.852726",
     "exception": false,
     "start_time": "2024-01-07T03:20:43.777780",
     "status": "completed"
    },
    "tags": []
   },
   "outputs": [],
   "source": [
    "# from sklearn.model_selection import KFold\n",
    "# from xgboost import XGBRegressor\n",
    "\n",
    "# X = simplified_train_logs\n",
    "# y = train_scores.score\n",
    "\n",
    "# # Set the number of folds\n",
    "# num_folds = 5\n",
    "\n",
    "# # Instantiate the KFold cross-validator\n",
    "# kf = KFold(n_splits=num_folds, shuffle=True, random_state=SEED)\n",
    "\n",
    "# # Initialize lists to store results\n",
    "# max_values = []\n",
    "# min_values = []\n",
    "# rmse_scores = []\n",
    "\n",
    "# regr = XGBRegressor(random_state=SEED)\n",
    "\n",
    "# # Perform cross-validation\n",
    "# for fold, (train_index, test_index) in enumerate(kf.split(X), 1):\n",
    "#     X_train, X_test = X.iloc[train_index], X.iloc[test_index]\n",
    "#     y_train, y_test = y.iloc[train_index], y.iloc[test_index]\n",
    "\n",
    "#     # Initialize lists to store errors for each fold\n",
    "#     train_errors_fold = []\n",
    "#     test_errors_fold = []\n",
    "\n",
    "#     # Fit the model on the training data\n",
    "#     regr.fit(X_train, y_train, eval_metric=\"rmse\", eval_set=[(X_train, y_train), (X_test, y_test)], verbose=False)\n",
    "\n",
    "#     # Get training and testing errors for each iteration of the current fold\n",
    "#     train_errors_fold = regr.evals_result()[\"validation_0\"][\"rmse\"]\n",
    "#     test_errors_fold = regr.evals_result()[\"validation_1\"][\"rmse\"]\n",
    "\n",
    "#     # Make predictions on the test data\n",
    "#     y_pred = regr.predict(X_test)\n",
    "\n",
    "#     # Store max and min predicted values for each fold\n",
    "#     max_values.append(np.round(np.max(y_pred), 2))\n",
    "#     min_values.append(np.round(np.min(y_pred), 2))\n",
    "\n",
    "#     # Calculate RMSE for the fold\n",
    "#     rmse = np.round(np.sqrt(((y_test - y_pred) ** 2).mean()), 2)\n",
    "#     rmse_scores.append(rmse)\n",
    "\n",
    "#     # Print results for each fold\n",
    "#     print(f\"\\nFold {fold}: Max Predicted Value: \", np.round(np.max(y_pred), 2), \"; Min Predicted Value: \", np.round(np.min(y_pred), 2), f\"; Fold RMSE: {rmse}\")\n",
    "\n",
    "#     # Plot training and testing errors for the current fold\n",
    "#     fig, ax = plt.subplots(figsize=(5, 3))\n",
    "#     ax.plot(train_errors_fold, label='Train')\n",
    "#     ax.plot(test_errors_fold, label='Test')\n",
    "#     ax.set_xlabel('Number of Iterations')\n",
    "#     ax.set_ylabel('RMSE')\n",
    "#     ax.legend()\n",
    "#     plt.title(f'Fold {fold}: Training and Testing Errors vs Number of Iterations')\n",
    "#     plt.show()\n",
    "\n",
    "# # Print average RMSE across all folds\n",
    "# print(f\"\\nCross-validation RMSE scores: {rmse_scores}\")\n",
    "# print(f\"\\nMean RMSE: {np.round(np.mean(rmse_scores), 2)}\")\n"
   ]
  },
  {
   "cell_type": "markdown",
   "id": "c8d5ab59",
   "metadata": {
    "papermill": {
     "duration": 0.061369,
     "end_time": "2024-01-07T03:20:43.976059",
     "exception": false,
     "start_time": "2024-01-07T03:20:43.914690",
     "status": "completed"
    },
    "tags": []
   },
   "source": [
    "**Results from the previous cell** (Baseline with XGBoost Regressor):\n",
    "\n",
    "    Fold 1: Max Predicted Value:  5.55 ; Min Predicted Value:  1.04 ; Fold RMSE: 0.73\n",
    "\n",
    "    Fold 2: Max Predicted Value:  5.7 ; Min Predicted Value:  1.5 ; Fold RMSE: 0.73\n",
    "\n",
    "    Fold 3: Max Predicted Value:  5.76 ; Min Predicted Value:  1.32 ; Fold RMSE: 0.7\n",
    "\n",
    "    Fold 4: Max Predicted Value:  5.66 ; Min Predicted Value:  1.46 ; Fold RMSE: 0.72\n",
    "\n",
    "    Fold 5: Max Predicted Value:  5.67 ; Min Predicted Value:  1.36 ; Fold RMSE: 0.76\n",
    "\n",
    "    Cross-validation RMSE scores: [0.73, 0.73, 0.7, 0.72, 0.76]\n",
    "\n",
    "    Mean RMSE: 0.73"
   ]
  },
  {
   "cell_type": "markdown",
   "id": "72c0a455",
   "metadata": {
    "papermill": {
     "duration": 0.062526,
     "end_time": "2024-01-07T03:20:44.100867",
     "exception": false,
     "start_time": "2024-01-07T03:20:44.038341",
     "status": "completed"
    },
    "tags": []
   },
   "source": [
    "The **submission** using this Baseline (XGBoost Regressor) achieved a score of 0.72, worse than the Baseline with Random Forest (0.648).\n",
    "\n",
    "In this case, the submission score is almost equal to the mean cross-validation score: 0.72 vs 0.73\n",
    "\n",
    "It's important to note that, during the preparation for submission, predictions have been constrained to align with the \n",
    "\n",
    "nearest potential target value. This restriction will remain in place for future experiments."
   ]
  },
  {
   "cell_type": "markdown",
   "id": "78d82783",
   "metadata": {
    "papermill": {
     "duration": 0.064109,
     "end_time": "2024-01-07T03:20:44.227947",
     "exception": false,
     "start_time": "2024-01-07T03:20:44.163838",
     "status": "completed"
    },
    "tags": []
   },
   "source": [
    "## More experiments with XGB Regressor"
   ]
  },
  {
   "cell_type": "markdown",
   "id": "6421b314",
   "metadata": {
    "papermill": {
     "duration": 0.062947,
     "end_time": "2024-01-07T03:20:44.354756",
     "exception": false,
     "start_time": "2024-01-07T03:20:44.291809",
     "status": "completed"
    },
    "tags": []
   },
   "source": [
    "Moving forward, experiment validation will hinge on their cross-validation RMSE scores. Those that demonstrate improved\n",
    "\n",
    "efficiency without compromising the overall outcome will be integrated into the training harness, as well."
   ]
  },
  {
   "cell_type": "markdown",
   "id": "ca10eeb6",
   "metadata": {
    "papermill": {
     "duration": 0.063406,
     "end_time": "2024-01-07T03:20:44.480446",
     "exception": false,
     "start_time": "2024-01-07T03:20:44.417040",
     "status": "completed"
    },
    "tags": []
   },
   "source": [
    "### Feature selection"
   ]
  },
  {
   "cell_type": "markdown",
   "id": "f94b0534",
   "metadata": {
    "papermill": {
     "duration": 0.061636,
     "end_time": "2024-01-07T03:20:44.604948",
     "exception": false,
     "start_time": "2024-01-07T03:20:44.543312",
     "status": "completed"
    },
    "tags": []
   },
   "source": [
    "We employ two distinct methods to assess the significance of features in our dataset: XGBoost's Feature Importance and sklearn's Permutation Importance. \n",
    "\n",
    "Of the two methods, we prioritize the latter for its robust evaluation of feature importance through the permutation of data, providing a more comprehensive and reliable measure.\n",
    "\n",
    "We will obtain them after training the baseline XGB Regressor model on the whole dataset. Afterwards, we will analyze each cluster of features to assess which \n",
    "\n",
    "features may be irrelevant. The process will be repeated after deleting them, as long as the model's performance does not deteriorate."
   ]
  },
  {
   "cell_type": "markdown",
   "id": "2befb20b",
   "metadata": {
    "papermill": {
     "duration": 0.062679,
     "end_time": "2024-01-07T03:20:44.730167",
     "exception": false,
     "start_time": "2024-01-07T03:20:44.667488",
     "status": "completed"
    },
    "tags": []
   },
   "source": [
    "#### 1st iteration"
   ]
  },
  {
   "cell_type": "code",
   "execution_count": 32,
   "id": "3831ed40",
   "metadata": {
    "execution": {
     "iopub.execute_input": "2024-01-07T03:20:44.857896Z",
     "iopub.status.busy": "2024-01-07T03:20:44.857244Z",
     "iopub.status.idle": "2024-01-07T03:20:44.861203Z",
     "shell.execute_reply": "2024-01-07T03:20:44.860363Z"
    },
    "papermill": {
     "duration": 0.070664,
     "end_time": "2024-01-07T03:20:44.863696",
     "exception": false,
     "start_time": "2024-01-07T03:20:44.793032",
     "status": "completed"
    },
    "tags": []
   },
   "outputs": [],
   "source": [
    "# from xgboost import XGBRegressor\n",
    "\n",
    "# X = simplified_train_logs\n",
    "# y = train_scores.score\n",
    "\n",
    "# regr = XGBRegressor(random_state=SEED)\n",
    "\n",
    "# # Fit the model on the whole dataset\n",
    "# regr.fit(X, y);"
   ]
  },
  {
   "cell_type": "code",
   "execution_count": 33,
   "id": "9db5bbda",
   "metadata": {
    "execution": {
     "iopub.execute_input": "2024-01-07T03:20:44.991414Z",
     "iopub.status.busy": "2024-01-07T03:20:44.990112Z",
     "iopub.status.idle": "2024-01-07T03:20:44.995202Z",
     "shell.execute_reply": "2024-01-07T03:20:44.994398Z"
    },
    "papermill": {
     "duration": 0.070568,
     "end_time": "2024-01-07T03:20:44.997392",
     "exception": false,
     "start_time": "2024-01-07T03:20:44.926824",
     "status": "completed"
    },
    "tags": []
   },
   "outputs": [],
   "source": [
    "# Generating feature importances to be analyzed later\n",
    "# xgb_feature_importance_dict = dict(zip(X.columns, regr.feature_importances_))\n",
    "# xgb_feature_importance = {key: round(value, 2) for key, value in xgb_feature_importance_dict.items()}\n",
    "# xgb_feature_importance = dict(sorted(xgb_feature_importance.items(), key=lambda x: x[1], reverse=True))\n",
    "\n",
    "# from sklearn.inspection import permutation_importance\n",
    "# result = permutation_importance(regr, X, y, n_repeats=5, random_state=SEED)\n",
    "# result = dict(zip(X.columns, result.importances_mean))\n",
    "# result = {key: round(value, 2) for key, value in result.items()}\n",
    "# permutation_importances = dict(sorted(result.items(), key=lambda x: x[1], reverse=True))"
   ]
  },
  {
   "cell_type": "code",
   "execution_count": 34,
   "id": "686000b0",
   "metadata": {
    "execution": {
     "iopub.execute_input": "2024-01-07T03:20:45.125466Z",
     "iopub.status.busy": "2024-01-07T03:20:45.124668Z",
     "iopub.status.idle": "2024-01-07T03:20:45.129178Z",
     "shell.execute_reply": "2024-01-07T03:20:45.127903Z"
    },
    "papermill": {
     "duration": 0.071631,
     "end_time": "2024-01-07T03:20:45.131704",
     "exception": false,
     "start_time": "2024-01-07T03:20:45.060073",
     "status": "completed"
    },
    "tags": []
   },
   "outputs": [],
   "source": [
    "# permutation_importances"
   ]
  },
  {
   "cell_type": "code",
   "execution_count": 35,
   "id": "3bd2554d",
   "metadata": {
    "execution": {
     "iopub.execute_input": "2024-01-07T03:20:45.259656Z",
     "iopub.status.busy": "2024-01-07T03:20:45.259188Z",
     "iopub.status.idle": "2024-01-07T03:20:45.264593Z",
     "shell.execute_reply": "2024-01-07T03:20:45.263440Z"
    },
    "papermill": {
     "duration": 0.073552,
     "end_time": "2024-01-07T03:20:45.267913",
     "exception": false,
     "start_time": "2024-01-07T03:20:45.194361",
     "status": "completed"
    },
    "tags": []
   },
   "outputs": [],
   "source": [
    "# {key: value for key, value in xgb_feature_importance.items() if key in production_cluster}"
   ]
  },
  {
   "cell_type": "code",
   "execution_count": 36,
   "id": "383b520e",
   "metadata": {
    "execution": {
     "iopub.execute_input": "2024-01-07T03:20:45.394767Z",
     "iopub.status.busy": "2024-01-07T03:20:45.394123Z",
     "iopub.status.idle": "2024-01-07T03:20:45.399234Z",
     "shell.execute_reply": "2024-01-07T03:20:45.398054Z"
    },
    "papermill": {
     "duration": 0.071852,
     "end_time": "2024-01-07T03:20:45.402453",
     "exception": false,
     "start_time": "2024-01-07T03:20:45.330601",
     "status": "completed"
    },
    "tags": []
   },
   "outputs": [],
   "source": [
    "# {key: value for key, value in permutation_importances.items() if key in production_cluster}"
   ]
  },
  {
   "cell_type": "markdown",
   "id": "ccd55f4e",
   "metadata": {
    "papermill": {
     "duration": 0.063818,
     "end_time": "2024-01-07T03:20:45.531363",
     "exception": false,
     "start_time": "2024-01-07T03:20:45.467545",
     "status": "completed"
    },
    "tags": []
   },
   "source": [
    "Conclusions for production cluster: - The significance of 'num_control_key', 'product_process_ratio' and \n",
    "\n",
    "'sentences_per_min_process' is marginal in both instances and will be removed."
   ]
  },
  {
   "cell_type": "code",
   "execution_count": 37,
   "id": "f41d0e94",
   "metadata": {
    "execution": {
     "iopub.execute_input": "2024-01-07T03:20:45.659923Z",
     "iopub.status.busy": "2024-01-07T03:20:45.658962Z",
     "iopub.status.idle": "2024-01-07T03:20:45.664355Z",
     "shell.execute_reply": "2024-01-07T03:20:45.663057Z"
    },
    "papermill": {
     "duration": 0.072758,
     "end_time": "2024-01-07T03:20:45.666899",
     "exception": false,
     "start_time": "2024-01-07T03:20:45.594141",
     "status": "completed"
    },
    "tags": []
   },
   "outputs": [],
   "source": [
    "# {key: value for key, value in xgb_feature_importance.items() if key in pause_cluster}"
   ]
  },
  {
   "cell_type": "code",
   "execution_count": 38,
   "id": "d37eaa2c",
   "metadata": {
    "execution": {
     "iopub.execute_input": "2024-01-07T03:20:45.794068Z",
     "iopub.status.busy": "2024-01-07T03:20:45.793628Z",
     "iopub.status.idle": "2024-01-07T03:20:45.798129Z",
     "shell.execute_reply": "2024-01-07T03:20:45.797313Z"
    },
    "papermill": {
     "duration": 0.070452,
     "end_time": "2024-01-07T03:20:45.800510",
     "exception": false,
     "start_time": "2024-01-07T03:20:45.730058",
     "status": "completed"
    },
    "tags": []
   },
   "outputs": [],
   "source": [
    "# {key: value for key, value in permutation_importances.items() if key in pause_cluster}"
   ]
  },
  {
   "cell_type": "markdown",
   "id": "8aa10e66",
   "metadata": {
    "papermill": {
     "duration": 0.065783,
     "end_time": "2024-01-07T03:20:45.929144",
     "exception": false,
     "start_time": "2024-01-07T03:20:45.863361",
     "status": "completed"
    },
    "tags": []
   },
   "source": [
    "Conclusions for pause cluster: Both methods attribute slight importance to this group of features. \n",
    "\n",
    "'mean_pause_length_btw_paragraphs' will be the first one to go."
   ]
  },
  {
   "cell_type": "code",
   "execution_count": 39,
   "id": "8a8ab1f8",
   "metadata": {
    "execution": {
     "iopub.execute_input": "2024-01-07T03:20:46.055670Z",
     "iopub.status.busy": "2024-01-07T03:20:46.055241Z",
     "iopub.status.idle": "2024-01-07T03:20:46.059962Z",
     "shell.execute_reply": "2024-01-07T03:20:46.058766Z"
    },
    "papermill": {
     "duration": 0.071767,
     "end_time": "2024-01-07T03:20:46.062373",
     "exception": false,
     "start_time": "2024-01-07T03:20:45.990606",
     "status": "completed"
    },
    "tags": []
   },
   "outputs": [],
   "source": [
    "# {key: value for key, value in xgb_feature_importance.items() if key in deletions_cluster}"
   ]
  },
  {
   "cell_type": "code",
   "execution_count": 40,
   "id": "99ca9f30",
   "metadata": {
    "execution": {
     "iopub.execute_input": "2024-01-07T03:20:46.188499Z",
     "iopub.status.busy": "2024-01-07T03:20:46.187703Z",
     "iopub.status.idle": "2024-01-07T03:20:46.192616Z",
     "shell.execute_reply": "2024-01-07T03:20:46.191725Z"
    },
    "papermill": {
     "duration": 0.070858,
     "end_time": "2024-01-07T03:20:46.195062",
     "exception": false,
     "start_time": "2024-01-07T03:20:46.124204",
     "status": "completed"
    },
    "tags": []
   },
   "outputs": [],
   "source": [
    "# {key: value for key, value in permutation_importances.items() if key in deletions_cluster}"
   ]
  },
  {
   "cell_type": "markdown",
   "id": "a2b5625d",
   "metadata": {
    "papermill": {
     "duration": 0.063175,
     "end_time": "2024-01-07T03:20:46.321718",
     "exception": false,
     "start_time": "2024-01-07T03:20:46.258543",
     "status": "completed"
    },
    "tags": []
   },
   "source": [
    "Conclusions for deletions cluster: 'deletions_proportion_perc' shows a null value in both cases. To be deleted"
   ]
  },
  {
   "cell_type": "code",
   "execution_count": 41,
   "id": "180f33b4",
   "metadata": {
    "execution": {
     "iopub.execute_input": "2024-01-07T03:20:46.449806Z",
     "iopub.status.busy": "2024-01-07T03:20:46.448956Z",
     "iopub.status.idle": "2024-01-07T03:20:46.454792Z",
     "shell.execute_reply": "2024-01-07T03:20:46.453697Z"
    },
    "papermill": {
     "duration": 0.073766,
     "end_time": "2024-01-07T03:20:46.457380",
     "exception": false,
     "start_time": "2024-01-07T03:20:46.383614",
     "status": "completed"
    },
    "tags": []
   },
   "outputs": [],
   "source": [
    "# {key: value for key, value in xgb_feature_importance.items() if key in bursts_cluster}"
   ]
  },
  {
   "cell_type": "code",
   "execution_count": 42,
   "id": "4da34653",
   "metadata": {
    "execution": {
     "iopub.execute_input": "2024-01-07T03:20:46.587012Z",
     "iopub.status.busy": "2024-01-07T03:20:46.585152Z",
     "iopub.status.idle": "2024-01-07T03:20:46.590907Z",
     "shell.execute_reply": "2024-01-07T03:20:46.589863Z"
    },
    "papermill": {
     "duration": 0.072109,
     "end_time": "2024-01-07T03:20:46.593367",
     "exception": false,
     "start_time": "2024-01-07T03:20:46.521258",
     "status": "completed"
    },
    "tags": []
   },
   "outputs": [],
   "source": [
    "# {key: value for key, value in permutation_importances.items() if key in bursts_cluster}"
   ]
  },
  {
   "cell_type": "markdown",
   "id": "a1a9f627",
   "metadata": {
    "papermill": {
     "duration": 0.062382,
     "end_time": "2024-01-07T03:20:46.718559",
     "exception": false,
     "start_time": "2024-01-07T03:20:46.656177",
     "status": "completed"
    },
    "tags": []
   },
   "source": [
    "Conclusions for bursts cluster: Since 'p_bursts_per_min' is useless according to Permutation Importance, it will be eliminated in the next iteration."
   ]
  },
  {
   "cell_type": "markdown",
   "id": "7ed77286",
   "metadata": {
    "papermill": {
     "duration": 0.063025,
     "end_time": "2024-01-07T03:20:46.844165",
     "exception": false,
     "start_time": "2024-01-07T03:20:46.781140",
     "status": "completed"
    },
    "tags": []
   },
   "source": [
    "#### 2nd iteration"
   ]
  },
  {
   "cell_type": "code",
   "execution_count": 43,
   "id": "5d51572a",
   "metadata": {
    "execution": {
     "iopub.execute_input": "2024-01-07T03:20:46.970084Z",
     "iopub.status.busy": "2024-01-07T03:20:46.969319Z",
     "iopub.status.idle": "2024-01-07T03:20:46.975646Z",
     "shell.execute_reply": "2024-01-07T03:20:46.974780Z"
    },
    "papermill": {
     "duration": 0.071785,
     "end_time": "2024-01-07T03:20:46.977965",
     "exception": false,
     "start_time": "2024-01-07T03:20:46.906180",
     "status": "completed"
    },
    "tags": []
   },
   "outputs": [],
   "source": [
    "# from sklearn.model_selection import KFold\n",
    "# from xgboost import XGBRegressor\n",
    "\n",
    "# X = simplified_train_logs[['num_events', 'total_time_mins', 'total_action_time_mins',\n",
    "#        'mean_action_time_ms', 'chars_per_min_process', 'words_per_min_product',\n",
    "#        'sentences_per_min_product',\n",
    "#        'paragraphs_per_min_process', 'pauses_per_min',\n",
    "#        'pause_time_proportion_perc', 'mean_pause_length',\n",
    "#        'mean_pause_length_btw_sentences',\n",
    "#        'mean_pause_length_btw_words', 'mean_pause_length_w_in_words',\n",
    "#        'deletions', 'mean_length_deletions', 'distant_deletions',\n",
    "#        'distant_deletion_ratio',\n",
    "#        'p_bursts', 'r_bursts',\n",
    "#        'mean_p_bursts_chars', 'mean_r_bursts_chars',\n",
    "#        'p_bursts_proportion_perc', 'r_bursts_proportion_perc',\n",
    "#        'std_chars_interval']]\n",
    "\n",
    "# y = train_scores.score\n",
    "\n",
    "# # Set the number of folds\n",
    "# num_folds = 5\n",
    "\n",
    "# # Instantiate the KFold cross-validator\n",
    "# kf = KFold(n_splits=num_folds, shuffle=True, random_state=SEED)\n",
    "\n",
    "# # Initialize lists to store results\n",
    "# rmse_scores = []\n",
    "\n",
    "# regr = XGBRegressor(random_state=SEED)\n",
    "\n",
    "# # Perform cross-validation\n",
    "# for fold, (train_index, test_index) in enumerate(kf.split(X), 1):\n",
    "#     X_train, X_test = X.iloc[train_index], X.iloc[test_index]\n",
    "#     y_train, y_test = y.iloc[train_index], y.iloc[test_index]\n",
    "\n",
    "#     # Fit the model on the training data\n",
    "#     regr.fit(X_train, y_train, eval_metric=\"rmse\", eval_set=[(X_train, y_train), (X_test, y_test)], verbose=False)\n",
    "\n",
    "#     # Get training and testing errors for each iteration of the current fold\n",
    "#     train_errors_fold = regr.evals_result()[\"validation_0\"][\"rmse\"]\n",
    "#     test_errors_fold = regr.evals_result()[\"validation_1\"][\"rmse\"]\n",
    "\n",
    "#     # Make predictions on the test data\n",
    "#     y_pred = regr.predict(X_test)\n",
    "\n",
    "#     # Calculate RMSE for the fold\n",
    "#     rmse = np.round(np.sqrt(((y_test - y_pred) ** 2).mean()), 2)\n",
    "#     rmse_scores.append(rmse)\n",
    "\n",
    "# # Print average RMSE across all folds\n",
    "# print(f\"\\nCross-validation RMSE scores: {rmse_scores}\")\n",
    "# print(f\"\\nMean RMSE: {np.round(np.mean(rmse_scores), 2)}\")"
   ]
  },
  {
   "cell_type": "markdown",
   "id": "2ddb7545",
   "metadata": {
    "papermill": {
     "duration": 0.062276,
     "end_time": "2024-01-07T03:20:47.101627",
     "exception": false,
     "start_time": "2024-01-07T03:20:47.039351",
     "status": "completed"
    },
    "tags": []
   },
   "source": [
    "After eliminating 7 features the performance of the model stays the same: Mean RMSE = 0.73"
   ]
  },
  {
   "cell_type": "code",
   "execution_count": 44,
   "id": "c4bf1420",
   "metadata": {
    "execution": {
     "iopub.execute_input": "2024-01-07T03:20:47.229165Z",
     "iopub.status.busy": "2024-01-07T03:20:47.228447Z",
     "iopub.status.idle": "2024-01-07T03:20:47.233181Z",
     "shell.execute_reply": "2024-01-07T03:20:47.231990Z"
    },
    "papermill": {
     "duration": 0.07168,
     "end_time": "2024-01-07T03:20:47.235532",
     "exception": false,
     "start_time": "2024-01-07T03:20:47.163852",
     "status": "completed"
    },
    "tags": []
   },
   "outputs": [],
   "source": [
    "# regr.fit(X,y);"
   ]
  },
  {
   "cell_type": "code",
   "execution_count": 45,
   "id": "1247193f",
   "metadata": {
    "execution": {
     "iopub.execute_input": "2024-01-07T03:20:47.361869Z",
     "iopub.status.busy": "2024-01-07T03:20:47.361040Z",
     "iopub.status.idle": "2024-01-07T03:20:47.366576Z",
     "shell.execute_reply": "2024-01-07T03:20:47.365541Z"
    },
    "papermill": {
     "duration": 0.071358,
     "end_time": "2024-01-07T03:20:47.368910",
     "exception": false,
     "start_time": "2024-01-07T03:20:47.297552",
     "status": "completed"
    },
    "tags": []
   },
   "outputs": [],
   "source": [
    "# # Generating feature importances to be analyzed later\n",
    "# xgb_feature_importance_dict = dict(zip(X.columns, regr.feature_importances_))\n",
    "# xgb_feature_importance = {key: round(value, 2) for key, value in xgb_feature_importance_dict.items()}\n",
    "# xgb_feature_importance = dict(sorted(xgb_feature_importance.items(), key=lambda x: x[1], reverse=True))\n",
    "\n",
    "# from sklearn.inspection import permutation_importance\n",
    "# result = permutation_importance(regr, X, y, n_repeats=5, random_state=SEED)\n",
    "# result = dict(zip(X.columns, result.importances_mean))\n",
    "# result = {key: round(value, 2) for key, value in result.items()}\n",
    "# permutation_importances = dict(sorted(result.items(), key=lambda x: x[1], reverse=True))"
   ]
  },
  {
   "cell_type": "code",
   "execution_count": 46,
   "id": "195b08a7",
   "metadata": {
    "execution": {
     "iopub.execute_input": "2024-01-07T03:20:47.498385Z",
     "iopub.status.busy": "2024-01-07T03:20:47.497619Z",
     "iopub.status.idle": "2024-01-07T03:20:47.501855Z",
     "shell.execute_reply": "2024-01-07T03:20:47.500961Z"
    },
    "papermill": {
     "duration": 0.070807,
     "end_time": "2024-01-07T03:20:47.504312",
     "exception": false,
     "start_time": "2024-01-07T03:20:47.433505",
     "status": "completed"
    },
    "tags": []
   },
   "outputs": [],
   "source": [
    "# {key: value for key, value in xgb_feature_importance.items() if key in production_cluster}"
   ]
  },
  {
   "cell_type": "code",
   "execution_count": 47,
   "id": "ef661468",
   "metadata": {
    "execution": {
     "iopub.execute_input": "2024-01-07T03:20:47.633603Z",
     "iopub.status.busy": "2024-01-07T03:20:47.632904Z",
     "iopub.status.idle": "2024-01-07T03:20:47.636865Z",
     "shell.execute_reply": "2024-01-07T03:20:47.636050Z"
    },
    "papermill": {
     "duration": 0.070547,
     "end_time": "2024-01-07T03:20:47.639168",
     "exception": false,
     "start_time": "2024-01-07T03:20:47.568621",
     "status": "completed"
    },
    "tags": []
   },
   "outputs": [],
   "source": [
    "# {key: value for key, value in permutation_importances.items() if key in production_cluster}"
   ]
  },
  {
   "cell_type": "code",
   "execution_count": 48,
   "id": "c3ab303f",
   "metadata": {
    "execution": {
     "iopub.execute_input": "2024-01-07T03:20:47.774048Z",
     "iopub.status.busy": "2024-01-07T03:20:47.773463Z",
     "iopub.status.idle": "2024-01-07T03:20:47.779697Z",
     "shell.execute_reply": "2024-01-07T03:20:47.778190Z"
    },
    "papermill": {
     "duration": 0.07782,
     "end_time": "2024-01-07T03:20:47.782227",
     "exception": false,
     "start_time": "2024-01-07T03:20:47.704407",
     "status": "completed"
    },
    "tags": []
   },
   "outputs": [],
   "source": [
    "# {key: value for key, value in xgb_feature_importance.items() if key in pause_cluster}"
   ]
  },
  {
   "cell_type": "code",
   "execution_count": 49,
   "id": "27cb3397",
   "metadata": {
    "execution": {
     "iopub.execute_input": "2024-01-07T03:20:47.923606Z",
     "iopub.status.busy": "2024-01-07T03:20:47.923122Z",
     "iopub.status.idle": "2024-01-07T03:20:47.928121Z",
     "shell.execute_reply": "2024-01-07T03:20:47.926721Z"
    },
    "papermill": {
     "duration": 0.072277,
     "end_time": "2024-01-07T03:20:47.930905",
     "exception": false,
     "start_time": "2024-01-07T03:20:47.858628",
     "status": "completed"
    },
    "tags": []
   },
   "outputs": [],
   "source": [
    "# {key: value for key, value in permutation_importances.items() if key in pause_cluster}"
   ]
  },
  {
   "cell_type": "code",
   "execution_count": 50,
   "id": "100929a1",
   "metadata": {
    "execution": {
     "iopub.execute_input": "2024-01-07T03:20:48.056316Z",
     "iopub.status.busy": "2024-01-07T03:20:48.055892Z",
     "iopub.status.idle": "2024-01-07T03:20:48.060743Z",
     "shell.execute_reply": "2024-01-07T03:20:48.059824Z"
    },
    "papermill": {
     "duration": 0.070138,
     "end_time": "2024-01-07T03:20:48.063088",
     "exception": false,
     "start_time": "2024-01-07T03:20:47.992950",
     "status": "completed"
    },
    "tags": []
   },
   "outputs": [],
   "source": [
    "# {key: value for key, value in xgb_feature_importance.items() if key in deletions_cluster}"
   ]
  },
  {
   "cell_type": "code",
   "execution_count": 51,
   "id": "c01796d1",
   "metadata": {
    "execution": {
     "iopub.execute_input": "2024-01-07T03:20:48.299991Z",
     "iopub.status.busy": "2024-01-07T03:20:48.299056Z",
     "iopub.status.idle": "2024-01-07T03:20:48.304361Z",
     "shell.execute_reply": "2024-01-07T03:20:48.302976Z"
    },
    "papermill": {
     "duration": 0.071937,
     "end_time": "2024-01-07T03:20:48.307212",
     "exception": false,
     "start_time": "2024-01-07T03:20:48.235275",
     "status": "completed"
    },
    "tags": []
   },
   "outputs": [],
   "source": [
    "# {key: value for key, value in permutation_importances.items() if key in deletions_cluster}"
   ]
  },
  {
   "cell_type": "code",
   "execution_count": 52,
   "id": "ba1b13c7",
   "metadata": {
    "execution": {
     "iopub.execute_input": "2024-01-07T03:20:48.434347Z",
     "iopub.status.busy": "2024-01-07T03:20:48.433587Z",
     "iopub.status.idle": "2024-01-07T03:20:48.438780Z",
     "shell.execute_reply": "2024-01-07T03:20:48.437700Z"
    },
    "papermill": {
     "duration": 0.071351,
     "end_time": "2024-01-07T03:20:48.441194",
     "exception": false,
     "start_time": "2024-01-07T03:20:48.369843",
     "status": "completed"
    },
    "tags": []
   },
   "outputs": [],
   "source": [
    "# {key: value for key, value in xgb_feature_importance.items() if key in bursts_cluster}"
   ]
  },
  {
   "cell_type": "code",
   "execution_count": 53,
   "id": "3c295319",
   "metadata": {
    "execution": {
     "iopub.execute_input": "2024-01-07T03:20:48.568993Z",
     "iopub.status.busy": "2024-01-07T03:20:48.568187Z",
     "iopub.status.idle": "2024-01-07T03:20:48.573107Z",
     "shell.execute_reply": "2024-01-07T03:20:48.571981Z"
    },
    "papermill": {
     "duration": 0.071413,
     "end_time": "2024-01-07T03:20:48.575369",
     "exception": false,
     "start_time": "2024-01-07T03:20:48.503956",
     "status": "completed"
    },
    "tags": []
   },
   "outputs": [],
   "source": [
    "# {key: value for key, value in permutation_importances.items() if key in bursts_cluster}"
   ]
  },
  {
   "cell_type": "markdown",
   "id": "c4ce5ba6",
   "metadata": {
    "papermill": {
     "duration": 0.063111,
     "end_time": "2024-01-07T03:20:48.701477",
     "exception": false,
     "start_time": "2024-01-07T03:20:48.638366",
     "status": "completed"
    },
    "tags": []
   },
   "source": [
    "Conclusions : Next candidates for deletion, in order: 'distant_deletion_ratio', 'mean_pause_length_btw_words', \n",
    "\n",
    "'r_bursts_proportion_perc', 'mean_action_time_ms', 'std_chars_interval' ,'total_time_mins', 'paragraphs_per_min_process'."
   ]
  },
  {
   "cell_type": "markdown",
   "id": "0f26e696",
   "metadata": {
    "papermill": {
     "duration": 0.062686,
     "end_time": "2024-01-07T03:20:48.827075",
     "exception": false,
     "start_time": "2024-01-07T03:20:48.764389",
     "status": "completed"
    },
    "tags": []
   },
   "source": [
    "#### 3rd iteration"
   ]
  },
  {
   "cell_type": "code",
   "execution_count": 54,
   "id": "76b695a5",
   "metadata": {
    "execution": {
     "iopub.execute_input": "2024-01-07T03:20:48.954445Z",
     "iopub.status.busy": "2024-01-07T03:20:48.953750Z",
     "iopub.status.idle": "2024-01-07T03:20:48.959409Z",
     "shell.execute_reply": "2024-01-07T03:20:48.958625Z"
    },
    "papermill": {
     "duration": 0.071663,
     "end_time": "2024-01-07T03:20:48.961587",
     "exception": false,
     "start_time": "2024-01-07T03:20:48.889924",
     "status": "completed"
    },
    "tags": []
   },
   "outputs": [],
   "source": [
    "# from sklearn.model_selection import KFold\n",
    "# from xgboost import XGBRegressor\n",
    "\n",
    "# X = simplified_train_logs[['num_events', 'total_action_time_mins',\n",
    "#        'chars_per_min_process', 'words_per_min_product',\n",
    "#        'sentences_per_min_product',\n",
    "#        'pauses_per_min',\n",
    "#        'pause_time_proportion_perc', 'mean_pause_length',\n",
    "#        'mean_pause_length_btw_sentences',\n",
    "#        'mean_pause_length_w_in_words',\n",
    "#        'deletions', 'mean_length_deletions', 'distant_deletions',\n",
    "#        'p_bursts', 'r_bursts',\n",
    "#        'mean_p_bursts_chars', 'mean_r_bursts_chars',\n",
    "#        'p_bursts_proportion_perc']]\n",
    "\n",
    "# y = train_scores.score\n",
    "\n",
    "# # Set the number of folds\n",
    "# num_folds = 5\n",
    "\n",
    "# # Instantiate the KFold cross-validator\n",
    "# kf = KFold(n_splits=num_folds, shuffle=True, random_state=SEED)\n",
    "\n",
    "# # Initialize lists to store results\n",
    "# rmse_scores = []\n",
    "\n",
    "# regr = XGBRegressor(random_state=SEED)\n",
    "\n",
    "# # Perform cross-validation\n",
    "# for fold, (train_index, test_index) in enumerate(kf.split(X), 1):\n",
    "#     X_train, X_test = X.iloc[train_index], X.iloc[test_index]\n",
    "#     y_train, y_test = y.iloc[train_index], y.iloc[test_index]\n",
    "\n",
    "#     # Fit the model on the training data\n",
    "#     regr.fit(X_train, y_train, eval_metric=\"rmse\", eval_set=[(X_train, y_train), (X_test, y_test)], verbose=False)\n",
    "\n",
    "#     # Get training and testing errors for each iteration of the current fold\n",
    "#     train_errors_fold = regr.evals_result()[\"validation_0\"][\"rmse\"]\n",
    "#     test_errors_fold = regr.evals_result()[\"validation_1\"][\"rmse\"]\n",
    "\n",
    "#     # Make predictions on the test data\n",
    "#     y_pred = regr.predict(X_test)\n",
    "\n",
    "#     # Calculate RMSE for the fold\n",
    "#     rmse = np.round(np.sqrt(((y_test - y_pred) ** 2).mean()), 2)\n",
    "#     rmse_scores.append(rmse)\n",
    "\n",
    "# # Print average RMSE across all folds\n",
    "# print(f\"\\nCross-validation RMSE scores: {rmse_scores}\")\n",
    "# print(f\"\\nMean RMSE: {np.round(np.mean(rmse_scores), 2)}\")"
   ]
  },
  {
   "cell_type": "markdown",
   "id": "a768a28f",
   "metadata": {
    "papermill": {
     "duration": 0.061937,
     "end_time": "2024-01-07T03:20:49.085889",
     "exception": false,
     "start_time": "2024-01-07T03:20:49.023952",
     "status": "completed"
    },
    "tags": []
   },
   "source": [
    "After deleting the aforementioned 7 features, performance continues at 0.73."
   ]
  },
  {
   "cell_type": "code",
   "execution_count": 55,
   "id": "279284ac",
   "metadata": {
    "execution": {
     "iopub.execute_input": "2024-01-07T03:20:49.212717Z",
     "iopub.status.busy": "2024-01-07T03:20:49.212085Z",
     "iopub.status.idle": "2024-01-07T03:20:49.216093Z",
     "shell.execute_reply": "2024-01-07T03:20:49.215208Z"
    },
    "papermill": {
     "duration": 0.070189,
     "end_time": "2024-01-07T03:20:49.218514",
     "exception": false,
     "start_time": "2024-01-07T03:20:49.148325",
     "status": "completed"
    },
    "tags": []
   },
   "outputs": [],
   "source": [
    "# regr.fit(X,y);"
   ]
  },
  {
   "cell_type": "code",
   "execution_count": 56,
   "id": "67be53c2",
   "metadata": {
    "execution": {
     "iopub.execute_input": "2024-01-07T03:20:49.350155Z",
     "iopub.status.busy": "2024-01-07T03:20:49.349710Z",
     "iopub.status.idle": "2024-01-07T03:20:49.356627Z",
     "shell.execute_reply": "2024-01-07T03:20:49.355633Z"
    },
    "papermill": {
     "duration": 0.074951,
     "end_time": "2024-01-07T03:20:49.359165",
     "exception": false,
     "start_time": "2024-01-07T03:20:49.284214",
     "status": "completed"
    },
    "tags": []
   },
   "outputs": [],
   "source": [
    "# # Generating feature importances to be analyzed later\n",
    "# xgb_feature_importance_dict = dict(zip(X.columns, regr.feature_importances_))\n",
    "# xgb_feature_importance = {key: round(value, 2) for key, value in xgb_feature_importance_dict.items()}\n",
    "# xgb_feature_importance = dict(sorted(xgb_feature_importance.items(), key=lambda x: x[1], reverse=True))\n",
    "\n",
    "# from sklearn.inspection import permutation_importance\n",
    "# result = permutation_importance(regr, X, y, n_repeats=5, random_state=SEED)\n",
    "# result = dict(zip(X.columns, result.importances_mean))\n",
    "# result = {key: round(value, 2) for key, value in result.items()}\n",
    "# permutation_importances = dict(sorted(result.items(), key=lambda x: x[1], reverse=True))"
   ]
  },
  {
   "cell_type": "code",
   "execution_count": 57,
   "id": "151f8956",
   "metadata": {
    "execution": {
     "iopub.execute_input": "2024-01-07T03:20:49.485967Z",
     "iopub.status.busy": "2024-01-07T03:20:49.485560Z",
     "iopub.status.idle": "2024-01-07T03:20:49.490537Z",
     "shell.execute_reply": "2024-01-07T03:20:49.489328Z"
    },
    "papermill": {
     "duration": 0.070991,
     "end_time": "2024-01-07T03:20:49.492918",
     "exception": false,
     "start_time": "2024-01-07T03:20:49.421927",
     "status": "completed"
    },
    "tags": []
   },
   "outputs": [],
   "source": [
    "# {key: value for key, value in xgb_feature_importance.items() if key in production_cluster}"
   ]
  },
  {
   "cell_type": "code",
   "execution_count": 58,
   "id": "90c1dec4",
   "metadata": {
    "execution": {
     "iopub.execute_input": "2024-01-07T03:20:49.619141Z",
     "iopub.status.busy": "2024-01-07T03:20:49.618756Z",
     "iopub.status.idle": "2024-01-07T03:20:49.623235Z",
     "shell.execute_reply": "2024-01-07T03:20:49.622173Z"
    },
    "papermill": {
     "duration": 0.070416,
     "end_time": "2024-01-07T03:20:49.625738",
     "exception": false,
     "start_time": "2024-01-07T03:20:49.555322",
     "status": "completed"
    },
    "tags": []
   },
   "outputs": [],
   "source": [
    "# {key: value for key, value in permutation_importances.items() if key in production_cluster}"
   ]
  },
  {
   "cell_type": "code",
   "execution_count": 59,
   "id": "a9f79ba4",
   "metadata": {
    "execution": {
     "iopub.execute_input": "2024-01-07T03:20:49.753113Z",
     "iopub.status.busy": "2024-01-07T03:20:49.752701Z",
     "iopub.status.idle": "2024-01-07T03:20:49.757654Z",
     "shell.execute_reply": "2024-01-07T03:20:49.756387Z"
    },
    "papermill": {
     "duration": 0.072655,
     "end_time": "2024-01-07T03:20:49.760339",
     "exception": false,
     "start_time": "2024-01-07T03:20:49.687684",
     "status": "completed"
    },
    "tags": []
   },
   "outputs": [],
   "source": [
    "# {key: value for key, value in xgb_feature_importance.items() if key in pause_cluster}"
   ]
  },
  {
   "cell_type": "code",
   "execution_count": 60,
   "id": "e0929f1d",
   "metadata": {
    "execution": {
     "iopub.execute_input": "2024-01-07T03:20:49.889485Z",
     "iopub.status.busy": "2024-01-07T03:20:49.889057Z",
     "iopub.status.idle": "2024-01-07T03:20:49.893911Z",
     "shell.execute_reply": "2024-01-07T03:20:49.892988Z"
    },
    "papermill": {
     "duration": 0.073083,
     "end_time": "2024-01-07T03:20:49.896248",
     "exception": false,
     "start_time": "2024-01-07T03:20:49.823165",
     "status": "completed"
    },
    "tags": []
   },
   "outputs": [],
   "source": [
    "# {key: value for key, value in permutation_importances.items() if key in pause_cluster}"
   ]
  },
  {
   "cell_type": "code",
   "execution_count": 61,
   "id": "e625679f",
   "metadata": {
    "execution": {
     "iopub.execute_input": "2024-01-07T03:20:50.024218Z",
     "iopub.status.busy": "2024-01-07T03:20:50.023790Z",
     "iopub.status.idle": "2024-01-07T03:20:50.028154Z",
     "shell.execute_reply": "2024-01-07T03:20:50.027245Z"
    },
    "papermill": {
     "duration": 0.070688,
     "end_time": "2024-01-07T03:20:50.030673",
     "exception": false,
     "start_time": "2024-01-07T03:20:49.959985",
     "status": "completed"
    },
    "tags": []
   },
   "outputs": [],
   "source": [
    "# {key: value for key, value in xgb_feature_importance.items() if key in deletions_cluster}"
   ]
  },
  {
   "cell_type": "code",
   "execution_count": 62,
   "id": "9061b639",
   "metadata": {
    "execution": {
     "iopub.execute_input": "2024-01-07T03:20:50.157741Z",
     "iopub.status.busy": "2024-01-07T03:20:50.157326Z",
     "iopub.status.idle": "2024-01-07T03:20:50.162273Z",
     "shell.execute_reply": "2024-01-07T03:20:50.161155Z"
    },
    "papermill": {
     "duration": 0.071664,
     "end_time": "2024-01-07T03:20:50.164842",
     "exception": false,
     "start_time": "2024-01-07T03:20:50.093178",
     "status": "completed"
    },
    "tags": []
   },
   "outputs": [],
   "source": [
    "# {key: value for key, value in permutation_importances.items() if key in deletions_cluster}"
   ]
  },
  {
   "cell_type": "code",
   "execution_count": 63,
   "id": "a9bd20f6",
   "metadata": {
    "execution": {
     "iopub.execute_input": "2024-01-07T03:20:50.293075Z",
     "iopub.status.busy": "2024-01-07T03:20:50.292689Z",
     "iopub.status.idle": "2024-01-07T03:20:50.297817Z",
     "shell.execute_reply": "2024-01-07T03:20:50.296468Z"
    },
    "papermill": {
     "duration": 0.073633,
     "end_time": "2024-01-07T03:20:50.300554",
     "exception": false,
     "start_time": "2024-01-07T03:20:50.226921",
     "status": "completed"
    },
    "tags": []
   },
   "outputs": [],
   "source": [
    "# {key: value for key, value in xgb_feature_importance.items() if key in bursts_cluster}"
   ]
  },
  {
   "cell_type": "code",
   "execution_count": 64,
   "id": "911126e5",
   "metadata": {
    "execution": {
     "iopub.execute_input": "2024-01-07T03:20:50.428855Z",
     "iopub.status.busy": "2024-01-07T03:20:50.428436Z",
     "iopub.status.idle": "2024-01-07T03:20:50.433351Z",
     "shell.execute_reply": "2024-01-07T03:20:50.432103Z"
    },
    "papermill": {
     "duration": 0.072273,
     "end_time": "2024-01-07T03:20:50.435735",
     "exception": false,
     "start_time": "2024-01-07T03:20:50.363462",
     "status": "completed"
    },
    "tags": []
   },
   "outputs": [],
   "source": [
    "# {key: value for key, value in permutation_importances.items() if key in bursts_cluster}"
   ]
  },
  {
   "cell_type": "markdown",
   "id": "adb233a0",
   "metadata": {
    "papermill": {
     "duration": 0.06394,
     "end_time": "2024-01-07T03:20:50.564228",
     "exception": false,
     "start_time": "2024-01-07T03:20:50.500288",
     "status": "completed"
    },
    "tags": []
   },
   "source": [
    "Conclusions : Next candidates for deletion, in order: 'distant_deletions', 'mean_pause_length', 'mean_p_bursts_chars'.\n",
    "\n",
    "In addition to the criteria previously mentioned, we are now prioritizing removal of features within richer clusters. "
   ]
  },
  {
   "cell_type": "markdown",
   "id": "0dffbb1d",
   "metadata": {
    "papermill": {
     "duration": 0.063427,
     "end_time": "2024-01-07T03:20:50.691625",
     "exception": false,
     "start_time": "2024-01-07T03:20:50.628198",
     "status": "completed"
    },
    "tags": []
   },
   "source": [
    "#### 4th iteration"
   ]
  },
  {
   "cell_type": "code",
   "execution_count": 65,
   "id": "390ad080",
   "metadata": {
    "execution": {
     "iopub.execute_input": "2024-01-07T03:20:50.819261Z",
     "iopub.status.busy": "2024-01-07T03:20:50.818848Z",
     "iopub.status.idle": "2024-01-07T03:20:50.825876Z",
     "shell.execute_reply": "2024-01-07T03:20:50.824675Z"
    },
    "papermill": {
     "duration": 0.074536,
     "end_time": "2024-01-07T03:20:50.828801",
     "exception": false,
     "start_time": "2024-01-07T03:20:50.754265",
     "status": "completed"
    },
    "tags": []
   },
   "outputs": [],
   "source": [
    "# from sklearn.model_selection import KFold\n",
    "# from xgboost import XGBRegressor\n",
    "\n",
    "# X = simplified_train_logs[['num_events', 'total_action_time_mins',\n",
    "#        'chars_per_min_process', 'words_per_min_product',\n",
    "#        'sentences_per_min_product',\n",
    "#        'pauses_per_min',\n",
    "#        'pause_time_proportion_perc',\n",
    "#        'mean_pause_length_btw_sentences',\n",
    "#        'mean_pause_length_w_in_words',\n",
    "#        'deletions', 'mean_length_deletions',\n",
    "#        'p_bursts', 'r_bursts',\n",
    "#        'mean_r_bursts_chars',\n",
    "#        'p_bursts_proportion_perc']]\n",
    "\n",
    "# y = train_scores.score\n",
    "\n",
    "# # Set the number of folds\n",
    "# num_folds = 5\n",
    "\n",
    "# # Instantiate the KFold cross-validator\n",
    "# kf = KFold(n_splits=num_folds, shuffle=True, random_state=SEED)\n",
    "\n",
    "# # Initialize lists to store results\n",
    "# rmse_scores = []\n",
    "\n",
    "# regr = XGBRegressor(random_state=SEED)\n",
    "\n",
    "# # Perform cross-validation\n",
    "# for fold, (train_index, test_index) in enumerate(kf.split(X), 1):\n",
    "#     X_train, X_test = X.iloc[train_index], X.iloc[test_index]\n",
    "#     y_train, y_test = y.iloc[train_index], y.iloc[test_index]\n",
    "\n",
    "#     # Fit the model on the training data\n",
    "#     regr.fit(X_train, y_train, eval_metric=\"rmse\", eval_set=[(X_train, y_train), (X_test, y_test)], verbose=False)\n",
    "\n",
    "#     # Get training and testing errors for each iteration of the current fold\n",
    "#     train_errors_fold = regr.evals_result()[\"validation_0\"][\"rmse\"]\n",
    "#     test_errors_fold = regr.evals_result()[\"validation_1\"][\"rmse\"]\n",
    "\n",
    "#     # Make predictions on the test data\n",
    "#     y_pred = regr.predict(X_test)\n",
    "\n",
    "#     # Calculate RMSE for the fold\n",
    "#     rmse = np.round(np.sqrt(((y_test - y_pred) ** 2).mean()), 2)\n",
    "#     rmse_scores.append(rmse)\n",
    "\n",
    "# # Print average RMSE across all folds\n",
    "# print(f\"\\nCross-validation RMSE scores: {rmse_scores}\")\n",
    "# print(f\"\\nMean RMSE: {np.round(np.mean(rmse_scores), 2)}\")"
   ]
  },
  {
   "cell_type": "markdown",
   "id": "f9b85555",
   "metadata": {
    "papermill": {
     "duration": 0.061685,
     "end_time": "2024-01-07T03:20:50.953909",
     "exception": false,
     "start_time": "2024-01-07T03:20:50.892224",
     "status": "completed"
    },
    "tags": []
   },
   "source": [
    "After deleting 3 more features, the model performance drops slightly, from 0.73 to 0.74. It looks like an acceptable tradeoff."
   ]
  },
  {
   "cell_type": "code",
   "execution_count": 66,
   "id": "7cbf99dc",
   "metadata": {
    "execution": {
     "iopub.execute_input": "2024-01-07T03:20:51.081711Z",
     "iopub.status.busy": "2024-01-07T03:20:51.081280Z",
     "iopub.status.idle": "2024-01-07T03:20:51.086217Z",
     "shell.execute_reply": "2024-01-07T03:20:51.084890Z"
    },
    "papermill": {
     "duration": 0.071752,
     "end_time": "2024-01-07T03:20:51.088668",
     "exception": false,
     "start_time": "2024-01-07T03:20:51.016916",
     "status": "completed"
    },
    "tags": []
   },
   "outputs": [],
   "source": [
    "# print(f\"Now the dataset contains {len(X.columns)} features.\")"
   ]
  },
  {
   "cell_type": "code",
   "execution_count": 67,
   "id": "94556c85",
   "metadata": {
    "execution": {
     "iopub.execute_input": "2024-01-07T03:20:51.215224Z",
     "iopub.status.busy": "2024-01-07T03:20:51.214737Z",
     "iopub.status.idle": "2024-01-07T03:20:51.219795Z",
     "shell.execute_reply": "2024-01-07T03:20:51.218499Z"
    },
    "papermill": {
     "duration": 0.071099,
     "end_time": "2024-01-07T03:20:51.222503",
     "exception": false,
     "start_time": "2024-01-07T03:20:51.151404",
     "status": "completed"
    },
    "tags": []
   },
   "outputs": [],
   "source": [
    "# regr.fit(X,y);"
   ]
  },
  {
   "cell_type": "code",
   "execution_count": 68,
   "id": "b63059e4",
   "metadata": {
    "execution": {
     "iopub.execute_input": "2024-01-07T03:20:51.350346Z",
     "iopub.status.busy": "2024-01-07T03:20:51.349954Z",
     "iopub.status.idle": "2024-01-07T03:20:51.355446Z",
     "shell.execute_reply": "2024-01-07T03:20:51.354266Z"
    },
    "papermill": {
     "duration": 0.071555,
     "end_time": "2024-01-07T03:20:51.357841",
     "exception": false,
     "start_time": "2024-01-07T03:20:51.286286",
     "status": "completed"
    },
    "tags": []
   },
   "outputs": [],
   "source": [
    "# # Generating feature importances to be analyzed later\n",
    "# xgb_feature_importance_dict = dict(zip(X.columns, regr.feature_importances_))\n",
    "# xgb_feature_importance = {key: round(value, 2) for key, value in xgb_feature_importance_dict.items()}\n",
    "# xgb_feature_importance = dict(sorted(xgb_feature_importance.items(), key=lambda x: x[1], reverse=True))\n",
    "\n",
    "# from sklearn.inspection import permutation_importance\n",
    "# result = permutation_importance(regr, X, y, n_repeats=5, random_state=SEED)\n",
    "# result = dict(zip(X.columns, result.importances_mean))\n",
    "# result = {key: round(value, 2) for key, value in result.items()}\n",
    "# permutation_importances = dict(sorted(result.items(), key=lambda x: x[1], reverse=True))"
   ]
  },
  {
   "cell_type": "code",
   "execution_count": 69,
   "id": "65a00e04",
   "metadata": {
    "execution": {
     "iopub.execute_input": "2024-01-07T03:20:51.483005Z",
     "iopub.status.busy": "2024-01-07T03:20:51.482608Z",
     "iopub.status.idle": "2024-01-07T03:20:51.487371Z",
     "shell.execute_reply": "2024-01-07T03:20:51.486288Z"
    },
    "papermill": {
     "duration": 0.070162,
     "end_time": "2024-01-07T03:20:51.489738",
     "exception": false,
     "start_time": "2024-01-07T03:20:51.419576",
     "status": "completed"
    },
    "tags": []
   },
   "outputs": [],
   "source": [
    "# {key: value for key, value in xgb_feature_importance.items() if key in production_cluster}"
   ]
  },
  {
   "cell_type": "code",
   "execution_count": 70,
   "id": "2a36521e",
   "metadata": {
    "execution": {
     "iopub.execute_input": "2024-01-07T03:20:51.617794Z",
     "iopub.status.busy": "2024-01-07T03:20:51.617356Z",
     "iopub.status.idle": "2024-01-07T03:20:51.622897Z",
     "shell.execute_reply": "2024-01-07T03:20:51.621351Z"
    },
    "papermill": {
     "duration": 0.073101,
     "end_time": "2024-01-07T03:20:51.625987",
     "exception": false,
     "start_time": "2024-01-07T03:20:51.552886",
     "status": "completed"
    },
    "tags": []
   },
   "outputs": [],
   "source": [
    "# {key: value for key, value in permutation_importances.items() if key in production_cluster}"
   ]
  },
  {
   "cell_type": "code",
   "execution_count": 71,
   "id": "da9777f0",
   "metadata": {
    "execution": {
     "iopub.execute_input": "2024-01-07T03:20:51.753592Z",
     "iopub.status.busy": "2024-01-07T03:20:51.753138Z",
     "iopub.status.idle": "2024-01-07T03:20:51.758320Z",
     "shell.execute_reply": "2024-01-07T03:20:51.757230Z"
    },
    "papermill": {
     "duration": 0.071185,
     "end_time": "2024-01-07T03:20:51.760737",
     "exception": false,
     "start_time": "2024-01-07T03:20:51.689552",
     "status": "completed"
    },
    "tags": []
   },
   "outputs": [],
   "source": [
    "# {key: value for key, value in xgb_feature_importance.items() if key in pause_cluster}"
   ]
  },
  {
   "cell_type": "code",
   "execution_count": 72,
   "id": "b7c07db1",
   "metadata": {
    "execution": {
     "iopub.execute_input": "2024-01-07T03:20:51.890265Z",
     "iopub.status.busy": "2024-01-07T03:20:51.889849Z",
     "iopub.status.idle": "2024-01-07T03:20:51.894925Z",
     "shell.execute_reply": "2024-01-07T03:20:51.893731Z"
    },
    "papermill": {
     "duration": 0.072437,
     "end_time": "2024-01-07T03:20:51.897501",
     "exception": false,
     "start_time": "2024-01-07T03:20:51.825064",
     "status": "completed"
    },
    "tags": []
   },
   "outputs": [],
   "source": [
    "# {key: value for key, value in permutation_importances.items() if key in pause_cluster}"
   ]
  },
  {
   "cell_type": "code",
   "execution_count": 73,
   "id": "02120e12",
   "metadata": {
    "execution": {
     "iopub.execute_input": "2024-01-07T03:20:52.025496Z",
     "iopub.status.busy": "2024-01-07T03:20:52.025061Z",
     "iopub.status.idle": "2024-01-07T03:20:52.030678Z",
     "shell.execute_reply": "2024-01-07T03:20:52.029367Z"
    },
    "papermill": {
     "duration": 0.072279,
     "end_time": "2024-01-07T03:20:52.033365",
     "exception": false,
     "start_time": "2024-01-07T03:20:51.961086",
     "status": "completed"
    },
    "tags": []
   },
   "outputs": [],
   "source": [
    "# {key: value for key, value in xgb_feature_importance.items() if key in deletions_cluster}"
   ]
  },
  {
   "cell_type": "code",
   "execution_count": 74,
   "id": "77bcc8eb",
   "metadata": {
    "execution": {
     "iopub.execute_input": "2024-01-07T03:20:52.161569Z",
     "iopub.status.busy": "2024-01-07T03:20:52.160255Z",
     "iopub.status.idle": "2024-01-07T03:20:52.165584Z",
     "shell.execute_reply": "2024-01-07T03:20:52.164534Z"
    },
    "papermill": {
     "duration": 0.071934,
     "end_time": "2024-01-07T03:20:52.168249",
     "exception": false,
     "start_time": "2024-01-07T03:20:52.096315",
     "status": "completed"
    },
    "tags": []
   },
   "outputs": [],
   "source": [
    "# {key: value for key, value in permutation_importances.items() if key in deletions_cluster}"
   ]
  },
  {
   "cell_type": "code",
   "execution_count": 75,
   "id": "c43276c6",
   "metadata": {
    "execution": {
     "iopub.execute_input": "2024-01-07T03:20:52.298060Z",
     "iopub.status.busy": "2024-01-07T03:20:52.297603Z",
     "iopub.status.idle": "2024-01-07T03:20:52.303135Z",
     "shell.execute_reply": "2024-01-07T03:20:52.301784Z"
    },
    "papermill": {
     "duration": 0.074924,
     "end_time": "2024-01-07T03:20:52.305744",
     "exception": false,
     "start_time": "2024-01-07T03:20:52.230820",
     "status": "completed"
    },
    "tags": []
   },
   "outputs": [],
   "source": [
    "# {key: value for key, value in xgb_feature_importance.items() if key in bursts_cluster}"
   ]
  },
  {
   "cell_type": "code",
   "execution_count": 76,
   "id": "7380a4d3",
   "metadata": {
    "execution": {
     "iopub.execute_input": "2024-01-07T03:20:52.433296Z",
     "iopub.status.busy": "2024-01-07T03:20:52.432911Z",
     "iopub.status.idle": "2024-01-07T03:20:52.437664Z",
     "shell.execute_reply": "2024-01-07T03:20:52.436395Z"
    },
    "papermill": {
     "duration": 0.071042,
     "end_time": "2024-01-07T03:20:52.440107",
     "exception": false,
     "start_time": "2024-01-07T03:20:52.369065",
     "status": "completed"
    },
    "tags": []
   },
   "outputs": [],
   "source": [
    "# {key: value for key, value in permutation_importances.items() if key in bursts_cluster}"
   ]
  },
  {
   "cell_type": "markdown",
   "id": "32b5762d",
   "metadata": {
    "papermill": {
     "duration": 0.062075,
     "end_time": "2024-01-07T03:20:52.564540",
     "exception": false,
     "start_time": "2024-01-07T03:20:52.502465",
     "status": "completed"
    },
    "tags": []
   },
   "source": [
    "Conclusions: It will not be surprising if the model can't afford losing more features. However, the following features appear to be prime candidates for deletion \n",
    "\n",
    "in the next iteration: 'r_bursts', 'mean_length_deletions', 'pauses_per_min', 'total_action_time_mins'."
   ]
  },
  {
   "cell_type": "markdown",
   "id": "2ec4c711",
   "metadata": {
    "papermill": {
     "duration": 0.061351,
     "end_time": "2024-01-07T03:20:52.687976",
     "exception": false,
     "start_time": "2024-01-07T03:20:52.626625",
     "status": "completed"
    },
    "tags": []
   },
   "source": [
    "#### 5th iteration"
   ]
  },
  {
   "cell_type": "code",
   "execution_count": 77,
   "id": "1b4893c9",
   "metadata": {
    "execution": {
     "iopub.execute_input": "2024-01-07T03:20:52.813349Z",
     "iopub.status.busy": "2024-01-07T03:20:52.812940Z",
     "iopub.status.idle": "2024-01-07T03:20:52.819517Z",
     "shell.execute_reply": "2024-01-07T03:20:52.818338Z"
    },
    "papermill": {
     "duration": 0.072211,
     "end_time": "2024-01-07T03:20:52.822029",
     "exception": false,
     "start_time": "2024-01-07T03:20:52.749818",
     "status": "completed"
    },
    "tags": []
   },
   "outputs": [],
   "source": [
    "# from sklearn.model_selection import KFold\n",
    "# from xgboost import XGBRegressor\n",
    "\n",
    "# X = simplified_train_logs[['num_events',\n",
    "#        'chars_per_min_process', 'words_per_min_product',\n",
    "#        'sentences_per_min_product',\n",
    "#        'pause_time_proportion_perc',\n",
    "#        'mean_pause_length_btw_sentences',\n",
    "#        'mean_pause_length_w_in_words',\n",
    "#        'deletions',\n",
    "#        'p_bursts',\n",
    "#        'mean_r_bursts_chars',\n",
    "#        'p_bursts_proportion_perc']]\n",
    "# y = train_scores.score\n",
    "\n",
    "# # Set the number of folds\n",
    "# num_folds = 5\n",
    "\n",
    "# # Instantiate the KFold cross-validator\n",
    "# kf = KFold(n_splits=num_folds, shuffle=True, random_state=SEED)\n",
    "\n",
    "# # Initialize lists to store results\n",
    "# rmse_scores = []\n",
    "\n",
    "# regr = XGBRegressor(random_state=SEED)\n",
    "\n",
    "# # Perform cross-validation\n",
    "# for fold, (train_index, test_index) in enumerate(kf.split(X), 1):\n",
    "#     X_train, X_test = X.iloc[train_index], X.iloc[test_index]\n",
    "#     y_train, y_test = y.iloc[train_index], y.iloc[test_index]\n",
    "\n",
    "#     # Fit the model on the training data\n",
    "#     regr.fit(X_train, y_train, eval_metric=\"rmse\", eval_set=[(X_train, y_train), (X_test, y_test)], verbose=False)\n",
    "\n",
    "#     # Get training and testing errors for each iteration of the current fold\n",
    "#     train_errors_fold = regr.evals_result()[\"validation_0\"][\"rmse\"]\n",
    "#     test_errors_fold = regr.evals_result()[\"validation_1\"][\"rmse\"]\n",
    "\n",
    "#     # Make predictions on the test data\n",
    "#     y_pred = regr.predict(X_test)\n",
    "\n",
    "#     # Calculate RMSE for the fold\n",
    "#     rmse = np.round(np.sqrt(((y_test - y_pred) ** 2).mean()), 2)\n",
    "#     rmse_scores.append(rmse)\n",
    "\n",
    "# # Print average RMSE across all folds\n",
    "# print(f\"\\nCross-validation RMSE scores: {rmse_scores}\")\n",
    "# print(f\"\\nMean RMSE: {np.round(np.mean(rmse_scores), 2)}\")"
   ]
  },
  {
   "cell_type": "markdown",
   "id": "57457a54",
   "metadata": {
    "papermill": {
     "duration": 0.061679,
     "end_time": "2024-01-07T03:20:52.946016",
     "exception": false,
     "start_time": "2024-01-07T03:20:52.884337",
     "status": "completed"
    },
    "tags": []
   },
   "source": [
    "The model score goes back to a Mean RMSE of 0.73 after deleting 4 more features. "
   ]
  },
  {
   "cell_type": "code",
   "execution_count": 78,
   "id": "54f20ba0",
   "metadata": {
    "execution": {
     "iopub.execute_input": "2024-01-07T03:20:53.070839Z",
     "iopub.status.busy": "2024-01-07T03:20:53.070436Z",
     "iopub.status.idle": "2024-01-07T03:20:53.074796Z",
     "shell.execute_reply": "2024-01-07T03:20:53.073901Z"
    },
    "papermill": {
     "duration": 0.069447,
     "end_time": "2024-01-07T03:20:53.077004",
     "exception": false,
     "start_time": "2024-01-07T03:20:53.007557",
     "status": "completed"
    },
    "tags": []
   },
   "outputs": [],
   "source": [
    "# print(f\"Now the dataset contains {len(X.columns)} features.\")"
   ]
  },
  {
   "cell_type": "code",
   "execution_count": 79,
   "id": "cf11eb97",
   "metadata": {
    "execution": {
     "iopub.execute_input": "2024-01-07T03:20:53.203873Z",
     "iopub.status.busy": "2024-01-07T03:20:53.203466Z",
     "iopub.status.idle": "2024-01-07T03:20:53.208349Z",
     "shell.execute_reply": "2024-01-07T03:20:53.206792Z"
    },
    "papermill": {
     "duration": 0.071472,
     "end_time": "2024-01-07T03:20:53.211004",
     "exception": false,
     "start_time": "2024-01-07T03:20:53.139532",
     "status": "completed"
    },
    "tags": []
   },
   "outputs": [],
   "source": [
    "# regr.fit(X,y);"
   ]
  },
  {
   "cell_type": "code",
   "execution_count": 80,
   "id": "c16d894c",
   "metadata": {
    "execution": {
     "iopub.execute_input": "2024-01-07T03:20:53.338589Z",
     "iopub.status.busy": "2024-01-07T03:20:53.338158Z",
     "iopub.status.idle": "2024-01-07T03:20:53.343722Z",
     "shell.execute_reply": "2024-01-07T03:20:53.342368Z"
    },
    "papermill": {
     "duration": 0.071923,
     "end_time": "2024-01-07T03:20:53.346192",
     "exception": false,
     "start_time": "2024-01-07T03:20:53.274269",
     "status": "completed"
    },
    "tags": []
   },
   "outputs": [],
   "source": [
    "# # Generating feature importances to be analyzed later\n",
    "# xgb_feature_importance_dict = dict(zip(X.columns, regr.feature_importances_))\n",
    "# xgb_feature_importance = {key: round(value, 2) for key, value in xgb_feature_importance_dict.items()}\n",
    "# xgb_feature_importance = dict(sorted(xgb_feature_importance.items(), key=lambda x: x[1], reverse=True))\n",
    "\n",
    "# from sklearn.inspection import permutation_importance\n",
    "# result = permutation_importance(regr, X, y, n_repeats=5, random_state=SEED)\n",
    "# result = dict(zip(X.columns, result.importances_mean))\n",
    "# result = {key: round(value, 2) for key, value in result.items()}\n",
    "# permutation_importances = dict(sorted(result.items(), key=lambda x: x[1], reverse=True))"
   ]
  },
  {
   "cell_type": "code",
   "execution_count": 81,
   "id": "d1727d3b",
   "metadata": {
    "execution": {
     "iopub.execute_input": "2024-01-07T03:20:53.476520Z",
     "iopub.status.busy": "2024-01-07T03:20:53.475275Z",
     "iopub.status.idle": "2024-01-07T03:20:53.480119Z",
     "shell.execute_reply": "2024-01-07T03:20:53.479171Z"
    },
    "papermill": {
     "duration": 0.073144,
     "end_time": "2024-01-07T03:20:53.482528",
     "exception": false,
     "start_time": "2024-01-07T03:20:53.409384",
     "status": "completed"
    },
    "tags": []
   },
   "outputs": [],
   "source": [
    "# {key: value for key, value in xgb_feature_importance.items() if key in production_cluster}"
   ]
  },
  {
   "cell_type": "code",
   "execution_count": 82,
   "id": "1b2062b2",
   "metadata": {
    "execution": {
     "iopub.execute_input": "2024-01-07T03:20:53.610810Z",
     "iopub.status.busy": "2024-01-07T03:20:53.609972Z",
     "iopub.status.idle": "2024-01-07T03:20:53.614638Z",
     "shell.execute_reply": "2024-01-07T03:20:53.613753Z"
    },
    "papermill": {
     "duration": 0.070942,
     "end_time": "2024-01-07T03:20:53.616893",
     "exception": false,
     "start_time": "2024-01-07T03:20:53.545951",
     "status": "completed"
    },
    "tags": []
   },
   "outputs": [],
   "source": [
    "# {key: value for key, value in permutation_importances.items() if key in production_cluster}"
   ]
  },
  {
   "cell_type": "code",
   "execution_count": 83,
   "id": "d4c69751",
   "metadata": {
    "execution": {
     "iopub.execute_input": "2024-01-07T03:20:53.742551Z",
     "iopub.status.busy": "2024-01-07T03:20:53.742098Z",
     "iopub.status.idle": "2024-01-07T03:20:53.747236Z",
     "shell.execute_reply": "2024-01-07T03:20:53.745990Z"
    },
    "papermill": {
     "duration": 0.071081,
     "end_time": "2024-01-07T03:20:53.749810",
     "exception": false,
     "start_time": "2024-01-07T03:20:53.678729",
     "status": "completed"
    },
    "tags": []
   },
   "outputs": [],
   "source": [
    "# {key: value for key, value in xgb_feature_importance.items() if key in pause_cluster}"
   ]
  },
  {
   "cell_type": "code",
   "execution_count": 84,
   "id": "91a89a3c",
   "metadata": {
    "execution": {
     "iopub.execute_input": "2024-01-07T03:20:53.877317Z",
     "iopub.status.busy": "2024-01-07T03:20:53.876833Z",
     "iopub.status.idle": "2024-01-07T03:20:53.881344Z",
     "shell.execute_reply": "2024-01-07T03:20:53.880483Z"
    },
    "papermill": {
     "duration": 0.070637,
     "end_time": "2024-01-07T03:20:53.883818",
     "exception": false,
     "start_time": "2024-01-07T03:20:53.813181",
     "status": "completed"
    },
    "tags": []
   },
   "outputs": [],
   "source": [
    "# {key: value for key, value in permutation_importances.items() if key in pause_cluster}"
   ]
  },
  {
   "cell_type": "code",
   "execution_count": 85,
   "id": "9e5567cb",
   "metadata": {
    "execution": {
     "iopub.execute_input": "2024-01-07T03:20:54.013384Z",
     "iopub.status.busy": "2024-01-07T03:20:54.012928Z",
     "iopub.status.idle": "2024-01-07T03:20:54.017753Z",
     "shell.execute_reply": "2024-01-07T03:20:54.016488Z"
    },
    "papermill": {
     "duration": 0.071851,
     "end_time": "2024-01-07T03:20:54.020251",
     "exception": false,
     "start_time": "2024-01-07T03:20:53.948400",
     "status": "completed"
    },
    "tags": []
   },
   "outputs": [],
   "source": [
    "# {key: value for key, value in xgb_feature_importance.items() if key in deletions_cluster}"
   ]
  },
  {
   "cell_type": "code",
   "execution_count": 86,
   "id": "ddcf9b07",
   "metadata": {
    "execution": {
     "iopub.execute_input": "2024-01-07T03:20:54.148542Z",
     "iopub.status.busy": "2024-01-07T03:20:54.148092Z",
     "iopub.status.idle": "2024-01-07T03:20:54.152614Z",
     "shell.execute_reply": "2024-01-07T03:20:54.151785Z"
    },
    "papermill": {
     "duration": 0.070849,
     "end_time": "2024-01-07T03:20:54.154764",
     "exception": false,
     "start_time": "2024-01-07T03:20:54.083915",
     "status": "completed"
    },
    "tags": []
   },
   "outputs": [],
   "source": [
    "# {key: value for key, value in permutation_importances.items() if key in deletions_cluster}"
   ]
  },
  {
   "cell_type": "code",
   "execution_count": 87,
   "id": "c4a57a1f",
   "metadata": {
    "execution": {
     "iopub.execute_input": "2024-01-07T03:20:54.284845Z",
     "iopub.status.busy": "2024-01-07T03:20:54.284360Z",
     "iopub.status.idle": "2024-01-07T03:20:54.289627Z",
     "shell.execute_reply": "2024-01-07T03:20:54.288176Z"
    },
    "papermill": {
     "duration": 0.074796,
     "end_time": "2024-01-07T03:20:54.292344",
     "exception": false,
     "start_time": "2024-01-07T03:20:54.217548",
     "status": "completed"
    },
    "tags": []
   },
   "outputs": [],
   "source": [
    "# {key: value for key, value in xgb_feature_importance.items() if key in bursts_cluster}"
   ]
  },
  {
   "cell_type": "code",
   "execution_count": 88,
   "id": "ecae50e6",
   "metadata": {
    "execution": {
     "iopub.execute_input": "2024-01-07T03:20:54.427068Z",
     "iopub.status.busy": "2024-01-07T03:20:54.426210Z",
     "iopub.status.idle": "2024-01-07T03:20:54.430744Z",
     "shell.execute_reply": "2024-01-07T03:20:54.429698Z"
    },
    "papermill": {
     "duration": 0.075636,
     "end_time": "2024-01-07T03:20:54.433269",
     "exception": false,
     "start_time": "2024-01-07T03:20:54.357633",
     "status": "completed"
    },
    "tags": []
   },
   "outputs": [],
   "source": [
    "# {key: value for key, value in permutation_importances.items() if key in bursts_cluster}"
   ]
  },
  {
   "cell_type": "markdown",
   "id": "e2b1b7cc",
   "metadata": {
    "papermill": {
     "duration": 0.06263,
     "end_time": "2024-01-07T03:20:54.559145",
     "exception": false,
     "start_time": "2024-01-07T03:20:54.496515",
     "status": "completed"
    },
    "tags": []
   },
   "source": [
    "Conclusions: Next variables to potentially dispense with: 'mean_pause_length_btw_sentences', 'mean_r_bursts_chars', 'deletions', 'p_bursts_proportion_perc'."
   ]
  },
  {
   "cell_type": "markdown",
   "id": "1cd2b091",
   "metadata": {
    "papermill": {
     "duration": 0.062722,
     "end_time": "2024-01-07T03:20:54.684329",
     "exception": false,
     "start_time": "2024-01-07T03:20:54.621607",
     "status": "completed"
    },
    "tags": []
   },
   "source": [
    "#### 6th iteration"
   ]
  },
  {
   "cell_type": "code",
   "execution_count": 89,
   "id": "eea34df4",
   "metadata": {
    "execution": {
     "iopub.execute_input": "2024-01-07T03:20:54.878751Z",
     "iopub.status.busy": "2024-01-07T03:20:54.878295Z",
     "iopub.status.idle": "2024-01-07T03:20:54.885410Z",
     "shell.execute_reply": "2024-01-07T03:20:54.884091Z"
    },
    "papermill": {
     "duration": 0.139827,
     "end_time": "2024-01-07T03:20:54.888272",
     "exception": false,
     "start_time": "2024-01-07T03:20:54.748445",
     "status": "completed"
    },
    "tags": []
   },
   "outputs": [],
   "source": [
    "# from sklearn.model_selection import KFold\n",
    "# from xgboost import XGBRegressor\n",
    "\n",
    "# X = simplified_train_logs[['num_events',\n",
    "#        'chars_per_min_process', 'words_per_min_product',\n",
    "#        'sentences_per_min_product',\n",
    "#        'pause_time_proportion_perc',\n",
    "#        'mean_pause_length_w_in_words',\n",
    "#        'p_bursts']]\n",
    "\n",
    "# y = train_scores.score\n",
    "\n",
    "# # Set the number of folds\n",
    "# num_folds = 5\n",
    "\n",
    "# # Instantiate the KFold cross-validator\n",
    "# kf = KFold(n_splits=num_folds, shuffle=True, random_state=SEED)\n",
    "\n",
    "# # Initialize lists to store results\n",
    "# rmse_scores = []\n",
    "\n",
    "# regr = XGBRegressor(random_state=SEED)\n",
    "\n",
    "# # Perform cross-validation\n",
    "# for fold, (train_index, test_index) in enumerate(kf.split(X), 1):\n",
    "#     X_train, X_test = X.iloc[train_index], X.iloc[test_index]\n",
    "#     y_train, y_test = y.iloc[train_index], y.iloc[test_index]\n",
    "\n",
    "#     # Fit the model on the training data\n",
    "#     regr.fit(X_train, y_train, eval_metric=\"rmse\", eval_set=[(X_train, y_train), (X_test, y_test)], verbose=False)\n",
    "\n",
    "#     # Get training and testing errors for each iteration of the current fold\n",
    "#     train_errors_fold = regr.evals_result()[\"validation_0\"][\"rmse\"]\n",
    "#     test_errors_fold = regr.evals_result()[\"validation_1\"][\"rmse\"]\n",
    "\n",
    "#     # Make predictions on the test data\n",
    "#     y_pred = regr.predict(X_test)\n",
    "\n",
    "#     # Calculate RMSE for the fold\n",
    "#     rmse = np.round(np.sqrt(((y_test - y_pred) ** 2).mean()), 2)\n",
    "#     rmse_scores.append(rmse)\n",
    "\n",
    "# # Print average RMSE across all folds\n",
    "# print(f\"\\nCross-validation RMSE scores: {rmse_scores}\")\n",
    "# print(f\"\\nMean RMSE: {np.round(np.mean(rmse_scores), 2)}\")"
   ]
  },
  {
   "cell_type": "markdown",
   "id": "1fa7c25d",
   "metadata": {
    "papermill": {
     "duration": 0.062914,
     "end_time": "2024-01-07T03:20:55.014988",
     "exception": false,
     "start_time": "2024-01-07T03:20:54.952074",
     "status": "completed"
    },
    "tags": []
   },
   "source": [
    "The model remains stable at Mean RMSE 0.74 after dismissing 4 new features"
   ]
  },
  {
   "cell_type": "code",
   "execution_count": 90,
   "id": "966bc4b7",
   "metadata": {
    "execution": {
     "iopub.execute_input": "2024-01-07T03:20:55.142219Z",
     "iopub.status.busy": "2024-01-07T03:20:55.141825Z",
     "iopub.status.idle": "2024-01-07T03:20:55.146597Z",
     "shell.execute_reply": "2024-01-07T03:20:55.145407Z"
    },
    "papermill": {
     "duration": 0.07154,
     "end_time": "2024-01-07T03:20:55.148897",
     "exception": false,
     "start_time": "2024-01-07T03:20:55.077357",
     "status": "completed"
    },
    "tags": []
   },
   "outputs": [],
   "source": [
    "# print(f\"Now the dataset contains {len(X.columns)} features.\")"
   ]
  },
  {
   "cell_type": "code",
   "execution_count": 91,
   "id": "3fef4b57",
   "metadata": {
    "execution": {
     "iopub.execute_input": "2024-01-07T03:20:55.282082Z",
     "iopub.status.busy": "2024-01-07T03:20:55.281298Z",
     "iopub.status.idle": "2024-01-07T03:20:55.286286Z",
     "shell.execute_reply": "2024-01-07T03:20:55.285180Z"
    },
    "papermill": {
     "duration": 0.075349,
     "end_time": "2024-01-07T03:20:55.288906",
     "exception": false,
     "start_time": "2024-01-07T03:20:55.213557",
     "status": "completed"
    },
    "tags": []
   },
   "outputs": [],
   "source": [
    "# regr.fit(X,y);"
   ]
  },
  {
   "cell_type": "code",
   "execution_count": 92,
   "id": "e951d3d4",
   "metadata": {
    "execution": {
     "iopub.execute_input": "2024-01-07T03:20:55.421138Z",
     "iopub.status.busy": "2024-01-07T03:20:55.420317Z",
     "iopub.status.idle": "2024-01-07T03:20:55.425337Z",
     "shell.execute_reply": "2024-01-07T03:20:55.424492Z"
    },
    "papermill": {
     "duration": 0.074671,
     "end_time": "2024-01-07T03:20:55.427681",
     "exception": false,
     "start_time": "2024-01-07T03:20:55.353010",
     "status": "completed"
    },
    "tags": []
   },
   "outputs": [],
   "source": [
    "# Generating feature importances to be analyzed later\n",
    "# xgb_feature_importance_dict = dict(zip(X.columns, regr.feature_importances_))\n",
    "# xgb_feature_importance = {key: round(value, 2) for key, value in xgb_feature_importance_dict.items()}\n",
    "# xgb_feature_importance = dict(sorted(xgb_feature_importance.items(), key=lambda x: x[1], reverse=True))\n",
    "\n",
    "# from sklearn.inspection import permutation_importance\n",
    "# result = permutation_importance(regr, X, y, n_repeats=5, random_state=SEED)\n",
    "# result = dict(zip(X.columns, result.importances_mean))\n",
    "# result = {key: round(value, 2) for key, value in result.items()}\n",
    "# permutation_importances = dict(sorted(result.items(), key=lambda x: x[1], reverse=True))"
   ]
  },
  {
   "cell_type": "code",
   "execution_count": 93,
   "id": "40241684",
   "metadata": {
    "execution": {
     "iopub.execute_input": "2024-01-07T03:20:55.555662Z",
     "iopub.status.busy": "2024-01-07T03:20:55.554786Z",
     "iopub.status.idle": "2024-01-07T03:20:55.560291Z",
     "shell.execute_reply": "2024-01-07T03:20:55.558813Z"
    },
    "papermill": {
     "duration": 0.071866,
     "end_time": "2024-01-07T03:20:55.562993",
     "exception": false,
     "start_time": "2024-01-07T03:20:55.491127",
     "status": "completed"
    },
    "tags": []
   },
   "outputs": [],
   "source": [
    "# {key: value for key, value in xgb_feature_importance.items() if key in production_cluster}"
   ]
  },
  {
   "cell_type": "code",
   "execution_count": 94,
   "id": "59c941b8",
   "metadata": {
    "execution": {
     "iopub.execute_input": "2024-01-07T03:20:55.695585Z",
     "iopub.status.busy": "2024-01-07T03:20:55.694454Z",
     "iopub.status.idle": "2024-01-07T03:20:55.699291Z",
     "shell.execute_reply": "2024-01-07T03:20:55.698368Z"
    },
    "papermill": {
     "duration": 0.070983,
     "end_time": "2024-01-07T03:20:55.701599",
     "exception": false,
     "start_time": "2024-01-07T03:20:55.630616",
     "status": "completed"
    },
    "tags": []
   },
   "outputs": [],
   "source": [
    "# {key: value for key, value in permutation_importances.items() if key in production_cluster}"
   ]
  },
  {
   "cell_type": "code",
   "execution_count": 95,
   "id": "ae0ab595",
   "metadata": {
    "execution": {
     "iopub.execute_input": "2024-01-07T03:20:55.829089Z",
     "iopub.status.busy": "2024-01-07T03:20:55.828046Z",
     "iopub.status.idle": "2024-01-07T03:20:55.833092Z",
     "shell.execute_reply": "2024-01-07T03:20:55.831956Z"
    },
    "papermill": {
     "duration": 0.071206,
     "end_time": "2024-01-07T03:20:55.835528",
     "exception": false,
     "start_time": "2024-01-07T03:20:55.764322",
     "status": "completed"
    },
    "tags": []
   },
   "outputs": [],
   "source": [
    "# {key: value for key, value in xgb_feature_importance.items() if key in pause_cluster}"
   ]
  },
  {
   "cell_type": "code",
   "execution_count": 96,
   "id": "69eeef23",
   "metadata": {
    "execution": {
     "iopub.execute_input": "2024-01-07T03:20:55.963716Z",
     "iopub.status.busy": "2024-01-07T03:20:55.963283Z",
     "iopub.status.idle": "2024-01-07T03:20:55.967552Z",
     "shell.execute_reply": "2024-01-07T03:20:55.966678Z"
    },
    "papermill": {
     "duration": 0.071585,
     "end_time": "2024-01-07T03:20:55.969810",
     "exception": false,
     "start_time": "2024-01-07T03:20:55.898225",
     "status": "completed"
    },
    "tags": []
   },
   "outputs": [],
   "source": [
    "# {key: value for key, value in permutation_importances.items() if key in pause_cluster}"
   ]
  },
  {
   "cell_type": "code",
   "execution_count": 97,
   "id": "89513604",
   "metadata": {
    "execution": {
     "iopub.execute_input": "2024-01-07T03:20:56.100486Z",
     "iopub.status.busy": "2024-01-07T03:20:56.099736Z",
     "iopub.status.idle": "2024-01-07T03:20:56.103874Z",
     "shell.execute_reply": "2024-01-07T03:20:56.102976Z"
    },
    "papermill": {
     "duration": 0.072135,
     "end_time": "2024-01-07T03:20:56.106302",
     "exception": false,
     "start_time": "2024-01-07T03:20:56.034167",
     "status": "completed"
    },
    "tags": []
   },
   "outputs": [],
   "source": [
    "# {key: value for key, value in xgb_feature_importance.items() if key in deletions_cluster}"
   ]
  },
  {
   "cell_type": "code",
   "execution_count": 98,
   "id": "e802ed45",
   "metadata": {
    "execution": {
     "iopub.execute_input": "2024-01-07T03:20:56.237512Z",
     "iopub.status.busy": "2024-01-07T03:20:56.236752Z",
     "iopub.status.idle": "2024-01-07T03:20:56.241032Z",
     "shell.execute_reply": "2024-01-07T03:20:56.240138Z"
    },
    "papermill": {
     "duration": 0.072816,
     "end_time": "2024-01-07T03:20:56.243480",
     "exception": false,
     "start_time": "2024-01-07T03:20:56.170664",
     "status": "completed"
    },
    "tags": []
   },
   "outputs": [],
   "source": [
    "# {key: value for key, value in permutation_importances.items() if key in deletions_cluster}"
   ]
  },
  {
   "cell_type": "code",
   "execution_count": 99,
   "id": "b097a5ca",
   "metadata": {
    "execution": {
     "iopub.execute_input": "2024-01-07T03:20:56.376353Z",
     "iopub.status.busy": "2024-01-07T03:20:56.375638Z",
     "iopub.status.idle": "2024-01-07T03:20:56.379953Z",
     "shell.execute_reply": "2024-01-07T03:20:56.378871Z"
    },
    "papermill": {
     "duration": 0.071903,
     "end_time": "2024-01-07T03:20:56.382359",
     "exception": false,
     "start_time": "2024-01-07T03:20:56.310456",
     "status": "completed"
    },
    "tags": []
   },
   "outputs": [],
   "source": [
    "# {key: value for key, value in xgb_feature_importance.items() if key in bursts_cluster}"
   ]
  },
  {
   "cell_type": "code",
   "execution_count": 100,
   "id": "942c479d",
   "metadata": {
    "execution": {
     "iopub.execute_input": "2024-01-07T03:20:56.514383Z",
     "iopub.status.busy": "2024-01-07T03:20:56.513638Z",
     "iopub.status.idle": "2024-01-07T03:20:56.517994Z",
     "shell.execute_reply": "2024-01-07T03:20:56.517039Z"
    },
    "papermill": {
     "duration": 0.072764,
     "end_time": "2024-01-07T03:20:56.520589",
     "exception": false,
     "start_time": "2024-01-07T03:20:56.447825",
     "status": "completed"
    },
    "tags": []
   },
   "outputs": [],
   "source": [
    "# {key: value for key, value in permutation_importances.items() if key in bursts_cluster}"
   ]
  },
  {
   "cell_type": "markdown",
   "id": "e852751b",
   "metadata": {
    "papermill": {
     "duration": 0.062122,
     "end_time": "2024-01-07T03:20:56.645400",
     "exception": false,
     "start_time": "2024-01-07T03:20:56.583278",
     "status": "completed"
    },
    "tags": []
   },
   "source": [
    "Conclusions: Probably not possible to delete more features without affecting the model performance significantly. We will try with 'p_bursts', 'mean_pause_length_w_in_words', 'sentences_per_min_product' and 'chars_per_min_process'."
   ]
  },
  {
   "cell_type": "markdown",
   "id": "206efd6c",
   "metadata": {
    "papermill": {
     "duration": 0.061415,
     "end_time": "2024-01-07T03:20:56.769760",
     "exception": false,
     "start_time": "2024-01-07T03:20:56.708345",
     "status": "completed"
    },
    "tags": []
   },
   "source": [
    "#### 7th iteration"
   ]
  },
  {
   "cell_type": "code",
   "execution_count": 101,
   "id": "c01d5b12",
   "metadata": {
    "execution": {
     "iopub.execute_input": "2024-01-07T03:20:56.896273Z",
     "iopub.status.busy": "2024-01-07T03:20:56.895612Z",
     "iopub.status.idle": "2024-01-07T03:20:56.901341Z",
     "shell.execute_reply": "2024-01-07T03:20:56.900499Z"
    },
    "papermill": {
     "duration": 0.072063,
     "end_time": "2024-01-07T03:20:56.903761",
     "exception": false,
     "start_time": "2024-01-07T03:20:56.831698",
     "status": "completed"
    },
    "tags": []
   },
   "outputs": [],
   "source": [
    "# from sklearn.model_selection import KFold\n",
    "# from xgboost import XGBRegressor\n",
    "\n",
    "# X = simplified_train_logs[['num_events',\n",
    "#                            'chars_per_min_process', \n",
    "#                            'words_per_min_product',\n",
    "#                            'sentences_per_min_product',\n",
    "#                            'pause_time_proportion_perc',\n",
    "#                            'mean_pause_length_w_in_words']]\n",
    "\n",
    "# y = train_scores.score\n",
    "\n",
    "# # Set the number of folds\n",
    "# num_folds = 5\n",
    "\n",
    "# # Instantiate the KFold cross-validator\n",
    "# kf = KFold(n_splits=num_folds, shuffle=True, random_state=SEED)\n",
    "\n",
    "# # Initialize lists to store results\n",
    "# rmse_scores = []\n",
    "\n",
    "# regr = XGBRegressor(random_state=SEED)\n",
    "\n",
    "# # Perform cross-validation\n",
    "# for fold, (train_index, test_index) in enumerate(kf.split(X), 1):\n",
    "#     X_train, X_test = X.iloc[train_index], X.iloc[test_index]\n",
    "#     y_train, y_test = y.iloc[train_index], y.iloc[test_index]\n",
    "\n",
    "#     # Fit the model on the training data\n",
    "#     regr.fit(X_train, y_train, eval_metric=\"rmse\", eval_set=[(X_train, y_train), (X_test, y_test)], verbose=False)\n",
    "\n",
    "#     # Get training and testing errors for each iteration of the current fold\n",
    "#     train_errors_fold = regr.evals_result()[\"validation_0\"][\"rmse\"]\n",
    "#     test_errors_fold = regr.evals_result()[\"validation_1\"][\"rmse\"]\n",
    "\n",
    "#     # Make predictions on the test data\n",
    "#     y_pred = regr.predict(X_test)\n",
    "\n",
    "#     # Calculate RMSE for the fold\n",
    "#     rmse = np.round(np.sqrt(((y_test - y_pred) ** 2).mean()), 2)\n",
    "#     rmse_scores.append(rmse)\n",
    "\n",
    "# # Print average RMSE across all folds\n",
    "# print(f\"\\nCross-validation RMSE scores: {rmse_scores}\")\n",
    "# print(f\"\\nMean RMSE: {np.round(np.mean(rmse_scores), 2)}\")"
   ]
  },
  {
   "cell_type": "markdown",
   "id": "28c6d4de",
   "metadata": {
    "papermill": {
     "duration": 0.062657,
     "end_time": "2024-01-07T03:20:57.031742",
     "exception": false,
     "start_time": "2024-01-07T03:20:56.969085",
     "status": "completed"
    },
    "tags": []
   },
   "source": [
    "It was possible to eliminate one of the features while maintaining a 0.74. Here concludes the process."
   ]
  },
  {
   "cell_type": "code",
   "execution_count": 102,
   "id": "2c22a739",
   "metadata": {
    "execution": {
     "iopub.execute_input": "2024-01-07T03:20:57.159186Z",
     "iopub.status.busy": "2024-01-07T03:20:57.158513Z",
     "iopub.status.idle": "2024-01-07T03:20:57.162899Z",
     "shell.execute_reply": "2024-01-07T03:20:57.161980Z"
    },
    "papermill": {
     "duration": 0.070352,
     "end_time": "2024-01-07T03:20:57.165313",
     "exception": false,
     "start_time": "2024-01-07T03:20:57.094961",
     "status": "completed"
    },
    "tags": []
   },
   "outputs": [],
   "source": [
    "# print(f\"Now the dataset contains these {len(X.columns)} features:\\n\\n {X.columns}\")"
   ]
  },
  {
   "cell_type": "markdown",
   "id": "d8fce3ac",
   "metadata": {
    "papermill": {
     "duration": 0.064159,
     "end_time": "2024-01-07T03:20:57.293773",
     "exception": false,
     "start_time": "2024-01-07T03:20:57.229614",
     "status": "completed"
    },
    "tags": []
   },
   "source": [
    "Now we'll execute the Random Forest Baseline Model with this new set of features"
   ]
  },
  {
   "cell_type": "code",
   "execution_count": 103,
   "id": "2de00dce",
   "metadata": {
    "execution": {
     "iopub.execute_input": "2024-01-07T03:20:57.423367Z",
     "iopub.status.busy": "2024-01-07T03:20:57.422481Z",
     "iopub.status.idle": "2024-01-07T03:20:57.427919Z",
     "shell.execute_reply": "2024-01-07T03:20:57.426804Z"
    },
    "papermill": {
     "duration": 0.074263,
     "end_time": "2024-01-07T03:20:57.430661",
     "exception": false,
     "start_time": "2024-01-07T03:20:57.356398",
     "status": "completed"
    },
    "tags": []
   },
   "outputs": [],
   "source": [
    "# from sklearn.model_selection import KFold, cross_val_predict, cross_val_score\n",
    "# from sklearn.ensemble import RandomForestRegressor\n",
    "# from sklearn.metrics import make_scorer, mean_squared_error\n",
    "\n",
    "# rf = RandomForestRegressor(random_state=SEED)\n",
    "\n",
    "# X = simplified_train_logs[['num_events', 'chars_per_min_process', 'words_per_min_product',\n",
    "#        'sentences_per_min_product', 'pause_time_proportion_perc',\n",
    "#        'mean_pause_length_w_in_words']]\n",
    "\n",
    "# y = train_scores.score\n",
    "\n",
    "# num_folds = 5\n",
    "# kfold = KFold(n_splits=num_folds, shuffle=True, random_state=42)\n",
    "\n",
    "# # Define custom scorer for RMSE\n",
    "# rmse_scorer = make_scorer(lambda y_true, y_pred: np.sqrt(mean_squared_error(y_true, y_pred)), greater_is_better=False)\n",
    " \n",
    "# cv_scores = cross_val_score(rf, X, y, cv=kfold, scoring=rmse_scorer)\n",
    "# print(\"\\nCross-validation RMSE scores:\", -cv_scores)  # Negate scores since make_scorer uses greater_is_better=False\n",
    "# print(\"Mean RMSE:\", np.round(-cv_scores.mean(), 2))  # Negate mean as well\n"
   ]
  },
  {
   "cell_type": "markdown",
   "id": "08154196",
   "metadata": {
    "papermill": {
     "duration": 0.064322,
     "end_time": "2024-01-07T03:20:57.559687",
     "exception": false,
     "start_time": "2024-01-07T03:20:57.495365",
     "status": "completed"
    },
    "tags": []
   },
   "source": [
    "The Random Forest Baseline Model shows now a Mean RMSE of 0.7, slighly worse than the initial 0.68. Again, it seems a reasonable tradeoff."
   ]
  },
  {
   "cell_type": "markdown",
   "id": "a7c1aa4d",
   "metadata": {
    "papermill": {
     "duration": 0.063435,
     "end_time": "2024-01-07T03:20:57.685658",
     "exception": false,
     "start_time": "2024-01-07T03:20:57.622223",
     "status": "completed"
    },
    "tags": []
   },
   "source": [
    "In the future, we will exclude the Random Forest algorithm from consideration, as XGBoost is expected to outperform it in effectively addressing this challenge."
   ]
  },
  {
   "cell_type": "markdown",
   "id": "51200bfc",
   "metadata": {
    "papermill": {
     "duration": 0.07567,
     "end_time": "2024-01-07T03:20:57.828505",
     "exception": false,
     "start_time": "2024-01-07T03:20:57.752835",
     "status": "completed"
    },
    "tags": []
   },
   "source": [
    "### Adding feature with Kmeans"
   ]
  },
  {
   "cell_type": "markdown",
   "id": "879c1ee5",
   "metadata": {
    "papermill": {
     "duration": 0.06458,
     "end_time": "2024-01-07T03:20:57.964204",
     "exception": false,
     "start_time": "2024-01-07T03:20:57.899624",
     "status": "completed"
    },
    "tags": []
   },
   "source": [
    "Now the KMeans algorithm will be performed on the whole dataset in order to estimate a suitable number of clusters."
   ]
  },
  {
   "cell_type": "code",
   "execution_count": 104,
   "id": "27a78fba",
   "metadata": {
    "execution": {
     "iopub.execute_input": "2024-01-07T03:20:58.093677Z",
     "iopub.status.busy": "2024-01-07T03:20:58.093192Z",
     "iopub.status.idle": "2024-01-07T03:20:58.098880Z",
     "shell.execute_reply": "2024-01-07T03:20:58.097705Z"
    },
    "papermill": {
     "duration": 0.074673,
     "end_time": "2024-01-07T03:20:58.101500",
     "exception": false,
     "start_time": "2024-01-07T03:20:58.026827",
     "status": "completed"
    },
    "tags": []
   },
   "outputs": [],
   "source": [
    "# from sklearn.cluster import KMeans\n",
    "# inertias = {}\n",
    "# for n_clusters in [4, 6, 8, 10, 12]:\n",
    "#     kmeans = KMeans(n_clusters=n_clusters, random_state=SEED).fit(simplified_train_logs[[\n",
    "#         'num_events', 'chars_per_min_process', 'words_per_min_product',\n",
    "#         'sentences_per_min_product', 'pause_time_proportion_perc',\n",
    "#         'mean_pause_length_w_in_words']]\n",
    "# )\n",
    "#     inertias[n_clusters] = kmeans.inertia_\n",
    "\n",
    "# num_clusters = list(inertias.keys())\n",
    "# inertias = list(inertias.values())\n",
    "\n",
    "# plt.plot(num_clusters, inertias, marker='o')\n",
    "# plt.xlabel('Number of Clusters')\n",
    "# plt.ylabel('Inertias')\n",
    "# plt.title('Scatter Plot of Inertias');"
   ]
  },
  {
   "cell_type": "markdown",
   "id": "acb661f5",
   "metadata": {
    "papermill": {
     "duration": 0.062073,
     "end_time": "2024-01-07T03:20:58.226929",
     "exception": false,
     "start_time": "2024-01-07T03:20:58.164856",
     "status": "completed"
    },
    "tags": []
   },
   "source": [
    "The chosen value for number of clusters will be 6, since there is a remarkable change in slope beyond this point. "
   ]
  },
  {
   "cell_type": "code",
   "execution_count": 105,
   "id": "151e6201",
   "metadata": {
    "execution": {
     "iopub.execute_input": "2024-01-07T03:20:58.355409Z",
     "iopub.status.busy": "2024-01-07T03:20:58.354284Z",
     "iopub.status.idle": "2024-01-07T03:20:58.362653Z",
     "shell.execute_reply": "2024-01-07T03:20:58.361697Z"
    },
    "papermill": {
     "duration": 0.074349,
     "end_time": "2024-01-07T03:20:58.365219",
     "exception": false,
     "start_time": "2024-01-07T03:20:58.290870",
     "status": "completed"
    },
    "tags": []
   },
   "outputs": [],
   "source": [
    "# from sklearn.model_selection import KFold\n",
    "# from xgboost import XGBRegressor\n",
    "\n",
    "\n",
    "# simplified_train_logs['kmeans'] = 0\n",
    "\n",
    "# X = simplified_train_logs[['num_events', 'chars_per_min_process', 'words_per_min_product',\n",
    "#                            'sentences_per_min_product', 'pause_time_proportion_perc',\n",
    "#                            'mean_pause_length_w_in_words', 'kmeans']]\n",
    "\n",
    "# y = train_scores.score\n",
    "\n",
    "# # Set the number of folds\n",
    "# num_folds = 5\n",
    "\n",
    "# # Instantiate the KFold cross-validator\n",
    "# kf = KFold(n_splits=num_folds, shuffle=True, random_state=SEED)\n",
    "\n",
    "# # Initialize lists to store results\n",
    "# max_values = []\n",
    "# min_values = []\n",
    "# rmse_scores = []\n",
    "\n",
    "# regr = XGBRegressor(random_state=SEED)\n",
    "\n",
    "# # Perform cross-validation\n",
    "# for fold, (train_index, test_index) in enumerate(kf.split(X), 1):\n",
    "#     X_train, X_test = X.iloc[train_index], X.iloc[test_index]\n",
    "#     y_train, y_test = y.iloc[train_index], y.iloc[test_index]\n",
    "    \n",
    "#     from sklearn.cluster import KMeans\n",
    "#     kmeans = KMeans(n_clusters=6, random_state=SEED).fit(X_train.drop('kmeans', axis=1))\n",
    "#     X_train['kmeans'] = kmeans.labels_\n",
    "#     X_test['kmeans'] = kmeans.predict(X_test.drop('kmeans', axis=1))\n",
    "\n",
    "#     print(\"\\nValue Counts for kmeans labels in the Train Set of the current fold:\\n\\n\", X_train.kmeans.value_counts())\n",
    "#     print(\"\\nValue Counts for kmeans labels in the Test Set of the current fold:\\n\\n\", X_test.kmeans.value_counts())\n",
    "\n",
    "#     # Initialize lists to store errors for each fold\n",
    "#     train_errors_fold = []\n",
    "#     test_errors_fold = []\n",
    "\n",
    "#     # Fit the model on the training data\n",
    "#     regr.fit(X_train, y_train, eval_metric=\"rmse\", eval_set=[(X_train, y_train), (X_test, y_test)], verbose=False)\n",
    "#     # Get training and testing errors for each iteration of the current fold\n",
    "#     train_errors_fold = regr.evals_result()[\"validation_0\"][\"rmse\"]\n",
    "#     test_errors_fold = regr.evals_result()[\"validation_1\"][\"rmse\"]\n",
    "\n",
    "#     # Make predictions on the test data\n",
    "#     y_pred = regr.predict(X_test)\n",
    "\n",
    "#     # Store max and min predicted values for each fold\n",
    "#     max_values.append(np.round(np.max(y_pred), 2))\n",
    "#     min_values.append(np.round(np.min(y_pred), 2))\n",
    "\n",
    "#     # Calculate RMSE for the fold\n",
    "#     rmse = np.round(np.sqrt(((y_test - y_pred) ** 2).mean()), 2)\n",
    "#     rmse_scores.append(rmse)\n",
    "\n",
    "#     # Print results for each fold\n",
    "#     print(f\"\\nFold {fold}: Max Predicted Value: \", np.round(np.max(y_pred), 2), \"; Min Predicted Value: \", np.round(np.min(y_pred), 2), f\"; Fold RMSE: {rmse}\")\n",
    "\n",
    "#     # Plot training and testing errors for the current fold\n",
    "#     fig, ax = plt.subplots(figsize=(5, 3))\n",
    "#     ax.plot(train_errors_fold, label='Train')\n",
    "#     ax.plot(test_errors_fold, label='Test')\n",
    "#     ax.set_xlabel('Number of Iterations')\n",
    "#     ax.set_ylabel('RMSE')\n",
    "#     ax.legend()\n",
    "#     plt.title(f'Fold {fold}: Training and Testing Errors vs Number of Iterations')\n",
    "#     plt.show()\n",
    "\n",
    "# # Print average RMSE across all folds\n",
    "# print(f\"\\nCross-validation RMSE scores: {rmse_scores}\")\n",
    "# print(f\"\\nMean RMSE: {np.round(np.mean(rmse_scores), 2)}\")\n"
   ]
  },
  {
   "cell_type": "markdown",
   "id": "e1b16549",
   "metadata": {
    "papermill": {
     "duration": 0.061821,
     "end_time": "2024-01-07T03:20:58.490678",
     "exception": false,
     "start_time": "2024-01-07T03:20:58.428857",
     "status": "completed"
    },
    "tags": []
   },
   "source": [
    "On the one hand, the performance of the model does not improve: stays in 0.74. On the other hand, the variance of the cross-validation \n",
    "\n",
    "scores reduces marginally, not enough to approve the experiment, though. Therefore, the KMeans feature is dismissed."
   ]
  },
  {
   "cell_type": "markdown",
   "id": "230c106c",
   "metadata": {
    "papermill": {
     "duration": 0.061508,
     "end_time": "2024-01-07T03:20:58.613957",
     "exception": false,
     "start_time": "2024-01-07T03:20:58.552449",
     "status": "completed"
    },
    "tags": []
   },
   "source": [
    "### Adding PCA (Principal Component Analysis) components (features)"
   ]
  },
  {
   "cell_type": "markdown",
   "id": "c635cb92",
   "metadata": {
    "papermill": {
     "duration": 0.062836,
     "end_time": "2024-01-07T03:20:58.740009",
     "exception": false,
     "start_time": "2024-01-07T03:20:58.677173",
     "status": "completed"
    },
    "tags": []
   },
   "source": [
    "Much like our previous approach with KMeans, we will now determine the optimal number of PCA \n",
    "\n",
    "components to effectively capture the essence of the dataset, ensuring minimal loss of information."
   ]
  },
  {
   "cell_type": "code",
   "execution_count": 106,
   "id": "5ee57e86",
   "metadata": {
    "execution": {
     "iopub.execute_input": "2024-01-07T03:20:58.867318Z",
     "iopub.status.busy": "2024-01-07T03:20:58.866641Z",
     "iopub.status.idle": "2024-01-07T03:20:58.874831Z",
     "shell.execute_reply": "2024-01-07T03:20:58.873257Z"
    },
    "papermill": {
     "duration": 0.07619,
     "end_time": "2024-01-07T03:20:58.878115",
     "exception": false,
     "start_time": "2024-01-07T03:20:58.801925",
     "status": "completed"
    },
    "tags": []
   },
   "outputs": [],
   "source": [
    "# from sklearn.decomposition import PCA\n",
    "# from sklearn.preprocessing import StandardScaler\n",
    "\n",
    "# # Standardize the data\n",
    "# scaler = StandardScaler()\n",
    "# simplified_train_logs_scaled = scaler.fit_transform(simplified_train_logs[[\n",
    "#     'num_events', 'chars_per_min_process', 'words_per_min_product',\n",
    "#     'sentences_per_min_product', 'pause_time_proportion_perc',\n",
    "#     'mean_pause_length_w_in_words']])\n",
    "\n",
    "# # Loop over the number of PCA components\n",
    "# var_ratios = {}\n",
    "# for n_components in [2, 3, 4, 5]:\n",
    "#     print(f'\\n\\t- PCA with {n_components} components:\\n')\n",
    "    \n",
    "#     # Perform PCA\n",
    "#     logs_pca = PCA(n_components=n_components, random_state=SEED)\n",
    "#     logs_pca.fit(simplified_train_logs_scaled)\n",
    "    \n",
    "#     # Variance ratio\n",
    "#     var_ratio = logs_pca.explained_variance_ratio_\n",
    "#     var_ratio = pd.DataFrame(var_ratio).transpose()\n",
    "#     var_ratio.columns = [f'Comp{i}' for i in range(1, n_components + 1)]\n",
    "#     var_ratio.index = ['Proportion of Variance']\n",
    "#     print(var_ratio)\n",
    "    \n",
    "#     print('\\n', \n",
    "#           f'{n_components} components account for',\n",
    "#           f'{np.round(var_ratio.sum().sum() * 100, 2)}% of the variance.')\n",
    "    \n",
    "#     var_ratios[n_components] = np.round(var_ratio.sum().sum() * 100, 2)\n",
    "\n",
    "# print('\\n')\n",
    "# keys = list(var_ratios.keys())\n",
    "# values = list(var_ratios.values())\n",
    "\n",
    "# plt.plot(keys, values, color='blue', marker='o', label='Variance Ratios')\n",
    "# plt.xlabel('Number of Components')\n",
    "# plt.ylabel('Variance Ratios')\n",
    "# plt.title('Scatter Plot of Variance Ratios');"
   ]
  },
  {
   "cell_type": "markdown",
   "id": "215176af",
   "metadata": {
    "papermill": {
     "duration": 0.066718,
     "end_time": "2024-01-07T03:20:59.020086",
     "exception": false,
     "start_time": "2024-01-07T03:20:58.953368",
     "status": "completed"
    },
    "tags": []
   },
   "source": [
    "We will conduct experiments using both 3 and 4 PCA components, since 4 already cover 95% of the variance."
   ]
  },
  {
   "cell_type": "markdown",
   "id": "95f80a4a",
   "metadata": {
    "papermill": {
     "duration": 0.062716,
     "end_time": "2024-01-07T03:20:59.155463",
     "exception": false,
     "start_time": "2024-01-07T03:20:59.092747",
     "status": "completed"
    },
    "tags": []
   },
   "source": [
    "#### Adding 3 PCA Components"
   ]
  },
  {
   "cell_type": "code",
   "execution_count": 107,
   "id": "b297cb1f",
   "metadata": {
    "execution": {
     "iopub.execute_input": "2024-01-07T03:20:59.292838Z",
     "iopub.status.busy": "2024-01-07T03:20:59.291455Z",
     "iopub.status.idle": "2024-01-07T03:20:59.303444Z",
     "shell.execute_reply": "2024-01-07T03:20:59.301870Z"
    },
    "papermill": {
     "duration": 0.087371,
     "end_time": "2024-01-07T03:20:59.307656",
     "exception": false,
     "start_time": "2024-01-07T03:20:59.220285",
     "status": "completed"
    },
    "tags": []
   },
   "outputs": [],
   "source": [
    "# from sklearn.model_selection import KFold\n",
    "# from xgboost import XGBRegressor\n",
    "# from sklearn.decomposition import PCA\n",
    "# from sklearn.preprocessing import StandardScaler\n",
    "\n",
    "# X_original = simplified_train_logs[['num_events', 'chars_per_min_process', 'words_per_min_product',\n",
    "#                                     'sentences_per_min_product', 'pause_time_proportion_perc',\n",
    "#                                     'mean_pause_length_w_in_words']]\n",
    "\n",
    "# y = train_scores.score\n",
    "\n",
    "# # Set the number of folds\n",
    "# num_folds = 5\n",
    "\n",
    "# # Instantiate the KFold cross-validator\n",
    "# kf = KFold(n_splits=num_folds, shuffle=True, random_state=SEED)\n",
    "\n",
    "# # Initialize lists to store results\n",
    "# max_values = []\n",
    "# min_values = []\n",
    "# rmse_scores = []\n",
    "\n",
    "# regr = XGBRegressor(random_state=SEED)\n",
    "\n",
    "# # Perform cross-validation\n",
    "# for fold, (train_index, test_index) in enumerate(kf.split(X_original), 1):\n",
    "#     X_train, X_test = X_original.iloc[train_index], X_original.iloc[test_index]\n",
    "#     y_train, y_test = y.iloc[train_index], y.iloc[test_index]\n",
    "\n",
    "#     # Standardize the features\n",
    "#     scaler = StandardScaler()\n",
    "#     X_train_scaled = scaler.fit_transform(X_train)\n",
    "#     X_test_scaled = scaler.transform(X_test)\n",
    "\n",
    "#     # Apply PCA to the scaled features\n",
    "#     pca = PCA(n_components=3)\n",
    "#     X_train_pca = pca.fit_transform(X_train_scaled)\n",
    "#     X_test_pca = pca.transform(X_test_scaled)\n",
    "\n",
    "#     # Concatenate the first 3 PCA components to the original features\n",
    "#     X_train_with_pca = np.hstack([X_train_pca, X_train])\n",
    "#     X_test_with_pca = np.hstack([X_test_pca, X_test])\n",
    "\n",
    "#     # Initialize lists to store errors for each fold\n",
    "#     train_errors_fold = []\n",
    "#     test_errors_fold = []\n",
    "\n",
    "#     # Fit the model on the training data\n",
    "#     regr.fit(X_train_with_pca, y_train, eval_metric=\"rmse\", eval_set=[(X_train_with_pca, y_train), (X_test_with_pca, y_test)], verbose=False)\n",
    "#     # Get training and testing errors for each iteration of the current fold\n",
    "#     train_errors_fold = regr.evals_result()[\"validation_0\"][\"rmse\"]\n",
    "#     test_errors_fold = regr.evals_result()[\"validation_1\"][\"rmse\"]\n",
    "\n",
    "#     # Make predictions on the test data\n",
    "#     y_pred = regr.predict(X_test_with_pca)\n",
    "\n",
    "#     # Store max and min predicted values for each fold\n",
    "#     max_values.append(np.round(np.max(y_pred), 2))\n",
    "#     min_values.append(np.round(np.min(y_pred), 2))\n",
    "\n",
    "#     # Calculate RMSE for the fold\n",
    "#     rmse = np.round(np.sqrt(((y_test - y_pred) ** 2).mean()), 2)\n",
    "#     rmse_scores.append(rmse)\n",
    "\n",
    "#     # Print results for each fold\n",
    "#     print(f\"\\nFold {fold}: Max Predicted Value: \", np.round(np.max(y_pred), 2),\n",
    "#           \"; Min Predicted Value: \", np.round(np.min(y_pred), 2), f\"; Fold RMSE: {rmse}\")\n",
    "\n",
    "#     # Plot training and testing errors for the current fold\n",
    "#     fig, ax = plt.subplots(figsize=(5, 3))\n",
    "#     ax.plot(train_errors_fold, label='Train')\n",
    "#     ax.plot(test_errors_fold, label='Test')\n",
    "#     ax.set_xlabel('Number of Iterations')\n",
    "#     ax.set_ylabel('RMSE')\n",
    "#     ax.legend()\n",
    "#     plt.title(f'Fold {fold}: Training and Testing Errors vs Number of Iterations')\n",
    "#     plt.show()\n",
    "\n",
    "# # Print average RMSE across all folds\n",
    "# print(f\"\\nCross-validation RMSE scores: {rmse_scores}\")\n",
    "# print(f\"\\nMean RMSE: {np.round(np.mean(rmse_scores), 2)}\")\n"
   ]
  },
  {
   "cell_type": "markdown",
   "id": "c385abb3",
   "metadata": {
    "papermill": {
     "duration": 0.062436,
     "end_time": "2024-01-07T03:20:59.438763",
     "exception": false,
     "start_time": "2024-01-07T03:20:59.376327",
     "status": "completed"
    },
    "tags": []
   },
   "source": [
    "The result of the experiment with 3 added PCA Components does not show a satisfactory result: Mean RMSE of 0.75 vs base 0.74"
   ]
  },
  {
   "cell_type": "markdown",
   "id": "131e803b",
   "metadata": {
    "papermill": {
     "duration": 0.063756,
     "end_time": "2024-01-07T03:20:59.566170",
     "exception": false,
     "start_time": "2024-01-07T03:20:59.502414",
     "status": "completed"
    },
    "tags": []
   },
   "source": [
    "#### Adding 4 PCA Components"
   ]
  },
  {
   "cell_type": "code",
   "execution_count": 108,
   "id": "df62ab1e",
   "metadata": {
    "execution": {
     "iopub.execute_input": "2024-01-07T03:20:59.696726Z",
     "iopub.status.busy": "2024-01-07T03:20:59.695336Z",
     "iopub.status.idle": "2024-01-07T03:20:59.704375Z",
     "shell.execute_reply": "2024-01-07T03:20:59.703412Z"
    },
    "papermill": {
     "duration": 0.076622,
     "end_time": "2024-01-07T03:20:59.706972",
     "exception": false,
     "start_time": "2024-01-07T03:20:59.630350",
     "status": "completed"
    },
    "tags": []
   },
   "outputs": [],
   "source": [
    "# from sklearn.model_selection import KFold\n",
    "# from xgboost import XGBRegressor\n",
    "# from sklearn.decomposition import PCA\n",
    "# from sklearn.preprocessing import StandardScaler\n",
    "# import numpy as np\n",
    "# import matplotlib.pyplot as plt\n",
    "\n",
    "# X_original = simplified_train_logs[['num_events', 'chars_per_min_process', 'words_per_min_product',\n",
    "#                                     'sentences_per_min_product', 'pause_time_proportion_perc',\n",
    "#                                     'mean_pause_length_w_in_words']]\n",
    "\n",
    "# y = train_scores.score\n",
    "\n",
    "# # Set the number of folds\n",
    "# num_folds = 5\n",
    "\n",
    "# # Instantiate the KFold cross-validator\n",
    "# kf = KFold(n_splits=num_folds, shuffle=True, random_state=SEED)\n",
    "\n",
    "# # Initialize lists to store results\n",
    "# max_values = []\n",
    "# min_values = []\n",
    "# rmse_scores = []\n",
    "\n",
    "# regr = XGBRegressor(random_state=SEED)\n",
    "\n",
    "# # Perform cross-validation\n",
    "# for fold, (train_index, test_index) in enumerate(kf.split(X_original), 1):\n",
    "#     X_train, X_test = X_original.iloc[train_index], X_original.iloc[test_index]\n",
    "#     y_train, y_test = y.iloc[train_index], y.iloc[test_index]\n",
    "\n",
    "#     # Standardize the features\n",
    "#     scaler = StandardScaler()\n",
    "#     X_train_scaled = scaler.fit_transform(X_train)\n",
    "#     X_test_scaled = scaler.transform(X_test)\n",
    "\n",
    "#     # Apply PCA to the scaled features\n",
    "#     pca = PCA(n_components=4)\n",
    "#     X_train_pca = pca.fit_transform(X_train_scaled)\n",
    "#     X_test_pca = pca.transform(X_test_scaled)\n",
    "\n",
    "#     # Concatenate the first 4 PCA components to the original features\n",
    "#     X_train_with_pca = np.hstack([X_train_pca, X_train])\n",
    "#     X_test_with_pca = np.hstack([X_test_pca, X_test])\n",
    "\n",
    "#     # Initialize lists to store errors for each fold\n",
    "#     train_errors_fold = []\n",
    "#     test_errors_fold = []\n",
    "\n",
    "#     # Fit the model on the training data\n",
    "#     regr.fit(X_train_with_pca, y_train, eval_metric=\"rmse\", eval_set=[(X_train_with_pca, y_train), (X_test_with_pca, y_test)], verbose=False)\n",
    "#     # Get training and testing errors for each iteration of the current fold\n",
    "#     train_errors_fold = regr.evals_result()[\"validation_0\"][\"rmse\"]\n",
    "#     test_errors_fold = regr.evals_result()[\"validation_1\"][\"rmse\"]\n",
    "\n",
    "#     # Make predictions on the test data\n",
    "#     y_pred = regr.predict(X_test_with_pca)\n",
    "\n",
    "#     # Store max and min predicted values for each fold\n",
    "#     max_values.append(np.round(np.max(y_pred), 2))\n",
    "#     min_values.append(np.round(np.min(y_pred), 2))\n",
    "\n",
    "#     # Calculate RMSE for the fold\n",
    "#     rmse = np.round(np.sqrt(((y_test - y_pred) ** 2).mean()), 2)\n",
    "#     rmse_scores.append(rmse)\n",
    "\n",
    "#     # Print results for each fold\n",
    "#     print(f\"\\nFold {fold}: Max Predicted Value: \", np.round(np.max(y_pred), 2),\n",
    "#           \"; Min Predicted Value: \", np.round(np.min(y_pred), 2), f\"; Fold RMSE: {rmse}\")\n",
    "\n",
    "#     # Plot training and testing errors for the current fold\n",
    "#     fig, ax = plt.subplots(figsize=(5, 3))\n",
    "#     ax.plot(train_errors_fold, label='Train')\n",
    "#     ax.plot(test_errors_fold, label='Test')\n",
    "#     ax.set_xlabel('Number of Iterations')\n",
    "#     ax.set_ylabel('RMSE')\n",
    "#     ax.legend()\n",
    "#     plt.title(f'Fold {fold}: Training and Testing Errors vs Number of Iterations')\n",
    "#     plt.show()\n",
    "\n",
    "# # Print average RMSE across all folds\n",
    "# print(f\"\\nCross-validation RMSE scores: {rmse_scores}\")\n",
    "# print(f\"\\nMean RMSE: {np.round(np.mean(rmse_scores), 2)}\")\n"
   ]
  },
  {
   "cell_type": "markdown",
   "id": "1acb8ce8",
   "metadata": {
    "papermill": {
     "duration": 0.065069,
     "end_time": "2024-01-07T03:20:59.835812",
     "exception": false,
     "start_time": "2024-01-07T03:20:59.770743",
     "status": "completed"
    },
    "tags": []
   },
   "source": [
    "This time, the cross-validation scores are different than before, yet the mean value stays the same: 0.75. Both experiments are dismissed."
   ]
  },
  {
   "cell_type": "markdown",
   "id": "8a897169",
   "metadata": {
    "papermill": {
     "duration": 0.063636,
     "end_time": "2024-01-07T03:20:59.963028",
     "exception": false,
     "start_time": "2024-01-07T03:20:59.899392",
     "status": "completed"
    },
    "tags": []
   },
   "source": [
    "### Replacing all features with the PCA components"
   ]
  },
  {
   "cell_type": "markdown",
   "id": "70517c17",
   "metadata": {
    "papermill": {
     "duration": 0.063466,
     "end_time": "2024-01-07T03:21:00.091228",
     "exception": false,
     "start_time": "2024-01-07T03:21:00.027762",
     "status": "completed"
    },
    "tags": []
   },
   "source": [
    "#### 3 PCA Components"
   ]
  },
  {
   "cell_type": "code",
   "execution_count": 109,
   "id": "c52f44ae",
   "metadata": {
    "execution": {
     "iopub.execute_input": "2024-01-07T03:21:00.218682Z",
     "iopub.status.busy": "2024-01-07T03:21:00.218263Z",
     "iopub.status.idle": "2024-01-07T03:21:00.226856Z",
     "shell.execute_reply": "2024-01-07T03:21:00.225514Z"
    },
    "papermill": {
     "duration": 0.075062,
     "end_time": "2024-01-07T03:21:00.229389",
     "exception": false,
     "start_time": "2024-01-07T03:21:00.154327",
     "status": "completed"
    },
    "tags": []
   },
   "outputs": [],
   "source": [
    "# from sklearn.model_selection import KFold\n",
    "# from xgboost import XGBRegressor\n",
    "# from sklearn.decomposition import PCA\n",
    "# from sklearn.preprocessing import StandardScaler\n",
    "\n",
    "# X_original = simplified_train_logs[['num_events', 'chars_per_min_process', 'words_per_min_product',\n",
    "#                                     'sentences_per_min_product', 'pause_time_proportion_perc',\n",
    "#                                     'mean_pause_length_w_in_words']]\n",
    "\n",
    "# y = train_scores.score\n",
    "\n",
    "# # Set the number of folds\n",
    "# num_folds = 5\n",
    "\n",
    "# # Instantiate the KFold cross-validator\n",
    "# kf = KFold(n_splits=num_folds, shuffle=True, random_state=SEED)\n",
    "\n",
    "# # Initialize lists to store results\n",
    "# max_values = []\n",
    "# min_values = []\n",
    "# rmse_scores = []\n",
    "\n",
    "# regr = XGBRegressor(random_state=SEED)\n",
    "\n",
    "# # Perform cross-validation\n",
    "# for fold, (train_index, test_index) in enumerate(kf.split(X_original), 1):\n",
    "#     X_train, X_test = X_original.iloc[train_index], X_original.iloc[test_index]\n",
    "#     y_train, y_test = y.iloc[train_index], y.iloc[test_index]\n",
    "\n",
    "#     # Standardize the features\n",
    "#     scaler = StandardScaler()\n",
    "#     X_train_scaled = scaler.fit_transform(X_train)\n",
    "#     X_test_scaled = scaler.transform(X_test)\n",
    "\n",
    "#     # Apply PCA to the scaled features\n",
    "#     pca = PCA(n_components=3)\n",
    "#     X_train_pca = pca.fit_transform(X_train_scaled)\n",
    "#     X_test_pca = pca.transform(X_test_scaled)\n",
    "\n",
    "#     # Initialize lists to store errors for each fold\n",
    "#     train_errors_fold = []\n",
    "#     test_errors_fold = []\n",
    "\n",
    "#     # Fit the model on the training data\n",
    "#     regr.fit(X_train_pca, y_train, eval_metric=\"rmse\", eval_set=[(X_train_pca, y_train), (X_test_pca, y_test)], verbose=False)\n",
    "#     # Get training and testing errors for each iteration of the current fold\n",
    "#     train_errors_fold = regr.evals_result()[\"validation_0\"][\"rmse\"]\n",
    "#     test_errors_fold = regr.evals_result()[\"validation_1\"][\"rmse\"]\n",
    "\n",
    "#     # Make predictions on the test data\n",
    "#     y_pred = regr.predict(X_test_pca)\n",
    "\n",
    "#     # Store max and min predicted values for each fold\n",
    "#     max_values.append(np.round(np.max(y_pred), 2))\n",
    "#     min_values.append(np.round(np.min(y_pred), 2))\n",
    "\n",
    "#     # Calculate RMSE for the fold\n",
    "#     rmse = np.round(np.sqrt(((y_test - y_pred) ** 2).mean()), 2)\n",
    "#     rmse_scores.append(rmse)\n",
    "\n",
    "#     # Print results for each fold\n",
    "#     print(f\"\\nFold {fold}: Max Predicted Value: \", np.round(np.max(y_pred), 2),\n",
    "#           \"; Min Predicted Value: \", np.round(np.min(y_pred), 2), f\"; Fold RMSE: {rmse}\")\n",
    "\n",
    "#     # Plot training and testing errors for the current fold\n",
    "#     fig, ax = plt.subplots(figsize=(5, 3))\n",
    "#     ax.plot(train_errors_fold, label='Train')\n",
    "#     ax.plot(test_errors_fold, label='Test')\n",
    "#     ax.set_xlabel('Number of Iterations')\n",
    "#     ax.set_ylabel('RMSE')\n",
    "#     ax.legend()\n",
    "#     plt.title(f'Fold {fold}: Training and Testing Errors vs Number of Iterations')\n",
    "#     plt.show()\n",
    "\n",
    "# # Print average RMSE across all folds\n",
    "# print(f\"\\nCross-validation RMSE scores: {rmse_scores}\")\n",
    "# print(f\"\\nMean RMSE: {np.round(np.mean(rmse_scores), 2)}\")"
   ]
  },
  {
   "cell_type": "markdown",
   "id": "96284e2b",
   "metadata": {
    "papermill": {
     "duration": 0.063233,
     "end_time": "2024-01-07T03:21:00.356604",
     "exception": false,
     "start_time": "2024-01-07T03:21:00.293371",
     "status": "completed"
    },
    "tags": []
   },
   "source": [
    "#### 4 PCA Components"
   ]
  },
  {
   "cell_type": "code",
   "execution_count": 110,
   "id": "0e34b211",
   "metadata": {
    "execution": {
     "iopub.execute_input": "2024-01-07T03:21:00.489330Z",
     "iopub.status.busy": "2024-01-07T03:21:00.488270Z",
     "iopub.status.idle": "2024-01-07T03:21:00.496339Z",
     "shell.execute_reply": "2024-01-07T03:21:00.495269Z"
    },
    "papermill": {
     "duration": 0.078911,
     "end_time": "2024-01-07T03:21:00.499401",
     "exception": false,
     "start_time": "2024-01-07T03:21:00.420490",
     "status": "completed"
    },
    "tags": []
   },
   "outputs": [],
   "source": [
    "# from sklearn.model_selection import KFold\n",
    "# from xgboost import XGBRegressor\n",
    "# from sklearn.decomposition import PCA\n",
    "# from sklearn.preprocessing import StandardScaler\n",
    "\n",
    "# X_original = simplified_train_logs[['num_events', 'chars_per_min_process', 'words_per_min_product',\n",
    "#                                     'sentences_per_min_product', 'pause_time_proportion_perc',\n",
    "#                                     'mean_pause_length_w_in_words']]\n",
    "\n",
    "# y = train_scores.score\n",
    "\n",
    "# # Set the number of folds\n",
    "# num_folds = 5\n",
    "\n",
    "# # Instantiate the KFold cross-validator\n",
    "# kf = KFold(n_splits=num_folds, shuffle=True, random_state=SEED)\n",
    "\n",
    "# # Initialize lists to store results\n",
    "# max_values = []\n",
    "# min_values = []\n",
    "# rmse_scores = []\n",
    "\n",
    "# regr = XGBRegressor(random_state=SEED)\n",
    "\n",
    "# # Perform cross-validation\n",
    "# for fold, (train_index, test_index) in enumerate(kf.split(X_original), 1):\n",
    "#     X_train, X_test = X_original.iloc[train_index], X_original.iloc[test_index]\n",
    "#     y_train, y_test = y.iloc[train_index], y.iloc[test_index]\n",
    "\n",
    "#     # Standardize the features\n",
    "#     scaler = StandardScaler()\n",
    "#     X_train_scaled = scaler.fit_transform(X_train)\n",
    "#     X_test_scaled = scaler.transform(X_test)\n",
    "\n",
    "#     # Apply PCA to the scaled features\n",
    "#     pca = PCA(n_components=4)\n",
    "#     X_train_pca = pca.fit_transform(X_train_scaled)\n",
    "#     X_test_pca = pca.transform(X_test_scaled)\n",
    "\n",
    "#     # Initialize lists to store errors for each fold\n",
    "#     train_errors_fold = []\n",
    "#     test_errors_fold = []\n",
    "\n",
    "#     # Fit the model on the training data\n",
    "#     regr.fit(X_train_pca, y_train, eval_metric=\"rmse\", eval_set=[(X_train_pca, y_train), (X_test_pca, y_test)], verbose=False)\n",
    "#     # Get training and testing errors for each iteration of the current fold\n",
    "#     train_errors_fold = regr.evals_result()[\"validation_0\"][\"rmse\"]\n",
    "#     test_errors_fold = regr.evals_result()[\"validation_1\"][\"rmse\"]\n",
    "\n",
    "#     # Make predictions on the test data\n",
    "#     y_pred = regr.predict(X_test_pca)\n",
    "\n",
    "#     # Store max and min predicted values for each fold\n",
    "#     max_values.append(np.round(np.max(y_pred), 2))\n",
    "#     min_values.append(np.round(np.min(y_pred), 2))\n",
    "\n",
    "#     # Calculate RMSE for the fold\n",
    "#     rmse = np.round(np.sqrt(((y_test - y_pred) ** 2).mean()), 2)\n",
    "#     rmse_scores.append(rmse)\n",
    "\n",
    "#     # Print results for each fold\n",
    "#     print(f\"\\nFold {fold}: Max Predicted Value: \", np.round(np.max(y_pred), 2),\n",
    "#           \"; Min Predicted Value: \", np.round(np.min(y_pred), 2), f\"; Fold RMSE: {rmse}\")\n",
    "\n",
    "#     # Plot training and testing errors for the current fold\n",
    "#     fig, ax = plt.subplots(figsize=(5, 3))\n",
    "#     ax.plot(train_errors_fold, label='Train')\n",
    "#     ax.plot(test_errors_fold, label='Test')\n",
    "#     ax.set_xlabel('Number of Iterations')\n",
    "#     ax.set_ylabel('RMSE')\n",
    "#     ax.legend()\n",
    "#     plt.title(f'Fold {fold}: Training and Testing Errors vs Number of Iterations')\n",
    "#     plt.show()\n",
    "\n",
    "# # Print average RMSE across all folds\n",
    "# print(f\"\\nCross-validation RMSE scores: {rmse_scores}\")\n",
    "# print(f\"\\nMean RMSE: {np.round(np.mean(rmse_scores), 2)}\")\n"
   ]
  },
  {
   "cell_type": "markdown",
   "id": "40e1149c",
   "metadata": {
    "papermill": {
     "duration": 0.06914,
     "end_time": "2024-01-07T03:21:00.632400",
     "exception": false,
     "start_time": "2024-01-07T03:21:00.563260",
     "status": "completed"
    },
    "tags": []
   },
   "source": [
    "The last two experiments show far worse results than the base model. All 4 PCA experiments are rejected."
   ]
  },
  {
   "cell_type": "markdown",
   "id": "3831883e",
   "metadata": {
    "papermill": {
     "duration": 0.064138,
     "end_time": "2024-01-07T03:21:00.761316",
     "exception": false,
     "start_time": "2024-01-07T03:21:00.697178",
     "status": "completed"
    },
    "tags": []
   },
   "source": [
    "### Standardizing"
   ]
  },
  {
   "cell_type": "code",
   "execution_count": 111,
   "id": "f2dc46ec",
   "metadata": {
    "execution": {
     "iopub.execute_input": "2024-01-07T03:21:00.894109Z",
     "iopub.status.busy": "2024-01-07T03:21:00.892736Z",
     "iopub.status.idle": "2024-01-07T03:21:00.901680Z",
     "shell.execute_reply": "2024-01-07T03:21:00.900359Z"
    },
    "papermill": {
     "duration": 0.077654,
     "end_time": "2024-01-07T03:21:00.904702",
     "exception": false,
     "start_time": "2024-01-07T03:21:00.827048",
     "status": "completed"
    },
    "tags": []
   },
   "outputs": [],
   "source": [
    "# from sklearn.model_selection import KFold\n",
    "# from xgboost import XGBRegressor\n",
    "# from sklearn.preprocessing import StandardScaler\n",
    "\n",
    "\n",
    "# X = simplified_train_logs[['num_events', 'chars_per_min_process', 'words_per_min_product',\n",
    "#                            'sentences_per_min_product', 'pause_time_proportion_perc',\n",
    "#                            'mean_pause_length_w_in_words']]\n",
    "\n",
    "# y = train_scores.score\n",
    "\n",
    "# # Set the number of folds\n",
    "# num_folds = 5\n",
    "\n",
    "# # Instantiate the KFold cross-validator\n",
    "# kf = KFold(n_splits=num_folds, shuffle=True, random_state=SEED)\n",
    "\n",
    "# # Initialize lists to store results\n",
    "# max_values = []\n",
    "# min_values = []\n",
    "# rmse_scores = []\n",
    "\n",
    "# regr = XGBRegressor(random_state=SEED)\n",
    "\n",
    "# # Perform cross-validation\n",
    "# for fold, (train_index, test_index) in enumerate(kf.split(X), 1):\n",
    "#     X_train, X_test = X.iloc[train_index], X.iloc[test_index]\n",
    "#     y_train, y_test = y.iloc[train_index], y.iloc[test_index]\n",
    "\n",
    "#     # Initialize lists to store errors for each fold\n",
    "#     train_errors_fold = []\n",
    "#     test_errors_fold = []\n",
    "    \n",
    "#     # Standardize the features\n",
    "#     scaler = StandardScaler()\n",
    "#     X_train_scaled = scaler.fit_transform(X_train)\n",
    "#     X_test_scaled = scaler.transform(X_test)\n",
    "\n",
    "#     # Fit the model on the training data\n",
    "#     regr.fit(X_train_scaled, y_train, eval_metric=\"rmse\", eval_set=[(X_train_scaled, y_train), (X_test_scaled, y_test)], verbose=False)\n",
    "\n",
    "#     # Get training and testing errors for each iteration of the current fold\n",
    "#     train_errors_fold = regr.evals_result()[\"validation_0\"][\"rmse\"]\n",
    "#     test_errors_fold = regr.evals_result()[\"validation_1\"][\"rmse\"]\n",
    "\n",
    "#     # Make predictions on the test data\n",
    "#     y_pred = regr.predict(X_test_scaled)\n",
    "\n",
    "#     # Store max and min predicted values for each fold\n",
    "#     max_values.append(np.round(np.max(y_pred), 2))\n",
    "#     min_values.append(np.round(np.min(y_pred), 2))\n",
    "\n",
    "#     # Calculate RMSE for the fold\n",
    "#     rmse = np.round(np.sqrt(((y_test - y_pred) ** 2).mean()), 2)\n",
    "#     rmse_scores.append(rmse)\n",
    "\n",
    "#     # Print results for each fold\n",
    "#     print(f\"\\nFold {fold}: Max Predicted Value: \", np.round(np.max(y_pred), 2), \"; Min Predicted Value: \", np.round(np.min(y_pred), 2), f\"; Fold RMSE: {rmse}\")\n",
    "\n",
    "#     # Plot training and testing errors for the current fold\n",
    "#     fig, ax = plt.subplots(figsize=(5, 3))\n",
    "#     ax.plot(train_errors_fold, label='Train')\n",
    "#     ax.plot(test_errors_fold, label='Test')\n",
    "#     ax.set_xlabel('Number of Iterations')\n",
    "#     ax.set_ylabel('RMSE')\n",
    "#     ax.legend()\n",
    "#     plt.title(f'Fold {fold}: Training and Testing Errors vs Number of Iterations')\n",
    "#     plt.show()\n",
    "\n",
    "# # Print average RMSE across all folds\n",
    "# print(f\"\\nCross-validation RMSE scores: {rmse_scores}\")\n",
    "# print(f\"\\nMean RMSE: {np.round(np.mean(rmse_scores), 2)}\")\n"
   ]
  },
  {
   "cell_type": "markdown",
   "id": "d1d26f3c",
   "metadata": {
    "papermill": {
     "duration": 0.063232,
     "end_time": "2024-01-07T03:21:01.030837",
     "exception": false,
     "start_time": "2024-01-07T03:21:00.967605",
     "status": "completed"
    },
    "tags": []
   },
   "source": [
    "Standardizing results in the base score: 0.74. The cross-validation RMSE scores are also identical \n",
    "\n",
    "to those in the base model, proving this method is not useful for the problem at hand."
   ]
  },
  {
   "cell_type": "markdown",
   "id": "e4134fb6",
   "metadata": {
    "papermill": {
     "duration": 0.062616,
     "end_time": "2024-01-07T03:21:01.159445",
     "exception": false,
     "start_time": "2024-01-07T03:21:01.096829",
     "status": "completed"
    },
    "tags": []
   },
   "source": [
    "### Eliminating anomalies (essays with score 0.5)"
   ]
  },
  {
   "cell_type": "markdown",
   "id": "3c3fa819",
   "metadata": {
    "papermill": {
     "duration": 0.064799,
     "end_time": "2024-01-07T03:21:01.286813",
     "exception": false,
     "start_time": "2024-01-07T03:21:01.222014",
     "status": "completed"
    },
    "tags": []
   },
   "source": [
    "Since there are only 5 essays with a score of 0.5, maybe the model will improve if we ignore them."
   ]
  },
  {
   "cell_type": "code",
   "execution_count": 112,
   "id": "16835048",
   "metadata": {
    "execution": {
     "iopub.execute_input": "2024-01-07T03:21:01.416036Z",
     "iopub.status.busy": "2024-01-07T03:21:01.415250Z",
     "iopub.status.idle": "2024-01-07T03:21:01.419455Z",
     "shell.execute_reply": "2024-01-07T03:21:01.418579Z"
    },
    "papermill": {
     "duration": 0.073132,
     "end_time": "2024-01-07T03:21:01.421964",
     "exception": false,
     "start_time": "2024-01-07T03:21:01.348832",
     "status": "completed"
    },
    "tags": []
   },
   "outputs": [],
   "source": [
    "# anomalies_idx = train_scores[train_scores.score==0.5].index\n",
    "# train_scores_ex_anomalies = train_scores.drop(train_scores.index[anomalies_idx])\n",
    "# simplified_train_logs_ex_anomalies = simplified_train_logs.drop(simplified_train_logs.index[anomalies_idx])"
   ]
  },
  {
   "cell_type": "code",
   "execution_count": 113,
   "id": "14843d4c",
   "metadata": {
    "execution": {
     "iopub.execute_input": "2024-01-07T03:21:01.553141Z",
     "iopub.status.busy": "2024-01-07T03:21:01.552692Z",
     "iopub.status.idle": "2024-01-07T03:21:01.559260Z",
     "shell.execute_reply": "2024-01-07T03:21:01.558378Z"
    },
    "papermill": {
     "duration": 0.074858,
     "end_time": "2024-01-07T03:21:01.561734",
     "exception": false,
     "start_time": "2024-01-07T03:21:01.486876",
     "status": "completed"
    },
    "tags": []
   },
   "outputs": [],
   "source": [
    "# from sklearn.model_selection import KFold\n",
    "# from xgboost import XGBRegressor\n",
    "\n",
    "# X = simplified_train_logs_ex_anomalies[['num_events',\n",
    "#                                         'chars_per_min_process', \n",
    "#                                         'words_per_min_product',\n",
    "#                                         'sentences_per_min_product',\n",
    "#                                         'pause_time_proportion_perc',\n",
    "#                                         'mean_pause_length_w_in_words']]\n",
    "\n",
    "# y = train_scores_ex_anomalies.score\n",
    "\n",
    "# # Set the number of folds\n",
    "# num_folds = 5\n",
    "\n",
    "# # Instantiate the KFold cross-validator\n",
    "# kf = KFold(n_splits=num_folds, shuffle=True, random_state=SEED)\n",
    "\n",
    "# # Initialize lists to store results\n",
    "# rmse_scores = []\n",
    "\n",
    "# regr = XGBRegressor(random_state=SEED)\n",
    "\n",
    "# # Perform cross-validation\n",
    "# for fold, (train_index, test_index) in enumerate(kf.split(X), 1):\n",
    "#     X_train, X_test = X.iloc[train_index], X.iloc[test_index]\n",
    "#     y_train, y_test = y.iloc[train_index], y.iloc[test_index]\n",
    "\n",
    "#     # Fit the model on the training data\n",
    "#     regr.fit(X_train, y_train, eval_metric=\"rmse\", eval_set=[(X_train, y_train), (X_test, y_test)], verbose=False)\n",
    "\n",
    "#     # Get training and testing errors for each iteration of the current fold\n",
    "#     train_errors_fold = regr.evals_result()[\"validation_0\"][\"rmse\"]\n",
    "#     test_errors_fold = regr.evals_result()[\"validation_1\"][\"rmse\"]\n",
    "\n",
    "#     # Make predictions on the test data\n",
    "#     y_pred = regr.predict(X_test)\n",
    "\n",
    "#     # Calculate RMSE for the fold\n",
    "#     rmse = np.round(np.sqrt(((y_test - y_pred) ** 2).mean()), 2)\n",
    "#     rmse_scores.append(rmse)\n",
    "\n",
    "# # Print average RMSE across all folds\n",
    "# print(f\"\\nCross-validation RMSE scores: {rmse_scores}\")\n",
    "# print(f\"\\nMean RMSE: {np.round(np.mean(rmse_scores), 2)}\")"
   ]
  },
  {
   "cell_type": "markdown",
   "id": "85c8d6c2",
   "metadata": {
    "papermill": {
     "duration": 0.061596,
     "end_time": "2024-01-07T03:21:01.689047",
     "exception": false,
     "start_time": "2024-01-07T03:21:01.627451",
     "status": "completed"
    },
    "tags": []
   },
   "source": [
    "Once again, the performance worsens (0.75 vs 0.74), so experiment dismissed."
   ]
  },
  {
   "cell_type": "markdown",
   "id": "bbc44f56",
   "metadata": {
    "papermill": {
     "duration": 0.062033,
     "end_time": "2024-01-07T03:21:01.813340",
     "exception": false,
     "start_time": "2024-01-07T03:21:01.751307",
     "status": "completed"
    },
    "tags": []
   },
   "source": [
    "### Hyperparameters"
   ]
  },
  {
   "cell_type": "markdown",
   "id": "defea125",
   "metadata": {
    "papermill": {
     "duration": 0.063028,
     "end_time": "2024-01-07T03:21:01.939032",
     "exception": false,
     "start_time": "2024-01-07T03:21:01.876004",
     "status": "completed"
    },
    "tags": []
   },
   "source": [
    "We'll use Grid Search with a range of common values for XGBoost hyperparameters and select the \n",
    "\n",
    "optimal combination based based on the Mean RMSE Score, Standard Deviation of cross-validation scores, \n",
    "\n",
    "and execution time. It is important to note that, all else being equal, fewer trees imply shorter execution times."
   ]
  },
  {
   "cell_type": "code",
   "execution_count": 114,
   "id": "3b4cd3a9",
   "metadata": {
    "execution": {
     "iopub.execute_input": "2024-01-07T03:21:02.070152Z",
     "iopub.status.busy": "2024-01-07T03:21:02.068990Z",
     "iopub.status.idle": "2024-01-07T03:21:02.075698Z",
     "shell.execute_reply": "2024-01-07T03:21:02.074706Z"
    },
    "papermill": {
     "duration": 0.074557,
     "end_time": "2024-01-07T03:21:02.078268",
     "exception": false,
     "start_time": "2024-01-07T03:21:02.003711",
     "status": "completed"
    },
    "tags": []
   },
   "outputs": [],
   "source": [
    "# from sklearn.model_selection import KFold, GridSearchCV\n",
    "# from xgboost import XGBRegressor\n",
    "\n",
    "# X = simplified_train_logs[['num_events',\n",
    "#                            'chars_per_min_process', \n",
    "#                            'words_per_min_product',\n",
    "#                            'sentences_per_min_product',\n",
    "#                            'pause_time_proportion_perc',\n",
    "#                            'mean_pause_length_w_in_words']]\n",
    "\n",
    "# y = train_scores.score\n",
    "\n",
    "# # Set the number of folds\n",
    "# num_folds = 5\n",
    "\n",
    "# # Instantiate the KFold cross-validator\n",
    "# kf = KFold(n_splits=num_folds, shuffle=True, random_state=SEED)\n",
    "\n",
    "# # Set the parameter grid for grid search\n",
    "# param_grid = {\n",
    "#     'learning_rate': [0.01, 0.05, 0.1, 0.2],\n",
    "#     'n_estimators': [100, 150, 200],\n",
    "#     'max_depth': [3, 4, 5],\n",
    "#     'subsample': [0.8, 0.9, 1.0],\n",
    "#     'colsample_bytree': [0.8, 0.9, 1.0],\n",
    "#     'gamma': [0, 1, 5],\n",
    "#     'alpha': [0, 0.3]\n",
    "# }\n",
    "\n",
    "# # Initialize XGBRegressor\n",
    "# regr = XGBRegressor(random_state=SEED)\n",
    "\n",
    "# # Initialize GridSearchCV\n",
    "# grid_search = GridSearchCV(regr, param_grid, scoring='neg_root_mean_squared_error', cv=kf, verbose=1, n_jobs=-1)\n",
    "\n",
    "# # Fit the model on the training data using GridSearchCV\n",
    "# grid_search.fit(X, y)\n",
    "\n",
    "# # Get the results\n",
    "# results_df = pd.DataFrame(grid_search.cv_results_)\n",
    "\n",
    "# # Display top 5 combinations of parameters for the mean score\n",
    "# print(\"\\nTop 5 combinations of parameters for the mean score:\\n\")\n",
    "# top_5_mean = results_df[results_df['rank_test_score'] <= 5]\n",
    "\n",
    "# # Sort by the absolute mean test score in ascending order\n",
    "# top_5_mean = top_5_mean.assign(abs_mean_test_score=top_5_mean['mean_test_score'].abs())\n",
    "# top_5_mean = top_5_mean.sort_values(by='abs_mean_test_score', ascending=True)\n",
    "\n",
    "# for index, row in top_5_mean.iterrows():\n",
    "#     print(f\"Parameters: {row['params']}\")\n",
    "#     print(f\"Mean Test Score: {np.round(row['mean_test_score'],4)}\")\n",
    "#     print(f\"Standard Deviation: {np.round(row['std_test_score'],4)}\\n\")\n"
   ]
  },
  {
   "cell_type": "markdown",
   "id": "94d64c55",
   "metadata": {
    "papermill": {
     "duration": 0.062808,
     "end_time": "2024-01-07T03:21:02.204860",
     "exception": false,
     "start_time": "2024-01-07T03:21:02.142052",
     "status": "completed"
    },
    "tags": []
   },
   "source": [
    "Output from previous cell:\n",
    "\n",
    "    Fitting 5 folds for each of 1944 candidates, totalling 9720 fits\n",
    "\n",
    "    Top 5 combinations of parameters for the mean score:\n",
    "\n",
    "    Parameters: {'alpha': 0, 'colsample_bytree': 0.8, 'gamma': 1, 'learning_rate': 0.05, 'max_depth': 3, 'n_estimators': 150, 'subsample': 0.8}\n",
    "    Mean Test Score: -0.6839\n",
    "    Standard Deviation: 0.0199\n",
    "\n",
    "    Parameters: {'alpha': 0, 'colsample_bytree': 0.8, 'gamma': 1, 'learning_rate': 0.05, 'max_depth': 3, 'n_estimators': 200, 'subsample': 0.8}\n",
    "    Mean Test Score: -0.684\n",
    "    Standard Deviation: 0.0203\n",
    "\n",
    "    Parameters: {'alpha': 0.3, 'colsample_bytree': 0.8, 'gamma': 0, 'learning_rate': 0.05, 'max_depth': 3, 'n_estimators': 150, 'subsample': 0.8}\n",
    "    Mean Test Score: -0.684\n",
    "    Standard Deviation: 0.0206\n",
    "\n",
    "    **CHOSEN HYPERPARAMETERS**: {'alpha': 0.3, 'colsample_bytree': 0.9, 'gamma': 1, 'learning_rate': 0.1, 'max_depth': 3, 'n_estimators': 100, 'subsample': 0.8}\n",
    "    Mean Test Score: -0.6841\n",
    "    Standard Deviation: 0.0211\n",
    "\n",
    "    Parameters: {'alpha': 0.3, 'colsample_bytree': 0.8, 'gamma': 1, 'learning_rate': 0.05, 'max_depth': 3, 'n_estimators': 150, 'subsample': 0.8}\n",
    "    Mean Test Score: -0.6841\n",
    "    Standard Deviation: 0.0205"
   ]
  },
  {
   "cell_type": "code",
   "execution_count": 115,
   "id": "0e1ecafc",
   "metadata": {
    "execution": {
     "iopub.execute_input": "2024-01-07T03:21:02.334459Z",
     "iopub.status.busy": "2024-01-07T03:21:02.333656Z",
     "iopub.status.idle": "2024-01-07T03:21:02.340378Z",
     "shell.execute_reply": "2024-01-07T03:21:02.339510Z"
    },
    "papermill": {
     "duration": 0.074729,
     "end_time": "2024-01-07T03:21:02.342686",
     "exception": false,
     "start_time": "2024-01-07T03:21:02.267957",
     "status": "completed"
    },
    "tags": []
   },
   "outputs": [
    {
     "data": {
      "text/plain": [
       "Index(['std_chars_interval', 'coded_essay_str', 'len_essay', 'num_spaces',\n",
       "       'num_?', 'num_.', 'num_\"', 'num_;', 'num_punctuation',\n",
       "       'num_control_key'],\n",
       "      dtype='object')"
      ]
     },
     "execution_count": 115,
     "metadata": {},
     "output_type": "execute_result"
    }
   ],
   "source": [
    "simplified_train_logs.columns[-10:]"
   ]
  },
  {
   "cell_type": "code",
   "execution_count": 116,
   "id": "188738bc",
   "metadata": {
    "execution": {
     "iopub.execute_input": "2024-01-07T03:21:02.472979Z",
     "iopub.status.busy": "2024-01-07T03:21:02.472048Z",
     "iopub.status.idle": "2024-01-07T03:21:05.225207Z",
     "shell.execute_reply": "2024-01-07T03:21:05.224000Z"
    },
    "papermill": {
     "duration": 2.82272,
     "end_time": "2024-01-07T03:21:05.229326",
     "exception": false,
     "start_time": "2024-01-07T03:21:02.406606",
     "status": "completed"
    },
    "tags": []
   },
   "outputs": [
    {
     "name": "stdout",
     "output_type": "stream",
     "text": [
      "\n",
      "Fold 1: Max Predicted Value:  5.54 ; Min Predicted Value:  1.0 ; Fold RMSE: 0.66\n"
     ]
    },
    {
     "data": {
      "image/png": "[encoded data removed]",
      "text/plain": [
       "<Figure size 400x200 with 1 Axes>"
      ]
     },
     "metadata": {},
     "output_type": "display_data"
    },
    {
     "name": "stdout",
     "output_type": "stream",
     "text": [
      "\n",
      "Fold 2: Max Predicted Value:  5.32 ; Min Predicted Value:  1.3 ; Fold RMSE: 0.64\n"
     ]
    },
    {
     "data": {
      "image/png": "[encoded data removed]",
      "text/plain": [
       "<Figure size 400x200 with 1 Axes>"
      ]
     },
     "metadata": {},
     "output_type": "display_data"
    },
    {
     "name": "stdout",
     "output_type": "stream",
     "text": [
      "\n",
      "Fold 3: Max Predicted Value:  5.34 ; Min Predicted Value:  1.24 ; Fold RMSE: 0.63\n"
     ]
    },
    {
     "data": {
      "image/png": "[encoded data removed]",
      "text/plain": [
       "<Figure size 400x200 with 1 Axes>"
      ]
     },
     "metadata": {},
     "output_type": "display_data"
    },
    {
     "name": "stdout",
     "output_type": "stream",
     "text": [
      "\n",
      "Fold 4: Max Predicted Value:  5.24 ; Min Predicted Value:  1.52 ; Fold RMSE: 0.67\n"
     ]
    },
    {
     "data": {
      "image/png": "[encoded data removed]",
      "text/plain": [
       "<Figure size 400x200 with 1 Axes>"
      ]
     },
     "metadata": {},
     "output_type": "display_data"
    },
    {
     "name": "stdout",
     "output_type": "stream",
     "text": [
      "\n",
      "Fold 5: Max Predicted Value:  5.28 ; Min Predicted Value:  1.54 ; Fold RMSE: 0.67\n"
     ]
    },
    {
     "data": {
      "image/png": "[encoded data removed]",
      "text/plain": [
       "<Figure size 400x200 with 1 Axes>"
      ]
     },
     "metadata": {},
     "output_type": "display_data"
    },
    {
     "name": "stdout",
     "output_type": "stream",
     "text": [
      "\n",
      "Cross-validation RMSE scores: [0.66, 0.64, 0.63, 0.67, 0.67]\n",
      "\n",
      "Mean RMSE: 0.654\n"
     ]
    }
   ],
   "source": [
    "from sklearn.model_selection import KFold\n",
    "from xgboost import XGBRegressor\n",
    "\n",
    "X = simplified_train_logs[['num_events',\n",
    "                           'chars_per_min_process', \n",
    "                           'words_per_min_product',\n",
    "                           'sentences_per_min_product',\n",
    "                           'pause_time_proportion_perc',\n",
    "                           'mean_pause_length_w_in_words',\n",
    "                          'len_essay', 'num_spaces',\n",
    "       'num_?', 'num_.', 'num_\"', 'num_;', 'num_punctuation']]\n",
    "\n",
    "y = train_scores.score\n",
    "\n",
    "# Set the number of folds\n",
    "num_folds = 5\n",
    "\n",
    "# Instantiate the KFold cross-validator\n",
    "kf = KFold(n_splits=num_folds, shuffle=True, random_state=SEED)\n",
    "\n",
    "# Initialize lists to store results\n",
    "rmse_scores = []\n",
    "\n",
    "regr = XGBRegressor(alpha=0.3, colsample_bytree=0.9, gamma=1, \n",
    "                    learning_rate=0.1, max_depth=3, n_estimators=100, subsample=0.8, random_state=SEED)\n",
    "\n",
    "# Perform cross-validation\n",
    "for fold, (train_index, test_index) in enumerate(kf.split(X), 1):\n",
    "    X_train, X_test = X.iloc[train_index], X.iloc[test_index]\n",
    "    y_train, y_test = y.iloc[train_index], y.iloc[test_index]\n",
    "\n",
    "    # Fit the model on the training data\n",
    "    regr.fit(X_train, y_train, eval_metric=\"rmse\", eval_set=[(X_train, y_train), (X_test, y_test)], verbose=False)\n",
    "\n",
    "    # Get training and testing errors for each iteration of the current fold\n",
    "    train_errors_fold = regr.evals_result()[\"validation_0\"][\"rmse\"]\n",
    "    test_errors_fold = regr.evals_result()[\"validation_1\"][\"rmse\"]\n",
    "\n",
    "    # Make predictions on the test data\n",
    "    y_pred = regr.predict(X_test)\n",
    "\n",
    "    # Calculate RMSE for the fold\n",
    "    rmse = np.round(np.sqrt(((y_test - y_pred) ** 2).mean()), 2)\n",
    "    rmse_scores.append(rmse)\n",
    "\n",
    "    # Print results for each fold\n",
    "    print(f\"\\nFold {fold}: Max Predicted Value: \", np.round(np.max(y_pred), 2), \"; Min Predicted Value: \", np.round(np.min(y_pred), 2), f\"; Fold RMSE: {rmse}\")\n",
    "\n",
    "    # Plot training and testing errors for the current fold\n",
    "    fig, ax = plt.subplots(figsize=(4, 2))\n",
    "    ax.plot(train_errors_fold, label='Train')\n",
    "    ax.plot(test_errors_fold, label='Test')\n",
    "    ax.set_xlabel('Number of Iterations')\n",
    "    ax.set_ylabel('RMSE')\n",
    "    ax.legend()\n",
    "    plt.title(f'Fold {fold}: Training and Testing Errors vs Number of Iterations')\n",
    "    plt.show()\n",
    "\n",
    "# Print average RMSE across all folds\n",
    "print(f\"\\nCross-validation RMSE scores: {rmse_scores}\")\n",
    "print(f\"\\nMean RMSE: {np.round(np.mean(rmse_scores), 3)}\")"
   ]
  },
  {
   "cell_type": "markdown",
   "id": "bd72c700",
   "metadata": {
    "papermill": {
     "duration": 0.069922,
     "end_time": "2024-01-07T03:21:05.366661",
     "exception": false,
     "start_time": "2024-01-07T03:21:05.296739",
     "status": "completed"
    },
    "tags": []
   },
   "source": [
    "Submission with the last model obtained a score of 0.684, roughly the same obtained here with cross-validation: 0.684 vs 0.68"
   ]
  },
  {
   "cell_type": "markdown",
   "id": "39007614",
   "metadata": {
    "papermill": {
     "duration": 0.066777,
     "end_time": "2024-01-07T03:21:05.500547",
     "exception": false,
     "start_time": "2024-01-07T03:21:05.433770",
     "status": "completed"
    },
    "tags": []
   },
   "source": [
    "The best submission so far, using the Baseline Random Forest Regressor, had a much greater variance:"
   ]
  },
  {
   "cell_type": "code",
   "execution_count": 117,
   "id": "99a29592",
   "metadata": {
    "execution": {
     "iopub.execute_input": "2024-01-07T03:21:05.636076Z",
     "iopub.status.busy": "2024-01-07T03:21:05.634788Z",
     "iopub.status.idle": "2024-01-07T03:21:05.641950Z",
     "shell.execute_reply": "2024-01-07T03:21:05.640283Z"
    },
    "papermill": {
     "duration": 0.077932,
     "end_time": "2024-01-07T03:21:05.644394",
     "exception": false,
     "start_time": "2024-01-07T03:21:05.566462",
     "status": "completed"
    },
    "tags": []
   },
   "outputs": [
    {
     "name": "stdout",
     "output_type": "stream",
     "text": [
      "Variance for Baseline Random Forest Regressor: 0.0017 \n",
      "\t Variance for last XGB Regressor model: 0.0004\n"
     ]
    }
   ],
   "source": [
    "print(f\"Variance for Baseline Random Forest Regressor: {np.round(np.var([0.61, 0.73, 0.68, 0.71, 0.66]),4)}\", \n",
    "      f\"\\n\\t Variance for last XGB Regressor model: {np.round(np.var([0.69, 0.68, 0.65, 0.69, 0.71]),4)}\")"
   ]
  },
  {
   "cell_type": "markdown",
   "id": "96dd52d9",
   "metadata": {
    "papermill": {
     "duration": 0.065929,
     "end_time": "2024-01-07T03:21:05.777939",
     "exception": false,
     "start_time": "2024-01-07T03:21:05.712010",
     "status": "completed"
    },
    "tags": []
   },
   "source": [
    "Perhaps that explains why the submission score was clearly superior to the cross-validation score in that case, while in the other cases it's staying consistent."
   ]
  },
  {
   "cell_type": "markdown",
   "id": "1d1d4b4a",
   "metadata": {
    "papermill": {
     "duration": 0.065183,
     "end_time": "2024-01-07T03:21:05.908828",
     "exception": false,
     "start_time": "2024-01-07T03:21:05.843645",
     "status": "completed"
    },
    "tags": []
   },
   "source": [
    "### Experiments with a Classification approach"
   ]
  },
  {
   "cell_type": "markdown",
   "id": "626a66d0",
   "metadata": {
    "papermill": {
     "duration": 0.066646,
     "end_time": "2024-01-07T03:21:06.041524",
     "exception": false,
     "start_time": "2024-01-07T03:21:05.974878",
     "status": "completed"
    },
    "tags": []
   },
   "source": [
    "Classification approaches are compatible with Stratification, which might have a positive impact in the predictive skills of the model. \n",
    "\n",
    "The target variable will be modified to make it suitable for classification."
   ]
  },
  {
   "cell_type": "code",
   "execution_count": 118,
   "id": "c9437b1a",
   "metadata": {
    "execution": {
     "iopub.execute_input": "2024-01-07T03:21:06.175225Z",
     "iopub.status.busy": "2024-01-07T03:21:06.174589Z",
     "iopub.status.idle": "2024-01-07T03:21:06.178581Z",
     "shell.execute_reply": "2024-01-07T03:21:06.177645Z"
    },
    "papermill": {
     "duration": 0.073625,
     "end_time": "2024-01-07T03:21:06.180942",
     "exception": false,
     "start_time": "2024-01-07T03:21:06.107317",
     "status": "completed"
    },
    "tags": []
   },
   "outputs": [],
   "source": [
    "# train_scores['score_cat'] = (2 * train_scores.score) - 1\n",
    "# train_scores.score_cat = pd.Categorical(train_scores.score_cat, sorted(train_scores.score_cat.unique()), ordered=True)\n",
    "# print('Changing type to Categorical:\\n', train_scores.score_cat.unique())"
   ]
  },
  {
   "cell_type": "markdown",
   "id": "2d7b4969",
   "metadata": {
    "papermill": {
     "duration": 0.067921,
     "end_time": "2024-01-07T03:21:06.315266",
     "exception": false,
     "start_time": "2024-01-07T03:21:06.247345",
     "status": "completed"
    },
    "tags": []
   },
   "source": [
    "Output of previous cell: \n",
    "\n",
    "    Changing type to Categorical:\n",
    "     [6.0, 11.0, 3.0, 7.0, 8.0, ..., 5.0, 2.0, 10.0, 1.0, 0.0]\n",
    "\n",
    "\n",
    "    Length: 12\n",
    "\n",
    "    Categories (12, float64): [0.0 < 1.0 < 2.0 < 3.0 ... 8.0 < 9.0 < 10.0 < 11.0]"
   ]
  },
  {
   "cell_type": "markdown",
   "id": "3d73423c",
   "metadata": {
    "papermill": {
     "duration": 0.066564,
     "end_time": "2024-01-07T03:21:06.448276",
     "exception": false,
     "start_time": "2024-01-07T03:21:06.381712",
     "status": "completed"
    },
    "tags": []
   },
   "source": [
    "#### XGBoost Classifier with same features, without hyperparameters"
   ]
  },
  {
   "cell_type": "code",
   "execution_count": 119,
   "id": "94659800",
   "metadata": {
    "execution": {
     "iopub.execute_input": "2024-01-07T03:21:06.584369Z",
     "iopub.status.busy": "2024-01-07T03:21:06.583256Z",
     "iopub.status.idle": "2024-01-07T03:21:06.589137Z",
     "shell.execute_reply": "2024-01-07T03:21:06.588216Z"
    },
    "papermill": {
     "duration": 0.076894,
     "end_time": "2024-01-07T03:21:06.591824",
     "exception": false,
     "start_time": "2024-01-07T03:21:06.514930",
     "status": "completed"
    },
    "tags": []
   },
   "outputs": [],
   "source": [
    "# from sklearn.model_selection import StratifiedKFold, cross_val_predict, cross_val_score\n",
    "# from xgboost import XGBClassifier\n",
    "# from sklearn.metrics import make_scorer, confusion_matrix, accuracy_score\n",
    "\n",
    "# xgb_classifier = XGBClassifier(random_state=SEED)\n",
    "\n",
    "# X = simplified_train_logs[['num_events', 'chars_per_min_process', 'words_per_min_product',\n",
    "#        'sentences_per_min_product', 'pause_time_proportion_perc',\n",
    "#        'mean_pause_length_w_in_words']]\n",
    "\n",
    "# y = train_scores.score\n",
    "\n",
    "# num_folds = 5\n",
    "# skf = StratifiedKFold(n_splits=num_folds, shuffle=True, random_state=SEED)\n",
    "\n",
    "# # Define custom scorer for accuracy\n",
    "# accuracy_scorer = make_scorer(accuracy_score)\n",
    "\n",
    "# cv_scores = cross_val_score(xgb_classifier, X, y, cv=skf, scoring=accuracy_scorer)\n",
    "# print(\"\\nCross-validation Accuracy scores:\", cv_scores)\n",
    "# print(\"Mean Accuracy:\", np.round(cv_scores.mean(), 2))\n",
    "\n",
    "# # Additional step for Mean RMSE calculation\n",
    "# # Define custom scorer for RMSE\n",
    "# rmse_scorer = make_scorer(lambda y_true, y_pred: np.sqrt(mean_squared_error(y_true, y_pred)), greater_is_better=False)\n",
    "# cv_rmse_scores = cross_val_score(xgb_classifier, X, y, cv=skf, scoring=rmse_scorer)\n",
    "# print(\"\\nCross-validation RMSE scores:\", -cv_rmse_scores)  # Negate scores since make_scorer uses greater_is_better=False\n",
    "# print(\"Mean RMSE:\", np.round(-cv_rmse_scores.mean(), 2))  # Negate mean as well\n"
   ]
  },
  {
   "cell_type": "markdown",
   "id": "3cfbdf07",
   "metadata": {
    "papermill": {
     "duration": 0.066061,
     "end_time": "2024-01-07T03:21:06.725052",
     "exception": false,
     "start_time": "2024-01-07T03:21:06.658991",
     "status": "completed"
    },
    "tags": []
   },
   "source": [
    "Results for previous cell:\n",
    "\n",
    "    Cross-validation Accuracy scores: [0.29, 0.31, 0.26, 0.28, 0.29]\n",
    "\n",
    "    Mean Accuracy: 0.29\n",
    "\n",
    "    Cross-validation RMSE scores: [1.73, 1.62, 1.66, 1.67, 1.61]\n",
    "\n",
    "    Mean RMSE: 1.66"
   ]
  },
  {
   "cell_type": "markdown",
   "id": "f3417e9d",
   "metadata": {
    "papermill": {
     "duration": 0.06496,
     "end_time": "2024-01-07T03:21:06.855464",
     "exception": false,
     "start_time": "2024-01-07T03:21:06.790504",
     "status": "completed"
    },
    "tags": []
   },
   "source": [
    "#### XGBoost Classifier with same features and same hyperparameters"
   ]
  },
  {
   "cell_type": "code",
   "execution_count": 120,
   "id": "7fa711b2",
   "metadata": {
    "execution": {
     "iopub.execute_input": "2024-01-07T03:21:06.990458Z",
     "iopub.status.busy": "2024-01-07T03:21:06.989974Z",
     "iopub.status.idle": "2024-01-07T03:21:06.996715Z",
     "shell.execute_reply": "2024-01-07T03:21:06.995467Z"
    },
    "papermill": {
     "duration": 0.078456,
     "end_time": "2024-01-07T03:21:06.999220",
     "exception": false,
     "start_time": "2024-01-07T03:21:06.920764",
     "status": "completed"
    },
    "tags": []
   },
   "outputs": [],
   "source": [
    "# from sklearn.model_selection import StratifiedKFold, cross_val_predict, cross_val_score\n",
    "# from xgboost import XGBClassifier\n",
    "# from sklearn.metrics import make_scorer, confusion_matrix, accuracy_score\n",
    "\n",
    "# xgb_classifier = XGBClassifier(alpha=0.3, colsample_bytree=0.9, gamma=1, learning_rate=0.1, \n",
    "#                                 max_depth=3, n_estimators=100, subsample=0.8, random_state=SEED)\n",
    "\n",
    "# X = simplified_train_logs[['num_events', 'chars_per_min_process', 'words_per_min_product',\n",
    "#        'sentences_per_min_product', 'pause_time_proportion_perc',\n",
    "#        'mean_pause_length_w_in_words']]\n",
    "\n",
    "# y = train_scores.score\n",
    "\n",
    "# num_folds = 5\n",
    "# skf = StratifiedKFold(n_splits=num_folds, shuffle=True, random_state=SEED)\n",
    "\n",
    "# # Define custom scorer for accuracy\n",
    "# accuracy_scorer = make_scorer(accuracy_score)\n",
    "\n",
    "# cv_scores = cross_val_score(xgb_classifier, X, y, cv=skf, scoring=accuracy_scorer)\n",
    "# print(\"\\nCross-validation Accuracy scores:\", cv_scores)\n",
    "# print(\"Mean Accuracy:\", np.round(cv_scores.mean(), 2))\n",
    "\n",
    "# # Additional step for Mean RMSE calculation\n",
    "# # Define custom scorer for RMSE\n",
    "# rmse_scorer = make_scorer(lambda y_true, y_pred: np.sqrt(mean_squared_error(y_true, y_pred)), greater_is_better=False)\n",
    "# cv_rmse_scores = cross_val_score(xgb_classifier, X, y, cv=skf, scoring=rmse_scorer)\n",
    "# print(\"\\nCross-validation RMSE scores:\", -cv_rmse_scores)  # Negate scores since make_scorer uses greater_is_better=False\n",
    "# print(\"Mean RMSE:\", np.round(-cv_rmse_scores.mean(), 2))  # Negate mean as well\n"
   ]
  },
  {
   "cell_type": "markdown",
   "id": "53d07b07",
   "metadata": {
    "papermill": {
     "duration": 0.06752,
     "end_time": "2024-01-07T03:21:07.136148",
     "exception": false,
     "start_time": "2024-01-07T03:21:07.068628",
     "status": "completed"
    },
    "tags": []
   },
   "source": [
    "Results for previous cell:\n",
    "\n",
    "    Cross-validation Accuracy scores: [0.31, 0.33, 0.28, 0.30, 0.30]\n",
    "\n",
    "    Mean Accuracy: 0.3\n",
    "\n",
    "    Cross-validation RMSE scores: [1.59, 1.50,  1.54, 1.51, 1.50]\n",
    "\n",
    "    Mean RMSE: 1.52"
   ]
  },
  {
   "cell_type": "markdown",
   "id": "bb32c96d",
   "metadata": {
    "papermill": {
     "duration": 0.070093,
     "end_time": "2024-01-07T03:21:07.273175",
     "exception": false,
     "start_time": "2024-01-07T03:21:07.203082",
     "status": "completed"
    },
    "tags": []
   },
   "source": [
    "Both Mean RMSE scores are far worse than those produced by the Regression Models we had built so far. \n",
    "\n",
    "It could be the case that this classification algorithm performed better with a different set of features. Experiment dismissed, regardless."
   ]
  },
  {
   "cell_type": "markdown",
   "id": "a5939d2d",
   "metadata": {
    "papermill": {
     "duration": 0.072621,
     "end_time": "2024-01-07T03:21:07.415508",
     "exception": false,
     "start_time": "2024-01-07T03:21:07.342887",
     "status": "completed"
    },
    "tags": []
   },
   "source": [
    "##### Functions used to constrain predictions (not useful so far)"
   ]
  },
  {
   "cell_type": "code",
   "execution_count": 121,
   "id": "89b5e841",
   "metadata": {
    "execution": {
     "iopub.execute_input": "2024-01-07T03:21:07.555124Z",
     "iopub.status.busy": "2024-01-07T03:21:07.553866Z",
     "iopub.status.idle": "2024-01-07T03:21:07.560151Z",
     "shell.execute_reply": "2024-01-07T03:21:07.559000Z"
    },
    "papermill": {
     "duration": 0.080201,
     "end_time": "2024-01-07T03:21:07.563098",
     "exception": false,
     "start_time": "2024-01-07T03:21:07.482897",
     "status": "completed"
    },
    "tags": []
   },
   "outputs": [],
   "source": [
    "# Functions to constrain predictions\n",
    "# def discretize(predictions):\n",
    "#     score_values = np.array(sorted(train_scores.score.unique()))\n",
    "#     closest_values = score_values[np.argmin(np.abs(predictions[:, np.newaxis] - score_values), axis=1)]\n",
    "#     return closest_values\n",
    "\n",
    "# def modify_array(arr):\n",
    "#     modified_arr = [min(max(value, 0.5), 6) for value in arr]\n",
    "#     return modified_arr\n",
    "\n",
    "# def sigmoid_transform(x):\n",
    "#     k = 2  \n",
    "#     c = 3.5\n",
    "#     a = 5.5  \n",
    "#     b = 0.5\n",
    "\n",
    "#     sigmoid_result = 1 / (1 + np.exp(-k * (x - c)))\n",
    "#     transformed_result = a * sigmoid_result + b\n",
    "\n",
    "#     return transformed_result"
   ]
  },
  {
   "cell_type": "markdown",
   "id": "85fd04d1",
   "metadata": {
    "papermill": {
     "duration": 0.069549,
     "end_time": "2024-01-07T03:21:07.699204",
     "exception": false,
     "start_time": "2024-01-07T03:21:07.629655",
     "status": "completed"
    },
    "tags": []
   },
   "source": [
    "#### Brief description of other experiments"
   ]
  },
  {
   "cell_type": "code",
   "execution_count": 122,
   "id": "57c75c18",
   "metadata": {
    "execution": {
     "iopub.execute_input": "2024-01-07T03:21:07.859746Z",
     "iopub.status.busy": "2024-01-07T03:21:07.858872Z",
     "iopub.status.idle": "2024-01-07T03:21:07.863898Z",
     "shell.execute_reply": "2024-01-07T03:21:07.862940Z"
    },
    "papermill": {
     "duration": 0.096438,
     "end_time": "2024-01-07T03:21:07.866532",
     "exception": false,
     "start_time": "2024-01-07T03:21:07.770094",
     "status": "completed"
    },
    "tags": []
   },
   "outputs": [],
   "source": [
    "# Create several bin variables for each of the 6 features\n",
    "# None of them could help improve the score. It deteriorated in most cases"
   ]
  },
  {
   "cell_type": "code",
   "execution_count": 123,
   "id": "92512d56",
   "metadata": {
    "execution": {
     "iopub.execute_input": "2024-01-07T03:21:08.004335Z",
     "iopub.status.busy": "2024-01-07T03:21:08.003514Z",
     "iopub.status.idle": "2024-01-07T03:21:08.008535Z",
     "shell.execute_reply": "2024-01-07T03:21:08.007711Z"
    },
    "papermill": {
     "duration": 0.07725,
     "end_time": "2024-01-07T03:21:08.010960",
     "exception": false,
     "start_time": "2024-01-07T03:21:07.933710",
     "status": "completed"
    },
    "tags": []
   },
   "outputs": [],
   "source": [
    "# Create new variable subtracting Nonproduction time from sum of action time - not helpful"
   ]
  },
  {
   "cell_type": "code",
   "execution_count": 124,
   "id": "b793c291",
   "metadata": {
    "execution": {
     "iopub.execute_input": "2024-01-07T03:21:08.144847Z",
     "iopub.status.busy": "2024-01-07T03:21:08.144010Z",
     "iopub.status.idle": "2024-01-07T03:21:08.149056Z",
     "shell.execute_reply": "2024-01-07T03:21:08.148243Z"
    },
    "papermill": {
     "duration": 0.074994,
     "end_time": "2024-01-07T03:21:08.151442",
     "exception": false,
     "start_time": "2024-01-07T03:21:08.076448",
     "status": "completed"
    },
    "tags": []
   },
   "outputs": [],
   "source": [
    "# Tried sorting the imbalance in the target variable by using the parameter \"sample_weight\" in xgb's fit method. \n",
    "# The model predicted values closer to the extremes, still not reaching either 0.5 or 6. The score deteriorated.\n",
    "# Tried the same with XGB Classifier. Worse"
   ]
  },
  {
   "cell_type": "markdown",
   "id": "22c6d561",
   "metadata": {
    "papermill": {
     "duration": 0.065595,
     "end_time": "2024-01-07T03:21:08.283107",
     "exception": false,
     "start_time": "2024-01-07T03:21:08.217512",
     "status": "completed"
    },
    "tags": []
   },
   "source": [
    "## Preparation for submission"
   ]
  },
  {
   "cell_type": "code",
   "execution_count": 125,
   "id": "6a845d79",
   "metadata": {
    "execution": {
     "iopub.execute_input": "2024-01-07T03:21:08.419616Z",
     "iopub.status.busy": "2024-01-07T03:21:08.419140Z",
     "iopub.status.idle": "2024-01-07T03:21:08.657908Z",
     "shell.execute_reply": "2024-01-07T03:21:08.656934Z"
    },
    "papermill": {
     "duration": 0.309866,
     "end_time": "2024-01-07T03:21:08.660718",
     "exception": false,
     "start_time": "2024-01-07T03:21:08.350852",
     "status": "completed"
    },
    "tags": []
   },
   "outputs": [],
   "source": [
    "regr.fit(X,y)      # Fitting the Model to the whole dataset\n",
    "\n",
    "# Function to extract numbers from 'activity' values when value like 'Move...'\n",
    "def extract_numbers(input_string):\n",
    "    # Define a regular expression pattern to match the numbers inside square brackets\n",
    "    pattern = r'\\[(\\d+),\\s*(\\d+)\\]\\s*To\\s*\\[(\\d+),\\s*(\\d+)\\]'\n",
    "\n",
    "    match = re.search(pattern, input_string)\n",
    "\n",
    "    num1, num2, num3, num4 = map(int, match.groups())\n",
    "    return num1, num2, num3, num4\n",
    "\n",
    "# Function to update the main string based on rules\n",
    "def update_string(row, main_string, cursor_position_curr, cursor_position_prev):\n",
    "    if row['activity'] == 'Input':\n",
    "        main_string = main_string[:cursor_position_prev] + row['text_change'] + main_string[cursor_position_prev:]\n",
    "    elif row['activity'] == 'Remove/Cut':\n",
    "        start_pos = cursor_position_prev\n",
    "        end_pos = cursor_position_curr\n",
    "        main_string = main_string[:end_pos] + main_string[start_pos:]\n",
    "    elif row['activity'] == 'Replace':\n",
    "        replace_str = row['text_change']\n",
    "        arrow_idx = replace_str.find(' => ')\n",
    "        str_to_delete = replace_str[:arrow_idx]\n",
    "        str_to_add = replace_str[arrow_idx+4:]\n",
    "        main_string = main_string[:cursor_position_prev-len(str_to_delete)] + str_to_add + main_string[cursor_position_prev:]\n",
    "    elif row['activity'] == 'Paste':\n",
    "        str_to_add = row['text_change']\n",
    "        main_string = main_string[:cursor_position_prev] + str_to_add + main_string[cursor_position_curr:]\n",
    "    elif 'Move' in row['activity']:\n",
    "        x1, y1, x2, y2 = extract_numbers(row.activity)\n",
    "        str_to_move = row['text_change']\n",
    "        main_string = main_string[:x1] + main_string[y1:]\n",
    "        main_string = main_string[:x2] + str_to_move + main_string[y2:]\n",
    "    return main_string\n",
    "\n",
    "\n",
    "\n",
    "def transformations_train_test(df):     # Apply to test_logs the same transformations applied to train_logs\n",
    "\n",
    "    id_groups = df.groupby('id')\n",
    "\n",
    "    df['num_events'] = id_groups['event_id'].transform('last')\n",
    "\n",
    "    df['input_chars_aux'] = id_groups['activity'].transform(lambda x: (x == 'Input').sum())\n",
    "\n",
    "    df['remove_cut_chars_aux'] = id_groups['activity'].transform(\n",
    "        lambda x: (df.loc[x.index, 'text_change'][x == 'Remove/Cut']).str.len().sum()\n",
    "    )\n",
    "\n",
    "    df['paste_chars_aux'] = id_groups['activity'].transform(\n",
    "        lambda x: (df.loc[x.index, 'text_change'][x == 'Paste']).str.len().sum()\n",
    "    )\n",
    "\n",
    "    df['total_time_mins'] = np.round(id_groups['up_time'].transform('last') / 60000, 1)\n",
    "\n",
    "    for _, group in id_groups:\n",
    "        first_strings_replace_chars = 0\n",
    "        second_strings_replace_chars = 0\n",
    "\n",
    "        for replace_str in group[group.activity == \"Replace\"].text_change.values:\n",
    "            arrow_idx = replace_str.find(' => ')\n",
    "            first_strings_replace_chars += arrow_idx\n",
    "            len_second_str = len(replace_str) - arrow_idx - len(' => ')\n",
    "            second_strings_replace_chars += len_second_str\n",
    "\n",
    "        df.loc[group.index, 'first_strings_replace_chars_aux'] = first_strings_replace_chars\n",
    "        df.loc[group.index, 'second_strings_replace_chars_aux'] = second_strings_replace_chars\n",
    "\n",
    "    df['chars_product'] = df.input_chars_aux - df.remove_cut_chars_aux - \\\n",
    "                          df.first_strings_replace_chars_aux + df.second_strings_replace_chars_aux + df.paste_chars_aux\n",
    "\n",
    "    df['chars_process'] = df.input_chars_aux + df.second_strings_replace_chars_aux + \\\n",
    "                         df.paste_chars_aux\n",
    "    df['chars_per_min_process'] = np.round(df.chars_process / df.total_time_mins, 1)\n",
    "\n",
    "\n",
    "    df['last_word_count_aux'] = id_groups['word_count'].transform(lambda x: x.values[-1])\n",
    "    df['words_per_min_product'] = np.round(df.last_word_count_aux / df.total_time_mins, 1)\n",
    "\n",
    "    for _, group in id_groups:\n",
    "        diff_word_count = group['word_count'].shift(1) - group['word_count']\n",
    "        num_deleted_words = np.maximum(0, diff_word_count).sum()\n",
    "\n",
    "        input_sentences = group[(group['text_change'].str.contains('[\\.\\;\\?\\!\\:]', regex=True)) &\n",
    "                                    (group.activity=='Input')].event_id.count()\n",
    "\n",
    "        remove_cut_sentences = group[(group['text_change'].str.contains('[\\.\\;\\?\\!\\:]', regex=True)) &\n",
    "                                    (group.activity=='Remove/Cut')].event_id.count()\n",
    "\n",
    "        input_paragraphs = group[(group.activity=='Input') & (group.text_change.str.contains('\\n'))].event_id.count()\n",
    "\n",
    "        df.loc[group.index, 'num_deleted_words_aux'] = num_deleted_words\n",
    "        df.loc[group.index, 'input_sentences_aux'] = input_sentences\n",
    "        df.loc[group.index, 'remove_cut_sentences_aux'] = remove_cut_sentences\n",
    "        df.loc[group.index, 'input_paragraphs_aux'] = input_paragraphs\n",
    "\n",
    "    sentences_process = df.input_sentences_aux\n",
    "    sentences_product = df.input_sentences_aux - df.remove_cut_sentences_aux\n",
    "    paragraphs_process = df.input_paragraphs_aux\n",
    "\n",
    "    df = (\n",
    "        df.assign(\n",
    "            total_words_aux=lambda x: x['last_word_count_aux'] + x['num_deleted_words_aux'],\n",
    "            sentences_per_min_product=lambda x: x['input_sentences_aux'] - \\\n",
    "                                                 x['remove_cut_sentences_aux'] / x['total_time_mins']\n",
    "        )\n",
    "        .round(1)\n",
    "    )\n",
    "\n",
    "    for _, group in id_groups:\n",
    "        iki = group['down_time'] - group['up_time'].shift(1)\n",
    "        filtered_iki = [num for num in iki if num >= 2000]\n",
    "        num_pauses = len(filtered_iki)\n",
    "        pause_time = sum(filtered_iki)\n",
    "\n",
    "        # Assign accumulated values to the corresponding columns for the group\n",
    "        df.loc[group.index, 'num_pauses'] = num_pauses\n",
    "        df.loc[group.index, 'pause_time_aux'] = pause_time  \n",
    "\n",
    "    df = (\n",
    "        df.assign(\n",
    "            pause_time_proportion_perc=np.round((100 * df.pause_time_aux) / (60000 * df.total_time_mins), 1)\n",
    "        )\n",
    "        .round(1)\n",
    "    )\n",
    "\n",
    "    for _, group in id_groups:\n",
    "        group['word_count_up_aux'] = group.word_count > group.shift().word_count\n",
    "        word_count_up_idxs = group[(group.word_count_up_aux) & (group.text_change=='q')].index\n",
    "\n",
    "        pause_time_w_in_words, pauses_w_in_words = 0, 0\n",
    "        for idx in word_count_up_idxs:\n",
    "            initial_time = group.at[idx, 'up_time']\n",
    "            slice_f = group[(group.index >= idx + 1) & (group.index <= idx + 10) \n",
    "                            & (group.activity=='Input') & (group.text_change.isin(['.', ',', ';', ':', ' ', '!', '?']))] \n",
    "            if not slice_f.empty:\n",
    "                final_time = slice_f['down_time'].values[0]\n",
    "                pause_time_w_in_words += final_time - initial_time\n",
    "                pauses_w_in_words += 1\n",
    "\n",
    "        df.loc[group.index, 'pause_time_w_in_words_aux'] = pause_time_w_in_words\n",
    "        if pauses_w_in_words == 0:\n",
    "            df.loc[group.index, 'pauses_w_in_words_aux'] = np.nan\n",
    "        else:\n",
    "            df.loc[group.index, 'pauses_w_in_words_aux'] = pauses_w_in_words\n",
    "\n",
    "    df['mean_pause_length_w_in_words'] = np.round(df.pause_time_w_in_words_aux / \\\n",
    "                                                  df.pauses_w_in_words_aux, 1)\n",
    "    \n",
    "    # Create a new column 'coded_essay_str'\n",
    "    df['coded_essay_str'] = ''\n",
    "\n",
    "    # Iterate over unique 'id' values and update main_string for each group\n",
    "    for unique_id in df['id'].unique():\n",
    "        main_string = ''\n",
    "        # Initialize cursor_position\n",
    "        cursor_position_prev = 0\n",
    "        # Iterate over rows with the current 'id'\n",
    "        for index, row in df[df['id'] == unique_id].iterrows():\n",
    "            cursor_position_curr = row['cursor_position']\n",
    "            main_string = update_string(row, main_string, cursor_position_curr, cursor_position_prev)\n",
    "            cursor_position_prev = cursor_position_curr\n",
    "\n",
    "        # Assign the final main_string to the 'coded_essay_str' column for the current 'id'\n",
    "        df.loc[df['id'] == unique_id, 'coded_essay_str'] = main_string\n",
    "\n",
    "    # New features related to coded_essay_str\n",
    "    import string\n",
    "    df['len_essay'] = df['coded_essay_str'].apply(len)\n",
    "    df['num_spaces'] = df['coded_essay_str'].apply(lambda x: x.count(' '))\n",
    "    df['num_?'] = df['coded_essay_str'].apply(lambda x: x.count('?'))\n",
    "    df['num_.'] = df['coded_essay_str'].apply(lambda x: x.count('.'))\n",
    "    df['num_\"'] = df['coded_essay_str'].apply(lambda x: x.count('\"'))\n",
    "    df['num_;'] = df['coded_essay_str'].apply(lambda x: x.count(';'))\n",
    "    df['num_punctuation'] = df['coded_essay_str'].apply(lambda x: sum(x.count(p) for p in string.punctuation))\n",
    "\n",
    "\n",
    "    df = df.filter(regex='^(?!.*aux).*$')\n",
    "    df.drop(redundant_vars, axis=1, inplace=True)\n",
    "    simplified_df = df.drop(original_cols_ex_id, axis=1)\n",
    "    simplified_df.drop_duplicates(inplace=True)\n",
    "    simplified_df.reset_index(drop=True, inplace=True)\n",
    "    simplified_df.fillna(0, inplace=True)\n",
    "    return simplified_df\n",
    "\n",
    "\n",
    "test_logs_transformed = transformations_train_test(test_logs)\n",
    "predictions = regr.predict(test_logs_transformed[['num_events', 'chars_per_min_process',\n",
    "                                                  'words_per_min_product', 'sentences_per_min_product',\n",
    "                                                  'pause_time_proportion_perc', 'mean_pause_length_w_in_words',\n",
    "                                                  'len_essay', 'num_spaces', 'num_?', 'num_.', 'num_\"', 'num_;', \n",
    "                                                  'num_punctuation']])\n",
    "\n",
    "# Constrain predictions to the nearest possible target value.\n",
    "# def discretize(predictions):\n",
    "#     score_values = np.array(sorted(train_scores.score.unique()))\n",
    "    \n",
    "#     closest_values = score_values[np.argmin(np.abs(predictions[:, np.newaxis] - score_values), axis=1)]\n",
    "\n",
    "#     return closest_values\n",
    "\n",
    "# rounded_predictions = discretize(predictions)\n",
    "\n",
    "test_logs_transformed['score'] = predictions\n",
    "test_logs_transformed[['id', 'score']].to_csv('./submission.csv', index=False)"
   ]
  }
 ],
 "metadata": {
  "kaggle": {
   "accelerator": "none",
   "dataSources": [
    {
     "databundleVersionId": 6678907,
     "sourceId": 59291,
     "sourceType": "competition"
    },
    {
     "sourceId": 157349001,
     "sourceType": "kernelVersion"
    }
   ],
   "dockerImageVersionId": 30579,
   "isGpuEnabled": false,
   "isInternetEnabled": false,
   "language": "python",
   "sourceType": "notebook"
  },
  "kernelspec": {
   "display_name": "Python 3",
   "language": "python",
   "name": "python3"
  },
  "language_info": {
   "codemirror_mode": {
    "name": "ipython",
    "version": 3
   },
   "file_extension": ".py",
   "mimetype": "text/x-python",
   "name": "python",
   "nbconvert_exporter": "python",
   "pygments_lexer": "ipython3",
   "version": "3.10.12"
  },
  "papermill": {
   "default_parameters": {},
   "duration": 140.15313,
   "end_time": "2024-01-07T03:21:10.153183",
   "environment_variables": {},
   "exception": null,
   "input_path": "__notebook__.ipynb",
   "output_path": "__notebook__.ipynb",
   "parameters": {},
   "start_time": "2024-01-07T03:18:50.000053",
   "version": "2.4.0"
  }
 },
 "nbformat": 4,
 "nbformat_minor": 5
}
