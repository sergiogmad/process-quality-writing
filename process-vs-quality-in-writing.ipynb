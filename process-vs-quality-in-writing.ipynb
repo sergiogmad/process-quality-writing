{
 "cells": [
  {
   "cell_type": "markdown",
   "id": "a3b3df45",
   "metadata": {
    "papermill": {
     "duration": 0.003602,
     "end_time": "2024-01-09T19:49:45.611322",
     "exception": false,
     "start_time": "2024-01-09T19:49:45.607720",
     "status": "completed"
    },
    "tags": []
   },
   "source": [
    "## Imports"
   ]
  },
  {
   "cell_type": "code",
   "execution_count": 1,
   "id": "fc374042",
   "metadata": {
    "execution": {
     "iopub.execute_input": "2024-01-09T19:49:45.619512Z",
     "iopub.status.busy": "2024-01-09T19:49:45.618613Z",
     "iopub.status.idle": "2024-01-09T19:49:46.221342Z",
     "shell.execute_reply": "2024-01-09T19:49:46.220601Z"
    },
    "papermill": {
     "duration": 0.609106,
     "end_time": "2024-01-09T19:49:46.223616",
     "exception": false,
     "start_time": "2024-01-09T19:49:45.614510",
     "status": "completed"
    },
    "tags": []
   },
   "outputs": [],
   "source": [
    "import pandas as pd\n",
    "import numpy as np\n",
    "from pathlib import Path\n",
    "import os\n",
    "import warnings\n",
    "warnings.simplefilter(\"ignore\")\n",
    "SEED=7"
   ]
  },
  {
   "cell_type": "markdown",
   "id": "5e518bba",
   "metadata": {
    "papermill": {
     "duration": 0.002894,
     "end_time": "2024-01-09T19:49:46.229830",
     "exception": false,
     "start_time": "2024-01-09T19:49:46.226936",
     "status": "completed"
    },
    "tags": []
   },
   "source": [
    "## Reading data"
   ]
  },
  {
   "cell_type": "code",
   "execution_count": 2,
   "id": "53fb18d0",
   "metadata": {
    "execution": {
     "iopub.execute_input": "2024-01-09T19:49:46.237227Z",
     "iopub.status.busy": "2024-01-09T19:49:46.236868Z",
     "iopub.status.idle": "2024-01-09T19:49:46.240165Z",
     "shell.execute_reply": "2024-01-09T19:49:46.239626Z"
    },
    "papermill": {
     "duration": 0.008804,
     "end_time": "2024-01-09T19:49:46.241656",
     "exception": false,
     "start_time": "2024-01-09T19:49:46.232852",
     "status": "completed"
    },
    "tags": []
   },
   "outputs": [],
   "source": [
    "path = Path('../input/linking-writing-processes-to-writing-quality')\n",
    "path_keystroke_measures = Path('../input/keystroke-measures')"
   ]
  },
  {
   "cell_type": "code",
   "execution_count": 3,
   "id": "13ebabb9",
   "metadata": {
    "execution": {
     "iopub.execute_input": "2024-01-09T19:49:46.249333Z",
     "iopub.status.busy": "2024-01-09T19:49:46.248683Z",
     "iopub.status.idle": "2024-01-09T19:49:46.255173Z",
     "shell.execute_reply": "2024-01-09T19:49:46.254475Z"
    },
    "papermill": {
     "duration": 0.012098,
     "end_time": "2024-01-09T19:49:46.256805",
     "exception": false,
     "start_time": "2024-01-09T19:49:46.244707",
     "status": "completed"
    },
    "tags": []
   },
   "outputs": [
    {
     "data": {
      "text/plain": [
       "['sample_submission.csv',\n",
       " 'test_logs.csv',\n",
       " 'train_scores.csv',\n",
       " 'train_logs.csv']"
      ]
     },
     "execution_count": 3,
     "metadata": {},
     "output_type": "execute_result"
    }
   ],
   "source": [
    "os.listdir(path)"
   ]
  },
  {
   "cell_type": "code",
   "execution_count": 4,
   "id": "71c5fb39",
   "metadata": {
    "execution": {
     "iopub.execute_input": "2024-01-09T19:49:46.264369Z",
     "iopub.status.busy": "2024-01-09T19:49:46.264086Z",
     "iopub.status.idle": "2024-01-09T19:50:19.052424Z",
     "shell.execute_reply": "2024-01-09T19:50:19.051423Z"
    },
    "papermill": {
     "duration": 32.797092,
     "end_time": "2024-01-09T19:50:19.057176",
     "exception": false,
     "start_time": "2024-01-09T19:49:46.260084",
     "status": "completed"
    },
    "tags": []
   },
   "outputs": [
    {
     "name": "stdout",
     "output_type": "stream",
     "text": [
      "Debug mode has been deactivated. The whole dataset of train_logs and train_scores will be utilized: 2471 essays.\n"
     ]
    }
   ],
   "source": [
    "test_logs = pd.read_csv(path/'test_logs.csv')\n",
    "train_scores = pd.read_csv(path/'train_scores.csv')\n",
    "\n",
    "with open(path_keystroke_measures/'train_logs.pkl', 'rb') as file:\n",
    "    train_logs = pd.read_pickle(file)\n",
    "\n",
    "DEBUG = False\n",
    "    \n",
    "if DEBUG:\n",
    "    num_essays = 100\n",
    "    train_logs = train_logs[train_logs.id.isin(train_logs.id.unique()[:num_essays])]\n",
    "    train_scores = train_scores[train_scores.id.isin(train_logs.id.unique()[:num_essays])]\n",
    "    print(f\"Debug mode activated. Utilizing {num_essays} essays from train_logs and train_scores.\")\n",
    "else:\n",
    "    print(\"Debug mode has been deactivated. The whole dataset of train_logs and train_scores will be utilized:\",\n",
    "          f\"{train_logs.id.nunique()} essays.\")"
   ]
  },
  {
   "cell_type": "code",
   "execution_count": 5,
   "id": "5b237cd0",
   "metadata": {
    "execution": {
     "iopub.execute_input": "2024-01-09T19:50:19.065143Z",
     "iopub.status.busy": "2024-01-09T19:50:19.064824Z",
     "iopub.status.idle": "2024-01-09T19:50:19.170871Z",
     "shell.execute_reply": "2024-01-09T19:50:19.170081Z"
    },
    "papermill": {
     "duration": 0.111905,
     "end_time": "2024-01-09T19:50:19.172475",
     "exception": false,
     "start_time": "2024-01-09T19:50:19.060570",
     "status": "completed"
    },
    "tags": []
   },
   "outputs": [],
   "source": [
    "simplified_train_logs = train_logs[['num_events', 'chars_per_min_process', \n",
    "                                    'words_per_min_product', 'sentences_per_min_product', \n",
    "                                    'pause_time_proportion_perc', 'mean_pause_length_w_in_words']]"
   ]
  },
  {
   "cell_type": "code",
   "execution_count": 6,
   "id": "1f76bb8b",
   "metadata": {
    "execution": {
     "iopub.execute_input": "2024-01-09T19:50:19.180651Z",
     "iopub.status.busy": "2024-01-09T19:50:19.180400Z",
     "iopub.status.idle": "2024-01-09T19:50:19.817557Z",
     "shell.execute_reply": "2024-01-09T19:50:19.816530Z"
    },
    "papermill": {
     "duration": 0.643452,
     "end_time": "2024-01-09T19:50:19.819670",
     "exception": false,
     "start_time": "2024-01-09T19:50:19.176218",
     "status": "completed"
    },
    "tags": []
   },
   "outputs": [],
   "source": [
    "simplified_train_logs.drop_duplicates(inplace=True)\n",
    "simplified_train_logs.reset_index(drop=True, inplace=True)"
   ]
  },
  {
   "cell_type": "markdown",
   "id": "0eb644a7",
   "metadata": {
    "papermill": {
     "duration": 0.003131,
     "end_time": "2024-01-09T19:50:19.826346",
     "exception": false,
     "start_time": "2024-01-09T19:50:19.823215",
     "status": "completed"
    },
    "tags": []
   },
   "source": [
    "## Baselines \n",
    "\n",
    "#### Baseline with Random Forest Regressor"
   ]
  },
  {
   "cell_type": "code",
   "execution_count": 7,
   "id": "06d10497",
   "metadata": {
    "execution": {
     "iopub.execute_input": "2024-01-09T19:50:19.834349Z",
     "iopub.status.busy": "2024-01-09T19:50:19.833717Z",
     "iopub.status.idle": "2024-01-09T19:50:19.838516Z",
     "shell.execute_reply": "2024-01-09T19:50:19.837846Z"
    },
    "papermill": {
     "duration": 0.010414,
     "end_time": "2024-01-09T19:50:19.840003",
     "exception": false,
     "start_time": "2024-01-09T19:50:19.829589",
     "status": "completed"
    },
    "tags": []
   },
   "outputs": [],
   "source": [
    "# from sklearn.model_selection import KFold, cross_val_predict, cross_val_score\n",
    "# from sklearn.ensemble import RandomForestRegressor\n",
    "# from sklearn.metrics import make_scorer, mean_squared_error\n",
    "\n",
    "# rf = RandomForestRegressor(random_state=SEED)\n",
    "\n",
    "# X = simplified_train_logs\n",
    "# y = train_scores.score\n",
    "\n",
    "# num_folds = 5\n",
    "# kfold = KFold(n_splits=num_folds, shuffle=True, random_state=SEED)\n",
    "\n",
    "# # Define custom scorer for RMSE\n",
    "# rmse_scorer = make_scorer(lambda y_true, y_pred: np.sqrt(mean_squared_error(y_true, y_pred)), greater_is_better=False)\n",
    "\n",
    "# # Perform cross-validation with RMSE as the scoring metric and obtain predictions\n",
    "# cv_predictions = cross_val_predict(rf, X, y, cv=kfold)\n",
    "\n",
    "# # Display real values, predictions, max, and min predicted values for each fold\n",
    "# for fold, (train_idx, test_idx) in enumerate(kfold.split(X, y)):\n",
    "#     X_train, X_test = X.iloc[train_idx], X.iloc[test_idx]\n",
    "#     y_train, y_test = y.iloc[train_idx], y.iloc[test_idx]\n",
    "#     predictions = cv_predictions[test_idx]\n",
    "\n",
    "#     print(f\"\\nFold {fold + 1}:\")\n",
    "# #     print(\"Real Values:\", y_test.values)\n",
    "# #     print(\"Predictions:\", predictions)\n",
    "#     print(\"Max Predicted Value:\", np.round(np.max(predictions),1))\n",
    "#     print(\"Min Predicted Value:\", np.round(np.min(predictions),1))\n",
    "\n",
    "#     # Calculate and print RMSE for the fold\n",
    "#     fold_rmse = np.round(np.sqrt(mean_squared_error(y_test, predictions)),2)\n",
    "#     print(\"Fold RMSE:\", fold_rmse)\n",
    "\n",
    "# # Display the cross-validation scores\n",
    "# cv_scores = cross_val_score(rf, X, y, cv=kfold, scoring=rmse_scorer)\n",
    "# print(\"\\nCross-validation RMSE scores:\", -cv_scores)  # Negate scores since make_scorer uses greater_is_better=False\n",
    "# print(\"Mean RMSE:\", np.round(-cv_scores.mean(), 2))  # Negate mean as well\n"
   ]
  },
  {
   "cell_type": "markdown",
   "id": "22ac64db",
   "metadata": {
    "papermill": {
     "duration": 0.003047,
     "end_time": "2024-01-09T19:50:19.846278",
     "exception": false,
     "start_time": "2024-01-09T19:50:19.843231",
     "status": "completed"
    },
    "tags": []
   },
   "source": [
    "### Hyperparameters"
   ]
  },
  {
   "cell_type": "code",
   "execution_count": 8,
   "id": "d5961262",
   "metadata": {
    "execution": {
     "iopub.execute_input": "2024-01-09T19:50:19.853800Z",
     "iopub.status.busy": "2024-01-09T19:50:19.853535Z",
     "iopub.status.idle": "2024-01-09T19:50:21.476942Z",
     "shell.execute_reply": "2024-01-09T19:50:21.476285Z"
    },
    "papermill": {
     "duration": 1.629208,
     "end_time": "2024-01-09T19:50:21.478665",
     "exception": false,
     "start_time": "2024-01-09T19:50:19.849457",
     "status": "completed"
    },
    "tags": []
   },
   "outputs": [
    {
     "name": "stdout",
     "output_type": "stream",
     "text": [
      "\n",
      "Fold 1: Max Predicted Value:  5.2 ; Min Predicted Value:  1.31 ; Fold RMSE: 0.69\n",
      "\n",
      "Fold 2: Max Predicted Value:  5.23 ; Min Predicted Value:  1.18 ; Fold RMSE: 0.68\n",
      "\n",
      "Fold 3: Max Predicted Value:  5.26 ; Min Predicted Value:  1.22 ; Fold RMSE: 0.65\n",
      "\n",
      "Fold 4: Max Predicted Value:  5.07 ; Min Predicted Value:  1.44 ; Fold RMSE: 0.69\n",
      "\n",
      "Fold 5: Max Predicted Value:  5.14 ; Min Predicted Value:  1.83 ; Fold RMSE: 0.71\n",
      "\n",
      "Cross-validation RMSE scores: [0.69, 0.68, 0.65, 0.69, 0.71]\n",
      "\n",
      "Mean RMSE: 0.684\n"
     ]
    }
   ],
   "source": [
    "from sklearn.model_selection import KFold\n",
    "from xgboost import XGBRegressor\n",
    "\n",
    "X = simplified_train_logs\n",
    "y = train_scores.score\n",
    "\n",
    "# Set the number of folds\n",
    "num_folds = 5\n",
    "\n",
    "# Instantiate the KFold cross-validator\n",
    "kf = KFold(n_splits=num_folds, shuffle=True, random_state=SEED)\n",
    "\n",
    "# Initialize lists to store results\n",
    "rmse_scores = []\n",
    "\n",
    "regr = XGBRegressor(alpha=0.3, colsample_bytree=0.9, gamma=1, learning_rate=0.1, \n",
    "                    max_depth=3, n_estimators=100, subsample=0.8, random_state=SEED)\n",
    "\n",
    "# Perform cross-validation\n",
    "for fold, (train_index, test_index) in enumerate(kf.split(X), 1):\n",
    "    X_train, X_test = X.iloc[train_index], X.iloc[test_index]\n",
    "    y_train, y_test = y.iloc[train_index], y.iloc[test_index]\n",
    "\n",
    "    # Fit the model on the training data\n",
    "    regr.fit(X_train, y_train, eval_metric=\"rmse\", eval_set=[(X_train, y_train), (X_test, y_test)], verbose=False)\n",
    "\n",
    "    # Get training and testing errors for each iteration of the current fold\n",
    "    train_errors_fold = regr.evals_result()[\"validation_0\"][\"rmse\"]\n",
    "    test_errors_fold = regr.evals_result()[\"validation_1\"][\"rmse\"]\n",
    "\n",
    "    # Make predictions on the test data\n",
    "    y_pred = regr.predict(X_test)\n",
    "\n",
    "    # Calculate RMSE for the fold\n",
    "    rmse = np.round(np.sqrt(((y_test - y_pred) ** 2).mean()), 2)\n",
    "    rmse_scores.append(rmse)\n",
    "\n",
    "    # Print results for each fold\n",
    "    print(f\"\\nFold {fold}: Max Predicted Value: \", np.round(np.max(y_pred), 2), \"; Min Predicted Value: \", np.round(np.min(y_pred), 2), f\"; Fold RMSE: {rmse}\")\n",
    "\n",
    "# Print average RMSE across all folds\n",
    "print(f\"\\nCross-validation RMSE scores: {rmse_scores}\")\n",
    "print(f\"\\nMean RMSE: {np.round(np.mean(rmse_scores), 3)}\")"
   ]
  },
  {
   "cell_type": "markdown",
   "id": "a1b1987c",
   "metadata": {
    "papermill": {
     "duration": 0.003201,
     "end_time": "2024-01-09T19:50:21.485704",
     "exception": false,
     "start_time": "2024-01-09T19:50:21.482503",
     "status": "completed"
    },
    "tags": []
   },
   "source": [
    "## Preparation for submission"
   ]
  },
  {
   "cell_type": "code",
   "execution_count": 9,
   "id": "d23fa4dc",
   "metadata": {
    "execution": {
     "iopub.execute_input": "2024-01-09T19:50:21.494226Z",
     "iopub.status.busy": "2024-01-09T19:50:21.493531Z",
     "iopub.status.idle": "2024-01-09T19:50:21.603415Z",
     "shell.execute_reply": "2024-01-09T19:50:21.602594Z"
    },
    "papermill": {
     "duration": 0.116568,
     "end_time": "2024-01-09T19:50:21.605610",
     "exception": false,
     "start_time": "2024-01-09T19:50:21.489042",
     "status": "completed"
    },
    "tags": []
   },
   "outputs": [],
   "source": [
    "regr.fit(X,y)      # Fitting the Model to the whole dataset\n",
    "\n",
    "def transformations_train_test(df):     # Apply to test_logs the same transformations applied to train_logs\n",
    "    df['num_events'] = df.groupby('id')['event_id'].transform('last')\n",
    "    df['total_time_mins'] = np.round(df.groupby('id')['up_time'].transform('last') / 60000, 1)\n",
    "    df['input_chars_aux'] = df.groupby('id')['activity'].transform(lambda x: (x == 'Input').sum())\n",
    "    \n",
    "    for _, group in df.groupby('id'):\n",
    "        first_strings_replace_chars = 0\n",
    "        second_strings_replace_chars = 0\n",
    "    \n",
    "        for replace_str in group[group.activity == \"Replace\"].text_change.values:\n",
    "            arrow_idx = replace_str.find(' => ')\n",
    "            len_second_str = len(replace_str) - arrow_idx - len(' => ')\n",
    "            second_strings_replace_chars += len_second_str\n",
    "    \n",
    "        # Assign accumulated values to the corresponding columns for the group\n",
    "        df.loc[group.index, 'second_strings_replace_chars_aux'] = second_strings_replace_chars\n",
    "\n",
    "    df['paste_chars_aux'] = df.groupby('id')['activity'].transform(\n",
    "    lambda x: (df.loc[x.index, 'text_change'][x == 'Paste']).str.len().sum()\n",
    "    )\n",
    "    \n",
    "    df['chars_process'] = df.input_chars_aux + df.second_strings_replace_chars_aux +\\\n",
    "                              df.paste_chars_aux\n",
    "    df['chars_per_min_process'] = np.round(df.chars_process / df.total_time_mins, 1)\n",
    "\n",
    "    df['last_word_count_aux'] = df.groupby('id')['word_count'].transform(lambda x: x.values[-1])\n",
    "    df['words_per_min_product'] = np.round(df.last_word_count_aux / df.total_time_mins, 1)\n",
    "    \n",
    "    for _, group in df.groupby('id'):\n",
    "        input_sentences = group[(group['text_change'].str.contains('[\\.\\;\\?\\!\\:]', regex=True)) &\n",
    "                                (group.activity=='Input')].event_id.count()\n",
    "        \n",
    "        remove_cut_sentences = group[(group['text_change'].str.contains('[\\.\\;\\?\\!\\:]', regex=True)) &\n",
    "                                (group.activity=='Remove/Cut')].event_id.count()\n",
    "        \n",
    "        df.loc[group.index, 'input_sentences_aux'] = input_sentences\n",
    "        df.loc[group.index, 'remove_cut_sentences_aux'] = remove_cut_sentences\n",
    "\n",
    "    \n",
    "    df['sentences_per_min_product'] = np.round((df['input_sentences_aux'] - \n",
    "                                                df['remove_cut_sentences_aux']) / df['total_time_mins'],1)\n",
    "    \n",
    "    for _, group in df.groupby('id'):\n",
    "        iki = group['down_time'] - group['up_time'].shift(1)\n",
    "        filtered_iki = [num for num in iki if num >= 2000]\n",
    "        pause_time = sum(filtered_iki)\n",
    "\n",
    "        # Assign accumulated values to the corresponding columns for the group\n",
    "        df.loc[group.index, 'pause_time_aux'] = pause_time\n",
    "    \n",
    "    df['pause_time_proportion_perc'] = np.round((100 * df.pause_time_aux) / (60000 * df.total_time_mins), 1)\n",
    "    \n",
    "    for _, group in df.groupby('id'):\n",
    "        group['word_count_up_aux'] = group.word_count > group.shift().word_count\n",
    "        word_count_up_idxs = group[(group.word_count_up_aux) & (group.text_change=='q')].index\n",
    "\n",
    "        # Look for time when word ended\n",
    "        pause_time_w_in_words, pauses_w_in_words = 0, 0\n",
    "        for idx in word_count_up_idxs:\n",
    "            initial_time = group.at[idx, 'up_time']\n",
    "            slice_f = group[(group.index >= idx + 1) & (group.index <= idx + 10) \n",
    "                            & (group.activity=='Input') & (group.text_change.isin(['.', ',', ';', ':', ' ', '!', '?']))] \n",
    "            if not slice_f.empty:\n",
    "                final_time = slice_f['down_time'].values[0]\n",
    "                pause_time_w_in_words += final_time - initial_time\n",
    "                pauses_w_in_words += 1\n",
    "\n",
    "        # Assign accumulated values to the corresponding columns for the group\n",
    "        df.loc[group.index, 'pause_time_w_in_words_aux'] = pause_time_w_in_words\n",
    "        df.loc[group.index, 'pauses_w_in_words_aux'] = pauses_w_in_words\n",
    "\n",
    "    \n",
    "    df['mean_pause_length_w_in_words'] = np.round(df.pause_time_w_in_words_aux / df.pauses_w_in_words_aux, 1)\n",
    "    \n",
    "    simplified_df = df[['id', 'num_events',\n",
    "                        'chars_per_min_process', 'words_per_min_product',\n",
    "                        'sentences_per_min_product', 'pause_time_proportion_perc',\n",
    "                        'mean_pause_length_w_in_words']]\n",
    "    \n",
    "    simplified_df.drop_duplicates(inplace=True)\n",
    "    simplified_df.reset_index(drop=True, inplace=True)\n",
    "    return simplified_df\n",
    "\n",
    "\n",
    "test_logs_transformed = transformations_train_test(test_logs)\n",
    "predictions = regr.predict(test_logs_transformed[['num_events',\n",
    "                        'chars_per_min_process', 'words_per_min_product',\n",
    "                        'sentences_per_min_product', 'pause_time_proportion_perc',\n",
    "                        'mean_pause_length_w_in_words']])\n",
    "\n",
    "test_logs_transformed['score'] = predictions\n",
    "test_logs_transformed[['id', 'score']].to_csv('./submission.csv', index=False)"
   ]
  }
 ],
 "metadata": {
  "kaggle": {
   "accelerator": "none",
   "dataSources": [
    {
     "databundleVersionId": 6678907,
     "sourceId": 59291,
     "sourceType": "competition"
    },
    {
     "sourceId": 157964831,
     "sourceType": "kernelVersion"
    }
   ],
   "dockerImageVersionId": 30579,
   "isGpuEnabled": false,
   "isInternetEnabled": false,
   "language": "python",
   "sourceType": "notebook"
  },
  "kernelspec": {
   "display_name": "Python 3",
   "language": "python",
   "name": "python3"
  },
  "language_info": {
   "codemirror_mode": {
    "name": "ipython",
    "version": 3
   },
   "file_extension": ".py",
   "mimetype": "text/x-python",
   "name": "python",
   "nbconvert_exporter": "python",
   "pygments_lexer": "ipython3",
   "version": "3.10.12"
  },
  "papermill": {
   "default_parameters": {},
   "duration": 39.646437,
   "end_time": "2024-01-09T19:50:22.329386",
   "environment_variables": {},
   "exception": null,
   "input_path": "__notebook__.ipynb",
   "output_path": "__notebook__.ipynb",
   "parameters": {},
   "start_time": "2024-01-09T19:49:42.682949",
   "version": "2.4.0"
  }
 },
 "nbformat": 4,
 "nbformat_minor": 5
}
