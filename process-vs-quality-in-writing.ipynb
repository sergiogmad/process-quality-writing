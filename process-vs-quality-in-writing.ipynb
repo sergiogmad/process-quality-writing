{
 "cells": [
  {
   "cell_type": "markdown",
   "id": "29b4974d",
   "metadata": {
    "papermill": {
     "duration": 0.004578,
     "end_time": "2024-01-09T21:14:32.673236",
     "exception": false,
     "start_time": "2024-01-09T21:14:32.668658",
     "status": "completed"
    },
    "tags": []
   },
   "source": [
    "## Imports"
   ]
  },
  {
   "cell_type": "code",
   "execution_count": 1,
   "id": "a8f0eb3e",
   "metadata": {
    "execution": {
     "iopub.execute_input": "2024-01-09T21:14:32.684684Z",
     "iopub.status.busy": "2024-01-09T21:14:32.683906Z",
     "iopub.status.idle": "2024-01-09T21:14:33.685158Z",
     "shell.execute_reply": "2024-01-09T21:14:33.683826Z"
    },
    "papermill": {
     "duration": 1.010812,
     "end_time": "2024-01-09T21:14:33.688236",
     "exception": false,
     "start_time": "2024-01-09T21:14:32.677424",
     "status": "completed"
    },
    "tags": []
   },
   "outputs": [],
   "source": [
    "import pandas as pd\n",
    "import numpy as np\n",
    "from pathlib import Path\n",
    "import os\n",
    "SEED=7"
   ]
  },
  {
   "cell_type": "markdown",
   "id": "63090175",
   "metadata": {
    "papermill": {
     "duration": 0.003357,
     "end_time": "2024-01-09T21:14:33.695605",
     "exception": false,
     "start_time": "2024-01-09T21:14:33.692248",
     "status": "completed"
    },
    "tags": []
   },
   "source": [
    "## Reading data"
   ]
  },
  {
   "cell_type": "code",
   "execution_count": 2,
   "id": "f1d9139f",
   "metadata": {
    "execution": {
     "iopub.execute_input": "2024-01-09T21:14:33.704997Z",
     "iopub.status.busy": "2024-01-09T21:14:33.704479Z",
     "iopub.status.idle": "2024-01-09T21:14:33.710350Z",
     "shell.execute_reply": "2024-01-09T21:14:33.708965Z"
    },
    "papermill": {
     "duration": 0.013833,
     "end_time": "2024-01-09T21:14:33.713042",
     "exception": false,
     "start_time": "2024-01-09T21:14:33.699209",
     "status": "completed"
    },
    "tags": []
   },
   "outputs": [],
   "source": [
    "path = Path('../input/linking-writing-processes-to-writing-quality')\n",
    "path_keystroke_measures = Path('../input/keystroke-measures')"
   ]
  },
  {
   "cell_type": "code",
   "execution_count": 3,
   "id": "c00d163d",
   "metadata": {
    "execution": {
     "iopub.execute_input": "2024-01-09T21:14:33.722851Z",
     "iopub.status.busy": "2024-01-09T21:14:33.722448Z",
     "iopub.status.idle": "2024-01-09T21:14:33.764812Z",
     "shell.execute_reply": "2024-01-09T21:14:33.763285Z"
    },
    "papermill": {
     "duration": 0.051228,
     "end_time": "2024-01-09T21:14:33.768102",
     "exception": false,
     "start_time": "2024-01-09T21:14:33.716874",
     "status": "completed"
    },
    "tags": []
   },
   "outputs": [],
   "source": [
    "test_logs = pd.read_csv(path/'test_logs.csv')\n",
    "train_scores = pd.read_csv(path/'train_scores.csv')\n",
    "\n",
    "with open(path_keystroke_measures/'simplified_train_logs.pkl', 'rb') as file:\n",
    "    simplified_train_logs = pd.read_pickle(file)"
   ]
  },
  {
   "cell_type": "code",
   "execution_count": 4,
   "id": "322eb4bc",
   "metadata": {
    "execution": {
     "iopub.execute_input": "2024-01-09T21:14:33.778754Z",
     "iopub.status.busy": "2024-01-09T21:14:33.778354Z",
     "iopub.status.idle": "2024-01-09T21:14:35.460509Z",
     "shell.execute_reply": "2024-01-09T21:14:35.458634Z"
    },
    "papermill": {
     "duration": 1.691032,
     "end_time": "2024-01-09T21:14:35.463727",
     "exception": false,
     "start_time": "2024-01-09T21:14:33.772695",
     "status": "completed"
    },
    "tags": []
   },
   "outputs": [],
   "source": [
    "from xgboost import XGBRegressor\n",
    "\n",
    "X = simplified_train_logs\n",
    "y = train_scores.score\n",
    "\n",
    "regr = XGBRegressor(alpha=0.3, colsample_bytree=0.9, gamma=1, learning_rate=0.1, \n",
    "                    max_depth=3, n_estimators=100, subsample=0.8, random_state=SEED)"
   ]
  },
  {
   "cell_type": "markdown",
   "id": "6c93246d",
   "metadata": {
    "papermill": {
     "duration": 0.003871,
     "end_time": "2024-01-09T21:14:35.473508",
     "exception": false,
     "start_time": "2024-01-09T21:14:35.469637",
     "status": "completed"
    },
    "tags": []
   },
   "source": [
    "## Preparation for submission"
   ]
  },
  {
   "cell_type": "code",
   "execution_count": 5,
   "id": "b0043f0b",
   "metadata": {
    "execution": {
     "iopub.execute_input": "2024-01-09T21:14:35.484884Z",
     "iopub.status.busy": "2024-01-09T21:14:35.484176Z",
     "iopub.status.idle": "2024-01-09T21:14:35.939450Z",
     "shell.execute_reply": "2024-01-09T21:14:35.938535Z"
    },
    "papermill": {
     "duration": 0.46736,
     "end_time": "2024-01-09T21:14:35.945227",
     "exception": false,
     "start_time": "2024-01-09T21:14:35.477867",
     "status": "completed"
    },
    "tags": []
   },
   "outputs": [
    {
     "name": "stderr",
     "output_type": "stream",
     "text": [
      "/tmp/ipykernel_21/2710503964.py:82: SettingWithCopyWarning: \n",
      "A value is trying to be set on a copy of a slice from a DataFrame\n",
      "\n",
      "See the caveats in the documentation: https://pandas.pydata.org/pandas-docs/stable/user_guide/indexing.html#returning-a-view-versus-a-copy\n",
      "  simplified_df.drop_duplicates(inplace=True)\n",
      "/tmp/ipykernel_21/2710503964.py:83: SettingWithCopyWarning: \n",
      "A value is trying to be set on a copy of a slice from a DataFrame\n",
      "\n",
      "See the caveats in the documentation: https://pandas.pydata.org/pandas-docs/stable/user_guide/indexing.html#returning-a-view-versus-a-copy\n",
      "  simplified_df.fillna(0, inplace=True)\n",
      "/tmp/ipykernel_21/2710503964.py:94: SettingWithCopyWarning: \n",
      "A value is trying to be set on a copy of a slice from a DataFrame.\n",
      "Try using .loc[row_indexer,col_indexer] = value instead\n",
      "\n",
      "See the caveats in the documentation: https://pandas.pydata.org/pandas-docs/stable/user_guide/indexing.html#returning-a-view-versus-a-copy\n",
      "  test_logs_transformed['score'] = predictions\n"
     ]
    }
   ],
   "source": [
    "regr.fit(X,y)      # Fitting the Model to the whole dataset\n",
    "\n",
    "def transformations_train_test(df):     # Apply to test_logs the same transformations applied to train_logs\n",
    "    df['num_events'] = df.groupby('id')['event_id'].transform('last')\n",
    "    df['total_time_mins'] = np.round(df.groupby('id')['up_time'].transform('last') / 60000, 1)\n",
    "    df['input_chars_aux'] = df.groupby('id')['activity'].transform(lambda x: (x == 'Input').sum())\n",
    "    \n",
    "    for _, group in df.groupby('id'):\n",
    "        first_strings_replace_chars = 0\n",
    "        second_strings_replace_chars = 0\n",
    "    \n",
    "        for replace_str in group[group.activity == \"Replace\"].text_change.values:\n",
    "            arrow_idx = replace_str.find(' => ')\n",
    "            len_second_str = len(replace_str) - arrow_idx - len(' => ')\n",
    "            second_strings_replace_chars += len_second_str\n",
    "    \n",
    "        # Assign accumulated values to the corresponding columns for the group\n",
    "        df.loc[group.index, 'second_strings_replace_chars_aux'] = second_strings_replace_chars\n",
    "\n",
    "    df['paste_chars_aux'] = df.groupby('id')['activity'].transform(\n",
    "    lambda x: (df.loc[x.index, 'text_change'][x == 'Paste']).str.len().sum()\n",
    "    )\n",
    "    \n",
    "    df['chars_process'] = df.input_chars_aux + df.second_strings_replace_chars_aux +\\\n",
    "                              df.paste_chars_aux\n",
    "    df['chars_per_min_process'] = np.round(df.chars_process / df.total_time_mins, 1)\n",
    "\n",
    "    df['last_word_count_aux'] = df.groupby('id')['word_count'].transform(lambda x: x.values[-1])\n",
    "    df['words_per_min_product'] = np.round(df.last_word_count_aux / df.total_time_mins, 1)\n",
    "    \n",
    "    for _, group in df.groupby('id'):\n",
    "        input_sentences = group[(group['text_change'].str.contains('[\\.\\;\\?\\!\\:]', regex=True)) &\n",
    "                                (group.activity=='Input')].event_id.count()\n",
    "        \n",
    "        remove_cut_sentences = group[(group['text_change'].str.contains('[\\.\\;\\?\\!\\:]', regex=True)) &\n",
    "                                (group.activity=='Remove/Cut')].event_id.count()\n",
    "        \n",
    "        df.loc[group.index, 'input_sentences_aux'] = input_sentences\n",
    "        df.loc[group.index, 'remove_cut_sentences_aux'] = remove_cut_sentences\n",
    "\n",
    "    \n",
    "    df['sentences_per_min_product'] = np.round((df['input_sentences_aux'] - \n",
    "                                                df['remove_cut_sentences_aux']) / df['total_time_mins'],1)\n",
    "    \n",
    "    for _, group in df.groupby('id'):\n",
    "        iki = group['down_time'] - group['up_time'].shift(1)\n",
    "        filtered_iki = [num for num in iki if num >= 2000]\n",
    "        pause_time = sum(filtered_iki)\n",
    "\n",
    "        # Assign accumulated values to the corresponding columns for the group\n",
    "        df.loc[group.index, 'pause_time_aux'] = pause_time\n",
    "    \n",
    "    df['pause_time_proportion_perc'] = np.round((100 * df.pause_time_aux) / (60000 * df.total_time_mins), 1)\n",
    "    \n",
    "    for _, group in df.groupby('id'):\n",
    "        group['word_count_up_aux'] = group.word_count > group.shift().word_count\n",
    "        word_count_up_idxs = group[(group.word_count_up_aux) & (group.text_change=='q')].index\n",
    "\n",
    "        # Look for time when word ended\n",
    "        pause_time_w_in_words, pauses_w_in_words = 0, 0\n",
    "        for idx in word_count_up_idxs:\n",
    "            initial_time = group.at[idx, 'up_time']\n",
    "            slice_f = group[(group.index >= idx + 1) & (group.index <= idx + 10) \n",
    "                            & (group.activity=='Input') & (group.text_change.isin(['.', ',', ';', ':', ' ', '!', '?']))] \n",
    "            if not slice_f.empty:\n",
    "                final_time = slice_f['down_time'].values[0]\n",
    "                pause_time_w_in_words += final_time - initial_time\n",
    "                pauses_w_in_words += 1\n",
    "\n",
    "        # Assign accumulated values to the corresponding columns for the group\n",
    "        df.loc[group.index, 'pause_time_w_in_words_aux'] = pause_time_w_in_words\n",
    "        df.loc[group.index, 'pauses_w_in_words_aux'] = pauses_w_in_words\n",
    "\n",
    "    \n",
    "    df['mean_pause_length_w_in_words'] = np.round(df.pause_time_w_in_words_aux / df.pauses_w_in_words_aux, 1)\n",
    "    \n",
    "    simplified_df = df[['id', 'num_events',\n",
    "                        'chars_per_min_process', 'words_per_min_product',\n",
    "                        'sentences_per_min_product', 'pause_time_proportion_perc',\n",
    "                        'mean_pause_length_w_in_words']]\n",
    "    \n",
    "    simplified_df.drop_duplicates(inplace=True)\n",
    "    simplified_df.fillna(0, inplace=True)\n",
    "    simplified_df.reset_index(drop=True, inplace=True)\n",
    "    return simplified_df\n",
    "\n",
    "\n",
    "test_logs_transformed = transformations_train_test(test_logs)\n",
    "predictions = regr.predict(test_logs_transformed[['num_events',\n",
    "                        'chars_per_min_process', 'words_per_min_product',\n",
    "                        'sentences_per_min_product', 'pause_time_proportion_perc',\n",
    "                        'mean_pause_length_w_in_words']])\n",
    "\n",
    "test_logs_transformed['score'] = predictions\n",
    "test_logs_transformed[['id', 'score']].to_csv('./submission.csv', index=False)"
   ]
  }
 ],
 "metadata": {
  "kaggle": {
   "accelerator": "none",
   "dataSources": [
    {
     "databundleVersionId": 6678907,
     "sourceId": 59291,
     "sourceType": "competition"
    },
    {
     "sourceId": 157964831,
     "sourceType": "kernelVersion"
    }
   ],
   "dockerImageVersionId": 30579,
   "isGpuEnabled": false,
   "isInternetEnabled": false,
   "language": "python",
   "sourceType": "notebook"
  },
  "kernelspec": {
   "display_name": "Python 3",
   "language": "python",
   "name": "python3"
  },
  "language_info": {
   "codemirror_mode": {
    "name": "ipython",
    "version": 3
   },
   "file_extension": ".py",
   "mimetype": "text/x-python",
   "name": "python",
   "nbconvert_exporter": "python",
   "pygments_lexer": "ipython3",
   "version": "3.10.12"
  },
  "papermill": {
   "default_parameters": {},
   "duration": 8.447324,
   "end_time": "2024-01-09T21:14:36.874053",
   "environment_variables": {},
   "exception": null,
   "input_path": "__notebook__.ipynb",
   "output_path": "__notebook__.ipynb",
   "parameters": {},
   "start_time": "2024-01-09T21:14:28.426729",
   "version": "2.4.0"
  }
 },
 "nbformat": 4,
 "nbformat_minor": 5
}
