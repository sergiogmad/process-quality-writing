{
 "cells": [
  {
   "cell_type": "markdown",
   "id": "46a8c367",
   "metadata": {
    "papermill": {
     "duration": 0.005699,
     "end_time": "2024-01-09T20:09:33.275895",
     "exception": false,
     "start_time": "2024-01-09T20:09:33.270196",
     "status": "completed"
    },
    "tags": []
   },
   "source": [
    "## Imports"
   ]
  },
  {
   "cell_type": "code",
   "execution_count": 1,
   "id": "682ff976",
   "metadata": {
    "execution": {
     "iopub.execute_input": "2024-01-09T20:09:33.289762Z",
     "iopub.status.busy": "2024-01-09T20:09:33.288428Z",
     "iopub.status.idle": "2024-01-09T20:09:34.183898Z",
     "shell.execute_reply": "2024-01-09T20:09:34.182735Z"
    },
    "papermill": {
     "duration": 0.905019,
     "end_time": "2024-01-09T20:09:34.186657",
     "exception": false,
     "start_time": "2024-01-09T20:09:33.281638",
     "status": "completed"
    },
    "tags": []
   },
   "outputs": [],
   "source": [
    "import pandas as pd\n",
    "import numpy as np\n",
    "from pathlib import Path\n",
    "import os\n",
    "import warnings\n",
    "warnings.simplefilter(\"ignore\")\n",
    "SEED=7"
   ]
  },
  {
   "cell_type": "markdown",
   "id": "a2c6496d",
   "metadata": {
    "papermill": {
     "duration": 0.004807,
     "end_time": "2024-01-09T20:09:34.196922",
     "exception": false,
     "start_time": "2024-01-09T20:09:34.192115",
     "status": "completed"
    },
    "tags": []
   },
   "source": [
    "## Reading data"
   ]
  },
  {
   "cell_type": "code",
   "execution_count": 2,
   "id": "8003eac4",
   "metadata": {
    "execution": {
     "iopub.execute_input": "2024-01-09T20:09:34.209181Z",
     "iopub.status.busy": "2024-01-09T20:09:34.208670Z",
     "iopub.status.idle": "2024-01-09T20:09:34.213855Z",
     "shell.execute_reply": "2024-01-09T20:09:34.212638Z"
    },
    "papermill": {
     "duration": 0.014291,
     "end_time": "2024-01-09T20:09:34.216349",
     "exception": false,
     "start_time": "2024-01-09T20:09:34.202058",
     "status": "completed"
    },
    "tags": []
   },
   "outputs": [],
   "source": [
    "path = Path('../input/linking-writing-processes-to-writing-quality')\n",
    "path_keystroke_measures = Path('../input/keystroke-measures')"
   ]
  },
  {
   "cell_type": "code",
   "execution_count": 3,
   "id": "28794f23",
   "metadata": {
    "execution": {
     "iopub.execute_input": "2024-01-09T20:09:34.228753Z",
     "iopub.status.busy": "2024-01-09T20:09:34.228123Z",
     "iopub.status.idle": "2024-01-09T20:09:34.236248Z",
     "shell.execute_reply": "2024-01-09T20:09:34.235408Z"
    },
    "papermill": {
     "duration": 0.017007,
     "end_time": "2024-01-09T20:09:34.238445",
     "exception": false,
     "start_time": "2024-01-09T20:09:34.221438",
     "status": "completed"
    },
    "tags": []
   },
   "outputs": [
    {
     "data": {
      "text/plain": [
       "['sample_submission.csv',\n",
       " 'test_logs.csv',\n",
       " 'train_scores.csv',\n",
       " 'train_logs.csv']"
      ]
     },
     "execution_count": 3,
     "metadata": {},
     "output_type": "execute_result"
    }
   ],
   "source": [
    "os.listdir(path)"
   ]
  },
  {
   "cell_type": "code",
   "execution_count": 4,
   "id": "a3015209",
   "metadata": {
    "execution": {
     "iopub.execute_input": "2024-01-09T20:09:34.251337Z",
     "iopub.status.busy": "2024-01-09T20:09:34.250759Z",
     "iopub.status.idle": "2024-01-09T20:10:02.902885Z",
     "shell.execute_reply": "2024-01-09T20:10:02.901526Z"
    },
    "papermill": {
     "duration": 28.661896,
     "end_time": "2024-01-09T20:10:02.905783",
     "exception": false,
     "start_time": "2024-01-09T20:09:34.243887",
     "status": "completed"
    },
    "tags": []
   },
   "outputs": [
    {
     "name": "stdout",
     "output_type": "stream",
     "text": [
      "Debug mode has been deactivated. The whole dataset of train_logs and train_scores will be utilized: 2471 essays.\n"
     ]
    }
   ],
   "source": [
    "test_logs = pd.read_csv(path/'test_logs.csv')\n",
    "train_scores = pd.read_csv(path/'train_scores.csv')\n",
    "\n",
    "with open(path_keystroke_measures/'train_logs.pkl', 'rb') as file:\n",
    "    train_logs = pd.read_pickle(file)\n",
    "\n",
    "DEBUG = False\n",
    "    \n",
    "if DEBUG:\n",
    "    num_essays = 100\n",
    "    train_logs = train_logs[train_logs.id.isin(train_logs.id.unique()[:num_essays])]\n",
    "    train_scores = train_scores[train_scores.id.isin(train_logs.id.unique()[:num_essays])]\n",
    "    print(f\"Debug mode activated. Utilizing {num_essays} essays from train_logs and train_scores.\")\n",
    "else:\n",
    "    print(\"Debug mode has been deactivated. The whole dataset of train_logs and train_scores will be utilized:\",\n",
    "          f\"{train_logs.id.nunique()} essays.\")"
   ]
  },
  {
   "cell_type": "code",
   "execution_count": 5,
   "id": "d8b90a49",
   "metadata": {
    "execution": {
     "iopub.execute_input": "2024-01-09T20:10:02.919856Z",
     "iopub.status.busy": "2024-01-09T20:10:02.918800Z",
     "iopub.status.idle": "2024-01-09T20:10:03.109766Z",
     "shell.execute_reply": "2024-01-09T20:10:03.108247Z"
    },
    "papermill": {
     "duration": 0.200893,
     "end_time": "2024-01-09T20:10:03.112722",
     "exception": false,
     "start_time": "2024-01-09T20:10:02.911829",
     "status": "completed"
    },
    "tags": []
   },
   "outputs": [],
   "source": [
    "simplified_train_logs = train_logs[['num_events', 'chars_per_min_process', \n",
    "                                    'words_per_min_product', 'sentences_per_min_product', \n",
    "                                    'pause_time_proportion_perc', 'mean_pause_length_w_in_words']]"
   ]
  },
  {
   "cell_type": "code",
   "execution_count": 6,
   "id": "4b25f916",
   "metadata": {
    "execution": {
     "iopub.execute_input": "2024-01-09T20:10:03.128514Z",
     "iopub.status.busy": "2024-01-09T20:10:03.127354Z",
     "iopub.status.idle": "2024-01-09T20:10:04.258271Z",
     "shell.execute_reply": "2024-01-09T20:10:04.257105Z"
    },
    "papermill": {
     "duration": 1.141851,
     "end_time": "2024-01-09T20:10:04.261041",
     "exception": false,
     "start_time": "2024-01-09T20:10:03.119190",
     "status": "completed"
    },
    "tags": []
   },
   "outputs": [],
   "source": [
    "simplified_train_logs.drop_duplicates(inplace=True)\n",
    "simplified_train_logs.fillna(0, inplace=True)\n",
    "simplified_train_logs.reset_index(drop=True, inplace=True)"
   ]
  },
  {
   "cell_type": "markdown",
   "id": "e9082d75",
   "metadata": {
    "papermill": {
     "duration": 0.005263,
     "end_time": "2024-01-09T20:10:04.271958",
     "exception": false,
     "start_time": "2024-01-09T20:10:04.266695",
     "status": "completed"
    },
    "tags": []
   },
   "source": [
    "## Baselines \n",
    "\n",
    "#### Baseline with Random Forest Regressor"
   ]
  },
  {
   "cell_type": "code",
   "execution_count": 7,
   "id": "eade740f",
   "metadata": {
    "execution": {
     "iopub.execute_input": "2024-01-09T20:10:04.285898Z",
     "iopub.status.busy": "2024-01-09T20:10:04.285449Z",
     "iopub.status.idle": "2024-01-09T20:10:06.016371Z",
     "shell.execute_reply": "2024-01-09T20:10:06.015327Z"
    },
    "papermill": {
     "duration": 1.741664,
     "end_time": "2024-01-09T20:10:06.019187",
     "exception": false,
     "start_time": "2024-01-09T20:10:04.277523",
     "status": "completed"
    },
    "tags": []
   },
   "outputs": [],
   "source": [
    "from sklearn.model_selection import KFold, cross_val_predict, cross_val_score\n",
    "from sklearn.ensemble import RandomForestRegressor\n",
    "from sklearn.metrics import make_scorer, mean_squared_error\n",
    "\n",
    "X = simplified_train_logs\n",
    "y = train_scores.score\n",
    "\n",
    "regr = RandomForestRegressor(random_state=SEED)"
   ]
  },
  {
   "cell_type": "markdown",
   "id": "c5083c06",
   "metadata": {
    "papermill": {
     "duration": 0.005265,
     "end_time": "2024-01-09T20:10:06.030207",
     "exception": false,
     "start_time": "2024-01-09T20:10:06.024942",
     "status": "completed"
    },
    "tags": []
   },
   "source": [
    "### Hyperparameters"
   ]
  },
  {
   "cell_type": "code",
   "execution_count": 8,
   "id": "ac87e71e",
   "metadata": {
    "execution": {
     "iopub.execute_input": "2024-01-09T20:10:06.043174Z",
     "iopub.status.busy": "2024-01-09T20:10:06.042761Z",
     "iopub.status.idle": "2024-01-09T20:10:06.047441Z",
     "shell.execute_reply": "2024-01-09T20:10:06.046247Z"
    },
    "papermill": {
     "duration": 0.014457,
     "end_time": "2024-01-09T20:10:06.050111",
     "exception": false,
     "start_time": "2024-01-09T20:10:06.035654",
     "status": "completed"
    },
    "tags": []
   },
   "outputs": [],
   "source": [
    "# from sklearn.model_selection import KFold\n",
    "# from xgboost import XGBRegressor\n",
    "\n",
    "# X = simplified_train_logs\n",
    "# y = train_scores.score\n",
    "\n",
    "# regr = XGBRegressor(alpha=0.3, colsample_bytree=0.9, gamma=1, learning_rate=0.1, \n",
    "#                     max_depth=3, n_estimators=100, subsample=0.8, random_state=SEED)"
   ]
  },
  {
   "cell_type": "markdown",
   "id": "a3052cde",
   "metadata": {
    "papermill": {
     "duration": 0.005473,
     "end_time": "2024-01-09T20:10:06.061110",
     "exception": false,
     "start_time": "2024-01-09T20:10:06.055637",
     "status": "completed"
    },
    "tags": []
   },
   "source": [
    "## Preparation for submission"
   ]
  },
  {
   "cell_type": "code",
   "execution_count": 9,
   "id": "2e7cc58b",
   "metadata": {
    "execution": {
     "iopub.execute_input": "2024-01-09T20:10:06.074535Z",
     "iopub.status.busy": "2024-01-09T20:10:06.073727Z",
     "iopub.status.idle": "2024-01-09T20:10:07.527103Z",
     "shell.execute_reply": "2024-01-09T20:10:07.525937Z"
    },
    "papermill": {
     "duration": 1.46355,
     "end_time": "2024-01-09T20:10:07.530169",
     "exception": false,
     "start_time": "2024-01-09T20:10:06.066619",
     "status": "completed"
    },
    "tags": []
   },
   "outputs": [],
   "source": [
    "regr.fit(X,y)      # Fitting the Model to the whole dataset\n",
    "\n",
    "def transformations_train_test(df):     # Apply to test_logs the same transformations applied to train_logs\n",
    "    df['num_events'] = df.groupby('id')['event_id'].transform('last')\n",
    "    df['total_time_mins'] = np.round(df.groupby('id')['up_time'].transform('last') / 60000, 1)\n",
    "    df['input_chars_aux'] = df.groupby('id')['activity'].transform(lambda x: (x == 'Input').sum())\n",
    "    \n",
    "    for _, group in df.groupby('id'):\n",
    "        first_strings_replace_chars = 0\n",
    "        second_strings_replace_chars = 0\n",
    "    \n",
    "        for replace_str in group[group.activity == \"Replace\"].text_change.values:\n",
    "            arrow_idx = replace_str.find(' => ')\n",
    "            len_second_str = len(replace_str) - arrow_idx - len(' => ')\n",
    "            second_strings_replace_chars += len_second_str\n",
    "    \n",
    "        # Assign accumulated values to the corresponding columns for the group\n",
    "        df.loc[group.index, 'second_strings_replace_chars_aux'] = second_strings_replace_chars\n",
    "\n",
    "    df['paste_chars_aux'] = df.groupby('id')['activity'].transform(\n",
    "    lambda x: (df.loc[x.index, 'text_change'][x == 'Paste']).str.len().sum()\n",
    "    )\n",
    "    \n",
    "    df['chars_process'] = df.input_chars_aux + df.second_strings_replace_chars_aux +\\\n",
    "                              df.paste_chars_aux\n",
    "    df['chars_per_min_process'] = np.round(df.chars_process / df.total_time_mins, 1)\n",
    "\n",
    "    df['last_word_count_aux'] = df.groupby('id')['word_count'].transform(lambda x: x.values[-1])\n",
    "    df['words_per_min_product'] = np.round(df.last_word_count_aux / df.total_time_mins, 1)\n",
    "    \n",
    "    for _, group in df.groupby('id'):\n",
    "        input_sentences = group[(group['text_change'].str.contains('[\\.\\;\\?\\!\\:]', regex=True)) &\n",
    "                                (group.activity=='Input')].event_id.count()\n",
    "        \n",
    "        remove_cut_sentences = group[(group['text_change'].str.contains('[\\.\\;\\?\\!\\:]', regex=True)) &\n",
    "                                (group.activity=='Remove/Cut')].event_id.count()\n",
    "        \n",
    "        df.loc[group.index, 'input_sentences_aux'] = input_sentences\n",
    "        df.loc[group.index, 'remove_cut_sentences_aux'] = remove_cut_sentences\n",
    "\n",
    "    \n",
    "    df['sentences_per_min_product'] = np.round((df['input_sentences_aux'] - \n",
    "                                                df['remove_cut_sentences_aux']) / df['total_time_mins'],1)\n",
    "    \n",
    "    for _, group in df.groupby('id'):\n",
    "        iki = group['down_time'] - group['up_time'].shift(1)\n",
    "        filtered_iki = [num for num in iki if num >= 2000]\n",
    "        pause_time = sum(filtered_iki)\n",
    "\n",
    "        # Assign accumulated values to the corresponding columns for the group\n",
    "        df.loc[group.index, 'pause_time_aux'] = pause_time\n",
    "    \n",
    "    df['pause_time_proportion_perc'] = np.round((100 * df.pause_time_aux) / (60000 * df.total_time_mins), 1)\n",
    "    \n",
    "    for _, group in df.groupby('id'):\n",
    "        group['word_count_up_aux'] = group.word_count > group.shift().word_count\n",
    "        word_count_up_idxs = group[(group.word_count_up_aux) & (group.text_change=='q')].index\n",
    "\n",
    "        # Look for time when word ended\n",
    "        pause_time_w_in_words, pauses_w_in_words = 0, 0\n",
    "        for idx in word_count_up_idxs:\n",
    "            initial_time = group.at[idx, 'up_time']\n",
    "            slice_f = group[(group.index >= idx + 1) & (group.index <= idx + 10) \n",
    "                            & (group.activity=='Input') & (group.text_change.isin(['.', ',', ';', ':', ' ', '!', '?']))] \n",
    "            if not slice_f.empty:\n",
    "                final_time = slice_f['down_time'].values[0]\n",
    "                pause_time_w_in_words += final_time - initial_time\n",
    "                pauses_w_in_words += 1\n",
    "\n",
    "        # Assign accumulated values to the corresponding columns for the group\n",
    "        df.loc[group.index, 'pause_time_w_in_words_aux'] = pause_time_w_in_words\n",
    "        df.loc[group.index, 'pauses_w_in_words_aux'] = pauses_w_in_words\n",
    "\n",
    "    \n",
    "    df['mean_pause_length_w_in_words'] = np.round(df.pause_time_w_in_words_aux / df.pauses_w_in_words_aux, 1)\n",
    "    \n",
    "    simplified_df = df[['id', 'num_events',\n",
    "                        'chars_per_min_process', 'words_per_min_product',\n",
    "                        'sentences_per_min_product', 'pause_time_proportion_perc',\n",
    "                        'mean_pause_length_w_in_words']]\n",
    "    \n",
    "    simplified_df.drop_duplicates(inplace=True)\n",
    "    simplified_df.fillna(0, inplace=True)\n",
    "    simplified_df.reset_index(drop=True, inplace=True)\n",
    "    return simplified_df\n",
    "\n",
    "\n",
    "test_logs_transformed = transformations_train_test(test_logs)\n",
    "predictions = regr.predict(test_logs_transformed[['num_events',\n",
    "                        'chars_per_min_process', 'words_per_min_product',\n",
    "                        'sentences_per_min_product', 'pause_time_proportion_perc',\n",
    "                        'mean_pause_length_w_in_words']])\n",
    "\n",
    "test_logs_transformed['score'] = predictions\n",
    "test_logs_transformed[['id', 'score']].to_csv('./submission.csv', index=False)"
   ]
  }
 ],
 "metadata": {
  "kaggle": {
   "accelerator": "none",
   "dataSources": [
    {
     "databundleVersionId": 6678907,
     "sourceId": 59291,
     "sourceType": "competition"
    },
    {
     "sourceId": 157964831,
     "sourceType": "kernelVersion"
    }
   ],
   "dockerImageVersionId": 30579,
   "isGpuEnabled": false,
   "isInternetEnabled": false,
   "language": "python",
   "sourceType": "notebook"
  },
  "kernelspec": {
   "display_name": "Python 3",
   "language": "python",
   "name": "python3"
  },
  "language_info": {
   "codemirror_mode": {
    "name": "ipython",
    "version": 3
   },
   "file_extension": ".py",
   "mimetype": "text/x-python",
   "name": "python",
   "nbconvert_exporter": "python",
   "pygments_lexer": "ipython3",
   "version": "3.10.12"
  },
  "papermill": {
   "default_parameters": {},
   "duration": 39.132788,
   "end_time": "2024-01-09T20:10:08.558970",
   "environment_variables": {},
   "exception": null,
   "input_path": "__notebook__.ipynb",
   "output_path": "__notebook__.ipynb",
   "parameters": {},
   "start_time": "2024-01-09T20:09:29.426182",
   "version": "2.4.0"
  }
 },
 "nbformat": 4,
 "nbformat_minor": 5
}
