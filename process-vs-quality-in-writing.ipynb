{
 "cells": [
  {
   "cell_type": "markdown",
   "id": "07045b10",
   "metadata": {
    "papermill": {
     "duration": 0.00679,
     "end_time": "2024-01-09T19:39:48.481519",
     "exception": false,
     "start_time": "2024-01-09T19:39:48.474729",
     "status": "completed"
    },
    "tags": []
   },
   "source": [
    "## Imports"
   ]
  },
  {
   "cell_type": "code",
   "execution_count": 1,
   "id": "406dccb7",
   "metadata": {
    "execution": {
     "iopub.execute_input": "2024-01-09T19:39:48.495542Z",
     "iopub.status.busy": "2024-01-09T19:39:48.495099Z",
     "iopub.status.idle": "2024-01-09T19:39:49.481545Z",
     "shell.execute_reply": "2024-01-09T19:39:49.480376Z"
    },
    "papermill": {
     "duration": 0.996842,
     "end_time": "2024-01-09T19:39:49.484591",
     "exception": false,
     "start_time": "2024-01-09T19:39:48.487749",
     "status": "completed"
    },
    "tags": []
   },
   "outputs": [],
   "source": [
    "import pandas as pd\n",
    "import numpy as np\n",
    "from pathlib import Path\n",
    "import os\n",
    "import warnings\n",
    "warnings.simplefilter(\"ignore\")\n",
    "SEED=7"
   ]
  },
  {
   "cell_type": "markdown",
   "id": "0765f423",
   "metadata": {
    "papermill": {
     "duration": 0.00566,
     "end_time": "2024-01-09T19:39:49.496362",
     "exception": false,
     "start_time": "2024-01-09T19:39:49.490702",
     "status": "completed"
    },
    "tags": []
   },
   "source": [
    "## Reading data"
   ]
  },
  {
   "cell_type": "code",
   "execution_count": 2,
   "id": "53e83b39",
   "metadata": {
    "execution": {
     "iopub.execute_input": "2024-01-09T19:39:49.510589Z",
     "iopub.status.busy": "2024-01-09T19:39:49.509947Z",
     "iopub.status.idle": "2024-01-09T19:39:49.515944Z",
     "shell.execute_reply": "2024-01-09T19:39:49.514587Z"
    },
    "papermill": {
     "duration": 0.015949,
     "end_time": "2024-01-09T19:39:49.518467",
     "exception": false,
     "start_time": "2024-01-09T19:39:49.502518",
     "status": "completed"
    },
    "tags": []
   },
   "outputs": [],
   "source": [
    "path = Path('../input/linking-writing-processes-to-writing-quality')\n",
    "path_keystroke_measures = Path('../input/keystroke-measures')"
   ]
  },
  {
   "cell_type": "code",
   "execution_count": 3,
   "id": "3368e148",
   "metadata": {
    "execution": {
     "iopub.execute_input": "2024-01-09T19:39:49.533000Z",
     "iopub.status.busy": "2024-01-09T19:39:49.532599Z",
     "iopub.status.idle": "2024-01-09T19:39:49.541982Z",
     "shell.execute_reply": "2024-01-09T19:39:49.540670Z"
    },
    "papermill": {
     "duration": 0.01998,
     "end_time": "2024-01-09T19:39:49.544526",
     "exception": false,
     "start_time": "2024-01-09T19:39:49.524546",
     "status": "completed"
    },
    "tags": []
   },
   "outputs": [
    {
     "data": {
      "text/plain": [
       "['sample_submission.csv',\n",
       " 'test_logs.csv',\n",
       " 'train_scores.csv',\n",
       " 'train_logs.csv']"
      ]
     },
     "execution_count": 3,
     "metadata": {},
     "output_type": "execute_result"
    }
   ],
   "source": [
    "os.listdir(path)"
   ]
  },
  {
   "cell_type": "code",
   "execution_count": 4,
   "id": "db1795f2",
   "metadata": {
    "execution": {
     "iopub.execute_input": "2024-01-09T19:39:49.560454Z",
     "iopub.status.busy": "2024-01-09T19:39:49.559820Z",
     "iopub.status.idle": "2024-01-09T19:40:20.188101Z",
     "shell.execute_reply": "2024-01-09T19:40:20.186756Z"
    },
    "papermill": {
     "duration": 30.644863,
     "end_time": "2024-01-09T19:40:20.196060",
     "exception": false,
     "start_time": "2024-01-09T19:39:49.551197",
     "status": "completed"
    },
    "tags": []
   },
   "outputs": [
    {
     "name": "stdout",
     "output_type": "stream",
     "text": [
      "Debug mode has been deactivated. The whole dataset of train_logs and train_scores will be utilized: 2471 essays.\n"
     ]
    }
   ],
   "source": [
    "test_logs = pd.read_csv(path/'test_logs.csv')\n",
    "train_scores = pd.read_csv(path/'train_scores.csv')\n",
    "\n",
    "with open(path_keystroke_measures/'train_logs.pkl', 'rb') as file:\n",
    "    train_logs = pd.read_pickle(file)\n",
    "\n",
    "DEBUG = False\n",
    "    \n",
    "if DEBUG:\n",
    "    num_essays = 100\n",
    "    train_logs = train_logs[train_logs.id.isin(train_logs.id.unique()[:num_essays])]\n",
    "    train_scores = train_scores[train_scores.id.isin(train_logs.id.unique()[:num_essays])]\n",
    "    print(f\"Debug mode activated. Utilizing {num_essays} essays from train_logs and train_scores.\")\n",
    "else:\n",
    "    print(\"Debug mode has been deactivated. The whole dataset of train_logs and train_scores will be utilized:\",\n",
    "          f\"{train_logs.id.nunique()} essays.\")"
   ]
  },
  {
   "cell_type": "code",
   "execution_count": 5,
   "id": "d226cc9c",
   "metadata": {
    "execution": {
     "iopub.execute_input": "2024-01-09T19:40:20.211558Z",
     "iopub.status.busy": "2024-01-09T19:40:20.210546Z",
     "iopub.status.idle": "2024-01-09T19:40:21.276533Z",
     "shell.execute_reply": "2024-01-09T19:40:21.275206Z"
    },
    "papermill": {
     "duration": 1.077052,
     "end_time": "2024-01-09T19:40:21.279616",
     "exception": false,
     "start_time": "2024-01-09T19:40:20.202564",
     "status": "completed"
    },
    "tags": []
   },
   "outputs": [],
   "source": [
    "train_logs['max_cursor_position'] = train_logs.groupby('id').cursor_position.transform('max')"
   ]
  },
  {
   "cell_type": "code",
   "execution_count": 6,
   "id": "3955079d",
   "metadata": {
    "execution": {
     "iopub.execute_input": "2024-01-09T19:40:21.294105Z",
     "iopub.status.busy": "2024-01-09T19:40:21.293689Z",
     "iopub.status.idle": "2024-01-09T19:40:21.477862Z",
     "shell.execute_reply": "2024-01-09T19:40:21.476881Z"
    },
    "papermill": {
     "duration": 0.194167,
     "end_time": "2024-01-09T19:40:21.480205",
     "exception": false,
     "start_time": "2024-01-09T19:40:21.286038",
     "status": "completed"
    },
    "tags": []
   },
   "outputs": [],
   "source": [
    "simplified_train_logs = train_logs[['max_cursor_position', 'num_events', \n",
    "                                    'chars_per_min_process', 'words_per_min_product',\n",
    "                                    'sentences_per_min_product', 'pause_time_proportion_perc',\n",
    "                                    'mean_pause_length_w_in_words']]"
   ]
  },
  {
   "cell_type": "code",
   "execution_count": 7,
   "id": "b6568d3f",
   "metadata": {
    "execution": {
     "iopub.execute_input": "2024-01-09T19:40:21.495535Z",
     "iopub.status.busy": "2024-01-09T19:40:21.494353Z",
     "iopub.status.idle": "2024-01-09T19:40:22.802442Z",
     "shell.execute_reply": "2024-01-09T19:40:22.801258Z"
    },
    "papermill": {
     "duration": 1.318674,
     "end_time": "2024-01-09T19:40:22.805350",
     "exception": false,
     "start_time": "2024-01-09T19:40:21.486676",
     "status": "completed"
    },
    "tags": []
   },
   "outputs": [],
   "source": [
    "simplified_train_logs.drop_duplicates(inplace=True)\n",
    "simplified_train_logs.reset_index(drop=True, inplace=True)"
   ]
  },
  {
   "cell_type": "markdown",
   "id": "e77c8984",
   "metadata": {
    "papermill": {
     "duration": 0.006125,
     "end_time": "2024-01-09T19:40:22.817931",
     "exception": false,
     "start_time": "2024-01-09T19:40:22.811806",
     "status": "completed"
    },
    "tags": []
   },
   "source": [
    "## Baselines \n",
    "\n",
    "#### Baseline with Random Forest Regressor"
   ]
  },
  {
   "cell_type": "code",
   "execution_count": 8,
   "id": "df0628c5",
   "metadata": {
    "execution": {
     "iopub.execute_input": "2024-01-09T19:40:22.833068Z",
     "iopub.status.busy": "2024-01-09T19:40:22.832659Z",
     "iopub.status.idle": "2024-01-09T19:40:22.839150Z",
     "shell.execute_reply": "2024-01-09T19:40:22.837863Z"
    },
    "papermill": {
     "duration": 0.016882,
     "end_time": "2024-01-09T19:40:22.841529",
     "exception": false,
     "start_time": "2024-01-09T19:40:22.824647",
     "status": "completed"
    },
    "tags": []
   },
   "outputs": [],
   "source": [
    "# from sklearn.model_selection import KFold, cross_val_predict, cross_val_score\n",
    "# from sklearn.ensemble import RandomForestRegressor\n",
    "# from sklearn.metrics import make_scorer, mean_squared_error\n",
    "\n",
    "# rf = RandomForestRegressor(random_state=SEED)\n",
    "\n",
    "# X = simplified_train_logs\n",
    "# y = train_scores.score\n",
    "\n",
    "# num_folds = 5\n",
    "# kfold = KFold(n_splits=num_folds, shuffle=True, random_state=SEED)\n",
    "\n",
    "# # Define custom scorer for RMSE\n",
    "# rmse_scorer = make_scorer(lambda y_true, y_pred: np.sqrt(mean_squared_error(y_true, y_pred)), greater_is_better=False)\n",
    "\n",
    "# # Perform cross-validation with RMSE as the scoring metric and obtain predictions\n",
    "# cv_predictions = cross_val_predict(rf, X, y, cv=kfold)\n",
    "\n",
    "# # Display real values, predictions, max, and min predicted values for each fold\n",
    "# for fold, (train_idx, test_idx) in enumerate(kfold.split(X, y)):\n",
    "#     X_train, X_test = X.iloc[train_idx], X.iloc[test_idx]\n",
    "#     y_train, y_test = y.iloc[train_idx], y.iloc[test_idx]\n",
    "#     predictions = cv_predictions[test_idx]\n",
    "\n",
    "#     print(f\"\\nFold {fold + 1}:\")\n",
    "# #     print(\"Real Values:\", y_test.values)\n",
    "# #     print(\"Predictions:\", predictions)\n",
    "#     print(\"Max Predicted Value:\", np.round(np.max(predictions),1))\n",
    "#     print(\"Min Predicted Value:\", np.round(np.min(predictions),1))\n",
    "\n",
    "#     # Calculate and print RMSE for the fold\n",
    "#     fold_rmse = np.round(np.sqrt(mean_squared_error(y_test, predictions)),2)\n",
    "#     print(\"Fold RMSE:\", fold_rmse)\n",
    "\n",
    "# # Display the cross-validation scores\n",
    "# cv_scores = cross_val_score(rf, X, y, cv=kfold, scoring=rmse_scorer)\n",
    "# print(\"\\nCross-validation RMSE scores:\", -cv_scores)  # Negate scores since make_scorer uses greater_is_better=False\n",
    "# print(\"Mean RMSE:\", np.round(-cv_scores.mean(), 2))  # Negate mean as well\n"
   ]
  },
  {
   "cell_type": "markdown",
   "id": "761dbda1",
   "metadata": {
    "papermill": {
     "duration": 0.006048,
     "end_time": "2024-01-09T19:40:22.854009",
     "exception": false,
     "start_time": "2024-01-09T19:40:22.847961",
     "status": "completed"
    },
    "tags": []
   },
   "source": [
    "### Hyperparameters"
   ]
  },
  {
   "cell_type": "code",
   "execution_count": 9,
   "id": "04f8d7a6",
   "metadata": {
    "execution": {
     "iopub.execute_input": "2024-01-09T19:40:22.869261Z",
     "iopub.status.busy": "2024-01-09T19:40:22.868136Z",
     "iopub.status.idle": "2024-01-09T19:40:22.875183Z",
     "shell.execute_reply": "2024-01-09T19:40:22.873990Z"
    },
    "papermill": {
     "duration": 0.017658,
     "end_time": "2024-01-09T19:40:22.878092",
     "exception": false,
     "start_time": "2024-01-09T19:40:22.860434",
     "status": "completed"
    },
    "tags": []
   },
   "outputs": [],
   "source": [
    "# from sklearn.model_selection import KFold, GridSearchCV\n",
    "# from xgboost import XGBRegressor\n",
    "\n",
    "# X = simplified_train_logs\n",
    "# y = train_scores.score\n",
    "\n",
    "# # Set the number of folds\n",
    "# num_folds = 5\n",
    "\n",
    "# # Instantiate the KFold cross-validator\n",
    "# kf = KFold(n_splits=num_folds, shuffle=True, random_state=SEED)\n",
    "\n",
    "# # Set the parameter grid for grid search\n",
    "# param_grid = {\n",
    "#     'learning_rate': [0.05, 0.1, 0.2],\n",
    "#     'n_estimators': [50, 100, 150, 200],\n",
    "#     'max_depth': [3, 4, 5, 6],\n",
    "#     'subsample': [0.8, 0.9, 1.0],\n",
    "#     'colsample_bytree': [0.8, 0.9],\n",
    "#     'gamma': [0, 1, 5],\n",
    "#     'alpha': [0, 0.3]\n",
    "# }\n",
    "\n",
    "# # Initialize XGBRegressor\n",
    "# regr = XGBRegressor(random_state=SEED)\n",
    "\n",
    "# # Initialize GridSearchCV\n",
    "# grid_search = GridSearchCV(regr, param_grid, scoring='neg_root_mean_squared_error', cv=kf, verbose=1, n_jobs=-1)\n",
    "\n",
    "# # Fit the model on the training data using GridSearchCV\n",
    "# grid_search.fit(X, y)\n",
    "\n",
    "# # Get the results\n",
    "# results_df = pd.DataFrame(grid_search.cv_results_)\n",
    "\n",
    "# # Display top 5 combinations of parameters for the mean score\n",
    "# print(\"\\nTop 5 combinations of parameters for the mean score:\\n\")\n",
    "# top_5_mean = results_df[results_df['rank_test_score'] <= 5]\n",
    "\n",
    "# # Sort by the absolute mean test score in ascending order\n",
    "# top_5_mean = top_5_mean.assign(abs_mean_test_score=top_5_mean['mean_test_score'].abs())\n",
    "# top_5_mean = top_5_mean.sort_values(by='abs_mean_test_score', ascending=True)\n",
    "\n",
    "# for index, row in top_5_mean.iterrows():\n",
    "#     print(f\"Parameters: {row['params']}\")\n",
    "#     print(f\"Mean Test Score: {np.round(row['mean_test_score'],4)}\")\n",
    "#     print(f\"Standard Deviation: {np.round(row['std_test_score'],4)}\\n\")\n"
   ]
  },
  {
   "cell_type": "code",
   "execution_count": 10,
   "id": "623bef3b",
   "metadata": {
    "execution": {
     "iopub.execute_input": "2024-01-09T19:40:22.892664Z",
     "iopub.status.busy": "2024-01-09T19:40:22.892215Z",
     "iopub.status.idle": "2024-01-09T19:40:25.693053Z",
     "shell.execute_reply": "2024-01-09T19:40:25.692136Z"
    },
    "papermill": {
     "duration": 2.811189,
     "end_time": "2024-01-09T19:40:25.695622",
     "exception": false,
     "start_time": "2024-01-09T19:40:22.884433",
     "status": "completed"
    },
    "tags": []
   },
   "outputs": [
    {
     "name": "stdout",
     "output_type": "stream",
     "text": [
      "\n",
      "Fold 1: Max Predicted Value:  5.26 ; Min Predicted Value:  1.54 ; Fold RMSE: 0.68\n",
      "\n",
      "Fold 2: Max Predicted Value:  5.25 ; Min Predicted Value:  1.61 ; Fold RMSE: 0.67\n",
      "\n",
      "Fold 3: Max Predicted Value:  5.3 ; Min Predicted Value:  1.36 ; Fold RMSE: 0.65\n",
      "\n",
      "Fold 4: Max Predicted Value:  5.19 ; Min Predicted Value:  1.5 ; Fold RMSE: 0.68\n",
      "\n",
      "Fold 5: Max Predicted Value:  5.25 ; Min Predicted Value:  1.81 ; Fold RMSE: 0.7\n",
      "\n",
      "Cross-validation RMSE scores: [0.68, 0.67, 0.65, 0.68, 0.7]\n",
      "\n",
      "Mean RMSE: 0.676\n"
     ]
    }
   ],
   "source": [
    "from sklearn.model_selection import KFold\n",
    "from xgboost import XGBRegressor\n",
    "\n",
    "X = simplified_train_logs\n",
    "y = train_scores.score\n",
    "\n",
    "# Set the number of folds\n",
    "num_folds = 5\n",
    "\n",
    "# Instantiate the KFold cross-validator\n",
    "kf = KFold(n_splits=num_folds, shuffle=True, random_state=SEED)\n",
    "\n",
    "# Initialize lists to store results\n",
    "rmse_scores = []\n",
    "\n",
    "regr = XGBRegressor(alpha=0.3, colsample_bytree=0.9, gamma=1, learning_rate=0.05, \n",
    "                    max_depth=4, n_estimators=200, subsample=0.9, random_state=SEED)\n",
    "\n",
    "# Perform cross-validation\n",
    "for fold, (train_index, test_index) in enumerate(kf.split(X), 1):\n",
    "    X_train, X_test = X.iloc[train_index], X.iloc[test_index]\n",
    "    y_train, y_test = y.iloc[train_index], y.iloc[test_index]\n",
    "\n",
    "    # Fit the model on the training data\n",
    "    regr.fit(X_train, y_train, eval_metric=\"rmse\", eval_set=[(X_train, y_train), (X_test, y_test)], verbose=False)\n",
    "\n",
    "    # Get training and testing errors for each iteration of the current fold\n",
    "    train_errors_fold = regr.evals_result()[\"validation_0\"][\"rmse\"]\n",
    "    test_errors_fold = regr.evals_result()[\"validation_1\"][\"rmse\"]\n",
    "\n",
    "    # Make predictions on the test data\n",
    "    y_pred = regr.predict(X_test)\n",
    "\n",
    "    # Calculate RMSE for the fold\n",
    "    rmse = np.round(np.sqrt(((y_test - y_pred) ** 2).mean()), 2)\n",
    "    rmse_scores.append(rmse)\n",
    "\n",
    "    # Print results for each fold\n",
    "    print(f\"\\nFold {fold}: Max Predicted Value: \", np.round(np.max(y_pred), 2), \"; Min Predicted Value: \", np.round(np.min(y_pred), 2), f\"; Fold RMSE: {rmse}\")\n",
    "\n",
    "# Print average RMSE across all folds\n",
    "print(f\"\\nCross-validation RMSE scores: {rmse_scores}\")\n",
    "print(f\"\\nMean RMSE: {np.round(np.mean(rmse_scores), 3)}\")"
   ]
  },
  {
   "cell_type": "markdown",
   "id": "9eb1fbc7",
   "metadata": {
    "papermill": {
     "duration": 0.007121,
     "end_time": "2024-01-09T19:40:25.710777",
     "exception": false,
     "start_time": "2024-01-09T19:40:25.703656",
     "status": "completed"
    },
    "tags": []
   },
   "source": [
    "## Preparation for submission"
   ]
  },
  {
   "cell_type": "code",
   "execution_count": 11,
   "id": "4d2e5ee1",
   "metadata": {
    "execution": {
     "iopub.execute_input": "2024-01-09T19:40:25.725908Z",
     "iopub.status.busy": "2024-01-09T19:40:25.725478Z",
     "iopub.status.idle": "2024-01-09T19:40:25.951760Z",
     "shell.execute_reply": "2024-01-09T19:40:25.950740Z"
    },
    "papermill": {
     "duration": 0.237375,
     "end_time": "2024-01-09T19:40:25.954793",
     "exception": false,
     "start_time": "2024-01-09T19:40:25.717418",
     "status": "completed"
    },
    "tags": []
   },
   "outputs": [],
   "source": [
    "regr.fit(X,y)      # Fitting the Model to the whole dataset\n",
    "\n",
    "def transformations_train_test(df):     # Apply to test_logs the same transformations applied to train_logs\n",
    "    df['max_cursor_position'] = df.groupby('id').cursor_position.transform('max')\n",
    "    df['num_events'] = df.groupby('id')['event_id'].transform('last')\n",
    "    df['total_time_mins'] = np.round(df.groupby('id')['up_time'].transform('last') / 60000, 1)\n",
    "    df['input_chars_aux'] = df.groupby('id')['activity'].transform(lambda x: (x == 'Input').sum())\n",
    "    \n",
    "    for _, group in df.groupby('id'):\n",
    "        first_strings_replace_chars = 0\n",
    "        second_strings_replace_chars = 0\n",
    "    \n",
    "        for replace_str in group[group.activity == \"Replace\"].text_change.values:\n",
    "            arrow_idx = replace_str.find(' => ')\n",
    "            len_second_str = len(replace_str) - arrow_idx - len(' => ')\n",
    "            second_strings_replace_chars += len_second_str\n",
    "    \n",
    "        # Assign accumulated values to the corresponding columns for the group\n",
    "        df.loc[group.index, 'second_strings_replace_chars_aux'] = second_strings_replace_chars\n",
    "\n",
    "    df['paste_chars_aux'] = df.groupby('id')['activity'].transform(\n",
    "    lambda x: (df.loc[x.index, 'text_change'][x == 'Paste']).str.len().sum()\n",
    "    )\n",
    "    \n",
    "    df['chars_process'] = df.input_chars_aux + df.second_strings_replace_chars_aux +\\\n",
    "                              df.paste_chars_aux\n",
    "    df['chars_per_min_process'] = np.round(df.chars_process / df.total_time_mins, 1)\n",
    "\n",
    "    df['last_word_count_aux'] = df.groupby('id')['word_count'].transform(lambda x: x.values[-1])\n",
    "    df['words_per_min_product'] = np.round(df.last_word_count_aux / df.total_time_mins, 1)\n",
    "    \n",
    "    for _, group in df.groupby('id'):\n",
    "        input_sentences = group[(group['text_change'].str.contains('[\\.\\;\\?\\!\\:]', regex=True)) &\n",
    "                                (group.activity=='Input')].event_id.count()\n",
    "        \n",
    "        remove_cut_sentences = group[(group['text_change'].str.contains('[\\.\\;\\?\\!\\:]', regex=True)) &\n",
    "                                (group.activity=='Remove/Cut')].event_id.count()\n",
    "        \n",
    "        df.loc[group.index, 'input_sentences_aux'] = input_sentences\n",
    "        df.loc[group.index, 'remove_cut_sentences_aux'] = remove_cut_sentences\n",
    "\n",
    "    \n",
    "    df['sentences_per_min_product'] = np.round((df['input_sentences_aux'] - \n",
    "                                                df['remove_cut_sentences_aux']) / df['total_time_mins'],1)\n",
    "    \n",
    "    for _, group in df.groupby('id'):\n",
    "        iki = group['down_time'] - group['up_time'].shift(1)\n",
    "        filtered_iki = [num for num in iki if num >= 2000]\n",
    "        pause_time = sum(filtered_iki)\n",
    "\n",
    "        # Assign accumulated values to the corresponding columns for the group\n",
    "        df.loc[group.index, 'pause_time_aux'] = pause_time\n",
    "    \n",
    "    df['pause_time_proportion_perc'] = np.round((100 * df.pause_time_aux) / (60000 * df.total_time_mins), 1)\n",
    "    \n",
    "    for _, group in df.groupby('id'):\n",
    "        group['word_count_up_aux'] = group.word_count > group.shift().word_count\n",
    "        word_count_up_idxs = group[(group.word_count_up_aux) & (group.text_change=='q')].index\n",
    "\n",
    "        # Look for time when word ended\n",
    "        pause_time_w_in_words, pauses_w_in_words = 0, 0\n",
    "        for idx in word_count_up_idxs:\n",
    "            initial_time = group.at[idx, 'up_time']\n",
    "            slice_f = group[(group.index >= idx + 1) & (group.index <= idx + 10) \n",
    "                            & (group.activity=='Input') & (group.text_change.isin(['.', ',', ';', ':', ' ', '!', '?']))] \n",
    "            if not slice_f.empty:\n",
    "                final_time = slice_f['down_time'].values[0]\n",
    "                pause_time_w_in_words += final_time - initial_time\n",
    "                pauses_w_in_words += 1\n",
    "\n",
    "        # Assign accumulated values to the corresponding columns for the group\n",
    "        df.loc[group.index, 'pause_time_w_in_words_aux'] = pause_time_w_in_words\n",
    "        df.loc[group.index, 'pauses_w_in_words_aux'] = pauses_w_in_words\n",
    "\n",
    "    \n",
    "    df['mean_pause_length_w_in_words'] = np.round(df.pause_time_w_in_words_aux / df.pauses_w_in_words_aux, 1)\n",
    "    \n",
    "    simplified_df = df[['id', 'max_cursor_position', 'num_events',\n",
    "                        'chars_per_min_process', 'words_per_min_product',\n",
    "                        'sentences_per_min_product', 'pause_time_proportion_perc',\n",
    "                        'mean_pause_length_w_in_words']]\n",
    "    \n",
    "    simplified_df.drop_duplicates(inplace=True)\n",
    "    simplified_df.reset_index(drop=True, inplace=True)\n",
    "    return simplified_df\n",
    "\n",
    "\n",
    "test_logs_transformed = transformations_train_test(test_logs)\n",
    "predictions = regr.predict(test_logs_transformed[['max_cursor_position', 'num_events',\n",
    "                        'chars_per_min_process', 'words_per_min_product',\n",
    "                        'sentences_per_min_product', 'pause_time_proportion_perc',\n",
    "                        'mean_pause_length_w_in_words']])\n",
    "\n",
    "test_logs_transformed['score'] = predictions\n",
    "test_logs_transformed[['id', 'score']].to_csv('./submission.csv', index=False)"
   ]
  }
 ],
 "metadata": {
  "kaggle": {
   "accelerator": "none",
   "dataSources": [
    {
     "databundleVersionId": 6678907,
     "sourceId": 59291,
     "sourceType": "competition"
    },
    {
     "sourceId": 157964831,
     "sourceType": "kernelVersion"
    }
   ],
   "dockerImageVersionId": 30579,
   "isGpuEnabled": false,
   "isInternetEnabled": true,
   "language": "python",
   "sourceType": "notebook"
  },
  "kernelspec": {
   "display_name": "Python 3",
   "language": "python",
   "name": "python3"
  },
  "language_info": {
   "codemirror_mode": {
    "name": "ipython",
    "version": 3
   },
   "file_extension": ".py",
   "mimetype": "text/x-python",
   "name": "python",
   "nbconvert_exporter": "python",
   "pygments_lexer": "ipython3",
   "version": "3.10.12"
  },
  "papermill": {
   "default_parameters": {},
   "duration": 43.00158,
   "end_time": "2024-01-09T19:40:26.988091",
   "environment_variables": {},
   "exception": null,
   "input_path": "__notebook__.ipynb",
   "output_path": "__notebook__.ipynb",
   "parameters": {},
   "start_time": "2024-01-09T19:39:43.986511",
   "version": "2.4.0"
  }
 },
 "nbformat": 4,
 "nbformat_minor": 5
}
