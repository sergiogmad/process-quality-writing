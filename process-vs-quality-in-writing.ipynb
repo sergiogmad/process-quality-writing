{
 "cells": [
  {
   "cell_type": "code",
   "execution_count": 1,
   "id": "2ab924de",
   "metadata": {
    "_cell_guid": "b1076dfc-b9ad-4769-8c92-a6c4dae69d19",
    "_uuid": "8f2839f25d086af736a60e9eeb907d3b93b6e0e5",
    "execution": {
     "iopub.execute_input": "2023-11-14T19:46:35.959178Z",
     "iopub.status.busy": "2023-11-14T19:46:35.958607Z",
     "iopub.status.idle": "2023-11-14T19:46:36.325137Z",
     "shell.execute_reply": "2023-11-14T19:46:36.324258Z"
    },
    "papermill": {
     "duration": 0.374345,
     "end_time": "2023-11-14T19:46:36.328394",
     "exception": false,
     "start_time": "2023-11-14T19:46:35.954049",
     "status": "completed"
    },
    "tags": []
   },
   "outputs": [
    {
     "name": "stdout",
     "output_type": "stream",
     "text": [
      "/kaggle/input/linking-writing-processes-to-writing-quality/sample_submission.csv\n",
      "/kaggle/input/linking-writing-processes-to-writing-quality/test_logs.csv\n",
      "/kaggle/input/linking-writing-processes-to-writing-quality/train_scores.csv\n",
      "/kaggle/input/linking-writing-processes-to-writing-quality/train_logs.csv\n"
     ]
    }
   ],
   "source": [
    "# This Python 3 environment comes with many helpful analytics libraries installed\n",
    "# It is defined by the kaggle/python Docker image: https://github.com/kaggle/docker-python\n",
    "# For example, here's several helpful packages to load\n",
    "\n",
    "import numpy as np # linear algebra\n",
    "import pandas as pd # data processing, CSV file I/O (e.g. pd.read_csv)\n",
    "\n",
    "# Input data files are available in the read-only \"../input/\" directory\n",
    "# For example, running this (by clicking run or pressing Shift+Enter) will list all files under the input directory\n",
    "\n",
    "import os\n",
    "for dirname, _, filenames in os.walk('/kaggle/input'):\n",
    "    for filename in filenames:\n",
    "        print(os.path.join(dirname, filename))\n",
    "\n",
    "# You can write up to 20GB to the current directory (/kaggle/working/) that gets preserved as output when you create a version using \"Save & Run All\" \n",
    "# You can also write temporary files to /kaggle/temp/, but they won't be saved outside of the current session"
   ]
  },
  {
   "cell_type": "code",
   "execution_count": 2,
   "id": "0fb99a26",
   "metadata": {
    "execution": {
     "iopub.execute_input": "2023-11-14T19:46:36.336389Z",
     "iopub.status.busy": "2023-11-14T19:46:36.335690Z",
     "iopub.status.idle": "2023-11-14T19:46:50.413752Z",
     "shell.execute_reply": "2023-11-14T19:46:50.412701Z"
    },
    "papermill": {
     "duration": 14.08463,
     "end_time": "2023-11-14T19:46:50.416186",
     "exception": false,
     "start_time": "2023-11-14T19:46:36.331556",
     "status": "completed"
    },
    "tags": []
   },
   "outputs": [],
   "source": [
    "train_logs = pd.read_csv('../input/linking-writing-processes-to-writing-quality/train_logs.csv')\n",
    "train_scores = pd.read_csv('../input/linking-writing-processes-to-writing-quality/train_scores.csv')"
   ]
  },
  {
   "cell_type": "code",
   "execution_count": 3,
   "id": "23a39533",
   "metadata": {
    "execution": {
     "iopub.execute_input": "2023-11-14T19:46:50.423647Z",
     "iopub.status.busy": "2023-11-14T19:46:50.422398Z",
     "iopub.status.idle": "2023-11-14T19:46:50.449229Z",
     "shell.execute_reply": "2023-11-14T19:46:50.448152Z"
    },
    "papermill": {
     "duration": 0.032578,
     "end_time": "2023-11-14T19:46:50.451412",
     "exception": false,
     "start_time": "2023-11-14T19:46:50.418834",
     "status": "completed"
    },
    "tags": []
   },
   "outputs": [
    {
     "data": {
      "text/html": [
       "<div>\n",
       "<style scoped>\n",
       "    .dataframe tbody tr th:only-of-type {\n",
       "        vertical-align: middle;\n",
       "    }\n",
       "\n",
       "    .dataframe tbody tr th {\n",
       "        vertical-align: top;\n",
       "    }\n",
       "\n",
       "    .dataframe thead th {\n",
       "        text-align: right;\n",
       "    }\n",
       "</style>\n",
       "<table border=\"1\" class=\"dataframe\">\n",
       "  <thead>\n",
       "    <tr style=\"text-align: right;\">\n",
       "      <th></th>\n",
       "      <th>id</th>\n",
       "      <th>event_id</th>\n",
       "      <th>down_time</th>\n",
       "      <th>up_time</th>\n",
       "      <th>action_time</th>\n",
       "      <th>activity</th>\n",
       "      <th>down_event</th>\n",
       "      <th>up_event</th>\n",
       "      <th>text_change</th>\n",
       "      <th>cursor_position</th>\n",
       "      <th>word_count</th>\n",
       "    </tr>\n",
       "  </thead>\n",
       "  <tbody>\n",
       "    <tr>\n",
       "      <th>0</th>\n",
       "      <td>001519c8</td>\n",
       "      <td>1</td>\n",
       "      <td>4526</td>\n",
       "      <td>4557</td>\n",
       "      <td>31</td>\n",
       "      <td>Nonproduction</td>\n",
       "      <td>Leftclick</td>\n",
       "      <td>Leftclick</td>\n",
       "      <td>NoChange</td>\n",
       "      <td>0</td>\n",
       "      <td>0</td>\n",
       "    </tr>\n",
       "    <tr>\n",
       "      <th>1</th>\n",
       "      <td>001519c8</td>\n",
       "      <td>2</td>\n",
       "      <td>4558</td>\n",
       "      <td>4962</td>\n",
       "      <td>404</td>\n",
       "      <td>Nonproduction</td>\n",
       "      <td>Leftclick</td>\n",
       "      <td>Leftclick</td>\n",
       "      <td>NoChange</td>\n",
       "      <td>0</td>\n",
       "      <td>0</td>\n",
       "    </tr>\n",
       "    <tr>\n",
       "      <th>2</th>\n",
       "      <td>001519c8</td>\n",
       "      <td>3</td>\n",
       "      <td>106571</td>\n",
       "      <td>106571</td>\n",
       "      <td>0</td>\n",
       "      <td>Nonproduction</td>\n",
       "      <td>Shift</td>\n",
       "      <td>Shift</td>\n",
       "      <td>NoChange</td>\n",
       "      <td>0</td>\n",
       "      <td>0</td>\n",
       "    </tr>\n",
       "    <tr>\n",
       "      <th>3</th>\n",
       "      <td>001519c8</td>\n",
       "      <td>4</td>\n",
       "      <td>106686</td>\n",
       "      <td>106777</td>\n",
       "      <td>91</td>\n",
       "      <td>Input</td>\n",
       "      <td>q</td>\n",
       "      <td>q</td>\n",
       "      <td>q</td>\n",
       "      <td>1</td>\n",
       "      <td>1</td>\n",
       "    </tr>\n",
       "    <tr>\n",
       "      <th>4</th>\n",
       "      <td>001519c8</td>\n",
       "      <td>5</td>\n",
       "      <td>107196</td>\n",
       "      <td>107323</td>\n",
       "      <td>127</td>\n",
       "      <td>Input</td>\n",
       "      <td>q</td>\n",
       "      <td>q</td>\n",
       "      <td>q</td>\n",
       "      <td>2</td>\n",
       "      <td>1</td>\n",
       "    </tr>\n",
       "  </tbody>\n",
       "</table>\n",
       "</div>"
      ],
      "text/plain": [
       "         id  event_id  down_time  up_time  action_time       activity  \\\n",
       "0  001519c8         1       4526     4557           31  Nonproduction   \n",
       "1  001519c8         2       4558     4962          404  Nonproduction   \n",
       "2  001519c8         3     106571   106571            0  Nonproduction   \n",
       "3  001519c8         4     106686   106777           91          Input   \n",
       "4  001519c8         5     107196   107323          127          Input   \n",
       "\n",
       "  down_event   up_event text_change  cursor_position  word_count  \n",
       "0  Leftclick  Leftclick    NoChange                0           0  \n",
       "1  Leftclick  Leftclick    NoChange                0           0  \n",
       "2      Shift      Shift    NoChange                0           0  \n",
       "3          q          q           q                1           1  \n",
       "4          q          q           q                2           1  "
      ]
     },
     "execution_count": 3,
     "metadata": {},
     "output_type": "execute_result"
    }
   ],
   "source": [
    "train_logs.head()"
   ]
  },
  {
   "cell_type": "code",
   "execution_count": 4,
   "id": "de75cde5",
   "metadata": {
    "execution": {
     "iopub.execute_input": "2023-11-14T19:46:50.458219Z",
     "iopub.status.busy": "2023-11-14T19:46:50.457885Z",
     "iopub.status.idle": "2023-11-14T19:46:50.986052Z",
     "shell.execute_reply": "2023-11-14T19:46:50.984791Z"
    },
    "papermill": {
     "duration": 0.534618,
     "end_time": "2023-11-14T19:46:50.988770",
     "exception": false,
     "start_time": "2023-11-14T19:46:50.454152",
     "status": "completed"
    },
    "tags": []
   },
   "outputs": [
    {
     "data": {
      "text/plain": [
       "array(['Leftclick', 'Shift', 'q', 'Space', 'Backspace', '.', ',', 'Enter',\n",
       "       'ArrowLeft', \"'\", ';', 'ArrowRight', '-', '?', 'Tab', '\"',\n",
       "       'ArrowUp', 'ArrowDown', 'Rightclick', '=', 'CapsLock', 'Control',\n",
       "       'c', 'v', '/', 'Delete', ':', 'z', '[', '$', '(', ')', '+', 'Home',\n",
       "       'End', '\\\\', 'Meta', '*', '&', 'AudioVolumeMute', 'x', '!',\n",
       "       'Insert', 'MediaPlayPause', 'NumLock', '%', 'V', '>', 'Alt',\n",
       "       'AudioVolumeUp', 'ContextMenu', 'AudioVolumeDown', 'a', '<',\n",
       "       'PageDown', ']', 'Middleclick', '@', 'F12', 'j', '\\x96', 'Dead',\n",
       "       't', 's', 'n', 'y', '{', 'ScrollLock', '¿', 'Process', '}',\n",
       "       'MediaTrackPrevious', 'MediaTrackNext', 'F3', '^', 'Unidentified',\n",
       "       'Cancel', '2', 'i', 'd', 'r', 'e', '`', '\\x9b', 'm', '#', '~',\n",
       "       'PageUp', 'T', 'A', 'b', 'S', 'ModeChange', '_', 'Escape', 'F11',\n",
       "       'Unknownclick', 'AltGraph', 'F10', 'h', 'F15', 'Clear', 'OS', 'F',\n",
       "       'C', 'o', 'Ä±', 'f', 'u', 'w', 'p', 'g', 'M', 'l', '|',\n",
       "       'â\\x80\\x93', 'I', '0', '1', '5', '\\x97', 'Ë\\x86', '¡', '\\x80',\n",
       "       'Â´', 'Å\\x9f', 'F2', 'ä', 'F1', 'Pause', 'F6'], dtype=object)"
      ]
     },
     "execution_count": 4,
     "metadata": {},
     "output_type": "execute_result"
    }
   ],
   "source": [
    "train_logs.down_event.unique()"
   ]
  },
  {
   "cell_type": "code",
   "execution_count": 5,
   "id": "4b9c2a67",
   "metadata": {
    "execution": {
     "iopub.execute_input": "2023-11-14T19:46:50.997153Z",
     "iopub.status.busy": "2023-11-14T19:46:50.996182Z",
     "iopub.status.idle": "2023-11-14T19:46:51.001022Z",
     "shell.execute_reply": "2023-11-14T19:46:51.000214Z"
    },
    "papermill": {
     "duration": 0.011207,
     "end_time": "2023-11-14T19:46:51.003056",
     "exception": false,
     "start_time": "2023-11-14T19:46:50.991849",
     "status": "completed"
    },
    "tags": []
   },
   "outputs": [],
   "source": [
    "# backlog\n",
    "\n",
    "    # imports\n",
    "\n",
    "    # basic EDA\n",
    "\n",
    "    # baseline with random forest\n",
    "\n",
    "    # baseline with xgboost\n",
    "\n",
    "    # EDA\n",
    "\n",
    "    # explore hypothesis:\n",
    "        # Best writers have more clarity of thought -> less corrections\n",
    "        # Best writers spend more time reviewing\n",
    "        # Best writers spend more time thinking, in pause\n",
    "        # Best writers more time relatively in bursts\n",
    "        # Volume-related events: tendency to get distracted\n",
    "        # Volume-related events: focused if shutting down noise\n",
    "        # Better handling of shortcuts associated with higher competence  \n",
    "        # Combinations of the aforementioned hypothesis\n",
    "\n",
    "# try submissions\n",
    "    \n",
    "# explore forum - code, discussions"
   ]
  },
  {
   "cell_type": "code",
   "execution_count": null,
   "id": "69b4f827",
   "metadata": {
    "papermill": {
     "duration": 0.002669,
     "end_time": "2023-11-14T19:46:51.008735",
     "exception": false,
     "start_time": "2023-11-14T19:46:51.006066",
     "status": "completed"
    },
    "tags": []
   },
   "outputs": [],
   "source": []
  }
 ],
 "metadata": {
  "kaggle": {
   "accelerator": "none",
   "dataSources": [
    {
     "databundleVersionId": 6678907,
     "sourceId": 59291,
     "sourceType": "competition"
    }
   ],
   "dockerImageVersionId": 30579,
   "isGpuEnabled": false,
   "isInternetEnabled": true,
   "language": "python",
   "sourceType": "notebook"
  },
  "kernelspec": {
   "display_name": "Python 3",
   "language": "python",
   "name": "python3"
  },
  "language_info": {
   "codemirror_mode": {
    "name": "ipython",
    "version": 3
   },
   "file_extension": ".py",
   "mimetype": "text/x-python",
   "name": "python",
   "nbconvert_exporter": "python",
   "pygments_lexer": "ipython3",
   "version": "3.10.12"
  },
  "papermill": {
   "default_parameters": {},
   "duration": 18.718055,
   "end_time": "2023-11-14T19:46:51.633809",
   "environment_variables": {},
   "exception": null,
   "input_path": "__notebook__.ipynb",
   "output_path": "__notebook__.ipynb",
   "parameters": {},
   "start_time": "2023-11-14T19:46:32.915754",
   "version": "2.4.0"
  }
 },
 "nbformat": 4,
 "nbformat_minor": 5
}
