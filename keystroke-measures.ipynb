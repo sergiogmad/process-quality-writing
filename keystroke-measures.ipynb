{
 "cells": [
  {
   "cell_type": "code",
   "execution_count": 1,
   "id": "c00441d7",
   "metadata": {
    "execution": {
     "iopub.execute_input": "2023-12-13T22:15:05.108891Z",
     "iopub.status.busy": "2023-12-13T22:15:05.108215Z",
     "iopub.status.idle": "2023-12-13T22:15:06.068649Z",
     "shell.execute_reply": "2023-12-13T22:15:06.067531Z"
    },
    "papermill": {
     "duration": 0.972456,
     "end_time": "2023-12-13T22:15:06.071742",
     "exception": false,
     "start_time": "2023-12-13T22:15:05.099286",
     "status": "completed"
    },
    "tags": []
   },
   "outputs": [],
   "source": [
    "import pandas as pd\n",
    "pd.set_option('display.max_columns', None)\n",
    "import numpy as np\n",
    "from pathlib import Path\n",
    "import pickle\n",
    "import warnings\n",
    "warnings.simplefilter(\"ignore\")"
   ]
  },
  {
   "cell_type": "code",
   "execution_count": 2,
   "id": "dbea2755",
   "metadata": {
    "execution": {
     "iopub.execute_input": "2023-12-13T22:15:06.086387Z",
     "iopub.status.busy": "2023-12-13T22:15:06.085828Z",
     "iopub.status.idle": "2023-12-13T22:15:06.091584Z",
     "shell.execute_reply": "2023-12-13T22:15:06.090058Z"
    },
    "papermill": {
     "duration": 0.016456,
     "end_time": "2023-12-13T22:15:06.094531",
     "exception": false,
     "start_time": "2023-12-13T22:15:06.078075",
     "status": "completed"
    },
    "tags": []
   },
   "outputs": [],
   "source": [
    "path = Path('../input/linking-writing-processes-to-writing-quality')"
   ]
  },
  {
   "cell_type": "markdown",
   "id": "a3ba45e0",
   "metadata": {
    "papermill": {
     "duration": 0.006386,
     "end_time": "2023-12-13T22:15:06.108483",
     "exception": false,
     "start_time": "2023-12-13T22:15:06.102097",
     "status": "completed"
    },
    "tags": []
   },
   "source": [
    "### Production Rate"
   ]
  },
  {
   "cell_type": "code",
   "execution_count": 3,
   "id": "f7864ea3",
   "metadata": {
    "execution": {
     "iopub.execute_input": "2023-12-13T22:15:06.124180Z",
     "iopub.status.busy": "2023-12-13T22:15:06.123780Z",
     "iopub.status.idle": "2023-12-13T22:15:21.643924Z",
     "shell.execute_reply": "2023-12-13T22:15:21.642408Z"
    },
    "papermill": {
     "duration": 15.532204,
     "end_time": "2023-12-13T22:15:21.647837",
     "exception": false,
     "start_time": "2023-12-13T22:15:06.115633",
     "status": "completed"
    },
    "tags": []
   },
   "outputs": [],
   "source": [
    "train_logs = pd.read_csv(path/'train_logs.csv')"
   ]
  },
  {
   "cell_type": "code",
   "execution_count": 4,
   "id": "5075694e",
   "metadata": {
    "execution": {
     "iopub.execute_input": "2023-12-13T22:15:21.663939Z",
     "iopub.status.busy": "2023-12-13T22:15:21.663477Z",
     "iopub.status.idle": "2023-12-13T22:15:21.671174Z",
     "shell.execute_reply": "2023-12-13T22:15:21.669618Z"
    },
    "papermill": {
     "duration": 0.018966,
     "end_time": "2023-12-13T22:15:21.674282",
     "exception": false,
     "start_time": "2023-12-13T22:15:21.655316",
     "status": "completed"
    },
    "tags": []
   },
   "outputs": [
    {
     "name": "stdout",
     "output_type": "stream",
     "text": [
      "Debug mode disabled.\n"
     ]
    }
   ],
   "source": [
    "DEBUG = False\n",
    "if DEBUG:\n",
    "    train_logs = train_logs[train_logs.id.isin(train_logs.id.unique()[:5])]\n",
    "    print('Debug mode enabled.')\n",
    "else:\n",
    "    print('Debug mode disabled.')"
   ]
  },
  {
   "cell_type": "code",
   "execution_count": 5,
   "id": "7b5463ee",
   "metadata": {
    "execution": {
     "iopub.execute_input": "2023-12-13T22:15:21.689555Z",
     "iopub.status.busy": "2023-12-13T22:15:21.689140Z",
     "iopub.status.idle": "2023-12-13T22:15:21.717216Z",
     "shell.execute_reply": "2023-12-13T22:15:21.716361Z"
    },
    "papermill": {
     "duration": 0.038656,
     "end_time": "2023-12-13T22:15:21.719587",
     "exception": false,
     "start_time": "2023-12-13T22:15:21.680931",
     "status": "completed"
    },
    "tags": []
   },
   "outputs": [
    {
     "data": {
      "text/html": [
       "<div>\n",
       "<style scoped>\n",
       "    .dataframe tbody tr th:only-of-type {\n",
       "        vertical-align: middle;\n",
       "    }\n",
       "\n",
       "    .dataframe tbody tr th {\n",
       "        vertical-align: top;\n",
       "    }\n",
       "\n",
       "    .dataframe thead th {\n",
       "        text-align: right;\n",
       "    }\n",
       "</style>\n",
       "<table border=\"1\" class=\"dataframe\">\n",
       "  <thead>\n",
       "    <tr style=\"text-align: right;\">\n",
       "      <th></th>\n",
       "      <th>id</th>\n",
       "      <th>event_id</th>\n",
       "      <th>down_time</th>\n",
       "      <th>up_time</th>\n",
       "      <th>action_time</th>\n",
       "      <th>activity</th>\n",
       "      <th>down_event</th>\n",
       "      <th>up_event</th>\n",
       "      <th>text_change</th>\n",
       "      <th>cursor_position</th>\n",
       "      <th>word_count</th>\n",
       "    </tr>\n",
       "  </thead>\n",
       "  <tbody>\n",
       "    <tr>\n",
       "      <th>0</th>\n",
       "      <td>001519c8</td>\n",
       "      <td>1</td>\n",
       "      <td>4526</td>\n",
       "      <td>4557</td>\n",
       "      <td>31</td>\n",
       "      <td>Nonproduction</td>\n",
       "      <td>Leftclick</td>\n",
       "      <td>Leftclick</td>\n",
       "      <td>NoChange</td>\n",
       "      <td>0</td>\n",
       "      <td>0</td>\n",
       "    </tr>\n",
       "    <tr>\n",
       "      <th>1</th>\n",
       "      <td>001519c8</td>\n",
       "      <td>2</td>\n",
       "      <td>4558</td>\n",
       "      <td>4962</td>\n",
       "      <td>404</td>\n",
       "      <td>Nonproduction</td>\n",
       "      <td>Leftclick</td>\n",
       "      <td>Leftclick</td>\n",
       "      <td>NoChange</td>\n",
       "      <td>0</td>\n",
       "      <td>0</td>\n",
       "    </tr>\n",
       "    <tr>\n",
       "      <th>2</th>\n",
       "      <td>001519c8</td>\n",
       "      <td>3</td>\n",
       "      <td>106571</td>\n",
       "      <td>106571</td>\n",
       "      <td>0</td>\n",
       "      <td>Nonproduction</td>\n",
       "      <td>Shift</td>\n",
       "      <td>Shift</td>\n",
       "      <td>NoChange</td>\n",
       "      <td>0</td>\n",
       "      <td>0</td>\n",
       "    </tr>\n",
       "    <tr>\n",
       "      <th>3</th>\n",
       "      <td>001519c8</td>\n",
       "      <td>4</td>\n",
       "      <td>106686</td>\n",
       "      <td>106777</td>\n",
       "      <td>91</td>\n",
       "      <td>Input</td>\n",
       "      <td>q</td>\n",
       "      <td>q</td>\n",
       "      <td>q</td>\n",
       "      <td>1</td>\n",
       "      <td>1</td>\n",
       "    </tr>\n",
       "    <tr>\n",
       "      <th>4</th>\n",
       "      <td>001519c8</td>\n",
       "      <td>5</td>\n",
       "      <td>107196</td>\n",
       "      <td>107323</td>\n",
       "      <td>127</td>\n",
       "      <td>Input</td>\n",
       "      <td>q</td>\n",
       "      <td>q</td>\n",
       "      <td>q</td>\n",
       "      <td>2</td>\n",
       "      <td>1</td>\n",
       "    </tr>\n",
       "  </tbody>\n",
       "</table>\n",
       "</div>"
      ],
      "text/plain": [
       "         id  event_id  down_time  up_time  action_time       activity  \\\n",
       "0  001519c8         1       4526     4557           31  Nonproduction   \n",
       "1  001519c8         2       4558     4962          404  Nonproduction   \n",
       "2  001519c8         3     106571   106571            0  Nonproduction   \n",
       "3  001519c8         4     106686   106777           91          Input   \n",
       "4  001519c8         5     107196   107323          127          Input   \n",
       "\n",
       "  down_event   up_event text_change  cursor_position  word_count  \n",
       "0  Leftclick  Leftclick    NoChange                0           0  \n",
       "1  Leftclick  Leftclick    NoChange                0           0  \n",
       "2      Shift      Shift    NoChange                0           0  \n",
       "3          q          q           q                1           1  \n",
       "4          q          q           q                2           1  "
      ]
     },
     "execution_count": 5,
     "metadata": {},
     "output_type": "execute_result"
    }
   ],
   "source": [
    "train_logs.head()"
   ]
  },
  {
   "cell_type": "markdown",
   "id": "369ea2d4",
   "metadata": {
    "papermill": {
     "duration": 0.006701,
     "end_time": "2023-12-13T22:15:21.733832",
     "exception": false,
     "start_time": "2023-12-13T22:15:21.727131",
     "status": "completed"
    },
    "tags": []
   },
   "source": [
    "### Production Rate"
   ]
  },
  {
   "cell_type": "code",
   "execution_count": 6,
   "id": "213d358e",
   "metadata": {
    "execution": {
     "iopub.execute_input": "2023-12-13T22:15:21.751495Z",
     "iopub.status.busy": "2023-12-13T22:15:21.750101Z",
     "iopub.status.idle": "2023-12-13T22:15:42.270045Z",
     "shell.execute_reply": "2023-12-13T22:15:42.268569Z"
    },
    "papermill": {
     "duration": 20.531626,
     "end_time": "2023-12-13T22:15:42.273172",
     "exception": false,
     "start_time": "2023-12-13T22:15:21.741546",
     "status": "completed"
    },
    "tags": []
   },
   "outputs": [],
   "source": [
    "# chars_product = input_char - remove_cut_chars - first_strings_replace_chars + second_strings_replace_chars + paste_chars\n",
    "id_groups = train_logs.groupby('id')\n",
    "\n",
    "train_logs['input_chars_aux'] = id_groups['activity'].transform(lambda x: (x == 'Input').sum())\n",
    "    \n",
    "train_logs['remove_cut_chars_aux'] = id_groups['activity'].transform(\n",
    "    lambda x: (train_logs.loc[x.index, 'text_change'][x == 'Remove/Cut']).str.len().sum()\n",
    "    )\n",
    "\n",
    "train_logs['paste_chars_aux'] = id_groups['activity'].transform(\n",
    "    lambda x: (train_logs.loc[x.index, 'text_change'][x == 'Paste']).str.len().sum()\n",
    "    )\n",
    "\n",
    "train_logs['total_time_mins'] = np.round(id_groups['up_time'].transform(\n",
    "    lambda x: x.iloc[-1] / 60000), 1)\n",
    "\n",
    "for _, group in id_groups:\n",
    "    first_strings_replace_chars = 0\n",
    "    second_strings_replace_chars = 0\n",
    "    \n",
    "    for replace_str in group[group.activity == \"Replace\"].text_change.values:\n",
    "        arrow_idx = replace_str.find(' => ')\n",
    "        first_strings_replace_chars += arrow_idx\n",
    "        len_second_str = len(replace_str) - arrow_idx - len(' => ')\n",
    "        second_strings_replace_chars += len_second_str\n",
    "    \n",
    "    # Assign accumulated values to the corresponding columns for the group\n",
    "    train_logs.loc[group.index, 'first_strings_replace_chars_aux'] = first_strings_replace_chars\n",
    "    train_logs.loc[group.index, 'second_strings_replace_chars_aux'] = second_strings_replace_chars\n",
    "    \n",
    "# chars_product = input_chars - remove_cut_chars - first_strings_replace_chars + second_strings_replace_chars + paste_chars\n",
    "train_logs['chars_product'] = train_logs.input_chars_aux - train_logs.remove_cut_chars_aux - \\\n",
    "        train_logs.first_strings_replace_chars_aux + train_logs.second_strings_replace_chars_aux + train_logs.paste_chars_aux\n",
    "\n",
    "train_logs['chars_per_min_product'] = np.round(train_logs.chars_product / train_logs.total_time_mins, 1)\n",
    "\n",
    "# chars_process\n",
    "train_logs['chars_process'] = train_logs.input_chars_aux + train_logs.second_strings_replace_chars_aux +\\\n",
    "                              train_logs.paste_chars_aux\n",
    "train_logs['chars_per_min_process'] = np.round(train_logs.chars_process / train_logs.total_time_mins, 1)"
   ]
  },
  {
   "cell_type": "code",
   "execution_count": 7,
   "id": "f71a286a",
   "metadata": {
    "execution": {
     "iopub.execute_input": "2023-12-13T22:15:42.289093Z",
     "iopub.status.busy": "2023-12-13T22:15:42.288681Z",
     "iopub.status.idle": "2023-12-13T22:15:43.124844Z",
     "shell.execute_reply": "2023-12-13T22:15:43.123722Z"
    },
    "papermill": {
     "duration": 0.84791,
     "end_time": "2023-12-13T22:15:43.128354",
     "exception": false,
     "start_time": "2023-12-13T22:15:42.280444",
     "status": "completed"
    },
    "tags": []
   },
   "outputs": [],
   "source": [
    "# words_per_min_product\n",
    "train_logs['last_word_count_aux'] = id_groups['word_count'].transform(lambda x: x.values[-1])\n",
    "train_logs['words_per_min_product'] = np.round(train_logs.last_word_count_aux / train_logs.total_time_mins, 1)"
   ]
  },
  {
   "cell_type": "code",
   "execution_count": 8,
   "id": "4d788d3a",
   "metadata": {
    "execution": {
     "iopub.execute_input": "2023-12-13T22:15:43.144449Z",
     "iopub.status.busy": "2023-12-13T22:15:43.144037Z",
     "iopub.status.idle": "2023-12-13T22:16:19.156855Z",
     "shell.execute_reply": "2023-12-13T22:16:19.155512Z"
    },
    "papermill": {
     "duration": 36.024785,
     "end_time": "2023-12-13T22:16:19.160375",
     "exception": false,
     "start_time": "2023-12-13T22:15:43.135590",
     "status": "completed"
    },
    "tags": []
   },
   "outputs": [],
   "source": [
    "# words_per_min_process, sentences_per_min_process, sentences_per_min_product, paragraphs_per_min_process\n",
    "for _, group in id_groups:\n",
    "    diff_word_count = group['word_count'].shift(1) - group['word_count']\n",
    "    num_deleted_words = np.maximum(0, diff_word_count).sum()\n",
    "    \n",
    "    input_sentences = group[(group['text_change'].str.contains('[\\.\\;\\?\\!\\:]', regex=True)) &\n",
    "                                (group.activity=='Input')].event_id.count()\n",
    "    \n",
    "    remove_cut_sentences = group[(group['text_change'].str.contains('[\\.\\;\\?\\!\\:]', regex=True)) &\n",
    "                                (group.activity=='Remove/Cut')].event_id.count()\n",
    "    \n",
    "    input_paragraphs = group[(group.activity=='Input') & (group.text_change.str.contains('\\n'))].event_id.count()\n",
    "        \n",
    "    # Assign accumulated values to the corresponding columns for the group\n",
    "    train_logs.loc[group.index, 'num_deleted_words_aux'] = num_deleted_words\n",
    "    train_logs.loc[group.index, 'input_sentences_aux'] = input_sentences\n",
    "    train_logs.loc[group.index, 'remove_cut_sentences_aux'] = remove_cut_sentences\n",
    "    train_logs.loc[group.index, 'input_paragraphs_aux'] = input_paragraphs\n",
    "    \n",
    "sentences_process = input_sentences\n",
    "sentences_product = input_sentences - remove_cut_sentences\n",
    "paragraphs_process = input_paragraphs\n",
    "\n",
    "train_logs = (\n",
    "    train_logs.assign(\n",
    "    total_words_aux=lambda x: x['last_word_count_aux'] + x['num_deleted_words_aux'],\n",
    "    words_per_min_process=lambda x: x['total_words_aux'] / x['total_time_mins'],\n",
    "    sentences_per_min_process=lambda x: x['input_sentences_aux'] / x['total_time_mins'],\n",
    "    sentences_per_min_product=lambda x: x['input_sentences_aux'] -\\\n",
    "                                                  x['remove_cut_sentences_aux'] / x['total_time_mins'],\n",
    "    paragraphs_per_min_process=lambda x: x['input_paragraphs_aux'] / x['total_time_mins']\n",
    "    )\n",
    "    .round(1)\n",
    ")"
   ]
  },
  {
   "cell_type": "markdown",
   "id": "6513dd60",
   "metadata": {
    "papermill": {
     "duration": 0.006613,
     "end_time": "2023-12-13T22:16:19.173820",
     "exception": false,
     "start_time": "2023-12-13T22:16:19.167207",
     "status": "completed"
    },
    "tags": []
   },
   "source": [
    "### Pause"
   ]
  },
  {
   "cell_type": "code",
   "execution_count": 9,
   "id": "556b9d32",
   "metadata": {
    "execution": {
     "iopub.execute_input": "2023-12-13T22:16:19.188885Z",
     "iopub.status.busy": "2023-12-13T22:16:19.188507Z",
     "iopub.status.idle": "2023-12-13T22:16:31.922566Z",
     "shell.execute_reply": "2023-12-13T22:16:31.921056Z"
    },
    "papermill": {
     "duration": 12.745201,
     "end_time": "2023-12-13T22:16:31.925676",
     "exception": false,
     "start_time": "2023-12-13T22:16:19.180475",
     "status": "completed"
    },
    "tags": []
   },
   "outputs": [],
   "source": [
    "# num_pauses, pauses_per_min, pause_time_proportion_perc, mean_pause_length\n",
    "for _, group in id_groups:\n",
    "    iki = group['down_time'] - group['up_time'].shift(1)\n",
    "    filtered_iki = [num for num in iki if num >= 2000]\n",
    "    num_pauses = len(filtered_iki)\n",
    "    pause_time = sum(filtered_iki)\n",
    "\n",
    "    # Assign accumulated values to the corresponding columns for the group\n",
    "    train_logs.loc[group.index, 'num_pauses'] = num_pauses\n",
    "    train_logs.loc[group.index, 'pause_time_aux'] = pause_time  \n",
    "    \n",
    "train_logs = (\n",
    "    train_logs.assign(\n",
    "    pauses_per_min=np.round(train_logs.num_pauses / train_logs.total_time_mins, 1),\n",
    "    pause_time_proportion_perc=np.round((100 * train_logs.pause_time_aux) / (60000 * train_logs.total_time_mins), 1),\n",
    "    mean_pause_length=np.round(train_logs.pause_time_aux / train_logs.num_pauses, 1)\n",
    "    )\n",
    "    .round(1)\n",
    ")"
   ]
  },
  {
   "cell_type": "code",
   "execution_count": 10,
   "id": "252b6a85",
   "metadata": {
    "execution": {
     "iopub.execute_input": "2023-12-13T22:16:31.942660Z",
     "iopub.status.busy": "2023-12-13T22:16:31.942224Z",
     "iopub.status.idle": "2023-12-13T22:17:10.888749Z",
     "shell.execute_reply": "2023-12-13T22:17:10.887583Z"
    },
    "papermill": {
     "duration": 38.958155,
     "end_time": "2023-12-13T22:17:10.891958",
     "exception": false,
     "start_time": "2023-12-13T22:16:31.933803",
     "status": "completed"
    },
    "tags": []
   },
   "outputs": [],
   "source": [
    "# mean_pause_length_btw_paragraphs\n",
    "for _, group in id_groups:\n",
    "    enter_input_rows_idxs = group[(group.down_event == 'Enter') & (group.activity == 'Input')].index\n",
    "\n",
    "    # Filter consecutive Enter events\n",
    "    filtered_enter_rows_idx = [idx for idx in enter_input_rows_idxs if idx - 1 not in enter_input_rows_idxs]\n",
    "\n",
    "    # Look for time when previous paragraph ended and time when following paragraph started\n",
    "    pause_time_btw_paragraphs, pauses_btw_paragraphs = 0, 0\n",
    "    for idx in filtered_enter_rows_idx:\n",
    "        word_count_enter = group.at[idx, 'word_count']\n",
    "        if word_count_enter > 0:\n",
    "            slice_i = group[(group.index >= idx - 6) & (group.index <= idx - 1) & \n",
    "                                (group.activity=='Input')]\n",
    "            if not slice_i.empty:\n",
    "                initial_time = slice_i['up_time'].values[-1]\n",
    "                \n",
    "                slice_f = group[(group.index >= idx + 1) & (group.index <= idx + 6) & \n",
    "                                (group.word_count == word_count_enter + 1)]\n",
    "                if not slice_f.empty:\n",
    "                    final_time = slice_f['down_time'].values[0]\n",
    "                    pause_time_btw_paragraphs += final_time - initial_time\n",
    "                    pauses_btw_paragraphs += 1\n",
    "                 \n",
    "    # Assign accumulated values to the corresponding columns for the group\n",
    "    train_logs.loc[group.index, 'pause_time_btw_paragraphs_aux'] = pause_time_btw_paragraphs\n",
    "    if pauses_btw_paragraphs == 0:\n",
    "        train_logs.loc[group.index, 'pauses_btw_paragraphs_aux'] = np.nan\n",
    "    else:\n",
    "        train_logs.loc[group.index, 'pauses_btw_paragraphs_aux'] = pauses_btw_paragraphs\n",
    "\n",
    "train_logs['mean_pause_length_btw_paragraphs'] = np.round(train_logs.pause_time_btw_paragraphs_aux / \\\n",
    "                                                          train_logs.pauses_btw_paragraphs_aux, 1)"
   ]
  },
  {
   "cell_type": "code",
   "execution_count": 11,
   "id": "1cd9d22d",
   "metadata": {
    "execution": {
     "iopub.execute_input": "2023-12-13T22:17:10.909179Z",
     "iopub.status.busy": "2023-12-13T22:17:10.908764Z",
     "iopub.status.idle": "2023-12-13T22:20:21.190024Z",
     "shell.execute_reply": "2023-12-13T22:20:21.188417Z"
    },
    "papermill": {
     "duration": 190.294407,
     "end_time": "2023-12-13T22:20:21.193645",
     "exception": false,
     "start_time": "2023-12-13T22:17:10.899238",
     "status": "completed"
    },
    "tags": []
   },
   "outputs": [],
   "source": [
    "# mean_pause_length_btw_sentences\n",
    "for _, group in id_groups:\n",
    "\n",
    "    period_rows_idxs = group[(group.text_change.str.contains('[\\.\\;\\?\\!\\:]', regex=True)) & \n",
    "                                                (group.activity == 'Input')].index\n",
    "\n",
    "    # Filter consecutive events\n",
    "    filtered_period_rows_idxs = [idx for idx in period_rows_idxs if idx - 1 not in period_rows_idxs]\n",
    "\n",
    "    # Look for time when previous sentence ended and time when following sentence started\n",
    "    pause_time_btw_sentences, pauses_btw_sentences = 0, 0\n",
    "    for idx in filtered_period_rows_idxs:\n",
    "        word_count_period = group.at[idx, 'word_count']\n",
    "        if word_count_period > 0:\n",
    "            slice_i = group[(group.index >= idx - 6) & (group.index <= idx - 1) & \n",
    "                            (group.activity=='Input') & (group.text_change=='q')]\n",
    "            if not slice_i.empty:\n",
    "                initial_time = slice_i['up_time'].values[-1]\n",
    "\n",
    "                slice_f = group[(group.index >= idx + 1) & (group.index <= idx + 6) & \n",
    "                                (group.word_count == word_count_period + 1)]\n",
    "                if not slice_f.empty:\n",
    "                    final_time = slice_f['down_time'].values[0]\n",
    "                    pause_time_btw_sentences += final_time - initial_time\n",
    "                    pauses_btw_sentences += 1\n",
    "\n",
    "    # Assign accumulated values to the corresponding columns for the group\n",
    "    train_logs.loc[group.index, 'pause_time_btw_sentences_aux'] = pause_time_btw_sentences\n",
    "    if pauses_btw_sentences == 0:\n",
    "        train_logs.loc[group.index, 'pauses_btw_sentences_aux'] = np.nan\n",
    "    else:\n",
    "        train_logs.loc[group.index, 'pauses_btw_sentences_aux'] = pauses_btw_sentences\n",
    "\n",
    "train_logs['mean_pause_length_btw_sentences'] = np.round(train_logs.pause_time_btw_sentences_aux / \\\n",
    "                                                         train_logs.pauses_btw_sentences_aux, 1)"
   ]
  },
  {
   "cell_type": "code",
   "execution_count": 12,
   "id": "332921f0",
   "metadata": {
    "execution": {
     "iopub.execute_input": "2023-12-13T22:20:21.212025Z",
     "iopub.status.busy": "2023-12-13T22:20:21.211644Z",
     "iopub.status.idle": "2023-12-13T23:13:27.627807Z",
     "shell.execute_reply": "2023-12-13T23:13:27.626094Z"
    },
    "papermill": {
     "duration": 3186.429676,
     "end_time": "2023-12-13T23:13:27.631899",
     "exception": false,
     "start_time": "2023-12-13T22:20:21.202223",
     "status": "completed"
    },
    "tags": []
   },
   "outputs": [],
   "source": [
    "# mean_pause_length_btw_words\n",
    "for _, group in id_groups:\n",
    "\n",
    "    space_rows_idxs = group[(group.down_event=='Space') & (group.activity=='Input')].index\n",
    "\n",
    "    # Filter consecutive events\n",
    "    filtered_space_rows_idxs = [idx for idx in space_rows_idxs if idx - 1 not in space_rows_idxs]\n",
    "\n",
    "    # Look for time when previous word ended and time when following word started\n",
    "    pause_time_btw_words, pauses_btw_words = 0, 0\n",
    "    for idx in filtered_space_rows_idxs:\n",
    "        word_count_space = group.at[idx, 'word_count']\n",
    "        if word_count_space > 0:\n",
    "            slice_i = group[(group.index >= idx - 6) & (group.index <= idx - 1) & \n",
    "                            (group['activity'] == 'Input') & (group['text_change'] == 'q')]\n",
    "\n",
    "            if not slice_i.empty:\n",
    "                initial_time = slice_i['up_time'].values[-1]\n",
    "\n",
    "                slice_f = group[(group.index >= idx + 1) & (group.index <= idx + 6) & \n",
    "                                (group.word_count == word_count_space + 1)]\n",
    "                if not slice_f.empty:\n",
    "                    final_time = slice_f['down_time'].values[0]\n",
    "                    pause_time_btw_words += final_time - initial_time\n",
    "                    pauses_btw_words += 1\n",
    "\n",
    "    # Assign accumulated values to the corresponding columns for the group\n",
    "    train_logs.loc[group.index, 'pause_time_btw_words_aux'] = pause_time_btw_words\n",
    "    if pauses_btw_words == 0:\n",
    "        train_logs.loc[group.index, 'pauses_btw_words_aux'] = np.nan\n",
    "    else:\n",
    "        train_logs.loc[group.index, 'pauses_btw_words_aux'] = pauses_btw_words\n",
    "\n",
    "train_logs['mean_pause_length_btw_words'] = np.round(train_logs.pause_time_btw_words_aux / \\\n",
    "                                                     train_logs.pauses_btw_words_aux, 1)"
   ]
  },
  {
   "cell_type": "code",
   "execution_count": 13,
   "id": "8d1f7b43",
   "metadata": {
    "execution": {
     "iopub.execute_input": "2023-12-13T23:13:27.650274Z",
     "iopub.status.busy": "2023-12-13T23:13:27.649843Z",
     "iopub.status.idle": "2023-12-13T23:44:21.850944Z",
     "shell.execute_reply": "2023-12-13T23:44:21.849657Z"
    },
    "papermill": {
     "duration": 1854.213816,
     "end_time": "2023-12-13T23:44:21.854324",
     "exception": false,
     "start_time": "2023-12-13T23:13:27.640508",
     "status": "completed"
    },
    "tags": []
   },
   "outputs": [],
   "source": [
    "# mean_pause_length_w_in_words\n",
    "for _, group in id_groups:\n",
    "    group['word_count_up_aux'] = group.word_count > group.shift().word_count\n",
    "    word_count_up_idxs = group[(group.word_count_up_aux) & (group.text_change=='q')].index\n",
    "\n",
    "    # Look for time when word ended\n",
    "    pause_time_w_in_words, pauses_w_in_words = 0, 0\n",
    "    for idx in word_count_up_idxs:\n",
    "        initial_time = group.at[idx, 'up_time']\n",
    "        slice_f = group[(group.index >= idx + 1) & (group.index <= idx + 10) \n",
    "                        & (group.activity=='Input') & (group.text_change.isin(['.', ',', ';', ':', ' ', '!', '?']))] \n",
    "        if not slice_f.empty:\n",
    "            final_time = slice_f['down_time'].values[0]\n",
    "            pause_time_w_in_words += final_time - initial_time\n",
    "            pauses_w_in_words += 1\n",
    "\n",
    "    # Assign accumulated values to the corresponding columns for the group\n",
    "    train_logs.loc[group.index, 'pause_time_w_in_words_aux'] = pause_time_w_in_words\n",
    "    if pauses_w_in_words == 0:\n",
    "            train_logs.loc[group.index, 'pauses_w_in_words_aux'] = np.nan\n",
    "    else:\n",
    "        train_logs.loc[group.index, 'pauses_w_in_words_aux'] = pauses_w_in_words\n",
    "\n",
    "train_logs['mean_pause_length_w_in_words'] = np.round(train_logs.pause_time_w_in_words_aux / \\\n",
    "                                                      train_logs.pauses_w_in_words_aux, 1)"
   ]
  },
  {
   "cell_type": "markdown",
   "id": "54b0bdd5",
   "metadata": {
    "papermill": {
     "duration": 0.006652,
     "end_time": "2023-12-13T23:44:21.868272",
     "exception": false,
     "start_time": "2023-12-13T23:44:21.861620",
     "status": "completed"
    },
    "tags": []
   },
   "source": [
    "### Revision"
   ]
  },
  {
   "cell_type": "code",
   "execution_count": 14,
   "id": "f6d3fdfb",
   "metadata": {
    "execution": {
     "iopub.execute_input": "2023-12-13T23:44:21.883704Z",
     "iopub.status.busy": "2023-12-13T23:44:21.882961Z",
     "iopub.status.idle": "2023-12-13T23:47:41.678951Z",
     "shell.execute_reply": "2023-12-13T23:47:41.677347Z"
    },
    "papermill": {
     "duration": 199.807938,
     "end_time": "2023-12-13T23:47:41.682731",
     "exception": false,
     "start_time": "2023-12-13T23:44:21.874793",
     "status": "completed"
    },
    "tags": []
   },
   "outputs": [],
   "source": [
    "# deletions, deletions_per_min, mean_length_deletions, deletions_proportion_perc, \n",
    "# imm_deletions, distant_deletions, distant_deletion_ratio\n",
    "for _, group in id_groups:\n",
    "    deletion_idxs = group[group.activity=='Remove/Cut'].index\n",
    "\n",
    "    # Filter consecutive rows\n",
    "    filtered_deletion_idxs = [idx for idx in deletion_idxs if idx - 1 not in deletion_idxs]\n",
    "\n",
    "    train_logs.loc[group.index, 'deletions'] = len(filtered_deletion_idxs)\n",
    "    train_logs.loc[group.index, 'deletions_per_min'] = np.round(len(filtered_deletion_idxs) / \\\n",
    "                                                                train_logs.total_time_mins, 1)\n",
    "    if len(filtered_deletion_idxs) == 0:\n",
    "            train_logs.loc[group.index, 'mean_length_deletions'] = np.nan\n",
    "    else:\n",
    "        train_logs.loc[group.index, 'mean_length_deletions'] = np.round(len(deletion_idxs) / len(filtered_deletion_idxs), 1)\n",
    "\n",
    "    aux_cursor_descending_row_idxs = group[group.cursor_position < \\\n",
    "                                           group.shift().cursor_position].index\n",
    "    deletions_time, distant_deletions = 0, 0\n",
    "    for idx in filtered_deletion_idxs:\n",
    "        \n",
    "        initial_time = group.at[idx, 'down_time']\n",
    "        if (group.at[idx - 1, 'activity'] == 'Nonproduction') & \\\n",
    "        (idx - 1 in aux_cursor_descending_row_idxs):\n",
    "            distant_deletions += 1\n",
    "        for i in range(idx + 1, len(group)):\n",
    "            if (i not in deletion_idxs) & (group.at[i, 'activity'] != 'Nonproduction'):\n",
    "                final_time = group.at[i - 1, 'up_time']\n",
    "                deletions_time += final_time - initial_time\n",
    "                break\n",
    "                           \n",
    "    train_logs.loc[group.index, 'deletions_time_aux'] = deletions_time\n",
    "    train_logs.loc[group.index, 'distant_deletions'] = distant_deletions\n",
    "                       \n",
    "train_logs = (\n",
    "    train_logs.assign(\n",
    "        deletions_proportion_perc=lambda x: 100 * x.deletions_time_aux / (60000 * x.total_time_mins),\n",
    "        imm_deletions=lambda x: x.deletions - x.distant_deletions,\n",
    "        distant_deletion_ratio=lambda x: x.distant_deletions / x.deletions\n",
    "        )\n",
    "    .round(1)\n",
    ")"
   ]
  },
  {
   "cell_type": "code",
   "execution_count": 15,
   "id": "47271c9d",
   "metadata": {
    "execution": {
     "iopub.execute_input": "2023-12-13T23:47:41.700681Z",
     "iopub.status.busy": "2023-12-13T23:47:41.700290Z",
     "iopub.status.idle": "2023-12-13T23:47:41.794224Z",
     "shell.execute_reply": "2023-12-13T23:47:41.792676Z"
    },
    "papermill": {
     "duration": 0.106649,
     "end_time": "2023-12-13T23:47:41.797573",
     "exception": false,
     "start_time": "2023-12-13T23:47:41.690924",
     "status": "completed"
    },
    "tags": []
   },
   "outputs": [],
   "source": [
    "# product vs. process ratio \n",
    "train_logs['product_process_ratio'] = np.round(train_logs.chars_product / train_logs.chars_process, 1)"
   ]
  },
  {
   "cell_type": "markdown",
   "id": "27723565",
   "metadata": {
    "papermill": {
     "duration": 0.007053,
     "end_time": "2023-12-13T23:47:41.812987",
     "exception": false,
     "start_time": "2023-12-13T23:47:41.805934",
     "status": "completed"
    },
    "tags": []
   },
   "source": [
    "### Bursts"
   ]
  },
  {
   "cell_type": "code",
   "execution_count": 16,
   "id": "07e78598",
   "metadata": {
    "execution": {
     "iopub.execute_input": "2023-12-13T23:47:41.830611Z",
     "iopub.status.busy": "2023-12-13T23:47:41.830212Z",
     "iopub.status.idle": "2023-12-13T23:49:51.336018Z",
     "shell.execute_reply": "2023-12-13T23:49:51.334743Z"
    },
    "papermill": {
     "duration": 129.519223,
     "end_time": "2023-12-13T23:49:51.339447",
     "exception": false,
     "start_time": "2023-12-13T23:47:41.820224",
     "status": "completed"
    },
    "tags": []
   },
   "outputs": [],
   "source": [
    "# p_bursts, p_bursts_per_min, r_bursts, r_bursts_per_min, mean_p_bursts_chars, \n",
    "# mean_r_bursts_chars, p_bursts_proportion_perc, r_bursts_proportion_perc\n",
    "for _, group in id_groups:\n",
    "    # Extract indices of 'Input' activities\n",
    "    input_idxs = group[group.activity == 'Input'].index\n",
    "\n",
    "    # Filter out consecutive events\n",
    "    filtered_input_idxs = [idx for idx in input_idxs if idx - 1 not in input_idxs]\n",
    "\n",
    "    # Find stretches of at least 20 consecutive input events\n",
    "    p_bursts, p_bursts_chars, pb_time, r_bursts, r_bursts_chars, rb_time = 0, 0, 0, 0, 0, 0\n",
    "\n",
    "    for idx in filtered_input_idxs[:-1]:\n",
    "        i = 0\n",
    "        # Check for consecutive 'Input' events and duration conditions\n",
    "        while (group.at[idx, 'activity'] == 'Input') and \\\n",
    "        (group.at[idx + 1, 'down_time'] - group.at[idx, 'up_time'] < 2000):\n",
    "            i += 1\n",
    "            idx += 1\n",
    "        # Update counters for bursts\n",
    "        if i >= 20:\n",
    "            if group.at[idx, 'activity'] == 'Input':\n",
    "                p_bursts += 1\n",
    "                p_bursts_chars += i\n",
    "                pb_time += group.at[idx - 1, 'up_time'] - group.at[idx - i, 'down_time']\n",
    "            else:\n",
    "                r_bursts += 1\n",
    "                r_bursts_chars += i\n",
    "                rb_time += group.at[idx - 1, 'up_time'] - group.at[idx - i, 'down_time']\n",
    "\n",
    "    # Update the corresponding columns in train_logs\n",
    "    columns_to_update = ['p_bursts', 'p_bursts_chars_aux', 'pb_time_aux', 'r_bursts', 'r_bursts_chars_aux', 'rb_time_aux']\n",
    "    train_logs.loc[group.index, columns_to_update] = p_bursts, p_bursts_chars, pb_time, r_bursts, r_bursts_chars, rb_time\n",
    "    \n",
    "train_logs = (\n",
    "    train_logs.assign(\n",
    "        p_bursts_per_min=lambda x: x.p_bursts / x.total_time_mins,\n",
    "        r_bursts_per_min=lambda x: x.r_bursts / x.total_time_mins,\n",
    "        mean_p_bursts_chars = lambda x: np.where(x.p_bursts != 0, x.p_bursts_chars_aux / x.p_bursts, np.nan),\n",
    "        mean_r_bursts_chars = lambda x: np.where(x.r_bursts != 0, x.r_bursts_chars_aux / x.r_bursts, np.nan),\n",
    "        p_bursts_proportion_perc=lambda x: (100 * x.pb_time_aux) / (60000 * x.total_time_mins),\n",
    "        r_bursts_proportion_perc=lambda x: (100 * x.rb_time_aux) / (60000 * x.total_time_mins)\n",
    "        )\n",
    "    .round(1)\n",
    ")\n"
   ]
  },
  {
   "cell_type": "markdown",
   "id": "e675e6fb",
   "metadata": {
    "papermill": {
     "duration": 0.006986,
     "end_time": "2023-12-13T23:49:51.354429",
     "exception": false,
     "start_time": "2023-12-13T23:49:51.347443",
     "status": "completed"
    },
    "tags": []
   },
   "source": [
    "### Process Variance"
   ]
  },
  {
   "cell_type": "code",
   "execution_count": 17,
   "id": "dec4fe42",
   "metadata": {
    "execution": {
     "iopub.execute_input": "2023-12-13T23:49:51.371693Z",
     "iopub.status.busy": "2023-12-13T23:49:51.370620Z",
     "iopub.status.idle": "2023-12-13T23:51:30.875551Z",
     "shell.execute_reply": "2023-12-13T23:51:30.874310Z"
    },
    "papermill": {
     "duration": 99.517019,
     "end_time": "2023-12-13T23:51:30.878770",
     "exception": false,
     "start_time": "2023-12-13T23:49:51.361751",
     "status": "completed"
    },
    "tags": []
   },
   "outputs": [],
   "source": [
    "# std_chars_interval\n",
    "train_logs['time_interval_aux'] = 0\n",
    "\n",
    "for _, group in id_groups:\n",
    "    time_intervals = pd.cut(group['up_time'], bins=10)\n",
    "    train_logs.loc[group.index, 'time_interval_aux'] = time_intervals\n",
    "    \n",
    "for _, time_group in train_logs.groupby(['id', 'time_interval_aux']):\n",
    "    \n",
    "    input_chars_group = time_group[time_group.activity=='Input'].event_id.count()\n",
    "    \n",
    "    second_str_replace_chars_group = 0\n",
    "    for replace_str in time_group[time_group.activity==\"Replace\"].text_change.values:\n",
    "            arrow_idx = replace_str.find(' => ')\n",
    "            len_second_str = len(replace_str) - arrow_idx - len(' => ')\n",
    "            second_str_replace_chars_group += len_second_str\n",
    "    \n",
    "    paste_chars_group = len(''.join(time_group[time_group.activity=='Paste'].text_change.values))\n",
    "    chars_process_group = input_chars_group + second_str_replace_chars_group + paste_chars_group\n",
    "\n",
    "    train_logs.loc[time_group.index, 'chars_time_group_aux'] = chars_process_group\n",
    "    \n",
    "train_logs['chars_proportion_aux'] = np.round(100 * train_logs.chars_time_group_aux / train_logs.chars_process, 1)\n",
    "\n",
    "for _, group in train_logs.groupby('id'):\n",
    "    train_logs.loc[group.index, 'std_chars_interval'] = group.chars_proportion_aux.std()"
   ]
  },
  {
   "cell_type": "code",
   "execution_count": 18,
   "id": "00b1d34b",
   "metadata": {
    "execution": {
     "iopub.execute_input": "2023-12-13T23:51:30.897642Z",
     "iopub.status.busy": "2023-12-13T23:51:30.897193Z",
     "iopub.status.idle": "2023-12-13T23:51:32.778474Z",
     "shell.execute_reply": "2023-12-13T23:51:32.777469Z"
    },
    "papermill": {
     "duration": 1.894438,
     "end_time": "2023-12-13T23:51:32.781646",
     "exception": false,
     "start_time": "2023-12-13T23:51:30.887208",
     "status": "completed"
    },
    "tags": []
   },
   "outputs": [],
   "source": [
    "train_logs = train_logs.filter(regex='^(?!.*aux).*$')"
   ]
  },
  {
   "cell_type": "code",
   "execution_count": 19,
   "id": "3cccd2cf",
   "metadata": {
    "execution": {
     "iopub.execute_input": "2023-12-13T23:51:32.798046Z",
     "iopub.status.busy": "2023-12-13T23:51:32.797624Z",
     "iopub.status.idle": "2023-12-13T23:51:41.973797Z",
     "shell.execute_reply": "2023-12-13T23:51:41.972542Z"
    },
    "papermill": {
     "duration": 9.188134,
     "end_time": "2023-12-13T23:51:41.977150",
     "exception": false,
     "start_time": "2023-12-13T23:51:32.789016",
     "status": "completed"
    },
    "tags": []
   },
   "outputs": [],
   "source": [
    "file_path = Path('../working/train_logs.pkl')\n",
    "\n",
    "with open(file_path, 'wb') as file:\n",
    "        pickle.dump(train_logs, file)"
   ]
  }
 ],
 "metadata": {
  "kaggle": {
   "accelerator": "none",
   "dataSources": [
    {
     "databundleVersionId": 6678907,
     "sourceId": 59291,
     "sourceType": "competition"
    }
   ],
   "dockerImageVersionId": 30615,
   "isGpuEnabled": false,
   "isInternetEnabled": true,
   "language": "python",
   "sourceType": "notebook"
  },
  "kernelspec": {
   "display_name": "Python 3",
   "language": "python",
   "name": "python3"
  },
  "language_info": {
   "codemirror_mode": {
    "name": "ipython",
    "version": 3
   },
   "file_extension": ".py",
   "mimetype": "text/x-python",
   "name": "python",
   "nbconvert_exporter": "python",
   "pygments_lexer": "ipython3",
   "version": "3.10.12"
  },
  "papermill": {
   "default_parameters": {},
   "duration": 5808.603188,
   "end_time": "2023-12-13T23:51:50.054884",
   "environment_variables": {},
   "exception": null,
   "input_path": "__notebook__.ipynb",
   "output_path": "__notebook__.ipynb",
   "parameters": {},
   "start_time": "2023-12-13T22:15:01.451696",
   "version": "2.4.0"
  }
 },
 "nbformat": 4,
 "nbformat_minor": 5
}
